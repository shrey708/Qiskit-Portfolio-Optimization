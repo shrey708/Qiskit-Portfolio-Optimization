{
 "cells": [
  {
   "cell_type": "code",
   "execution_count": 1,
   "metadata": {},
   "outputs": [
    {
     "data": {
      "text/plain": [
       "'/mnt/d/VR/PostPhD/JOB/QKrishi/3_Interns/Projects/2_Quantum_Finance/PO/Work/Ishan'"
      ]
     },
     "execution_count": 1,
     "metadata": {},
     "output_type": "execute_result"
    }
   ],
   "source": [
    "pwd"
   ]
  },
  {
   "cell_type": "code",
   "execution_count": 2,
   "metadata": {},
   "outputs": [
    {
     "name": "stdout",
     "output_type": "stream",
     "text": [
      "Thu Jun 30 09:44:17 IST 2022\r\n"
     ]
    }
   ],
   "source": [
    "!date"
   ]
  },
  {
   "cell_type": "code",
   "execution_count": 3,
   "metadata": {},
   "outputs": [],
   "source": [
    "#importing the required stuff\n",
    "\n",
    "from qiskit import Aer\n",
    "from qiskit.algorithms import VQE, QAOA, NumPyMinimumEigensolver\n",
    "from qiskit.algorithms.optimizers import COBYLA\n",
    "from qiskit.circuit.library import TwoLocal\n",
    "from qiskit.utils import QuantumInstance\n",
    "from qiskit_finance.applications.optimization import PortfolioOptimization\n",
    "from qiskit_finance.data_providers import *\n",
    "from qiskit_optimization.algorithms import MinimumEigenOptimizer\n",
    "from qiskit_optimization.applications import OptimizationApplication\n",
    "from qiskit_optimization.converters import QuadraticProgramToQubo\n",
    "import numpy as np\n",
    "import matplotlib.pyplot as plt\n",
    "import datetime\n"
   ]
  },
  {
   "cell_type": "code",
   "execution_count": 4,
   "metadata": {},
   "outputs": [],
   "source": [
    "%matplotlib inline\n",
    "from qiskit_finance import QiskitFinanceError\n",
    "from qiskit_finance.data_providers import *\n",
    "import datetime\n",
    "import matplotlib.pyplot as plt\n",
    "from pandas.plotting import register_matplotlib_converters\n",
    "\n",
    "register_matplotlib_converters()\n"
   ]
  },
  {
   "cell_type": "code",
   "execution_count": 5,
   "metadata": {},
   "outputs": [],
   "source": [
    "# set number of assets (= number of qubits)\n",
    "num_assets = 2\n",
    "seed = 123\n",
    "\n",
    "# Generate expected return and covariance matrix from (random) time-series\n",
    "#stocks = [(\"TICKER%s\" % i) for i in range(num_assets)]\n",
    "# data = RandomDataProvider(\n",
    "#     tickers=stocks,\n",
    "#     start=datetime.datetime(2016, 1, 1),\n",
    "#     end=datetime.datetime(2016, 1, 30),\n",
    "#     seed=seed,\n",
    "# )\n",
    "\n",
    "\n",
    "\n",
    "#### Using data from yahoo finance\n",
    "data = YahooDataProvider(\n",
    "        tickers=[\"WMT\",\"INTC\"],\n",
    "        start=datetime.datetime(2015, 9, 1),\n",
    "        end=datetime.datetime(2020, 9, 1),\n",
    "    )\n",
    "data.run()\n",
    "mu = data.get_period_return_mean_vector()\n",
    "sigma = data.get_period_return_covariance_matrix()\n"
   ]
  },
  {
   "cell_type": "code",
   "execution_count": 6,
   "metadata": {},
   "outputs": [
    {
     "data": {
      "image/png": "[encoded data removed]",
      "text/plain": [
       "<Figure size 432x288 with 1 Axes>"
      ]
     },
     "metadata": {
      "needs_background": "light"
     },
     "output_type": "display_data"
    }
   ],
   "source": [
    "# plot sigma\n",
    "plt.imshow(sigma, interpolation=\"nearest\")\n",
    "plt.show()\n"
   ]
  },
  {
   "cell_type": "code",
   "execution_count": 7,
   "metadata": {},
   "outputs": [
    {
     "data": {
      "text/plain": [
       "\\ This file has been generated by DOcplex\n",
       "\\ ENCODING=ISO-8859-1\n",
       "\\Problem name: Portfolio optimization\n",
       "\n",
       "Minimize\n",
       " obj: - 0.000801190687 x_0 - 0.000779629555 x_1 + [ 0.000202143873 x_0^2\n",
       "      + 0.000215748086 x_0*x_1 + 0.000422770414 x_1^2 ]/2\n",
       "Subject To\n",
       " c0: x_0 + x_1 = 1\n",
       "\n",
       "Bounds\n",
       " 0 <= x_0 <= 1\n",
       " 0 <= x_1 <= 1\n",
       "\n",
       "Binaries\n",
       " x_0 x_1\n",
       "End"
      ]
     },
     "execution_count": 7,
     "metadata": {},
     "output_type": "execute_result"
    }
   ],
   "source": [
    "q = 0.5  # set risk factor\n",
    "budget = num_assets // 2  # set budget\n",
    "penalty = num_assets  # set parameter to scale the budget penalty term\n",
    "\n",
    "portfolio = PortfolioOptimization(\n",
    "    expected_returns=mu, covariances=sigma, risk_factor=q, budget=budget\n",
    ")\n",
    "qp = portfolio.to_quadratic_program()\n",
    "qp\n"
   ]
  },
  {
   "cell_type": "code",
   "execution_count": 8,
   "metadata": {},
   "outputs": [],
   "source": [
    "def index_to_selection(i, num_assets):\n",
    "    s = \"{0:b}\".format(i).rjust(num_assets)\n",
    "    x = np.array([1 if s[i] == \"1\" else 0 for i in reversed(range(num_assets))])\n",
    "    return x\n",
    "\n",
    "\n",
    "def print_result(result):\n",
    "    selection = result.x\n",
    "    value = result.fval\n",
    "    print(\"Optimal: selection {}, value {:.4f}\".format(selection, value))\n",
    "\n",
    "    eigenstate = result.min_eigen_solver_result.eigenstate\n",
    "    eigenvector = eigenstate if isinstance(eigenstate, np.ndarray) else eigenstate.to_matrix()\n",
    "    probabilities = np.abs(eigenvector) ** 2\n",
    "    i_sorted = reversed(np.argsort(probabilities))\n",
    "    print(\"\\n----------------- Full result ---------------------\")\n",
    "    print(\"selection\\tvalue\\t\\tprobability\")\n",
    "    print(\"---------------------------------------------------\")\n",
    "    for i in i_sorted:\n",
    "        x = index_to_selection(i, num_assets)\n",
    "        value = QuadraticProgramToQubo().convert(qp).objective.evaluate(x)\n",
    "        # value = portfolio.to_quadratic_program().objective.evaluate(x)\n",
    "        probability = probabilities[i]\n",
    "        print(\"%10s\\t%.4f\\t\\t%.4f\" % (x, value, probability))\n"
   ]
  },
  {
   "cell_type": "code",
   "execution_count": 9,
   "metadata": {},
   "outputs": [
    {
     "name": "stdout",
     "output_type": "stream",
     "text": [
      "Optimal: selection [1. 0.], value -0.0007\n",
      "\n",
      "----------------- Full result ---------------------\n",
      "selection\tvalue\t\tprobability\n",
      "---------------------------------------------------\n",
      "     [1 0]\t-0.0007\t\t1.0000\n",
      "     [1 1]\t1.0008\t\t0.0000\n",
      "     [0 1]\t-0.0006\t\t0.0000\n",
      "     [0 0]\t1.0020\t\t0.0000\n"
     ]
    }
   ],
   "source": [
    "\n",
    "#classical reference solution\n",
    "\n",
    "exact_mes = NumPyMinimumEigensolver()\n",
    "exact_eigensolver = MinimumEigenOptimizer(exact_mes)\n",
    "\n",
    "result = exact_eigensolver.solve(qp)\n",
    "\n",
    "print_result(result)\n"
   ]
  },
  {
   "cell_type": "code",
   "execution_count": 10,
   "metadata": {},
   "outputs": [
    {
     "name": "stdout",
     "output_type": "stream",
     "text": [
      "Optimal: selection [1. 0.], value -0.0007\n",
      "\n",
      "----------------- Full result ---------------------\n",
      "selection\tvalue\t\tprobability\n",
      "---------------------------------------------------\n",
      "     [1 0]\t-0.0007\t\t0.9999\n",
      "     [0 1]\t-0.0006\t\t0.0001\n",
      "     [1 1]\t1.0008\t\t0.0000\n",
      "     [0 0]\t1.0020\t\t0.0000\n"
     ]
    }
   ],
   "source": [
    "#### VQE solution\n",
    "\n",
    "from qiskit.utils import algorithm_globals\n",
    "\n",
    "algorithm_globals.random_seed = 1234\n",
    "backend = Aer.get_backend(\"statevector_simulator\")\n",
    "\n",
    "cobyla = COBYLA()\n",
    "cobyla.set_options(maxiter=500)\n",
    "ry = TwoLocal(num_assets, \"ry\", \"cz\", reps=3, entanglement=\"full\")\n",
    "quantum_instance = QuantumInstance(backend=backend, seed_simulator=seed, seed_transpiler=seed)\n",
    "vqe_mes = VQE(ry, optimizer=cobyla, quantum_instance=quantum_instance)\n",
    "vqe = MinimumEigenOptimizer(vqe_mes)\n",
    "result = vqe.solve(qp)\n",
    "\n",
    "print_result(result)\n"
   ]
  },
  {
   "cell_type": "code",
   "execution_count": 11,
   "metadata": {},
   "outputs": [
    {
     "name": "stdout",
     "output_type": "stream",
     "text": [
      "Optimal: selection [1. 0.], value -0.0007\n",
      "\n",
      "----------------- Full result ---------------------\n",
      "selection\tvalue\t\tprobability\n",
      "---------------------------------------------------\n",
      "     [0 1]\t-0.0006\t\t0.5000\n",
      "     [1 0]\t-0.0007\t\t0.5000\n",
      "     [0 0]\t1.0020\t\t0.0000\n",
      "     [1 1]\t1.0008\t\t0.0000\n"
     ]
    }
   ],
   "source": [
    "#### QAOA solution\n",
    "\n",
    "algorithm_globals.random_seed = 1234\n",
    "backend = Aer.get_backend(\"statevector_simulator\")\n",
    "\n",
    "cobyla = COBYLA()\n",
    "cobyla.set_options(maxiter=250)\n",
    "quantum_instance = QuantumInstance(backend=backend, seed_simulator=seed, seed_transpiler=seed)\n",
    "qaoa_mes = QAOA(optimizer=cobyla, reps=3, quantum_instance=quantum_instance)\n",
    "qaoa = MinimumEigenOptimizer(qaoa_mes)\n",
    "result = qaoa.solve(qp)\n",
    "\n",
    "print_result(result)\n"
   ]
  },
  {
   "cell_type": "code",
   "execution_count": 12,
   "metadata": {},
   "outputs": [],
   "source": [
    "stocks = [\"GOOG\", \"AAPL\"]\n",
    "\n",
    "token = \"NBQ7j3g_Q8_bcpvW6kMA\"\n",
    "if token != \"NBQ7j3g_Q8_bcpvW6kMA\":\n",
    "    try:\n",
    "        wiki = WikipediaDataProvider(\n",
    "            token=token,\n",
    "            tickers=stocks,\n",
    "            start=datetime.datetime(2016, 1, 1),\n",
    "            end=datetime.datetime(2016, 1, 30),\n",
    "        )\n",
    "        wiki.run()\n",
    "    except QiskitFinanceError as ex:\n",
    "        print(ex)\n",
    "        print(\"Error retrieving data.\")\n"
   ]
  },
  {
   "cell_type": "code",
   "execution_count": 13,
   "metadata": {},
   "outputs": [],
   "source": [
    "if token != \"NBQ7j3g_Q8_bcpvW6kMA\":\n",
    "    if wiki._data:\n",
    "        if wiki._n <= 1:\n",
    "            print(\n",
    "                \"Not enough wiki data to plot covariance or time-series similarity. Please use at least two tickers.\"\n",
    "            )\n",
    "        else:\n",
    "            rho = wiki.get_similarity_matrix()\n",
    "            print(\"A time-series similarity measure:\")\n",
    "            print(rho)\n",
    "            plt.imshow(rho)\n",
    "            plt.show()\n",
    "\n",
    "            cov = wiki.get_covariance_matrix()\n",
    "            print(\"A covariance matrix:\")\n",
    "            print(cov)\n",
    "            plt.imshow(cov)\n",
    "            plt.show()\n",
    "    else:\n",
    "        print(\"No wiki data loaded.\")\n"
   ]
  },
  {
   "cell_type": "code",
   "execution_count": 14,
   "metadata": {},
   "outputs": [],
   "source": [
    "if token != \"NBQ7j3g_Q8_bcpvW6kMA\":\n",
    "    if wiki._data:\n",
    "        print(\"The underlying evolution of stock prices:\")\n",
    "        for (cnt, s) in enumerate(stocks):\n",
    "            plt.plot(wiki._data[cnt], label=s)\n",
    "        plt.legend()\n",
    "        plt.xticks(rotation=90)\n",
    "        plt.show()\n",
    "\n",
    "        for (cnt, s) in enumerate(stocks):\n",
    "            print(s)\n",
    "            print(wiki._data[cnt])\n",
    "    else:\n",
    "        print(\"No wiki data loaded.\")\n"
   ]
  },
  {
   "cell_type": "code",
   "execution_count": 20,
   "metadata": {},
   "outputs": [
    {
     "name": "stdout",
     "output_type": "stream",
     "text": [
      "<qiskit_finance.data_providers.yahoo_data_provider.YahooDataProvider object at 0x7f8c04e0b850>\n"
     ]
    }
   ],
   "source": [
    "print(data)"
   ]
  },
  {
   "cell_type": "code",
   "execution_count": 21,
   "metadata": {},
   "outputs": [
    {
     "data": {
      "image/png": "[encoded data removed]",
      "text/plain": [
       "<Figure size 432x288 with 1 Axes>"
      ]
     },
     "metadata": {
      "needs_background": "light"
     },
     "output_type": "display_data"
    }
   ],
   "source": [
    "for (cnt, s) in enumerate(data._tickers):\n",
    "    plt.plot(data._data[cnt], label=s)\n",
    "plt.legend()\n",
    "plt.xticks(rotation=90)\n",
    "plt.show()\n"
   ]
  },
  {
   "cell_type": "code",
   "execution_count": 22,
   "metadata": {},
   "outputs": [
    {
     "name": "stdout",
     "output_type": "stream",
     "text": [
      "Date\n",
      "2015-08-31     55.947124\n",
      "2015-09-01     55.160595\n",
      "2015-09-02     55.696461\n",
      "2015-09-03     56.059471\n",
      "2015-09-04     55.221085\n",
      "                 ...    \n",
      "2020-08-25    127.161018\n",
      "2020-08-26    127.229172\n",
      "2020-08-27    133.001694\n",
      "2020-08-28    136.574234\n",
      "2020-08-31    135.162766\n",
      "Name: Adj Close, Length: 1260, dtype: float64\n",
      "Date\n",
      "2015-08-31    23.778904\n",
      "2015-09-01    23.179014\n",
      "2015-09-02    23.828892\n",
      "2015-09-03    24.228811\n",
      "2015-09-04    23.762238\n",
      "                ...    \n",
      "2020-08-25    47.098858\n",
      "2020-08-26    47.213200\n",
      "2020-08-27    47.070274\n",
      "2020-08-28    48.051693\n",
      "2020-08-31    48.547173\n",
      "Name: Adj Close, Length: 1260, dtype: float64\n"
     ]
    }
   ],
   "source": [
    "for (cnt, s) in enumerate(data._tickers):\n",
    "    print(data._data[cnt])"
   ]
  },
  {
   "cell_type": "code",
   "execution_count": 23,
   "metadata": {},
   "outputs": [
    {
     "name": "stdout",
     "output_type": "stream",
     "text": [
      "<class 'pandas.core.series.Series'>\n",
      "<class 'pandas.core.series.Series'>\n"
     ]
    }
   ],
   "source": [
    "for (cnt, s) in enumerate(data._tickers):\n",
    "    print(type(data._data[cnt]))"
   ]
  },
  {
   "cell_type": "code",
   "execution_count": null,
   "metadata": {},
   "outputs": [],
   "source": []
  }
 ],
 "metadata": {
  "kernelspec": {
   "display_name": "Python 3",
   "language": "python",
   "name": "python3"
  },
  "language_info": {
   "codemirror_mode": {
    "name": "ipython",
    "version": 3
   },
   "file_extension": ".py",
   "mimetype": "text/x-python",
   "name": "python",
   "nbconvert_exporter": "python",
   "pygments_lexer": "ipython3",
   "version": "3.8.10"
  }
 },
 "nbformat": 4,
 "nbformat_minor": 4
}
