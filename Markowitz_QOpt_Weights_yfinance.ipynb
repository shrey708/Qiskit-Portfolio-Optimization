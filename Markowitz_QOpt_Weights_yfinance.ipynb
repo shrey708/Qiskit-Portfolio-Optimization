{
 "cells": [
  {
   "cell_type": "code",
   "execution_count": 1,
   "id": "a3ca350e",
   "metadata": {},
   "outputs": [],
   "source": [
    "#importing the required stuff\n",
    "from qiskit import Aer\n",
    "from qiskit.algorithms import VQE, QAOA, NumPyMinimumEigensolver\n",
    "from qiskit.algorithms.optimizers import COBYLA\n",
    "from qiskit.circuit.library import TwoLocal\n",
    "from qiskit.utils import QuantumInstance\n",
    "from qiskit_finance.applications.optimization import PortfolioOptimization\n",
    "from qiskit_finance.data_providers import *\n",
    "from qiskit_finance import QiskitFinanceError\n",
    "from qiskit_optimization.algorithms import MinimumEigenOptimizer\n",
    "from qiskit_optimization.applications import OptimizationApplication\n",
    "from qiskit_optimization.converters import QuadraticProgramToQubo\n",
    "import numpy as np\n",
    "import matplotlib.pyplot as plt\n",
    "import datetime\n",
    "import pandas as pd\n",
    "from pandas.plotting import register_matplotlib_converters\n",
    "register_matplotlib_converters()\n",
    "import csv\n",
    "import yfinance as yf\n",
    "import pandas_datareader.data as web\n",
    "import scipy.optimize as optimization"
   ]
  },
  {
   "cell_type": "code",
   "execution_count": 2,
   "id": "1b6ad0d8",
   "metadata": {},
   "outputs": [],
   "source": [
    "%matplotlib inline"
   ]
  },
  {
   "cell_type": "code",
   "execution_count": 31,
   "id": "4e73a821",
   "metadata": {},
   "outputs": [],
   "source": [
    "#MPT CODE to benchmark"
   ]
  },
  {
   "cell_type": "code",
   "execution_count": 32,
   "id": "56c30b3d",
   "metadata": {},
   "outputs": [],
   "source": [
    "NUM_TRADING_DAYS = 252 #252*5 cosnidered previously\n",
    "NUM_PORTFOLIOS = 10000\n",
    "stocks = [\"JPM\", \"GS\", \"MSFT\", \"WMT\"]"
   ]
  },
  {
   "cell_type": "code",
   "execution_count": 33,
   "id": "4b837093",
   "metadata": {},
   "outputs": [],
   "source": [
    "start_date = '2011-01-01' # YY/MM/DD\n",
    "end_date = '2015-12-31'   # YY/MM/DD"
   ]
  },
  {
   "cell_type": "code",
   "execution_count": 34,
   "id": "295f5c35",
   "metadata": {},
   "outputs": [],
   "source": [
    "def download_data():\n",
    "    stocks_data = yf.download(stocks, start = '2011-1-1', end = '2015-12-31')['Adj Close']\n",
    "    # stocks_data.head()\n",
    "    return pd.DataFrame(stocks_data)"
   ]
  },
  {
   "cell_type": "code",
   "execution_count": 35,
   "id": "f9a3a4cf",
   "metadata": {},
   "outputs": [],
   "source": [
    "def show_data(data):\n",
    "    data.plot(figsize=(8, 5))\n",
    "    plt.show()\n",
    "\n",
    "# show_data(data)"
   ]
  },
  {
   "cell_type": "code",
   "execution_count": 36,
   "id": "9a4c148a",
   "metadata": {},
   "outputs": [],
   "source": [
    "def calculate_return(data):\n",
    "    log_return = np.log(data / data.shift(1))\n",
    "    return log_return[1:]"
   ]
  },
  {
   "cell_type": "code",
   "execution_count": 37,
   "id": "6b6e312b",
   "metadata": {},
   "outputs": [],
   "source": [
    "def show_statistics(returns):\n",
    "    print(returns.mean() * NUM_TRADING_DAYS)\n",
    "    print(returns.cov() * NUM_TRADING_DAYS)"
   ]
  },
  {
   "cell_type": "code",
   "execution_count": 38,
   "id": "7d0a4ace",
   "metadata": {},
   "outputs": [],
   "source": [
    "def show_mean_variance(returns, weights):\n",
    "    portfolio_return = np.sum(returns.mean() * weights) * NUM_TRADING_DAYS\n",
    "    portfolio_volatility = np.sqrt(np.dot(weights, np.dot(returns.cov() * NUM_TRADING_DAYS, weights)))\n",
    "    print('Expected portfolio mean: ', portfolio_return)\n",
    "    print('Expected portfolio volatility: ', portfolio_volatility)\n",
    "    print(\"sharpe ratio of a portfolio is \", portfolio_return/portfolio_volatility)"
   ]
  },
  {
   "cell_type": "code",
   "execution_count": 39,
   "id": "df1da69f",
   "metadata": {},
   "outputs": [],
   "source": [
    "def show_portfolios(returns, volatilities):\n",
    "    plt.figure(figsize=(8, 5))\n",
    "    plt.scatter(volatilities, returns, c=returns / volatilities, marker='o')\n",
    "    plt.grid(True)\n",
    "    plt.xlabel('Expected Volatility')\n",
    "    plt.ylabel('Expected Return')\n",
    "    plt.colorbar(label='Sharpe Ratio')\n",
    "    plt.show()"
   ]
  },
  {
   "cell_type": "code",
   "execution_count": 40,
   "id": "6a9b4536",
   "metadata": {},
   "outputs": [],
   "source": [
    "def generate_portfolios(returns):\n",
    "    portfolio_means = []\n",
    "    portfolio_risks = []\n",
    "    portfolio_weights = []"
   ]
  },
  {
   "cell_type": "code",
   "execution_count": 41,
   "id": "2136d569",
   "metadata": {},
   "outputs": [],
   "source": [
    "def generate_portfolios(returns):\n",
    "    portfolio_means = []\n",
    "    portfolio_risks = []\n",
    "    portfolio_weights = []\n",
    "\n",
    "    for _ in range(NUM_PORTFOLIOS):\n",
    "        w = np.random.random(len(stocks))\n",
    "        w /= np.sum(w)\n",
    "        portfolio_weights.append(w)\n",
    "        portfolio_means.append(np.sum(returns.mean() * w) * NUM_TRADING_DAYS)\n",
    "        portfolio_risks.append(np.sqrt(np.dot(w.T, np.dot(returns.cov() * NUM_TRADING_DAYS, w))))\n",
    "\n",
    "    return np.array(portfolio_weights), np.array(portfolio_means), np.array(portfolio_risks)"
   ]
  },
  {
   "cell_type": "code",
   "execution_count": 42,
   "id": "02d88f94",
   "metadata": {},
   "outputs": [],
   "source": [
    "def statistics(weights, returns):\n",
    "    portfolio_return = np.sum(returns.mean() * weights) * NUM_TRADING_DAYS\n",
    "    portfolio_volatility = np.sqrt(np.dot(weights.T, np.dot(returns.cov() * NUM_TRADING_DAYS, weights)))\n",
    "\n",
    "    return np.array([portfolio_return, portfolio_volatility, portfolio_return / portfolio_volatility])\n"
   ]
  },
  {
   "cell_type": "code",
   "execution_count": 43,
   "id": "5440f335",
   "metadata": {},
   "outputs": [],
   "source": [
    "def min_function_sharpe(weights, returns):\n",
    "    return -statistics(weights, returns)[2]"
   ]
  },
  {
   "cell_type": "code",
   "execution_count": 44,
   "id": "345456d3",
   "metadata": {},
   "outputs": [],
   "source": [
    "def optimize_portfolio(weights, returns):\n",
    "    constraints = {'type': 'eq', 'fun': lambda x: np.sum(x) - 1}\n",
    "    bounds = tuple((0, 1) for _ in range(len(stocks)))\n",
    "    return optimization.minimize(fun=min_function_sharpe, x0=weights[0], args=returns, method='SLSQP',\n",
    "                                 bounds=bounds, constraints=constraints)"
   ]
  },
  {
   "cell_type": "code",
   "execution_count": 45,
   "id": "d91a6e1d",
   "metadata": {},
   "outputs": [],
   "source": [
    "def print_optimal_portfolio(optimum, returns):\n",
    "    print('Optimal Portfolio: ', optimum['x'].round(3))\n",
    "    print('Expected return, volatility and sharpe ratio: ', statistics(optimum['x'].round(3), returns))"
   ]
  },
  {
   "cell_type": "code",
   "execution_count": 46,
   "id": "41153c12",
   "metadata": {},
   "outputs": [],
   "source": [
    "def show_optimal_portfolio(opt, rets, portfolio_rets, portfolio_vols):\n",
    "    plt.figure(figsize=(8, 5))\n",
    "    plt.scatter(portfolio_vols, portfolio_rets, c=portfolio_rets / portfolio_vols, marker='o')\n",
    "    plt.grid(True)\n",
    "    plt.xlabel('Expected Volatility')\n",
    "    plt.ylabel('Expected Return')\n",
    "    plt.colorbar(label='Sharpe Ratio')\n",
    "    plt.plot(statistics(opt['x'], rets)[1], statistics(opt['x'], rets)[0], 'g*', markersize=20.0)\n",
    "    plt.show()\n"
   ]
  },
  {
   "cell_type": "code",
   "execution_count": 47,
   "id": "83fd01ed",
   "metadata": {},
   "outputs": [
    {
     "name": "stdout",
     "output_type": "stream",
     "text": [
      "your lucky assets are  ['AAPL', 'MSFT', 'MCD']\n"
     ]
    }
   ],
   "source": [
    "selected_assets = [1, 0, 0, 1, 1, 0]\n",
    "assets = [\"AAPL\", \"GS\", \"JPM\", \"MSFT\", \"MCD\", \"WMT\"]\n",
    "\n",
    "\n",
    "selected_bitstring = [i for i, e in enumerate(selected_assets) if e == 1]\n",
    "# print(selected_bitstring)\n",
    "my_assets = [assets[i] for i in selected_bitstring]\n",
    "print(\"your lucky assets are \",my_assets)"
   ]
  },
  {
   "cell_type": "code",
   "execution_count": 48,
   "id": "b12782ce",
   "metadata": {},
   "outputs": [
    {
     "name": "stdout",
     "output_type": "stream",
     "text": [
      "[*********************100%***********************]  3 of 3 completed\n"
     ]
    },
    {
     "data": {
      "text/html": [
       "<div>\n",
       "<style scoped>\n",
       "    .dataframe tbody tr th:only-of-type {\n",
       "        vertical-align: middle;\n",
       "    }\n",
       "\n",
       "    .dataframe tbody tr th {\n",
       "        vertical-align: top;\n",
       "    }\n",
       "\n",
       "    .dataframe thead th {\n",
       "        text-align: right;\n",
       "    }\n",
       "</style>\n",
       "<table border=\"1\" class=\"dataframe\">\n",
       "  <thead>\n",
       "    <tr style=\"text-align: right;\">\n",
       "      <th></th>\n",
       "      <th>AAPL</th>\n",
       "      <th>MCD</th>\n",
       "      <th>MSFT</th>\n",
       "    </tr>\n",
       "    <tr>\n",
       "      <th>Date</th>\n",
       "      <th></th>\n",
       "      <th></th>\n",
       "      <th></th>\n",
       "    </tr>\n",
       "  </thead>\n",
       "  <tbody>\n",
       "    <tr>\n",
       "      <th>2010-12-31</th>\n",
       "      <td>NaN</td>\n",
       "      <td>NaN</td>\n",
       "      <td>NaN</td>\n",
       "    </tr>\n",
       "    <tr>\n",
       "      <th>2011-01-03</th>\n",
       "      <td>0.021499</td>\n",
       "      <td>-0.002087</td>\n",
       "      <td>0.002505</td>\n",
       "    </tr>\n",
       "    <tr>\n",
       "      <th>2011-01-04</th>\n",
       "      <td>0.005206</td>\n",
       "      <td>-0.030352</td>\n",
       "      <td>0.003924</td>\n",
       "    </tr>\n",
       "    <tr>\n",
       "      <th>2011-01-05</th>\n",
       "      <td>0.008147</td>\n",
       "      <td>0.004699</td>\n",
       "      <td>-0.003210</td>\n",
       "    </tr>\n",
       "    <tr>\n",
       "      <th>2011-01-06</th>\n",
       "      <td>-0.000809</td>\n",
       "      <td>-0.006045</td>\n",
       "      <td>0.028866</td>\n",
       "    </tr>\n",
       "  </tbody>\n",
       "</table>\n",
       "</div>"
      ],
      "text/plain": [
       "                AAPL       MCD      MSFT\n",
       "Date                                    \n",
       "2010-12-31       NaN       NaN       NaN\n",
       "2011-01-03  0.021499 -0.002087  0.002505\n",
       "2011-01-04  0.005206 -0.030352  0.003924\n",
       "2011-01-05  0.008147  0.004699 -0.003210\n",
       "2011-01-06 -0.000809 -0.006045  0.028866"
      ]
     },
     "execution_count": 48,
     "metadata": {},
     "output_type": "execute_result"
    }
   ],
   "source": [
    "selected_stocks_data = yf.download(my_assets, start = '2011-01-01', end = '2015-12-31')['Adj Close']\n",
    "selected_stocks_data.head()\n",
    "\n",
    "log_return = np.log(selected_stocks_data/selected_stocks_data.shift(1))\n",
    "log_return.head()"
   ]
  },
  {
   "cell_type": "code",
   "execution_count": 49,
   "id": "3a406b86",
   "metadata": {},
   "outputs": [
    {
     "name": "stdout",
     "output_type": "stream",
     "text": [
      "normalised weights :\n",
      "[0.51520947 0.15097344 0.33381709]\n"
     ]
    }
   ],
   "source": [
    "weights = np.array(np.random.random(len(my_assets)))\n",
    "\n",
    "print('normalised weights :')\n",
    "weights = weights/np.sum(weights)\n",
    "print(weights)"
   ]
  },
  {
   "cell_type": "code",
   "execution_count": 50,
   "id": "3cd09271",
   "metadata": {},
   "outputs": [],
   "source": [
    "from scipy.optimize import minimize\n",
    "\n",
    "def get_ret_vol_sr(weights): \n",
    "    weights = np.array(weights)\n",
    "    ret = np.sum(log_return.mean() * weights) * 252\n",
    "    vol = np.sqrt(np.dot(weights.T,np.dot(log_return.cov()*252,weights)))\n",
    "    sr = ret/vol \n",
    "    return np.array(sr)\n",
    "    \n",
    "\n",
    "# minimize negative Sharpe Ratio\n",
    "def neg_sharpe(weights): \n",
    "    return get_ret_vol_sr(weights)*-1\n",
    "\n",
    "# check allocation sums to 1\n",
    "def check_sum(weights): \n",
    "    return np.sum(weights) - 1"
   ]
  },
  {
   "cell_type": "code",
   "execution_count": 51,
   "id": "2055d032",
   "metadata": {},
   "outputs": [
    {
     "data": {
      "text/plain": [
       "-0.8859756966090743"
      ]
     },
     "execution_count": 51,
     "metadata": {},
     "output_type": "execute_result"
    }
   ],
   "source": [
    "# create constraint variable\n",
    "cons = ({'type':'eq','fun':check_sum})\n",
    "\n",
    "# create weight boundaries\n",
    "bounds = tuple((0, 1) for stocks in range(len(my_assets)))\n",
    "\n",
    "# initial guess\n",
    "# init_guess = [0.1 for stocks in range(len(my_assets))]\n",
    "init_guess = [0.3, 0.5, 0.2]\n",
    "# tuple((0, 1) for stocks in range(len(my_assets)))\n",
    "\n",
    "\n",
    "neg_sharpe(weights)"
   ]
  },
  {
   "cell_type": "code",
   "execution_count": 52,
   "id": "9413a498",
   "metadata": {},
   "outputs": [
    {
     "data": {
      "text/plain": [
       "     fun: -0.9762143187213373\n",
       "     jac: array([ 0.00029938, -0.00019003,  0.00013513])\n",
       " message: 'Optimization terminated successfully'\n",
       "    nfev: 16\n",
       "     nit: 4\n",
       "    njev: 4\n",
       "  status: 0\n",
       " success: True\n",
       "       x: array([0.22929076, 0.53133536, 0.23937388])"
      ]
     },
     "execution_count": 52,
     "metadata": {},
     "output_type": "execute_result"
    }
   ],
   "source": [
    "# from scipy.optimize import minimize\n",
    "opt_results = minimize(neg_sharpe, init_guess, method='SLSQP', bounds=bounds, constraints=cons)\n",
    "opt_results"
   ]
  },
  {
   "cell_type": "code",
   "execution_count": 53,
   "id": "f97a4e9d",
   "metadata": {},
   "outputs": [],
   "source": [
    "my_weights = np.array(opt_results.x)\n",
    "my_weights = my_weights.tolist()"
   ]
  },
  {
   "cell_type": "code",
   "execution_count": 54,
   "id": "2bf65e14",
   "metadata": {},
   "outputs": [
    {
     "data": {
      "text/plain": [
       "1.0"
      ]
     },
     "execution_count": 54,
     "metadata": {},
     "output_type": "execute_result"
    }
   ],
   "source": [
    "tot_weights = np.sum(my_weights)\n",
    "tot_weights"
   ]
  },
  {
   "cell_type": "code",
   "execution_count": 55,
   "id": "74775edd",
   "metadata": {},
   "outputs": [
    {
     "data": {
      "text/plain": [
       "{'AAPL': 0.22929075817588646,\n",
       " 'MSFT': 0.5313353604347141,\n",
       " 'MCD': 0.23937388138939952}"
      ]
     },
     "execution_count": 55,
     "metadata": {},
     "output_type": "execute_result"
    }
   ],
   "source": [
    "weights_alloc = dict(zip(my_assets, my_weights))\n",
    "weights_alloc"
   ]
  },
  {
   "cell_type": "code",
   "execution_count": 56,
   "id": "649a728a",
   "metadata": {},
   "outputs": [
    {
     "data": {
      "text/plain": [
       "['AAPL', 'MSFT', 'MCD']"
      ]
     },
     "execution_count": 56,
     "metadata": {},
     "output_type": "execute_result"
    }
   ],
   "source": [
    "my_assets"
   ]
  },
  {
   "cell_type": "code",
   "execution_count": 57,
   "id": "9d4a821c",
   "metadata": {},
   "outputs": [
    {
     "name": "stdout",
     "output_type": "stream",
     "text": [
      "sharpe ratio of your porrtfolio after optimization is  0.909092430259798\n"
     ]
    }
   ],
   "source": [
    "ret = np.sum(log_return.mean() * my_weights) * 252 # returns of a portfolio after optimum weight allocation\n",
    "vol = np.sqrt(np.dot(weights.T,np.dot(log_return.cov()*252,my_weights))) # risk of a portfolio after optimum weight allocation\n",
    "sharpe_ratio = ret/vol # sharpe ratio of a portfolio after optimum weight allocation\n",
    "print(\"sharpe ratio of your porrtfolio after optimization is \", sharpe_ratio)\n",
    "\n",
    "risk_ret_dict_of_quantum = {\n",
    "    'returns' : ret*100,\n",
    "    'risk' : vol*100, \n",
    "    'sharpe_ratio' : sharpe_ratio \n",
    "}"
   ]
  },
  {
   "cell_type": "code",
   "execution_count": 58,
   "id": "d7a5e13e",
   "metadata": {},
   "outputs": [
    {
     "data": {
      "text/plain": [
       "{'returns': 14.671275978520178,\n",
       " 'risk': 16.138376572256202,\n",
       " 'sharpe_ratio': 0.909092430259798}"
      ]
     },
     "execution_count": 58,
     "metadata": {},
     "output_type": "execute_result"
    }
   ],
   "source": [
    "risk_ret_dict_of_quantum"
   ]
  },
  {
   "cell_type": "code",
   "execution_count": null,
   "id": "118b605d",
   "metadata": {},
   "outputs": [],
   "source": []
  },
  {
   "cell_type": "code",
   "execution_count": 59,
   "id": "6d3cd0ea",
   "metadata": {},
   "outputs": [
    {
     "name": "stdout",
     "output_type": "stream",
     "text": [
      "[*********************100%***********************]  4 of 4 completed\n"
     ]
    },
    {
     "data": {
      "image/png": "[encoded data removed]",
      "text/plain": [
       "<Figure size 576x360 with 1 Axes>"
      ]
     },
     "metadata": {
      "needs_background": "light"
     },
     "output_type": "display_data"
    },
    {
     "data": {
      "image/png": "[encoded data removed]",
      "text/plain": [
       "<Figure size 576x360 with 2 Axes>"
      ]
     },
     "metadata": {
      "needs_background": "light"
     },
     "output_type": "display_data"
    },
    {
     "name": "stdout",
     "output_type": "stream",
     "text": [
      "Optimal Portfolio:  [0.    0.105 0.778 0.118]\n",
      "Expected return, volatility and sharpe ratio:  [0.14943091 0.20540788 0.72748379]\n"
     ]
    },
    {
     "data": {
      "image/png": "[encoded data removed]",
      "text/plain": [
       "<Figure size 576x360 with 2 Axes>"
      ]
     },
     "metadata": {
      "needs_background": "light"
     },
     "output_type": "display_data"
    }
   ],
   "source": [
    "if __name__ == '__main__':\n",
    "    # print(download_data())\n",
    "    dataset = download_data()\n",
    "    show_data(dataset)\n",
    "    log_daily_returns = calculate_return(dataset)\n",
    "    # show_statistics(log_daily_returns)\n",
    "    # show_mean_variance(log_daily_returns, [0.1, 0.2, 0.3, 0.2, 0.1, 0.1])\n",
    "    pweights, means, risks = generate_portfolios(log_daily_returns)\n",
    "    show_portfolios(means, risks)\n",
    "    optimum = optimize_portfolio(pweights, log_daily_returns)\n",
    "    print_optimal_portfolio(optimum, log_daily_returns)\n",
    "    show_optimal_portfolio(optimum, log_daily_returns, means, risks)"
   ]
  },
  {
   "cell_type": "code",
   "execution_count": 60,
   "id": "17449f8d",
   "metadata": {},
   "outputs": [
    {
     "data": {
      "text/plain": [
       "{'returns': 14.671275978520178,\n",
       " 'risk': 16.138376572256202,\n",
       " 'sharpe_ratio': 0.909092430259798}"
      ]
     },
     "execution_count": 60,
     "metadata": {},
     "output_type": "execute_result"
    }
   ],
   "source": [
    "risk_ret_dict_of_quantum"
   ]
  },
  {
   "cell_type": "code",
   "execution_count": 61,
   "id": "25cdcbc2",
   "metadata": {},
   "outputs": [
    {
     "name": "stdout",
     "output_type": "stream",
     "text": [
      "Attributes  Adj Close                                        Close  \\\n",
      "Symbols           JPM          GS       MSFT        WMT        JPM   \n",
      "Date                                                                 \n",
      "2010-12-31  30.549223  139.064865  21.863091  41.184044  42.419998   \n",
      "2011-01-03  31.384623  143.108810  21.917923  41.665138  43.580002   \n",
      "2011-01-04  31.838844  143.133636  22.004097  41.825516  44.160000   \n",
      "2011-01-05  32.228176  143.894424  21.933596  41.550598  44.700001   \n",
      "2011-01-06  32.069546  142.414154  22.575933  41.206951  44.480000   \n",
      "...               ...         ...        ...        ...        ...   \n",
      "2015-12-24  54.715042  161.394363  50.051342  52.786781  66.599998   \n",
      "2015-12-28  54.534313  160.642502  50.303093  52.717346  66.379997   \n",
      "2015-12-29  55.101185  162.331863  50.842533  53.463631  67.070000   \n",
      "2015-12-30  54.706833  160.987473  50.626743  53.524376  66.589996   \n",
      "2015-12-31  54.246761  159.413071  49.880524  53.194607  66.029999   \n",
      "\n",
      "Attributes                                         High              ...  \\\n",
      "Symbols             GS       MSFT        WMT        JPM          GS  ...   \n",
      "Date                                                                 ...   \n",
      "2010-12-31  168.160004  27.910000  53.930000  42.450001  168.800003  ...   \n",
      "2011-01-03  173.050003  27.980000  54.560001  44.040001  173.250000  ...   \n",
      "2011-01-04  173.080002  28.090000  54.770000  44.299999  174.000000  ...   \n",
      "2011-01-05  174.000000  28.000000  54.410000  44.950001  174.490005  ...   \n",
      "2011-01-06  172.210007  28.820000  53.959999  44.799999  174.589996  ...   \n",
      "...                ...        ...        ...        ...         ...  ...   \n",
      "2015-12-24  182.470001  55.669998  60.830002  66.889999  183.169998  ...   \n",
      "2015-12-28  181.619995  55.950001  60.750000  66.449997  181.929993  ...   \n",
      "2015-12-29  183.529999  56.549999  61.610001  67.300003  184.179993  ...   \n",
      "2015-12-30  182.009995  56.310001  61.680000  67.050003  183.529999  ...   \n",
      "2015-12-31  180.229996  55.480000  61.299999  66.779999  182.889999  ...   \n",
      "\n",
      "Attributes        Low                  Open                                    \\\n",
      "Symbols          MSFT        WMT        JPM          GS       MSFT        WMT   \n",
      "Date                                                                            \n",
      "2010-12-31  27.629999  53.790001  42.110001  167.580002  27.799999  53.970001   \n",
      "2011-01-03  27.920000  54.150002  43.000000  170.550003  28.049999  54.230000   \n",
      "2011-01-04  27.850000  54.279999  43.779999  173.869995  27.940001  54.610001   \n",
      "2011-01-05  27.770000  54.320000  43.919998  172.050003  27.900000  54.750000   \n",
      "2011-01-06  27.860001  53.779999  44.400002  174.509995  28.040001  54.310001   \n",
      "...               ...        ...        ...         ...        ...        ...   \n",
      "2015-12-24  55.430000  60.680000  66.620003  182.270004  55.860001  60.779999   \n",
      "2015-12-28  54.980000  60.500000  66.290001  181.770004  55.349998  60.580002   \n",
      "2015-12-29  56.060001  60.980000  66.839996  182.820007  56.290001  61.000000   \n",
      "2015-12-30  56.290001  61.490002  67.040001  183.279999  56.470001  61.660000   \n",
      "2015-12-31  55.419998  61.169998  66.190002  181.160004  56.040001  61.330002   \n",
      "\n",
      "Attributes      Volume                                     \n",
      "Symbols            JPM         GS        MSFT         WMT  \n",
      "Date                                                       \n",
      "2010-12-31  12199700.0  1636300.0  24752000.0   7093900.0  \n",
      "2011-01-03  43278500.0  5717100.0  53443800.0  14298300.0  \n",
      "2011-01-04  40036800.0  3335500.0  54405600.0  12154400.0  \n",
      "2011-01-05  50032500.0  4140600.0  58998700.0  14215600.0  \n",
      "2011-01-06  31606200.0  5375200.0  88026300.0  15585500.0  \n",
      "...                ...        ...         ...         ...  \n",
      "2015-12-24   4468200.0  1107600.0   9558500.0   2482800.0  \n",
      "2015-12-28   6610600.0  1723300.0  22458300.0   5421700.0  \n",
      "2015-12-29   9820800.0  1848900.0  27731400.0   7883600.0  \n",
      "2015-12-30   7190700.0  1514300.0  21704500.0   5716700.0  \n",
      "2015-12-31  14654300.0  1773900.0  27334100.0   6575100.0  \n",
      "\n",
      "[1259 rows x 24 columns]\n",
      "[*********************100%***********************]  4 of 4 completed\n"
     ]
    }
   ],
   "source": [
    "# set number of assets (= number of qubits)\n",
    "#num_assets = 4\n",
    "seed = 123\n",
    "\n",
    "\n",
    "start = datetime.datetime(2011, 1, 1)\n",
    "end = datetime.datetime(2015, 12, 31)\n",
    "\n",
    "df = web.DataReader([\"JPM\", \"GS\", \"MSFT\", \"WMT\"],'yahoo', start, end)\n",
    "df.to_csv(r'C:\\Users\\shrey\\Documents\\Qiskit\\Mstockdata4_1.csv')\n",
    "print (df)\n",
    "\n",
    "\n",
    "import yfinance as yf\n",
    "import numpy as np\n",
    "selected_stocks_data = yf.download(stocks, start = '2011-01-01', end = '2015-12-31')['Adj Close']\n",
    "selected_stocks_data.head()\n",
    "log_return = np.log(selected_stocks_data/selected_stocks_data.shift(1))\n",
    "\n",
    "\n",
    "num_assets = len(stocks)\n",
    "mu = log_return.mean()*252\n",
    "sigma = log_return.cov()*252\n",
    "sigma = np.array(sigma)\n",
    "mu = np.array(mu)\n",
    "\n",
    "# Using data from yahoo finance\n",
    "# use the name listed for particular company that you wish to add\n",
    "\n",
    "#data = YahooDataProvider(\n",
    "#        tickers=[\"JPM\", \"GS\", \"MSFT\", \"WMT\"],\n",
    "#        start=datetime.datetime(2011, 1, 1),\n",
    "#        end=datetime.datetime(2015, 12, 31),\n",
    "#    )\n",
    "\n",
    "#data.run()\n",
    "\n",
    "#mu = data.get_period_return_mean_vector()\n",
    "#sigma = data.get_period_return_covariance_matrix()"
   ]
  },
  {
   "cell_type": "code",
   "execution_count": 62,
   "id": "50530cf1",
   "metadata": {},
   "outputs": [
    {
     "data": {
      "image/png": "[encoded data removed]",
      "text/plain": [
       "<Figure size 432x288 with 1 Axes>"
      ]
     },
     "metadata": {
      "needs_background": "light"
     },
     "output_type": "display_data"
    }
   ],
   "source": [
    "# plot sigma\n",
    "plt.imshow(sigma, interpolation=\"nearest\")\n",
    "plt.show()\n"
   ]
  },
  {
   "cell_type": "code",
   "execution_count": 63,
   "id": "14567144",
   "metadata": {},
   "outputs": [
    {
     "data": {
      "text/plain": [
       "<QuadraticProgram: minimize 0.035381186646088844*x_0^2 + 0.05930983243493784*x..., 4 variables, 1 constraints, 'Portfolio optimization'>"
      ]
     },
     "execution_count": 63,
     "metadata": {},
     "output_type": "execute_result"
    }
   ],
   "source": [
    "q = 0.5  # set risk factor\n",
    "budget = num_assets // 2  # set budget\n",
    "penalty = num_assets  # set parameter to scale the budget penalty term\n",
    "\n",
    "portfolio = PortfolioOptimization(\n",
    "    expected_returns=mu, covariances=sigma, risk_factor=q, budget=budget\n",
    ")\n",
    "qp = portfolio.to_quadratic_program()\n",
    "qp"
   ]
  },
  {
   "cell_type": "code",
   "execution_count": 64,
   "id": "e71dce01",
   "metadata": {},
   "outputs": [],
   "source": [
    "def index_to_selection(i, num_assets):\n",
    "    s = \"{0:b}\".format(i).rjust(num_assets)\n",
    "    x = np.array([1 if s[i] == \"1\" else 0 for i in reversed(range(num_assets))])\n",
    "    return x\n",
    "\n",
    "\n",
    "def print_result(result,fname):\n",
    "    \n",
    "    f = open(fname, 'w')\n",
    "    header = ['SELECTION', 'VALUE', 'PROBABLITY']\n",
    "    writer = csv.writer(f)\n",
    "    writer.writerow(header)\n",
    "    \n",
    "    selection = result.x\n",
    "    value = result.fval\n",
    "    print(\"Optimal: selection {}, value {:.4f}\".format(selection, value))\n",
    "\n",
    "    eigenstate = result.min_eigen_solver_result.eigenstate\n",
    "    eigenvector = eigenstate if isinstance(eigenstate, np.ndarray) else eigenstate.to_matrix()\n",
    "    probabilities = np.abs(eigenvector) ** 2\n",
    "    i_sorted = reversed(np.argsort(probabilities))\n",
    "    print(\"\\n----------------- Full result ---------------------\")\n",
    "    print(\"selection\\tvalue\\t\\tprobability\")\n",
    "    print(\"---------------------------------------------------\")\n",
    "    for i in i_sorted:\n",
    "        x = index_to_selection(i, num_assets)\n",
    "        value = QuadraticProgramToQubo().convert(qp).objective.evaluate(x)\n",
    "        # value = portfolio.to_quadratic_program().objective.evaluate(x)\n",
    "        probability = probabilities[i]\n",
    "        row = [x, value, probability]\n",
    "        writer.writerow(row)\n",
    "        print(\"%10s\\t%.4f\\t\\t%.4f\" % (x, value, probability))\n",
    "    f.close()"
   ]
  },
  {
   "cell_type": "code",
   "execution_count": 65,
   "id": "95721b99",
   "metadata": {
    "scrolled": false
   },
   "outputs": [
    {
     "name": "stdout",
     "output_type": "stream",
     "text": [
      "Optimal: selection [0. 1. 1. 0.], value -0.1911\n",
      "\n",
      "----------------- Full result ---------------------\n",
      "selection\tvalue\t\tprobability\n",
      "---------------------------------------------------\n",
      " [0 1 1 0]\t-0.1911\t\t1.0000\n",
      " [1 1 1 1]\t6.4779\t\t0.0000\n",
      " [0 1 1 1]\t1.4410\t\t0.0000\n",
      " [1 0 1 1]\t1.5254\t\t0.0000\n",
      " [0 0 1 1]\t-0.1673\t\t0.0000\n",
      " [1 1 0 1]\t1.6194\t\t0.0000\n",
      " [0 1 0 1]\t-0.1035\t\t0.0000\n",
      " [1 0 0 1]\t-0.0182\t\t0.0000\n",
      " [0 0 0 1]\t1.6030\t\t0.0000\n",
      " [1 1 1 0]\t1.5458\t\t0.0000\n",
      " [1 0 1 0]\t-0.1056\t\t0.0000\n",
      " [0 0 1 0]\t1.5016\t\t0.0000\n",
      " [1 1 0 0]\t-0.0150\t\t0.0000\n",
      " [0 1 0 0]\t1.5620\t\t0.0000\n",
      " [1 0 0 0]\t1.6484\t\t0.0000\n",
      " [0 0 0 0]\t6.5696\t\t0.0000\n",
      "CPU times: total: 250 ms\n",
      "Wall time: 529 ms\n"
     ]
    }
   ],
   "source": [
    "%%time\n",
    "\n",
    "#classical reference solution\n",
    "#provide fname ='complete address/location of your .csv file'\n",
    "\n",
    "\n",
    "exact_mes = NumPyMinimumEigensolver()\n",
    "exact_eigensolver = MinimumEigenOptimizer(exact_mes)\n",
    "\n",
    "result = exact_eigensolver.solve(qp)\n",
    "fname = (r'C:\\Users\\shrey\\Documents\\Qiskit\\Mstockdata4_1.csv') #change the location and nsame of .csv file\n",
    "\n",
    "print_result(result,fname)"
   ]
  },
  {
   "cell_type": "code",
   "execution_count": 66,
   "id": "184b161b",
   "metadata": {},
   "outputs": [
    {
     "name": "stdout",
     "output_type": "stream",
     "text": [
      "    SELECTION     VALUE  PROBABLITY\n",
      "0   [0 1 1 0] -0.191109         1.0\n",
      "4   [0 0 1 1] -0.167320         0.0\n",
      "10  [1 0 1 0] -0.105593         0.0\n",
      "6   [0 1 0 1] -0.103525         0.0\n",
      "7   [1 0 0 1] -0.018206         0.0\n",
      "12  [1 1 0 0] -0.015038         0.0\n"
     ]
    },
    {
     "data": {
      "image/png": "[encoded data removed]",
      "text/plain": [
       "<Figure size 432x288 with 1 Axes>"
      ]
     },
     "metadata": {
      "needs_background": "light"
     },
     "output_type": "display_data"
    },
    {
     "data": {
      "image/png": "[encoded data removed]",
      "text/plain": [
       "<Figure size 432x288 with 1 Axes>"
      ]
     },
     "metadata": {
      "needs_background": "light"
     },
     "output_type": "display_data"
    }
   ],
   "source": [
    "import pandas as pd\n",
    "import matplotlib.pyplot as plt\n",
    "\n",
    "df = pd.read_csv(r'C:\\Users\\shrey\\Documents\\Qiskit\\Mstockdata4_1.csv')\n",
    "df = df[df['VALUE'] == df.groupby('SELECTION')['VALUE'].transform('min')]\n",
    "\n",
    "df = df.sort_values('VALUE').drop_duplicates('SELECTION')\n",
    "df1 = df[df['VALUE'] < 0]\n",
    "print(df1)\n",
    "\n",
    "df1.to_csv(r'C:\\Users\\shrey\\Documents\\Qiskit\\Mstockdata4_1.csv')\n",
    "\n",
    "\n",
    "ax=df1. plot(kind=\"bar\", x = 'SELECTION', y = 'VALUE', color='green')\n",
    "to=plt.title('Numpy Eigen Solver-ASSET SELECTION')\n",
    "plt.setp(to, color='Black')\n",
    "ax.xaxis.label.set_color('Black') \n",
    "ax.yaxis.label.set_color('Black') \n",
    "ax.spines['bottom'].set_color('black')\n",
    "ax.spines['top'].set_color('Black') \n",
    "ax.spines['right'].set_color('Black')\n",
    "ax.spines['left'].set_color('Black')\n",
    "ax.tick_params(colors='Black', which='both')\n",
    "plt.ylabel('EIGEN VALUE')\n",
    "plt.xlabel('ASSETS ')\n",
    "#plt.figure(figsize=(10,5))\n",
    "plt.show()\n",
    "\n",
    "ax=df1. plot(kind=\"bar\", x = 'SELECTION', y = 'PROBABLITY', color='green')\n",
    "plt.ylabel('PROBABLITY')\n",
    "plt.xlabel('ASSETS')\n",
    "ax.xaxis.label.set_color('Black') \n",
    "ax.yaxis.label.set_color('Black') \n",
    "ax.spines['bottom'].set_color('Black')\n",
    "ax.spines['top'].set_color('Black') \n",
    "ax.spines['right'].set_color('Black')\n",
    "ax.spines['left'].set_color('Black')\n",
    "ax.tick_params(colors='Black', which='both')\n",
    "\n",
    "to=plt.title('Numpy Eigen Solver-ASSET SELECTION')\n",
    "plt.setp(to, color='Black')\n",
    "\n",
    "#plt.figure(figsize=(10,5))\n",
    "plt.show()"
   ]
  },
  {
   "cell_type": "code",
   "execution_count": 67,
   "id": "f0d47626",
   "metadata": {},
   "outputs": [
    {
     "name": "stdout",
     "output_type": "stream",
     "text": [
      "Optimal: selection [0. 1. 1. 0.], value -0.1911\n",
      "\n",
      "----------------- Full result ---------------------\n",
      "selection\tvalue\t\tprobability\n",
      "---------------------------------------------------\n",
      " [0 0 1 1]\t-0.1673\t\t0.7327\n",
      " [0 1 1 0]\t-0.1911\t\t0.2576\n",
      " [1 0 0 1]\t-0.0182\t\t0.0081\n",
      " [1 0 0 0]\t1.6484\t\t0.0004\n",
      " [1 1 0 0]\t-0.0150\t\t0.0003\n",
      " [1 1 0 1]\t1.6194\t\t0.0002\n",
      " [1 1 1 0]\t1.5458\t\t0.0002\n",
      " [0 1 0 0]\t1.5620\t\t0.0001\n",
      " [1 0 1 1]\t1.5254\t\t0.0001\n",
      " [1 0 1 0]\t-0.1056\t\t0.0001\n",
      " [0 1 0 1]\t-0.1035\t\t0.0000\n",
      " [0 0 0 1]\t1.6030\t\t0.0000\n",
      " [0 0 1 0]\t1.5016\t\t0.0000\n",
      " [0 1 1 1]\t1.4410\t\t0.0000\n",
      " [1 1 1 1]\t6.4779\t\t0.0000\n",
      " [0 0 0 0]\t6.5696\t\t0.0000\n",
      "CPU times: total: 3.97 s\n",
      "Wall time: 7.11 s\n"
     ]
    }
   ],
   "source": [
    "%%time\n",
    "\n",
    "# VQE solution\n",
    "#provide fname ='complete address/location of your .csv file'\n",
    "\n",
    "\n",
    "from qiskit.utils import algorithm_globals\n",
    "algorithm_globals.random_seed = 1234\n",
    "backend = Aer.get_backend(\"statevector_simulator\")\n",
    "\n",
    "cobyla = COBYLA()\n",
    "cobyla.set_options(maxiter=500)\n",
    "ry = TwoLocal(num_assets, \"ry\", \"cz\", reps=3, entanglement=\"full\")\n",
    "quantum_instance = QuantumInstance(backend=backend, shots=8192, seed_simulator=seed, seed_transpiler=seed)\n",
    "vqe_mes = VQE(ry, optimizer=cobyla, quantum_instance=quantum_instance)\n",
    "vqe = MinimumEigenOptimizer(vqe_mes)\n",
    "result = vqe.solve(qp)\n",
    "\n",
    "#fname = (r'C:\\Users\\shrey\\Documents\\Qiskit\\Mstockdata4_1.csv') #change the location and name of .csv file\n",
    "print_result(result, fname)\n"
   ]
  },
  {
   "cell_type": "markdown",
   "id": "acb35d8d",
   "metadata": {},
   "source": [
    "Circuits "
   ]
  },
  {
   "cell_type": "code",
   "execution_count": 3,
   "id": "f06754d8",
   "metadata": {},
   "outputs": [
    {
     "ename": "NameError",
     "evalue": "name 'result' is not defined",
     "output_type": "error",
     "traceback": [
      "\u001b[1;31m---------------------------------------------------------------------------\u001b[0m",
      "\u001b[1;31mNameError\u001b[0m                                 Traceback (most recent call last)",
      "\u001b[1;32mc:\\Users\\shrey\\Documents\\Qiskit\\Markowitz_QOpt_Weights_yfinance.ipynb Cell 42\u001b[0m in \u001b[0;36m<cell line: 1>\u001b[1;34m()\u001b[0m\n\u001b[1;32m----> <a href='vscode-notebook-cell:/c%3A/Users/shrey/Documents/Qiskit/Markowitz_QOpt_Weights_yfinance.ipynb#X56sZmlsZQ%3D%3D?line=0'>1</a>\u001b[0m VQE\u001b[39m.\u001b[39mconstruct_circuit(result, fname, operator)\n",
      "\u001b[1;31mNameError\u001b[0m: name 'result' is not defined"
     ]
    }
   ],
   "source": [
    "\n",
    "\n",
    "#VQE.construct_circuit(result, fname, operator)"
   ]
  },
  {
   "cell_type": "code",
   "execution_count": 31,
   "id": "c4f8dd13",
   "metadata": {},
   "outputs": [
    {
     "name": "stdout",
     "output_type": "stream",
     "text": [
      "     »\n",
      "q_0: »\n",
      "     »\n",
      "q_1: »\n",
      "     »\n",
      "q_2: »\n",
      "     »\n",
      "«     ┌──────────────────────────────────────────────────────────────────────────────────────────────────────────────────────────────────────────────────────┐»\n",
      "«q_0: ┤0                                                                                                                                                     ├»\n",
      "«     │                                                                                                                                                      │»\n",
      "«q_1: ┤1 EfficientSU2(θ[0],θ[1],θ[2],θ[3],θ[4],θ[5],θ[6],θ[7],θ[8],θ[9],θ[10],θ[11],θ[12],θ[13],θ[14],θ[15],θ[16],θ[17],θ[18],θ[19],θ[20],θ[21],θ[22],θ[23]) ├»\n",
      "«     │                                                                                                                                                      │»\n",
      "«q_2: ┤2                                                                                                                                                     ├»\n",
      "«     └──────────────────────────────────────────────────────────────────────────────────────────────────────────────────────────────────────────────────────┘»\n",
      "«                 \n",
      "«q_0: ────────────\n",
      "«     ┌─────┐┌───┐\n",
      "«q_1: ┤ Sdg ├┤ H ├\n",
      "«     └┬───┬┘└───┘\n",
      "«q_2: ─┤ H ├──────\n",
      "«      └───┘      \n"
     ]
    }
   ],
   "source": [
    "from qiskit import Aer\n",
    "from qiskit.algorithms import VQE\n",
    "from qiskit.algorithms.optimizers import SPSA\n",
    "from qiskit.circuit.library import EfficientSU2\n",
    "from qiskit.opflow import X, Y, Z\n",
    "from qiskit.circuit import Parameter\n",
    "\n",
    "backend = Aer.get_backend('qasm_simulator')\n",
    "hamiltonian = X ^ Y ^ Z\n",
    "ansatz = EfficientSU2(3)\n",
    "optimizer = SPSA()\n",
    "parameters = list(ansatz.parameters)\n",
    "\n",
    "vqe = VQE(ansatz, optimizer, quantum_instance=backend)\n",
    "circuits = vqe.construct_circuit(parameters, hamiltonian)\n",
    "\n",
    "for circuit in circuits:\n",
    "    #style = {'backgroundcolor': 'lightgreen'}\n",
    "    print(circuit.draw())\n",
    "    #circuits.draw('mpl')"
   ]
  },
  {
   "cell_type": "code",
   "execution_count": 10,
   "id": "78edff70",
   "metadata": {},
   "outputs": [],
   "source": [
    "import numpy as np\n",
    "from qiskit import *\n",
    "from qiskit.circuit import Gate\n",
    "\n",
    "my_gate = Gate(name='my_gate', num_qubits=2, params=[])"
   ]
  },
  {
   "cell_type": "code",
   "execution_count": 11,
   "id": "7ac4516e",
   "metadata": {},
   "outputs": [
    {
     "data": {
      "text/html": [
       "<pre style=\"word-wrap: normal;white-space: pre;background: #fff0;line-height: 1.1;font-family: &quot;Courier New&quot;,Courier,monospace\">     ┌──────────┐            \n",
       "q_0: ┤0         ├────────────\n",
       "     │  my_gate │┌──────────┐\n",
       "q_1: ┤1         ├┤0         ├\n",
       "     └──────────┘│  my_gate │\n",
       "q_2: ────────────┤1         ├\n",
       "                 └──────────┘</pre>"
      ],
      "text/plain": [
       "     ┌──────────┐            \n",
       "q_0: ┤0         ├────────────\n",
       "     │  my_gate │┌──────────┐\n",
       "q_1: ┤1         ├┤0         ├\n",
       "     └──────────┘│  my_gate │\n",
       "q_2: ────────────┤1         ├\n",
       "                 └──────────┘"
      ]
     },
     "execution_count": 11,
     "metadata": {},
     "output_type": "execute_result"
    }
   ],
   "source": [
    "qr = QuantumRegister(3, 'q')\n",
    "circ = QuantumCircuit(qr)\n",
    "circ.append(my_gate, [qr[0], qr[1]])\n",
    "circ.append(my_gate, [qr[1], qr[2]])\n",
    "\n",
    "circ.draw()"
   ]
  },
  {
   "cell_type": "code",
   "execution_count": 12,
   "id": "86164557",
   "metadata": {},
   "outputs": [
    {
     "data": {
      "text/html": [
       "<pre style=\"word-wrap: normal;white-space: pre;background: #fff0;line-height: 1.1;font-family: &quot;Courier New&quot;,Courier,monospace\">     ┌───┐                       \n",
       "q_0: ┤ H ├──■────────────────────\n",
       "     └───┘┌─┴─┐     ┌───────────┐\n",
       "q_1: ─────┤ X ├──■──┤0          ├\n",
       "          └───┘┌─┴─┐│  sub_circ │\n",
       "q_2: ──────────┤ X ├┤1          ├\n",
       "               └───┘└───────────┘</pre>"
      ],
      "text/plain": [
       "     ┌───┐                       \n",
       "q_0: ┤ H ├──■────────────────────\n",
       "     └───┘┌─┴─┐     ┌───────────┐\n",
       "q_1: ─────┤ X ├──■──┤0          ├\n",
       "          └───┘┌─┴─┐│  sub_circ │\n",
       "q_2: ──────────┤ X ├┤1          ├\n",
       "               └───┘└───────────┘"
      ]
     },
     "execution_count": 12,
     "metadata": {},
     "output_type": "execute_result"
    }
   ],
   "source": [
    "# Build a sub-circuit\n",
    "sub_q = QuantumRegister(2)\n",
    "sub_circ = QuantumCircuit(sub_q, name='sub_circ')\n",
    "sub_circ.h(sub_q[0])\n",
    "sub_circ.crz(1, sub_q[0], sub_q[1])\n",
    "sub_circ.barrier()\n",
    "sub_circ.id(sub_q[1])\n",
    "sub_circ.u(1, 2, -2, sub_q[0])\n",
    "\n",
    "# Convert to a gate and stick it into an arbitrary place in the bigger circuit\n",
    "sub_inst = sub_circ.to_instruction()\n",
    "\n",
    "qr = QuantumRegister(3, 'q')\n",
    "circ = QuantumCircuit(qr)\n",
    "circ.h(qr[0])\n",
    "circ.cx(qr[0], qr[1])\n",
    "circ.cx(qr[1], qr[2])\n",
    "circ.append(sub_inst, [qr[1], qr[2]])\n",
    "\n",
    "circ.draw()"
   ]
  },
  {
   "cell_type": "code",
   "execution_count": 13,
   "id": "3d1dd985",
   "metadata": {},
   "outputs": [
    {
     "data": {
      "text/html": [
       "<pre style=\"word-wrap: normal;white-space: pre;background: #fff0;line-height: 1.1;font-family: &quot;Courier New&quot;,Courier,monospace\">     ┌─────────┐                                        \n",
       "q_0: ┤ U2(0,π) ├──■─────────────────────────────────────\n",
       "     └─────────┘┌─┴─┐     ┌───┐          ░ ┌───────────┐\n",
       "q_1: ───────────┤ X ├──■──┤ H ├────■─────░─┤ U(1,2,-2) ├\n",
       "                └───┘┌─┴─┐└───┘┌───┴───┐ ░ └───┬───┬───┘\n",
       "q_2: ────────────────┤ X ├─────┤ Rz(1) ├─░─────┤ I ├────\n",
       "                     └───┘     └───────┘ ░     └───┘    </pre>"
      ],
      "text/plain": [
       "     ┌─────────┐                                        \n",
       "q_0: ┤ U2(0,π) ├──■─────────────────────────────────────\n",
       "     └─────────┘┌─┴─┐     ┌───┐          ░ ┌───────────┐\n",
       "q_1: ───────────┤ X ├──■──┤ H ├────■─────░─┤ U(1,2,-2) ├\n",
       "                └───┘┌─┴─┐└───┘┌───┴───┐ ░ └───┬───┬───┘\n",
       "q_2: ────────────────┤ X ├─────┤ Rz(1) ├─░─────┤ I ├────\n",
       "                     └───┘     └───────┘ ░     └───┘    "
      ]
     },
     "execution_count": 13,
     "metadata": {},
     "output_type": "execute_result"
    }
   ],
   "source": [
    "decomposed_circ = circ.decompose() # Does not modify original circuit\n",
    "decomposed_circ.draw()"
   ]
  },
  {
   "cell_type": "code",
   "execution_count": 14,
   "id": "ba9385a8",
   "metadata": {},
   "outputs": [
    {
     "data": {
      "image/png": "[encoded data removed]",
      "text/plain": [
       "<Figure size 929.397x385.28 with 1 Axes>"
      ]
     },
     "execution_count": 14,
     "metadata": {},
     "output_type": "execute_result"
    }
   ],
   "source": [
    "\n",
    "\n",
    "from qiskit.circuit import Parameter\n",
    "\n",
    "theta = Parameter('θ')\n",
    "\n",
    "n = 5\n",
    "\n",
    "qc = QuantumCircuit(5, 1)\n",
    "\n",
    "qc.h(0)\n",
    "for i in range(n-1):\n",
    "    qc.cx(i, i+1)\n",
    "\n",
    "qc.barrier()\n",
    "qc.rz(theta, range(5))\n",
    "qc.barrier()\n",
    "\n",
    "for i in reversed(range(n-1)):\n",
    "    qc.cx(i, i+1)\n",
    "qc.h(0)\n",
    "qc.measure(0, 0)\n",
    "\n",
    "qc.draw('mpl')"
   ]
  },
  {
   "cell_type": "code",
   "execution_count": 27,
   "id": "753eaec5",
   "metadata": {},
   "outputs": [
    {
     "data": {
      "image/png": "[encoded data removed]",
      "text/plain": [
       "<Figure size 1002.87x626.08 with 1 Axes>"
      ]
     },
     "execution_count": 27,
     "metadata": {},
     "output_type": "execute_result"
    }
   ],
   "source": [
    "# Draw a new circuit with barriers and more registers\n",
    "\n",
    "q_a = QuantumRegister(3, name='qa')\n",
    "q_b = QuantumRegister(5, name='qb')\n",
    "c_a = ClassicalRegister(3)\n",
    "c_b = ClassicalRegister(5)\n",
    "\n",
    "circuit = QuantumCircuit(q_a, q_b, c_a, c_b)\n",
    "\n",
    "circuit.x(q_a[1])\n",
    "circuit.x(q_b[1])\n",
    "circuit.x(q_b[2])\n",
    "circuit.x(q_b[4])\n",
    "circuit.barrier()\n",
    "circuit.h(q_a)\n",
    "circuit.barrier(q_a)\n",
    "circuit.h(q_b)\n",
    "circuit.cswap(q_b[0], q_b[1], q_b[2])\n",
    "circuit.cswap(q_b[2], q_b[3], q_b[4])\n",
    "circuit.cswap(q_b[3], q_b[4], q_b[0])\n",
    "circuit.barrier(q_b)\n",
    "circuit.measure(q_a, c_a)\n",
    "circuit.measure(q_b, c_b);\n",
    "\n",
    "# Draw the circuit\n",
    "circuit.draw(output='mpl')"
   ]
  },
  {
   "cell_type": "code",
   "execution_count": null,
   "id": "315a8346",
   "metadata": {},
   "outputs": [],
   "source": []
  },
  {
   "cell_type": "code",
   "execution_count": null,
   "id": "faa3f913",
   "metadata": {},
   "outputs": [
    {
     "name": "stdout",
     "output_type": "stream",
     "text": [
      "Collecting pylatexencNote: you may need to restart the kernel to use updated packages.\n",
      "\n",
      "  Downloading pylatexenc-2.10.tar.gz (162 kB)\n",
      "     -------------------------------------- 162.6/162.6 KB 1.4 MB/s eta 0:00:00\n",
      "  Preparing metadata (setup.py): started\n",
      "  Preparing metadata (setup.py): finished with status 'done'\n",
      "Using legacy 'setup.py install' for pylatexenc, since package 'wheel' is not installed.\n",
      "Installing collected packages: pylatexenc\n",
      "  Running setup.py install for pylatexenc: started\n",
      "  Running setup.py install for pylatexenc: finished with status 'done'\n",
      "Successfully installed pylatexenc-2.10\n"
     ]
    },
    {
     "name": "stderr",
     "output_type": "stream",
     "text": [
      "WARNING: You are using pip version 22.0.4; however, version 22.2.2 is available.\n",
      "You should consider upgrading via the 'c:\\Users\\shrey\\AppData\\Local\\Programs\\Python\\Python310\\python.exe -m pip install --upgrade pip' command.\n"
     ]
    }
   ],
   "source": [
    "pip install pylatexenc"
   ]
  },
  {
   "cell_type": "code",
   "execution_count": 6,
   "id": "e12401ff",
   "metadata": {},
   "outputs": [],
   "source": [
    "from qiskit.circuit.library import EfficientSU2\n",
    "from qiskit.opflow import Z, I\n",
    "\n",
    "num_qubits = 4\n",
    "hamiltonian = (Z ^ Z) ^ (I ^ (num_qubits - 2))\n",
    "\n",
    "target_energy = -1"
   ]
  },
  {
   "cell_type": "code",
   "execution_count": 7,
   "id": "6372eaf0",
   "metadata": {},
   "outputs": [
    {
     "data": {
      "image/png": "[encoded data removed]",
      "text/plain": [
       "<Figure size 628.397x264.88 with 1 Axes>"
      ]
     },
     "execution_count": 7,
     "metadata": {},
     "output_type": "execute_result"
    }
   ],
   "source": [
    "import pandas as pd\n",
    "import matplotlib.pyplot as plt\n",
    "# the rotation gates are chosen randomly, so we set a seed for reproducibility\n",
    "ansatz = EfficientSU2(num_qubits, reps=1, entanglement=\"linear\", insert_barriers=True)\n",
    "ansatz.draw(\"mpl\", style=\"iqx\")"
   ]
  },
  {
   "cell_type": "code",
   "execution_count": null,
   "id": "7acaf01f",
   "metadata": {},
   "outputs": [],
   "source": [
    "import numpy as np\n",
    "np.random.seed(999999)\n",
    "target_distr = np.random.rand(2)\n",
    "# We now convert the random vector into a valid probability vector\n",
    "target_distr /= sum(target_distr)"
   ]
  },
  {
   "cell_type": "code",
   "execution_count": null,
   "id": "1a235c02",
   "metadata": {},
   "outputs": [],
   "source": [
    "from qiskit import QuantumCircuit, ClassicalRegister, QuantumRegister\n",
    "def get_var_form(params):\n",
    "    qr = QuantumRegister(1, name=\"q\")\n",
    "    cr = ClassicalRegister(1, name='c')\n",
    "    qc = QuantumCircuit(qr, cr)\n",
    "    qc.u3(params[0], params[1], params[2], qr[0])\n",
    "    qc.measure(qr, cr[0])\n",
    "    return qc\n"
   ]
  },
  {
   "cell_type": "code",
   "execution_count": null,
   "id": "93b94621",
   "metadata": {},
   "outputs": [],
   "source": [
    "from qiskit import Aer, transpile, assemble\n",
    "backend = Aer.get_backend(\"qasm_simulator\")\n",
    "NUM_SHOTS = 10000\n",
    "\n",
    "def get_probability_distribution(counts):\n",
    "    output_distr = [v / NUM_SHOTS for v in counts.values()]\n",
    "    if len(output_distr) == 1:\n",
    "        output_distr.append(1 - output_distr[0])\n",
    "    return output_distr\n",
    "\n",
    "def objective_function(params):\n",
    "    # Obtain a quantum circuit instance from the parameters\n",
    "    qc = get_var_form(params)\n",
    "    # Execute the quantum circuit to obtain the probability distribution associated with the current parameters\n",
    "    t_qc = transpile(qc, backend)\n",
    "    qobj = assemble(t_qc, shots=NUM_SHOTS)\n",
    "    result = backend.run(qobj).result()\n",
    "    # Obtain the counts for each measured state, and convert those counts into a probability vector\n",
    "    output_distr = get_probability_distribution(result.get_counts(qc))\n",
    "    # Calculate the cost as the distance between the output distribution and the target distribution\n",
    "    cost = sum([np.abs(output_distr[i] - target_distr[i]) for i in range(2)])\n",
    "    return cost\n"
   ]
  },
  {
   "cell_type": "code",
   "execution_count": null,
   "id": "3326b111",
   "metadata": {},
   "outputs": [],
   "source": [
    "from qiskit.algorithms.optimizers import COBYLA\n",
    "\n",
    "#optimizer = COBYLA()"
   ]
  },
  {
   "cell_type": "code",
   "execution_count": null,
   "id": "12a95c8d",
   "metadata": {},
   "outputs": [
    {
     "ename": "TypeError",
     "evalue": "'COBYLA' object is not callable",
     "output_type": "error",
     "traceback": [
      "\u001b[1;31m---------------------------------------------------------------------------\u001b[0m",
      "\u001b[1;31mTypeError\u001b[0m                                 Traceback (most recent call last)",
      "\u001b[1;32mc:\\Users\\shrey\\Downloads\\Markowitz_QOpt_Weights_yfinance.ipynb Cell 49\u001b[0m in \u001b[0;36m<cell line: 6>\u001b[1;34m()\u001b[0m\n\u001b[0;32m      <a href='vscode-notebook-cell:/c%3A/Users/shrey/Downloads/Markowitz_QOpt_Weights_yfinance.ipynb#Y133sZmlsZQ%3D%3D?line=0'>1</a>\u001b[0m \u001b[39m#from qiskit.aqua.components.optimizers import COBYLA\u001b[39;00m\n\u001b[0;32m      <a href='vscode-notebook-cell:/c%3A/Users/shrey/Downloads/Markowitz_QOpt_Weights_yfinance.ipynb#Y133sZmlsZQ%3D%3D?line=1'>2</a>\u001b[0m \n\u001b[0;32m      <a href='vscode-notebook-cell:/c%3A/Users/shrey/Downloads/Markowitz_QOpt_Weights_yfinance.ipynb#Y133sZmlsZQ%3D%3D?line=2'>3</a>\u001b[0m \u001b[39m# Initialize the COBYLA optimizer\u001b[39;00m\n\u001b[0;32m      <a href='vscode-notebook-cell:/c%3A/Users/shrey/Downloads/Markowitz_QOpt_Weights_yfinance.ipynb#Y133sZmlsZQ%3D%3D?line=4'>5</a>\u001b[0m cobyla \u001b[39m=\u001b[39m COBYLA()\n\u001b[1;32m----> <a href='vscode-notebook-cell:/c%3A/Users/shrey/Downloads/Markowitz_QOpt_Weights_yfinance.ipynb#Y133sZmlsZQ%3D%3D?line=5'>6</a>\u001b[0m optimizer \u001b[39m=\u001b[39m cobyla(maxiter\u001b[39m=\u001b[39;49m\u001b[39m500\u001b[39;49m, tol\u001b[39m=\u001b[39;49m\u001b[39m0.0001\u001b[39;49m)\n\u001b[0;32m      <a href='vscode-notebook-cell:/c%3A/Users/shrey/Downloads/Markowitz_QOpt_Weights_yfinance.ipynb#Y133sZmlsZQ%3D%3D?line=6'>7</a>\u001b[0m \u001b[39m#optimizer = COBYLA(maxiter=500, tol=0.0001)\u001b[39;00m\n\u001b[0;32m      <a href='vscode-notebook-cell:/c%3A/Users/shrey/Downloads/Markowitz_QOpt_Weights_yfinance.ipynb#Y133sZmlsZQ%3D%3D?line=7'>8</a>\u001b[0m \n\u001b[0;32m      <a href='vscode-notebook-cell:/c%3A/Users/shrey/Downloads/Markowitz_QOpt_Weights_yfinance.ipynb#Y133sZmlsZQ%3D%3D?line=8'>9</a>\u001b[0m \u001b[39m# Create the initial parameters (noting that our single qubit variational form has 3 parameters)\u001b[39;00m\n\u001b[0;32m     <a href='vscode-notebook-cell:/c%3A/Users/shrey/Downloads/Markowitz_QOpt_Weights_yfinance.ipynb#Y133sZmlsZQ%3D%3D?line=9'>10</a>\u001b[0m params \u001b[39m=\u001b[39m np\u001b[39m.\u001b[39mrandom\u001b[39m.\u001b[39mrand(\u001b[39m3\u001b[39m)\n",
      "\u001b[1;31mTypeError\u001b[0m: 'COBYLA' object is not callable"
     ]
    }
   ],
   "source": [
    "#from qiskit.aqua.components.optimizers import COBYLA\n",
    "\n",
    "# Initialize the COBYLA optimizer\n",
    "\n",
    "cobyla = COBYLA()\n",
    "optimizer = cobyla(maxiter=500, tol=0.0001)\n",
    "#optimizer = COBYLA(maxiter=500, tol=0.0001)\n",
    "\n",
    "# Create the initial parameters (noting that our single qubit variational form has 3 parameters)\n",
    "params = np.random.rand(3)\n",
    "ret = optimizer(num_vars=3, objective_function=objective_function, initial_point=params)\n",
    "\n",
    "# Obtain the output distribution using the final parameters\n",
    "qc = get_var_form(ret[0])\n",
    "t_qc = transpile(qc, backend)\n",
    "qobj = assemble(t_qc, shots=NUM_SHOTS)\n",
    "counts = backend.run(qobj).result().get_counts(qc)\n",
    "output_distr = get_probability_distribution(counts)\n",
    "\n",
    "print(\"Target Distribution:\", target_distr)\n",
    "print(\"Obtained Distribution:\", output_distr)\n",
    "print(\"Output Error (Manhattan Distance):\", ret[1])\n",
    "print(\"Parameters Found:\", ret[0])\n"
   ]
  },
  {
   "cell_type": "code",
   "execution_count": null,
   "id": "0f9dbab0",
   "metadata": {},
   "outputs": [
    {
     "name": "stdout",
     "output_type": "stream",
     "text": [
      "=============Linear Entanglement:=============\n"
     ]
    },
    {
     "data": {
      "text/html": [
       "<pre style=\"word-wrap: normal;white-space: pre;background: #fff0;line-height: 1.1;font-family: &quot;Courier New&quot;,Courier,monospace\">     »\n",
       "q_0: »\n",
       "     »\n",
       "q_1: »\n",
       "     »\n",
       "q_2: »\n",
       "     »\n",
       "q_3: »\n",
       "     »\n",
       "«     ┌──────────────────────────────────────────────────────────────────────────────────────────────────────────────────────────────────────────────────────────────────────────────────────────────────────┐\n",
       "«q_0: ┤0                                                                                                                                                                                                     ├\n",
       "«     │                                                                                                                                                                                                      │\n",
       "«q_1: ┤1                                                                                                                                                                                                     ├\n",
       "«     │  EfficientSU2(θ[0],θ[1],θ[2],θ[3],θ[4],θ[5],θ[6],θ[7],θ[8],θ[9],θ[10],θ[11],θ[12],θ[13],θ[14],θ[15],θ[16],θ[17],θ[18],θ[19],θ[20],θ[21],θ[22],θ[23],θ[24],θ[25],θ[26],θ[27],θ[28],θ[29],θ[30],θ[31]) │\n",
       "«q_2: ┤2                                                                                                                                                                                                     ├\n",
       "«     │                                                                                                                                                                                                      │\n",
       "«q_3: ┤3                                                                                                                                                                                                     ├\n",
       "«     └──────────────────────────────────────────────────────────────────────────────────────────────────────────────────────────────────────────────────────────────────────────────────────────────────────┘</pre>"
      ],
      "text/plain": [
       "     »\n",
       "q_0: »\n",
       "     »\n",
       "q_1: »\n",
       "     »\n",
       "q_2: »\n",
       "     »\n",
       "q_3: »\n",
       "     »\n",
       "«     ┌──────────────────────────────────────────────────────────────────────────────────────────────────────────────────────────────────────────────────────────────────────────────────────────────────────┐\n",
       "«q_0: ┤0                                                                                                                                                                                                     ├\n",
       "«     │                                                                                                                                                                                                      │\n",
       "«q_1: ┤1                                                                                                                                                                                                     ├\n",
       "«     │  EfficientSU2(θ[0],θ[1],θ[2],θ[3],θ[4],θ[5],θ[6],θ[7],θ[8],θ[9],θ[10],θ[11],θ[12],θ[13],θ[14],θ[15],θ[16],θ[17],θ[18],θ[19],θ[20],θ[21],θ[22],θ[23],θ[24],θ[25],θ[26],θ[27],θ[28],θ[29],θ[30],θ[31]) │\n",
       "«q_2: ┤2                                                                                                                                                                                                     ├\n",
       "«     │                                                                                                                                                                                                      │\n",
       "«q_3: ┤3                                                                                                                                                                                                     ├\n",
       "«     └──────────────────────────────────────────────────────────────────────────────────────────────────────────────────────────────────────────────────────────────────────────────────────────────────────┘"
      ]
     },
     "metadata": {},
     "output_type": "display_data"
    },
    {
     "name": "stdout",
     "output_type": "stream",
     "text": [
      "\n",
      "=============Full Entanglement:=============\n"
     ]
    },
    {
     "data": {
      "text/html": [
       "<pre style=\"word-wrap: normal;white-space: pre;background: #fff0;line-height: 1.1;font-family: &quot;Courier New&quot;,Courier,monospace\">     »\n",
       "q_0: »\n",
       "     »\n",
       "q_1: »\n",
       "     »\n",
       "q_2: »\n",
       "     »\n",
       "q_3: »\n",
       "     »\n",
       "«     ┌──────────────────────────────────────────────────────────────────────────────────────────────────────────────────────────────────────────────────────────────────────────────────────────────────────┐\n",
       "«q_0: ┤0                                                                                                                                                                                                     ├\n",
       "«     │                                                                                                                                                                                                      │\n",
       "«q_1: ┤1                                                                                                                                                                                                     ├\n",
       "«     │  EfficientSU2(θ[0],θ[1],θ[2],θ[3],θ[4],θ[5],θ[6],θ[7],θ[8],θ[9],θ[10],θ[11],θ[12],θ[13],θ[14],θ[15],θ[16],θ[17],θ[18],θ[19],θ[20],θ[21],θ[22],θ[23],θ[24],θ[25],θ[26],θ[27],θ[28],θ[29],θ[30],θ[31]) │\n",
       "«q_2: ┤2                                                                                                                                                                                                     ├\n",
       "«     │                                                                                                                                                                                                      │\n",
       "«q_3: ┤3                                                                                                                                                                                                     ├\n",
       "«     └──────────────────────────────────────────────────────────────────────────────────────────────────────────────────────────────────────────────────────────────────────────────────────────────────────┘</pre>"
      ],
      "text/plain": [
       "     »\n",
       "q_0: »\n",
       "     »\n",
       "q_1: »\n",
       "     »\n",
       "q_2: »\n",
       "     »\n",
       "q_3: »\n",
       "     »\n",
       "«     ┌──────────────────────────────────────────────────────────────────────────────────────────────────────────────────────────────────────────────────────────────────────────────────────────────────────┐\n",
       "«q_0: ┤0                                                                                                                                                                                                     ├\n",
       "«     │                                                                                                                                                                                                      │\n",
       "«q_1: ┤1                                                                                                                                                                                                     ├\n",
       "«     │  EfficientSU2(θ[0],θ[1],θ[2],θ[3],θ[4],θ[5],θ[6],θ[7],θ[8],θ[9],θ[10],θ[11],θ[12],θ[13],θ[14],θ[15],θ[16],θ[17],θ[18],θ[19],θ[20],θ[21],θ[22],θ[23],θ[24],θ[25],θ[26],θ[27],θ[28],θ[29],θ[30],θ[31]) │\n",
       "«q_2: ┤2                                                                                                                                                                                                     ├\n",
       "«     │                                                                                                                                                                                                      │\n",
       "«q_3: ┤3                                                                                                                                                                                                     ├\n",
       "«     └──────────────────────────────────────────────────────────────────────────────────────────────────────────────────────────────────────────────────────────────────────────────────────────────────────┘"
      ]
     },
     "metadata": {},
     "output_type": "display_data"
    },
    {
     "name": "stdout",
     "output_type": "stream",
     "text": [
      "\n"
     ]
    }
   ],
   "source": [
    "from qiskit.circuit.library import EfficientSU2\n",
    "entanglements = [\"linear\", \"full\"]\n",
    "for entanglement in entanglements:\n",
    "    form = EfficientSU2(num_qubits=4, entanglement=entanglement)\n",
    "    if entanglement == \"linear\":\n",
    "        print(\"=============Linear Entanglement:=============\")\n",
    "    else:\n",
    "        print(\"=============Full Entanglement:=============\")\n",
    "    # We initialize all parameters to 0 for this demonstration\n",
    "\n",
    "    #ansatz = EfficientSU2(num_qubits, reps=1, entanglement=\"linear\", insert_barriers=True)\n",
    "    #ansatz.draw(\"mpl\", style=\"iqx\")\n",
    "    display(form.draw(fold=100))\n",
    "    print()\n",
    "\n",
    "#ansatz = EfficientSU2(num_qubits, reps=1, entanglement=\"linear\", insert_barriers=True)\n",
    "#ansatz.draw(\"mpl\", style=\"iqx\")\n",
    "    "
   ]
  },
  {
   "cell_type": "code",
   "execution_count": null,
   "id": "e4dfb321",
   "metadata": {},
   "outputs": [
    {
     "name": "stdout",
     "output_type": "stream",
     "text": [
      "    SELECTION     VALUE    PROBABLITY\n",
      "0   [0 1 1 0] -0.191109  5.014977e-01\n",
      "1   [0 0 1 1] -0.167321  4.984897e-01\n",
      "11  [1 0 1 0] -0.105593  3.325111e-07\n",
      "6   [0 1 0 1] -0.103525  8.128636e-07\n",
      "2   [1 0 0 1] -0.018206  4.049974e-06\n",
      "4   [1 1 0 0] -0.015038  1.374422e-06\n"
     ]
    },
    {
     "data": {
      "image/png": "[encoded data removed]",
      "text/plain": [
       "<Figure size 432x288 with 1 Axes>"
      ]
     },
     "metadata": {
      "needs_background": "light"
     },
     "output_type": "display_data"
    },
    {
     "data": {
      "image/png": "[encoded data removed]",
      "text/plain": [
       "<Figure size 432x288 with 1 Axes>"
      ]
     },
     "metadata": {
      "needs_background": "light"
     },
     "output_type": "display_data"
    }
   ],
   "source": [
    "import pandas as pd\n",
    "import matplotlib.pyplot as plt\n",
    "\n",
    "df = pd.read_csv(r'C:\\Users\\shrey\\Documents\\Qiskit\\Mstockdata4_1.csv')\n",
    "df = df[df['VALUE'] == df.groupby('SELECTION')['VALUE'].transform('min')]\n",
    "\n",
    "df = df.sort_values('VALUE').drop_duplicates('SELECTION')\n",
    "df1 = df[df['VALUE'] < 0]\n",
    "print(df1)\n",
    "\n",
    "df1.to_csv(r'C:\\Users\\shrey\\Documents\\Qiskit\\Mstockdata4_1.csv')\n",
    "\n",
    "\n",
    "ax=df1. plot(kind=\"bar\", x = 'SELECTION', y = 'VALUE', color='green')\n",
    "to=plt.title('VQE-ASSET SELECTION')\n",
    "plt.setp(to, color='Black')\n",
    "\n",
    "plt.ylabel('EIGEN VALUE')\n",
    "plt.xlabel('ASSETS')\n",
    "ax.xaxis.label.set_color('Black') \n",
    "ax.yaxis.label.set_color('Black') \n",
    "ax.spines['bottom'].set_color('Black')\n",
    "ax.spines['top'].set_color('Black') \n",
    "ax.spines['right'].set_color('Black')\n",
    "ax.spines['left'].set_color('Black')\n",
    "ax.tick_params(colors='Black', which='both')\n",
    "#plt.figure(figsize=(10,5))\n",
    "plt.show()\n",
    "\n",
    "ax=df1. plot(kind=\"bar\", x = 'SELECTION', y = 'PROBABLITY', color='green')\n",
    "plt.ylabel('PROBABLITY')\n",
    "plt.xlabel('ASSETS')\n",
    "to=plt.title('VQE-ASSET SELECTION')\n",
    "plt.setp(to, color='Black')\n",
    "\n",
    "ax.xaxis.label.set_color('Black') \n",
    "ax.yaxis.label.set_color('Black') \n",
    "ax.spines['bottom'].set_color('Black')\n",
    "ax.spines['top'].set_color('Black') \n",
    "ax.spines['right'].set_color('Black')\n",
    "ax.spines['left'].set_color('Black')\n",
    "ax.tick_params(colors='Black', which='both')\n",
    "#plt.figure(figsize=(10,5))\n",
    "plt.show()"
   ]
  },
  {
   "cell_type": "code",
   "execution_count": null,
   "id": "e1e17bcb",
   "metadata": {},
   "outputs": [
    {
     "name": "stdout",
     "output_type": "stream",
     "text": [
      "Optimal: selection [0. 1. 1. 0.], value -0.1911\n",
      "\n",
      "----------------- Full result ---------------------\n",
      "selection\tvalue\t\tprobability\n",
      "---------------------------------------------------\n",
      " [1 0 0 1]\t-0.0182\t\t0.2231\n",
      " [1 1 0 0]\t-0.0150\t\t0.2033\n",
      " [0 1 0 1]\t-0.1035\t\t0.1512\n",
      " [1 0 1 0]\t-0.1056\t\t0.1436\n",
      " [0 1 1 0]\t-0.1911\t\t0.1127\n",
      " [0 0 1 1]\t-0.1673\t\t0.1065\n",
      " [1 0 0 0]\t1.6484\t\t0.0248\n",
      " [0 1 1 1]\t1.4410\t\t0.0154\n",
      " [1 0 1 1]\t1.5255\t\t0.0037\n",
      " [0 0 0 1]\t1.6030\t\t0.0035\n",
      " [1 1 1 0]\t1.5458\t\t0.0035\n",
      " [0 1 0 0]\t1.5620\t\t0.0028\n",
      " [0 0 0 0]\t6.5696\t\t0.0024\n",
      " [1 1 0 1]\t1.6194\t\t0.0017\n",
      " [1 1 1 1]\t6.4779\t\t0.0016\n",
      " [0 0 1 0]\t1.5016\t\t0.0001\n",
      "CPU times: total: 5.3 s\n",
      "Wall time: 6.73 s\n"
     ]
    }
   ],
   "source": [
    "%%time\n",
    "\n",
    "# QAOA solution\n",
    "#provide fname ='complete address/location of your .csv file'\n",
    "\n",
    "\n",
    "algorithm_globals.random_seed = 1234\n",
    "backend = Aer.get_backend(\"statevector_simulator\")\n",
    "\n",
    "cobyla = COBYLA()\n",
    "cobyla.set_options(maxiter=250)\n",
    "quantum_instance = QuantumInstance(backend=backend, shots=8192, seed_simulator=seed, seed_transpiler=seed)\n",
    "qaoa_mes = QAOA(optimizer=cobyla, reps=3, quantum_instance=quantum_instance)\n",
    "qaoa = MinimumEigenOptimizer(qaoa_mes)\n",
    "result = qaoa.solve(qp)\n",
    "\n",
    "fname = (r'C:\\Users\\shrey\\Documents\\Qiskit\\Mstockdata4_1.csv') #change the location and name of .csv file\n",
    "print_result(result, fname)\n"
   ]
  },
  {
   "cell_type": "code",
   "execution_count": null,
   "id": "9c0de3f5",
   "metadata": {},
   "outputs": [
    {
     "name": "stdout",
     "output_type": "stream",
     "text": [
      "   SELECTION     VALUE  PROBABLITY\n",
      "4  [0 1 1 0] -0.191109    0.112721\n",
      "5  [0 0 1 1] -0.167321    0.106469\n",
      "3  [1 0 1 0] -0.105593    0.143605\n",
      "2  [0 1 0 1] -0.103525    0.151238\n",
      "0  [1 0 0 1] -0.018206    0.223067\n",
      "1  [1 1 0 0] -0.015038    0.203281\n"
     ]
    },
    {
     "data": {
      "image/png": "[encoded data removed]",
      "text/plain": [
       "<Figure size 432x288 with 1 Axes>"
      ]
     },
     "metadata": {
      "needs_background": "light"
     },
     "output_type": "display_data"
    },
    {
     "data": {
      "image/png": "[encoded data removed]",
      "text/plain": [
       "<Figure size 432x288 with 1 Axes>"
      ]
     },
     "metadata": {
      "needs_background": "light"
     },
     "output_type": "display_data"
    }
   ],
   "source": [
    "import pandas as pd\n",
    "import matplotlib.pyplot as plt\n",
    "\n",
    "df = pd.read_csv(r'C:\\Users\\shrey\\Documents\\Qiskit\\Mstockdata4_1.csv')\n",
    "df = df[df['VALUE'] == df.groupby('SELECTION')['VALUE'].transform('min')]\n",
    "\n",
    "df = df.sort_values('VALUE').drop_duplicates('SELECTION')\n",
    "df1 = df[df['VALUE'] < 0]\n",
    "print(df1)\n",
    "\n",
    "df1.to_csv(r'C:\\Users\\shrey\\Documents\\Qiskit\\Mstockdata4_1.csv')\n",
    "\n",
    "\n",
    "ax=df1. plot(kind=\"bar\", x = 'SELECTION', y = 'VALUE', color='green')\n",
    "to=plt.title('QAOA-Portfolio OPtimization')\n",
    "plt.setp(to, color='Black')\n",
    "\n",
    "plt.ylabel('EIGEN VALUE')\n",
    "plt.xlabel('ASSETS')\n",
    "ax.xaxis.label.set_color('Black') \n",
    "ax.yaxis.label.set_color('Black') \n",
    "ax.spines['bottom'].set_color('Black')\n",
    "ax.spines['top'].set_color('Black') \n",
    "ax.spines['right'].set_color('Black')\n",
    "ax.spines['left'].set_color('Black')\n",
    "ax.tick_params(colors='Black', which='both')\n",
    "#plt.figure(figsize=(10,5))\n",
    "plt.show()\n",
    "\n",
    "ax=df1. plot(kind=\"bar\", x = 'SELECTION', y = 'PROBABLITY', color='green')\n",
    "plt.ylabel('PROBABLITY')\n",
    "plt.xlabel('ASSETS')\n",
    "to=plt.title('QAOA-Portfolio OPtimization')\n",
    "plt.setp(to, color='Black')\n",
    "\n",
    "ax.xaxis.label.set_color('Black') \n",
    "ax.yaxis.label.set_color('Black') \n",
    "ax.spines['bottom'].set_color('Black')\n",
    "ax.spines['top'].set_color('Black') \n",
    "ax.spines['right'].set_color('Black')\n",
    "ax.spines['left'].set_color('Black')\n",
    "ax.tick_params(colors='Black', which='both')\n",
    "#plt.figure(figsize=(10,5))\n",
    "plt.show()"
   ]
  },
  {
   "cell_type": "code",
   "execution_count": null,
   "id": "9c98e6a0",
   "metadata": {},
   "outputs": [
    {
     "name": "stdout",
     "output_type": "stream",
     "text": [
      "your lucky assets are  ['JPM', 'MSFT']\n"
     ]
    }
   ],
   "source": [
    "#weight allocation part after asset selection using quantum\n",
    "\n",
    "selected_assets = [1, 0, 1, 0]\n",
    "assets = [\"JPM\", \"GS\", \"MSFT\", \"WMT\"]\n",
    "\n",
    "selected_bitstring = [i for i, e in enumerate(selected_assets) if e == 1]\n",
    "# print(selected_bitstring)\n",
    "my_assets = [assets[i] for i in selected_bitstring]\n",
    "print(\"your lucky assets are \",my_assets)"
   ]
  },
  {
   "cell_type": "code",
   "execution_count": null,
   "id": "5d954ffe",
   "metadata": {},
   "outputs": [
    {
     "name": "stdout",
     "output_type": "stream",
     "text": [
      "[*********************100%***********************]  2 of 2 completed\n"
     ]
    },
    {
     "data": {
      "text/html": [
       "<div>\n",
       "<style scoped>\n",
       "    .dataframe tbody tr th:only-of-type {\n",
       "        vertical-align: middle;\n",
       "    }\n",
       "\n",
       "    .dataframe tbody tr th {\n",
       "        vertical-align: top;\n",
       "    }\n",
       "\n",
       "    .dataframe thead th {\n",
       "        text-align: right;\n",
       "    }\n",
       "</style>\n",
       "<table border=\"1\" class=\"dataframe\">\n",
       "  <thead>\n",
       "    <tr style=\"text-align: right;\">\n",
       "      <th></th>\n",
       "      <th>JPM</th>\n",
       "      <th>MSFT</th>\n",
       "    </tr>\n",
       "    <tr>\n",
       "      <th>Date</th>\n",
       "      <th></th>\n",
       "      <th></th>\n",
       "    </tr>\n",
       "  </thead>\n",
       "  <tbody>\n",
       "    <tr>\n",
       "      <th>2010-12-31</th>\n",
       "      <td>42.419998</td>\n",
       "      <td>27.91</td>\n",
       "    </tr>\n",
       "    <tr>\n",
       "      <th>2011-01-03</th>\n",
       "      <td>43.580002</td>\n",
       "      <td>27.98</td>\n",
       "    </tr>\n",
       "    <tr>\n",
       "      <th>2011-01-04</th>\n",
       "      <td>44.160000</td>\n",
       "      <td>28.09</td>\n",
       "    </tr>\n",
       "    <tr>\n",
       "      <th>2011-01-05</th>\n",
       "      <td>44.700001</td>\n",
       "      <td>28.00</td>\n",
       "    </tr>\n",
       "    <tr>\n",
       "      <th>2011-01-06</th>\n",
       "      <td>44.480000</td>\n",
       "      <td>28.82</td>\n",
       "    </tr>\n",
       "  </tbody>\n",
       "</table>\n",
       "</div>"
      ],
      "text/plain": [
       "                  JPM   MSFT\n",
       "Date                        \n",
       "2010-12-31  42.419998  27.91\n",
       "2011-01-03  43.580002  27.98\n",
       "2011-01-04  44.160000  28.09\n",
       "2011-01-05  44.700001  28.00\n",
       "2011-01-06  44.480000  28.82"
      ]
     },
     "execution_count": 71,
     "metadata": {},
     "output_type": "execute_result"
    }
   ],
   "source": [
    "import yfinance as yf\n",
    "import numpy as np\n",
    "selected_stocks_data = yf.download(my_assets, start = '2011-1-1', end = '2015-12-31')['Close']\n",
    "selected_stocks_data.head()"
   ]
  },
  {
   "cell_type": "code",
   "execution_count": null,
   "id": "d9f89445",
   "metadata": {},
   "outputs": [
    {
     "data": {
      "text/html": [
       "<div>\n",
       "<style scoped>\n",
       "    .dataframe tbody tr th:only-of-type {\n",
       "        vertical-align: middle;\n",
       "    }\n",
       "\n",
       "    .dataframe tbody tr th {\n",
       "        vertical-align: top;\n",
       "    }\n",
       "\n",
       "    .dataframe thead th {\n",
       "        text-align: right;\n",
       "    }\n",
       "</style>\n",
       "<table border=\"1\" class=\"dataframe\">\n",
       "  <thead>\n",
       "    <tr style=\"text-align: right;\">\n",
       "      <th></th>\n",
       "      <th>JPM</th>\n",
       "      <th>MSFT</th>\n",
       "    </tr>\n",
       "    <tr>\n",
       "      <th>Date</th>\n",
       "      <th></th>\n",
       "      <th></th>\n",
       "    </tr>\n",
       "  </thead>\n",
       "  <tbody>\n",
       "    <tr>\n",
       "      <th>2010-12-31</th>\n",
       "      <td>NaN</td>\n",
       "      <td>NaN</td>\n",
       "    </tr>\n",
       "    <tr>\n",
       "      <th>2011-01-03</th>\n",
       "      <td>0.026978</td>\n",
       "      <td>0.002505</td>\n",
       "    </tr>\n",
       "    <tr>\n",
       "      <th>2011-01-04</th>\n",
       "      <td>0.013221</td>\n",
       "      <td>0.003924</td>\n",
       "    </tr>\n",
       "    <tr>\n",
       "      <th>2011-01-05</th>\n",
       "      <td>0.012154</td>\n",
       "      <td>-0.003209</td>\n",
       "    </tr>\n",
       "    <tr>\n",
       "      <th>2011-01-06</th>\n",
       "      <td>-0.004934</td>\n",
       "      <td>0.028865</td>\n",
       "    </tr>\n",
       "  </tbody>\n",
       "</table>\n",
       "</div>"
      ],
      "text/plain": [
       "                 JPM      MSFT\n",
       "Date                          \n",
       "2010-12-31       NaN       NaN\n",
       "2011-01-03  0.026978  0.002505\n",
       "2011-01-04  0.013221  0.003924\n",
       "2011-01-05  0.012154 -0.003209\n",
       "2011-01-06 -0.004934  0.028865"
      ]
     },
     "execution_count": 72,
     "metadata": {},
     "output_type": "execute_result"
    }
   ],
   "source": [
    "log_return = np.log(selected_stocks_data/selected_stocks_data.shift(1))\n",
    "log_return.head()"
   ]
  },
  {
   "cell_type": "code",
   "execution_count": null,
   "id": "0182dc5a",
   "metadata": {},
   "outputs": [
    {
     "name": "stdout",
     "output_type": "stream",
     "text": [
      "normalised weights :\n",
      "[0.8342273 0.1657727]\n"
     ]
    }
   ],
   "source": [
    "import numpy as np\n",
    "weights = np.array(np.random.random(len(my_assets)))\n",
    "\n",
    "print('normalised weights :')\n",
    "weights = weights/np.sum(weights)\n",
    "print(weights)"
   ]
  },
  {
   "cell_type": "code",
   "execution_count": null,
   "id": "58eaf44e",
   "metadata": {},
   "outputs": [],
   "source": [
    "from scipy.optimize import minimize\n",
    "\n",
    "def get_ret_vol_sr(weights): \n",
    "    weights = np.array(weights)\n",
    "    ret = np.sum(log_return.mean() * weights) * 250\n",
    "    vol = np.sqrt(np.dot(weights.T,np.dot(log_return.cov()*252,weights)))\n",
    "    sr = ret/vol \n",
    "    return np.array(sr)\n",
    "    \n",
    "\n",
    "# minimize negative Sharpe Ratio\n",
    "def neg_sharpe(weights): \n",
    "    return get_ret_vol_sr(weights)*-1\n",
    "\n",
    "# check allocation sums to 1\n",
    "def check_sum(weights): \n",
    "    return np.sum(weights) - 1"
   ]
  },
  {
   "cell_type": "code",
   "execution_count": null,
   "id": "86452dfb",
   "metadata": {},
   "outputs": [],
   "source": [
    "# create constraint variable\n",
    "cons = ({'type':'eq','fun':check_sum})"
   ]
  },
  {
   "cell_type": "code",
   "execution_count": null,
   "id": "4fe84ba7",
   "metadata": {},
   "outputs": [],
   "source": [
    "# create weight boundaries\n",
    "bounds = tuple((0, 1) for stocks in range(len(my_assets)))"
   ]
  },
  {
   "cell_type": "code",
   "execution_count": null,
   "id": "429ad076",
   "metadata": {},
   "outputs": [],
   "source": [
    "# initial guess\n",
    "# init_guess = [0.1 for stocks in range(len(my_assets))]\n",
    "init_guess = [0.3, 0.5]\n",
    "# tuple((0, 1) for stocks in range(len(my_assets)))\n"
   ]
  },
  {
   "cell_type": "code",
   "execution_count": null,
   "id": "be0c3fb6",
   "metadata": {},
   "outputs": [
    {
     "data": {
      "text/plain": [
       "-0.3987866716511811"
      ]
     },
     "execution_count": 78,
     "metadata": {},
     "output_type": "execute_result"
    }
   ],
   "source": [
    "neg_sharpe(weights)"
   ]
  },
  {
   "cell_type": "code",
   "execution_count": null,
   "id": "2c467998",
   "metadata": {},
   "outputs": [
    {
     "data": {
      "text/plain": [
       "     fun: -0.5964980292579659\n",
       "     jac: array([ 4.23543155e-04, -4.55901027e-05])\n",
       " message: 'Optimization terminated successfully'\n",
       "    nfev: 15\n",
       "     nit: 5\n",
       "    njev: 5\n",
       "  status: 0\n",
       " success: True\n",
       "       x: array([0.09720525, 0.90279475])"
      ]
     },
     "execution_count": 79,
     "metadata": {},
     "output_type": "execute_result"
    }
   ],
   "source": [
    "#from scipy.optimize import minimize\n",
    "opt_results = minimize(neg_sharpe, init_guess, method='SLSQP', bounds=bounds, constraints=cons)\n",
    "opt_results"
   ]
  },
  {
   "cell_type": "code",
   "execution_count": null,
   "id": "500bc129",
   "metadata": {},
   "outputs": [],
   "source": [
    "my_weights = np.array(opt_results.x)\n",
    "my_weights = my_weights.tolist()"
   ]
  },
  {
   "cell_type": "code",
   "execution_count": null,
   "id": "0a96d045",
   "metadata": {},
   "outputs": [
    {
     "data": {
      "text/plain": [
       "1.0"
      ]
     },
     "execution_count": 81,
     "metadata": {},
     "output_type": "execute_result"
    }
   ],
   "source": [
    "tot_weights = np.sum(my_weights)\n",
    "tot_weights"
   ]
  },
  {
   "cell_type": "code",
   "execution_count": null,
   "id": "065c0a53",
   "metadata": {},
   "outputs": [
    {
     "data": {
      "text/plain": [
       "{'JPM': 0.09720525081276671, 'MSFT': 0.9027947491872333}"
      ]
     },
     "execution_count": 82,
     "metadata": {},
     "output_type": "execute_result"
    }
   ],
   "source": [
    "weights_alloc = dict(zip(my_assets, my_weights))\n",
    "weights_alloc"
   ]
  },
  {
   "cell_type": "code",
   "execution_count": null,
   "id": "647495ea",
   "metadata": {},
   "outputs": [
    {
     "data": {
      "text/plain": [
       "['JPM', 'MSFT']"
      ]
     },
     "execution_count": 83,
     "metadata": {},
     "output_type": "execute_result"
    }
   ],
   "source": [
    "my_assets"
   ]
  },
  {
   "cell_type": "code",
   "execution_count": null,
   "id": "bb08378a",
   "metadata": {},
   "outputs": [
    {
     "name": "stdout",
     "output_type": "stream",
     "text": [
      "sharpe ratio of your porrtfolio after optimization is  0.7049042917474866\n"
     ]
    }
   ],
   "source": [
    "ret = np.sum(log_return.mean() * my_weights) * 252 # returns of a portfolio after optimum weight allocation\n",
    "vol = np.sqrt(np.dot(weights.T,np.dot(log_return.cov()*252,my_weights))) # risk of a portfolio after optimum weight allocation\n",
    "sharpe_ratio = ret/vol # sharpe ratio of a portfolio after optimum weight allocation\n",
    "print(\"sharpe ratio of your porrtfolio after optimization is \", sharpe_ratio)\n",
    "\n",
    "risk_ret_dict_of_quantum = {\n",
    "    'returns' : ret*100,\n",
    "    'risk' : vol*100, \n",
    "    'sharpe_ratio' : sharpe_ratio \n",
    "}"
   ]
  },
  {
   "cell_type": "code",
   "execution_count": null,
   "id": "3261aafd",
   "metadata": {
    "scrolled": true
   },
   "outputs": [
    {
     "data": {
      "image/png": "[encoded data removed]",
      "text/plain": [
       "<Figure size 432x288 with 1 Axes>"
      ]
     },
     "metadata": {},
     "output_type": "display_data"
    }
   ],
   "source": [
    "import matplotlib.pyplot as plt\n",
    "import numpy as np\n",
    "\n",
    "y = np.array(my_weights)\n",
    "mylabels = my_assets\n",
    "\n",
    "plt.pie(y, labels = mylabels)\n",
    "plt.show()"
   ]
  },
  {
   "cell_type": "code",
   "execution_count": null,
   "id": "ffc8cb3c",
   "metadata": {},
   "outputs": [
    {
     "data": {
      "text/plain": [
       "{'returns': 13.58220267163445,\n",
       " 'risk': 19.268151479066205,\n",
       " 'sharpe_ratio': 0.7049042917474866}"
      ]
     },
     "execution_count": 86,
     "metadata": {},
     "output_type": "execute_result"
    }
   ],
   "source": [
    "risk_ret_dict_of_quantum"
   ]
  },
  {
   "cell_type": "code",
   "execution_count": null,
   "id": "92ecc048",
   "metadata": {},
   "outputs": [
    {
     "name": "stdout",
     "output_type": "stream",
     "text": [
      "Requirement already satisfied: pyportfolioopt in c:\\users\\shrey\\appdata\\local\\programs\\python\\python310\\lib\\site-packages (1.5.3)\n",
      "Requirement already satisfied: cvxpy<2.0.0,>=1.1.10 in c:\\users\\shrey\\appdata\\local\\programs\\python\\python310\\lib\\site-packages (from pyportfolioopt) (1.2.1)\n",
      "Requirement already satisfied: pandas>=0.19 in c:\\users\\shrey\\appdata\\local\\programs\\python\\python310\\lib\\site-packages (from pyportfolioopt) (1.4.3)\n",
      "Requirement already satisfied: numpy<2.0.0,>=1.22.4 in c:\\users\\shrey\\appdata\\local\\programs\\python\\python310\\lib\\site-packages (from pyportfolioopt) (1.23.0)\n",
      "Requirement already satisfied: scipy<2.0,>=1.3 in c:\\users\\shrey\\appdata\\local\\programs\\python\\python310\\lib\\site-packages (from pyportfolioopt) (1.8.1)\n",
      "Requirement already satisfied: scs>=1.1.6 in c:\\users\\shrey\\appdata\\local\\programs\\python\\python310\\lib\\site-packages (from cvxpy<2.0.0,>=1.1.10->pyportfolioopt) (3.2.0)\n",
      "Requirement already satisfied: osqp>=0.4.1 in c:\\users\\shrey\\appdata\\local\\programs\\python\\python310\\lib\\site-packages (from cvxpy<2.0.0,>=1.1.10->pyportfolioopt) (0.6.2.post5)\n",
      "Requirement already satisfied: ecos>=2 in c:\\users\\shrey\\appdata\\local\\programs\\python\\python310\\lib\\site-packages (from cvxpy<2.0.0,>=1.1.10->pyportfolioopt) (2.0.10)\n",
      "Requirement already satisfied: python-dateutil>=2.8.1 in c:\\users\\shrey\\appdata\\local\\programs\\python\\python310\\lib\\site-packages (from pandas>=0.19->pyportfolioopt) (2.8.2)\n",
      "Requirement already satisfied: pytz>=2020.1 in c:\\users\\shrey\\appdata\\local\\programs\\python\\python310\\lib\\site-packages (from pandas>=0.19->pyportfolioopt) (2022.1)\n",
      "Requirement already satisfied: qdldl in c:\\users\\shrey\\appdata\\local\\programs\\python\\python310\\lib\\site-packages (from osqp>=0.4.1->cvxpy<2.0.0,>=1.1.10->pyportfolioopt) (0.1.5.post2)\n",
      "Requirement already satisfied: six>=1.5 in c:\\users\\shrey\\appdata\\local\\programs\\python\\python310\\lib\\site-packages (from python-dateutil>=2.8.1->pandas>=0.19->pyportfolioopt) (1.16.0)\n"
     ]
    },
    {
     "name": "stderr",
     "output_type": "stream",
     "text": [
      "WARNING: You are using pip version 22.0.4; however, version 22.2.2 is available.\n",
      "You should consider upgrading via the 'C:\\Users\\shrey\\AppData\\Local\\Programs\\Python\\Python310\\python.exe -m pip install --upgrade pip' command.\n"
     ]
    }
   ],
   "source": [
    "!pip install pyportfolioopt"
   ]
  },
  {
   "cell_type": "code",
   "execution_count": null,
   "id": "401a5a7c",
   "metadata": {},
   "outputs": [
    {
     "name": "stdout",
     "output_type": "stream",
     "text": [
      "Requirement already satisfied: plotly in c:\\users\\shrey\\appdata\\local\\programs\\python\\python310\\lib\\site-packages (5.10.0)\n",
      "Requirement already satisfied: tenacity>=6.2.0 in c:\\users\\shrey\\appdata\\local\\programs\\python\\python310\\lib\\site-packages (from plotly) (8.1.0)\n"
     ]
    },
    {
     "name": "stderr",
     "output_type": "stream",
     "text": [
      "WARNING: You are using pip version 22.0.4; however, version 22.2.2 is available.\n",
      "You should consider upgrading via the 'C:\\Users\\shrey\\AppData\\Local\\Programs\\Python\\Python310\\python.exe -m pip install --upgrade pip' command.\n"
     ]
    }
   ],
   "source": [
    "!pip install plotly"
   ]
  },
  {
   "cell_type": "code",
   "execution_count": null,
   "id": "5127757c",
   "metadata": {},
   "outputs": [
    {
     "name": "stdout",
     "output_type": "stream",
     "text": [
      "[*********************100%***********************]  4 of 4 completed\n",
      "GS      0.029782\n",
      "JPM     0.123904\n",
      "MSFT    0.183335\n",
      "WMT     0.053947\n",
      "dtype: float64\n"
     ]
    },
    {
     "ename": "Error",
     "evalue": "rescode.err_missing_license_file(1008): License cannot be located. The default search path is ';C:\\Users\\shrey\\mosek\\mosek.lic;'.",
     "output_type": "error",
     "traceback": [
      "\u001b[1;31m---------------------------------------------------------------------------\u001b[0m",
      "\u001b[1;31mError\u001b[0m                                     Traceback (most recent call last)",
      "\u001b[1;32mc:\\Users\\shrey\\Downloads\\Markowitz_QOpt_Weights_yfinance.ipynb Cell 63\u001b[0m in \u001b[0;36m<cell line: 64>\u001b[1;34m()\u001b[0m\n\u001b[0;32m     <a href='vscode-notebook-cell:/c%3A/Users/shrey/Downloads/Markowitz_QOpt_Weights_yfinance.ipynb#Y101sZmlsZQ%3D%3D?line=60'>61</a>\u001b[0m     plt\u001b[39m.\u001b[39mtight_layout()\n\u001b[0;32m     <a href='vscode-notebook-cell:/c%3A/Users/shrey/Downloads/Markowitz_QOpt_Weights_yfinance.ipynb#Y101sZmlsZQ%3D%3D?line=61'>62</a>\u001b[0m     plt\u001b[39m.\u001b[39mshow()\n\u001b[1;32m---> <a href='vscode-notebook-cell:/c%3A/Users/shrey/Downloads/Markowitz_QOpt_Weights_yfinance.ipynb#Y101sZmlsZQ%3D%3D?line=63'>64</a>\u001b[0m plot_efficient_frontier_and_max_sharpe(mu, S)\n\u001b[0;32m     <a href='vscode-notebook-cell:/c%3A/Users/shrey/Downloads/Markowitz_QOpt_Weights_yfinance.ipynb#Y101sZmlsZQ%3D%3D?line=65'>66</a>\u001b[0m ef \u001b[39m=\u001b[39m EfficientFrontier(mu, S)\n\u001b[0;32m     <a href='vscode-notebook-cell:/c%3A/Users/shrey/Downloads/Markowitz_QOpt_Weights_yfinance.ipynb#Y101sZmlsZQ%3D%3D?line=66'>67</a>\u001b[0m ef\u001b[39m.\u001b[39mmax_sharpe(risk_free_rate\u001b[39m=\u001b[39m\u001b[39m0.02\u001b[39m)\n",
      "\u001b[1;32mc:\\Users\\shrey\\Downloads\\Markowitz_QOpt_Weights_yfinance.ipynb Cell 63\u001b[0m in \u001b[0;36mplot_efficient_frontier_and_max_sharpe\u001b[1;34m(mu, S)\u001b[0m\n\u001b[0;32m     <a href='vscode-notebook-cell:/c%3A/Users/shrey/Downloads/Markowitz_QOpt_Weights_yfinance.ipynb#Y101sZmlsZQ%3D%3D?line=43'>44</a>\u001b[0m fig, ax \u001b[39m=\u001b[39m plt\u001b[39m.\u001b[39msubplots(figsize\u001b[39m=\u001b[39m(\u001b[39m8\u001b[39m,\u001b[39m6\u001b[39m))\n\u001b[0;32m     <a href='vscode-notebook-cell:/c%3A/Users/shrey/Downloads/Markowitz_QOpt_Weights_yfinance.ipynb#Y101sZmlsZQ%3D%3D?line=44'>45</a>\u001b[0m ef_max_sharpe \u001b[39m=\u001b[39m copy\u001b[39m.\u001b[39mdeepcopy(ef)\n\u001b[1;32m---> <a href='vscode-notebook-cell:/c%3A/Users/shrey/Downloads/Markowitz_QOpt_Weights_yfinance.ipynb#Y101sZmlsZQ%3D%3D?line=45'>46</a>\u001b[0m plotting\u001b[39m.\u001b[39;49mplot_efficient_frontier(ef, ax\u001b[39m=\u001b[39;49max, show_assets\u001b[39m=\u001b[39;49m\u001b[39mFalse\u001b[39;49;00m)\n\u001b[0;32m     <a href='vscode-notebook-cell:/c%3A/Users/shrey/Downloads/Markowitz_QOpt_Weights_yfinance.ipynb#Y101sZmlsZQ%3D%3D?line=46'>47</a>\u001b[0m \u001b[39m# Find the max sharpe portfolio\u001b[39;00m\n\u001b[0;32m     <a href='vscode-notebook-cell:/c%3A/Users/shrey/Downloads/Markowitz_QOpt_Weights_yfinance.ipynb#Y101sZmlsZQ%3D%3D?line=47'>48</a>\u001b[0m ef_max_sharpe\u001b[39m.\u001b[39mmax_sharpe(risk_free_rate\u001b[39m=\u001b[39m\u001b[39m0.02\u001b[39m)\n",
      "File \u001b[1;32mc:\\Users\\shrey\\AppData\\Local\\Programs\\Python\\Python310\\lib\\site-packages\\pypfopt\\plotting.py:261\u001b[0m, in \u001b[0;36mplot_efficient_frontier\u001b[1;34m(opt, ef_param, ef_param_range, points, ax, show_assets, show_tickers, **kwargs)\u001b[0m\n\u001b[0;32m    259\u001b[0m \u001b[39melif\u001b[39;00m \u001b[39misinstance\u001b[39m(opt, EfficientFrontier):\n\u001b[0;32m    260\u001b[0m     \u001b[39mif\u001b[39;00m ef_param_range \u001b[39mis\u001b[39;00m \u001b[39mNone\u001b[39;00m:\n\u001b[1;32m--> 261\u001b[0m         ef_param_range \u001b[39m=\u001b[39m _ef_default_returns_range(opt, points)\n\u001b[0;32m    263\u001b[0m     ax \u001b[39m=\u001b[39m _plot_ef(\n\u001b[0;32m    264\u001b[0m         opt,\n\u001b[0;32m    265\u001b[0m         ef_param,\n\u001b[1;32m   (...)\u001b[0m\n\u001b[0;32m    269\u001b[0m         show_tickers\u001b[39m=\u001b[39mshow_tickers,\n\u001b[0;32m    270\u001b[0m     )\n\u001b[0;32m    271\u001b[0m \u001b[39melse\u001b[39;00m:\n",
      "File \u001b[1;32mc:\\Users\\shrey\\AppData\\Local\\Programs\\Python\\Python310\\lib\\site-packages\\pypfopt\\plotting.py:164\u001b[0m, in \u001b[0;36m_ef_default_returns_range\u001b[1;34m(ef, points)\u001b[0m\n\u001b[0;32m    162\u001b[0m ef_minvol\u001b[39m.\u001b[39mmin_volatility()\n\u001b[0;32m    163\u001b[0m min_ret \u001b[39m=\u001b[39m ef_minvol\u001b[39m.\u001b[39mportfolio_performance()[\u001b[39m0\u001b[39m]\n\u001b[1;32m--> 164\u001b[0m max_ret \u001b[39m=\u001b[39m ef_maxret\u001b[39m.\u001b[39;49m_max_return()\n\u001b[0;32m    165\u001b[0m \u001b[39mreturn\u001b[39;00m np\u001b[39m.\u001b[39mlinspace(min_ret, max_ret \u001b[39m-\u001b[39m \u001b[39m0.0001\u001b[39m, points)\n",
      "File \u001b[1;32mc:\\Users\\shrey\\AppData\\Local\\Programs\\Python\\Python310\\lib\\site-packages\\pypfopt\\efficient_frontier\\efficient_frontier.py:222\u001b[0m, in \u001b[0;36mEfficientFrontier._max_return\u001b[1;34m(self, return_value)\u001b[0m\n\u001b[0;32m    216\u001b[0m \u001b[39mself\u001b[39m\u001b[39m.\u001b[39m_objective \u001b[39m=\u001b[39m objective_functions\u001b[39m.\u001b[39mportfolio_return(\n\u001b[0;32m    217\u001b[0m     \u001b[39mself\u001b[39m\u001b[39m.\u001b[39m_w, \u001b[39mself\u001b[39m\u001b[39m.\u001b[39mexpected_returns\n\u001b[0;32m    218\u001b[0m )\n\u001b[0;32m    220\u001b[0m \u001b[39mself\u001b[39m\u001b[39m.\u001b[39madd_constraint(\u001b[39mlambda\u001b[39;00m w: cp\u001b[39m.\u001b[39msum(w) \u001b[39m==\u001b[39m \u001b[39m1\u001b[39m)\n\u001b[1;32m--> 222\u001b[0m res \u001b[39m=\u001b[39m \u001b[39mself\u001b[39;49m\u001b[39m.\u001b[39;49m_solve_cvxpy_opt_problem()\n\u001b[0;32m    224\u001b[0m \u001b[39mif\u001b[39;00m return_value:\n\u001b[0;32m    225\u001b[0m     \u001b[39mreturn\u001b[39;00m \u001b[39m-\u001b[39m\u001b[39mself\u001b[39m\u001b[39m.\u001b[39m_opt\u001b[39m.\u001b[39mvalue\n",
      "File \u001b[1;32mc:\\Users\\shrey\\AppData\\Local\\Programs\\Python\\Python310\\lib\\site-packages\\pypfopt\\base_optimizer.py:292\u001b[0m, in \u001b[0;36mBaseConvexOptimizer._solve_cvxpy_opt_problem\u001b[1;34m(self)\u001b[0m\n\u001b[0;32m    287\u001b[0m         \u001b[39mif\u001b[39;00m \u001b[39mnot\u001b[39;00m constr_ids \u001b[39m==\u001b[39m \u001b[39mself\u001b[39m\u001b[39m.\u001b[39m_initial_constraint_ids:\n\u001b[0;32m    288\u001b[0m             \u001b[39mraise\u001b[39;00m exceptions\u001b[39m.\u001b[39mInstantiationError(\n\u001b[0;32m    289\u001b[0m                 \u001b[39m\"\u001b[39m\u001b[39mThe constraints were changed after the initial optimization. \u001b[39m\u001b[39m\"\u001b[39m\n\u001b[0;32m    290\u001b[0m                 \u001b[39m\"\u001b[39m\u001b[39mPlease create a new instance instead.\u001b[39m\u001b[39m\"\u001b[39m\n\u001b[0;32m    291\u001b[0m             )\n\u001b[1;32m--> 292\u001b[0m     \u001b[39mself\u001b[39m\u001b[39m.\u001b[39m_opt\u001b[39m.\u001b[39msolve(\n\u001b[0;32m    293\u001b[0m         solver\u001b[39m=\u001b[39m\u001b[39mself\u001b[39m\u001b[39m.\u001b[39m_solver, verbose\u001b[39m=\u001b[39m\u001b[39mself\u001b[39m\u001b[39m.\u001b[39m_verbose, \u001b[39m*\u001b[39m\u001b[39m*\u001b[39m\u001b[39mself\u001b[39m\u001b[39m.\u001b[39m_solver_options\n\u001b[0;32m    294\u001b[0m     )\n\u001b[0;32m    296\u001b[0m \u001b[39mexcept\u001b[39;00m (\u001b[39mTypeError\u001b[39;00m, cp\u001b[39m.\u001b[39mDCPError) \u001b[39mas\u001b[39;00m e:\n\u001b[0;32m    297\u001b[0m     \u001b[39mraise\u001b[39;00m exceptions\u001b[39m.\u001b[39mOptimizationError \u001b[39mfrom\u001b[39;00m \u001b[39me\u001b[39;00m\n",
      "File \u001b[1;32mc:\\Users\\shrey\\AppData\\Local\\Programs\\Python\\Python310\\lib\\site-packages\\cvxpy\\problems\\problem.py:481\u001b[0m, in \u001b[0;36mProblem.solve\u001b[1;34m(self, *args, **kwargs)\u001b[0m\n\u001b[0;32m    479\u001b[0m \u001b[39melse\u001b[39;00m:\n\u001b[0;32m    480\u001b[0m     solve_func \u001b[39m=\u001b[39m Problem\u001b[39m.\u001b[39m_solve\n\u001b[1;32m--> 481\u001b[0m \u001b[39mreturn\u001b[39;00m solve_func(\u001b[39mself\u001b[39m, \u001b[39m*\u001b[39margs, \u001b[39m*\u001b[39m\u001b[39m*\u001b[39mkwargs)\n",
      "File \u001b[1;32mc:\\Users\\shrey\\AppData\\Local\\Programs\\Python\\Python310\\lib\\site-packages\\cvxpy\\problems\\problem.py:1016\u001b[0m, in \u001b[0;36mProblem._solve\u001b[1;34m(self, solver, warm_start, verbose, gp, qcp, requires_grad, enforce_dpp, ignore_dpp, **kwargs)\u001b[0m\n\u001b[0;32m   1012\u001b[0m     s\u001b[39m.\u001b[39mLOGGER\u001b[39m.\u001b[39minfo(\n\u001b[0;32m   1013\u001b[0m             \u001b[39m'\u001b[39m\u001b[39mInvoking solver \u001b[39m\u001b[39m%s\u001b[39;00m\u001b[39m  to obtain a solution.\u001b[39m\u001b[39m'\u001b[39m,\n\u001b[0;32m   1014\u001b[0m             solving_chain\u001b[39m.\u001b[39mreductions[\u001b[39m-\u001b[39m\u001b[39m1\u001b[39m]\u001b[39m.\u001b[39mname())\n\u001b[0;32m   1015\u001b[0m start \u001b[39m=\u001b[39m time\u001b[39m.\u001b[39mtime()\n\u001b[1;32m-> 1016\u001b[0m solution \u001b[39m=\u001b[39m solving_chain\u001b[39m.\u001b[39;49msolve_via_data(\n\u001b[0;32m   1017\u001b[0m     \u001b[39mself\u001b[39;49m, data, warm_start, verbose, kwargs)\n\u001b[0;32m   1018\u001b[0m end \u001b[39m=\u001b[39m time\u001b[39m.\u001b[39mtime()\n\u001b[0;32m   1019\u001b[0m \u001b[39mself\u001b[39m\u001b[39m.\u001b[39m_solve_time \u001b[39m=\u001b[39m end \u001b[39m-\u001b[39m start\n",
      "File \u001b[1;32mc:\\Users\\shrey\\AppData\\Local\\Programs\\Python\\Python310\\lib\\site-packages\\cvxpy\\reductions\\solvers\\solving_chain.py:361\u001b[0m, in \u001b[0;36mSolvingChain.solve_via_data\u001b[1;34m(self, problem, data, warm_start, verbose, solver_opts)\u001b[0m\n\u001b[0;32m    325\u001b[0m \u001b[39mdef\u001b[39;00m \u001b[39msolve_via_data\u001b[39m(\u001b[39mself\u001b[39m, problem, data, warm_start: \u001b[39mbool\u001b[39m \u001b[39m=\u001b[39m \u001b[39mFalse\u001b[39;00m, verbose: \u001b[39mbool\u001b[39m \u001b[39m=\u001b[39m \u001b[39mFalse\u001b[39;00m,\n\u001b[0;32m    326\u001b[0m                    solver_opts\u001b[39m=\u001b[39m{}):\n\u001b[0;32m    327\u001b[0m     \u001b[39m\"\"\"Solves the problem using the data output by the an apply invocation.\u001b[39;00m\n\u001b[0;32m    328\u001b[0m \n\u001b[0;32m    329\u001b[0m \u001b[39m    The semantics are:\u001b[39;00m\n\u001b[1;32m   (...)\u001b[0m\n\u001b[0;32m    359\u001b[0m \u001b[39m        a Solution object.\u001b[39;00m\n\u001b[0;32m    360\u001b[0m \u001b[39m    \"\"\"\u001b[39;00m\n\u001b[1;32m--> 361\u001b[0m     \u001b[39mreturn\u001b[39;00m \u001b[39mself\u001b[39;49m\u001b[39m.\u001b[39;49msolver\u001b[39m.\u001b[39;49msolve_via_data(data, warm_start, verbose,\n\u001b[0;32m    362\u001b[0m                                       solver_opts, problem\u001b[39m.\u001b[39;49m_solver_cache)\n",
      "File \u001b[1;32mc:\\Users\\shrey\\AppData\\Local\\Programs\\Python\\Python310\\lib\\site-packages\\cvxpy\\reductions\\solvers\\conic_solvers\\mosek_conif.py:238\u001b[0m, in \u001b[0;36mMOSEK.solve_via_data\u001b[1;34m(self, data, warm_start, verbose, solver_opts, solver_cache)\u001b[0m\n\u001b[0;32m    236\u001b[0m \u001b[39mif\u001b[39;00m save_file:\n\u001b[0;32m    237\u001b[0m     task\u001b[39m.\u001b[39mwritedata(save_file)\n\u001b[1;32m--> 238\u001b[0m task\u001b[39m.\u001b[39;49moptimize()\n\u001b[0;32m    240\u001b[0m \u001b[39mif\u001b[39;00m verbose:\n\u001b[0;32m    241\u001b[0m     task\u001b[39m.\u001b[39msolutionsummary(mosek\u001b[39m.\u001b[39mstreamtype\u001b[39m.\u001b[39mmsg)\n",
      "File \u001b[1;32mc:\\Users\\shrey\\AppData\\Local\\Programs\\Python\\Python310\\lib\\site-packages\\mosek\\__init__.py:7627\u001b[0m, in \u001b[0;36mTask.optimize\u001b[1;34m(self)\u001b[0m\n\u001b[0;32m   7625\u001b[0m \u001b[39mif\u001b[39;00m res \u001b[39m!=\u001b[39m \u001b[39m0\u001b[39m:\n\u001b[0;32m   7626\u001b[0m   result,msg \u001b[39m=\u001b[39m \u001b[39mself\u001b[39m\u001b[39m.\u001b[39m__getlasterror(res)\n\u001b[1;32m-> 7627\u001b[0m   \u001b[39mraise\u001b[39;00m Error(rescode(res),msg)\n\u001b[0;32m   7628\u001b[0m __arg1_trmcode_return_value \u001b[39m=\u001b[39m resargs\n\u001b[0;32m   7629\u001b[0m __arg1_trmcode_return_value \u001b[39m=\u001b[39m rescode(__arg1_trmcode_return_value)\n",
      "\u001b[1;31mError\u001b[0m: rescode.err_missing_license_file(1008): License cannot be located. The default search path is ';C:\\Users\\shrey\\mosek\\mosek.lic;'."
     ]
    },
    {
     "data": {
      "image/png": "[encoded data removed]",
      "text/plain": [
       "<Figure size 576x432 with 1 Axes>"
      ]
     },
     "metadata": {
      "needs_background": "light"
     },
     "output_type": "display_data"
    }
   ],
   "source": [
    "stocks_df = yf.download(stocks, start = '2011-1-1', end = '2015-12-31')['Adj Close']\n",
    "stocks_df.head()\n",
    "\n",
    "\n",
    "# !pip install pyportfolioopt\n",
    "\n",
    "\n",
    "# from pandas_datareader.data import DataReader\n",
    "import yfinance as yf\n",
    "from pypfopt.discrete_allocation import DiscreteAllocation, get_latest_prices\n",
    "from pypfopt import EfficientFrontier\n",
    "from pypfopt import risk_models\n",
    "from pypfopt import expected_returns\n",
    "from pypfopt import plotting\n",
    "import copy\n",
    "import numpy as np\n",
    "import pandas as pd\n",
    "import plotly.express as px\n",
    "import matplotlib.pyplot as plt\n",
    "import seaborn as sns\n",
    "\n",
    "\n",
    "\n",
    "mu = expected_returns.mean_historical_return(stocks_df)\n",
    "S = risk_models.sample_cov(stocks_df)\n",
    "print(mu)\n",
    "\n",
    "def plot_cum_returns(data, title):    \n",
    "    daily_cum_returns = 1 + data.dropna().pct_change()\n",
    "    daily_cum_returns = daily_cum_returns.cumprod()*100\n",
    "    fig = px.line(daily_cum_returns, title=title)\n",
    "    return fig\n",
    "    \n",
    "fig_cum_returns = plot_cum_returns(stocks_df, 'Cumulative Returns of Individual Stocks Starting with $100')\n",
    "# fig_cum_returns.show()\n",
    "\n",
    "corr_df = stocks_df.corr().round(2) # round to 2 decimal places\n",
    "fig_corr = px.imshow(corr_df, text_auto=True, title = 'Correlation between Stocks')\n",
    "# fig_corr.show()\n",
    "\n",
    "def plot_efficient_frontier_and_max_sharpe(mu, S):  \n",
    "    # Optimize portfolio for maximal Sharpe ratio \n",
    "    ef = EfficientFrontier(mu, S)\n",
    "    fig, ax = plt.subplots(figsize=(8,6))\n",
    "    ef_max_sharpe = copy.deepcopy(ef)\n",
    "    plotting.plot_efficient_frontier(ef, ax=ax, show_assets=False)\n",
    "    # Find the max sharpe portfolio\n",
    "    ef_max_sharpe.max_sharpe(risk_free_rate=0.02)\n",
    "    ret_tangent, std_tangent, _ =   ef_max_sharpe.portfolio_performance()\n",
    "    ax.scatter(std_tangent, ret_tangent, marker=\"*\", s=100, c=\"r\",     label=\"Max Sharpe\")\n",
    "# Generate random portfolios\n",
    "    n_samples = 1000\n",
    "    w = np.random.dirichlet(np.ones(ef.n_assets), n_samples)\n",
    "    rets = w.dot(ef.expected_returns)\n",
    "    stds = np.sqrt(np.diag(w @ ef.cov_matrix @ w.T))\n",
    "    sharpes = rets / stds\n",
    "    ax.scatter(stds, rets, marker=\".\", c=sharpes, cmap=\"viridis_r\")\n",
    "# Output\n",
    "    ax.set_title(\"Efficient Frontier with Random Portfolios\")\n",
    "    ax.legend()\n",
    "    plt.tight_layout()\n",
    "    plt.show()\n",
    "    \n",
    "plot_efficient_frontier_and_max_sharpe(mu, S)\n",
    "\n",
    "ef = EfficientFrontier(mu, S)\n",
    "ef.max_sharpe(risk_free_rate=0.02)\n",
    "weights = ef.clean_weights()\n",
    "print(weights)\n",
    "\n",
    "expected_annual_return, annual_volatility, sharpe_ratio = ef.portfolio_performance()\n",
    "print('Expected annual return: {}%'.format((expected_annual_return*100).round(2)))\n",
    "print('Annual volatility: {}%'.format((annual_volatility*100).round(2)))\n",
    "print('Sharpe ratio: {}'.format(sharpe_ratio.round(2)))"
   ]
  },
  {
   "cell_type": "code",
   "execution_count": null,
   "id": "ea711be0",
   "metadata": {},
   "outputs": [
    {
     "ename": "",
     "evalue": "",
     "output_type": "error",
     "traceback": [
      "\u001b[1;31mFailed to start the Kernel. \n",
      "\u001b[1;31mUnable to start Kernel 'Python 3.10.5 64-bit' due to connection timeout. \n",
      "\u001b[1;31mView Jupyter <a href='command:jupyter.viewOutput'>log</a> for further details."
     ]
    }
   ],
   "source": []
  }
 ],
 "metadata": {
  "kernelspec": {
   "display_name": "Python 3.10.5 64-bit",
   "language": "python",
   "name": "python3"
  },
  "language_info": {
   "codemirror_mode": {
    "name": "ipython",
    "version": 3
   },
   "file_extension": ".py",
   "mimetype": "text/x-python",
   "name": "python",
   "nbconvert_exporter": "python",
   "pygments_lexer": "ipython3",
   "version": "3.10.5"
  },
  "vscode": {
   "interpreter": {
    "hash": "e8bba4f2be892cbd4f39a9f240acc2c7ebb8cef7264d56c87dbb8c6b0bcbe231"
   }
  },
  "widgets": {
   "application/vnd.jupyter.widget-state+json": {
    "state": {},
    "version_major": 2,
    "version_minor": 0
   }
  }
 },
 "nbformat": 4,
 "nbformat_minor": 5
}
