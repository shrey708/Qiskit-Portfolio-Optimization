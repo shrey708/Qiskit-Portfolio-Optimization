{
  "nbformat": 4,
  "nbformat_minor": 0,
  "metadata": {
    "colab": {
      "name": "VQE_in_diff_sec.ipynb",
      "provenance": [],
      "collapsed_sections": []
    },
    "kernelspec": {
      "name": "python3",
      "display_name": "Python 3"
    },
    "language_info": {
      "name": "python"
    }
  },
  "cells": [
    {
      "cell_type": "code",
      "execution_count": 2,
      "metadata": {
        "id": "qRQT2kB6BJ3-",
        "colab": {
          "base_uri": "https://localhost:8080/"
        },
        "outputId": "a2640a85-8ee0-42bb-cae2-e7dcfd14207f"
      },
      "outputs": [
        {
          "output_type": "stream",
          "name": "stdout",
          "text": [
            "Looking in indexes: https://pypi.org/simple, https://us-python.pkg.dev/colab-wheels/public/simple/\n",
            "Collecting qiskit\n",
            "  Downloading qiskit-0.37.0.tar.gz (13 kB)\n",
            "Collecting qiskit-terra==0.21.0\n",
            "  Downloading qiskit_terra-0.21.0-cp37-cp37m-manylinux_2_17_x86_64.manylinux2014_x86_64.whl (6.7 MB)\n",
            "\u001b[K     |████████████████████████████████| 6.7 MB 7.7 MB/s \n",
            "\u001b[?25hCollecting qiskit-aer==0.10.4\n",
            "  Downloading qiskit_aer-0.10.4-cp37-cp37m-manylinux_2_12_x86_64.manylinux2010_x86_64.whl (18.0 MB)\n",
            "\u001b[K     |████████████████████████████████| 18.0 MB 45.5 MB/s \n",
            "\u001b[?25hCollecting qiskit-ibmq-provider==0.19.2\n",
            "  Downloading qiskit_ibmq_provider-0.19.2-py3-none-any.whl (240 kB)\n",
            "\u001b[K     |████████████████████████████████| 240 kB 57.8 MB/s \n",
            "\u001b[?25hRequirement already satisfied: scipy>=1.0 in /usr/local/lib/python3.7/dist-packages (from qiskit-aer==0.10.4->qiskit) (1.4.1)\n",
            "Requirement already satisfied: numpy>=1.16.3 in /usr/local/lib/python3.7/dist-packages (from qiskit-aer==0.10.4->qiskit) (1.21.6)\n",
            "Collecting requests-ntlm>=1.1.0\n",
            "  Downloading requests_ntlm-1.1.0-py2.py3-none-any.whl (5.7 kB)\n",
            "Requirement already satisfied: requests>=2.19 in /usr/local/lib/python3.7/dist-packages (from qiskit-ibmq-provider==0.19.2->qiskit) (2.23.0)\n",
            "Collecting websocket-client>=1.0.1\n",
            "  Downloading websocket_client-1.3.3-py3-none-any.whl (54 kB)\n",
            "\u001b[K     |████████████████████████████████| 54 kB 3.2 MB/s \n",
            "\u001b[?25hCollecting websockets>=10.0\n",
            "  Downloading websockets-10.3-cp37-cp37m-manylinux_2_5_x86_64.manylinux1_x86_64.manylinux_2_12_x86_64.manylinux2010_x86_64.whl (112 kB)\n",
            "\u001b[K     |████████████████████████████████| 112 kB 71.0 MB/s \n",
            "\u001b[?25hRequirement already satisfied: urllib3>=1.21.1 in /usr/local/lib/python3.7/dist-packages (from qiskit-ibmq-provider==0.19.2->qiskit) (1.24.3)\n",
            "Requirement already satisfied: python-dateutil>=2.8.0 in /usr/local/lib/python3.7/dist-packages (from qiskit-ibmq-provider==0.19.2->qiskit) (2.8.2)\n",
            "Requirement already satisfied: sympy>=1.3 in /usr/local/lib/python3.7/dist-packages (from qiskit-terra==0.21.0->qiskit) (1.7.1)\n",
            "Requirement already satisfied: dill>=0.3 in /usr/local/lib/python3.7/dist-packages (from qiskit-terra==0.21.0->qiskit) (0.3.5.1)\n",
            "Collecting ply>=3.10\n",
            "  Downloading ply-3.11-py2.py3-none-any.whl (49 kB)\n",
            "\u001b[K     |████████████████████████████████| 49 kB 6.5 MB/s \n",
            "\u001b[?25hCollecting stevedore>=3.0.0\n",
            "  Downloading stevedore-3.5.0-py3-none-any.whl (49 kB)\n",
            "\u001b[K     |████████████████████████████████| 49 kB 5.5 MB/s \n",
            "\u001b[?25hCollecting shared-memory38\n",
            "  Downloading shared_memory38-0.1.2-cp37-cp37m-manylinux_2_5_x86_64.manylinux1_x86_64.whl (25 kB)\n",
            "Requirement already satisfied: typing-extensions in /usr/local/lib/python3.7/dist-packages (from qiskit-terra==0.21.0->qiskit) (4.1.1)\n",
            "Collecting symengine>=0.9\n",
            "  Downloading symengine-0.9.2-cp37-cp37m-manylinux2010_x86_64.whl (37.5 MB)\n",
            "\u001b[K     |████████████████████████████████| 37.5 MB 47 kB/s \n",
            "\u001b[?25hRequirement already satisfied: psutil>=5 in /usr/local/lib/python3.7/dist-packages (from qiskit-terra==0.21.0->qiskit) (5.4.8)\n",
            "Collecting tweedledum<2.0,>=1.1\n",
            "  Downloading tweedledum-1.1.1-cp37-cp37m-manylinux_2_12_x86_64.manylinux2010_x86_64.whl (943 kB)\n",
            "\u001b[K     |████████████████████████████████| 943 kB 59.1 MB/s \n",
            "\u001b[?25hCollecting scipy>=1.0\n",
            "  Downloading scipy-1.7.3-cp37-cp37m-manylinux_2_12_x86_64.manylinux2010_x86_64.whl (38.1 MB)\n",
            "\u001b[K     |████████████████████████████████| 38.1 MB 1.1 MB/s \n",
            "\u001b[?25hCollecting retworkx>=0.11.0\n",
            "  Downloading retworkx-0.11.0-cp37-cp37m-manylinux_2_5_x86_64.manylinux1_x86_64.manylinux_2_12_x86_64.manylinux2010_x86_64.whl (1.6 MB)\n",
            "\u001b[K     |████████████████████████████████| 1.6 MB 41.2 MB/s \n",
            "\u001b[?25hRequirement already satisfied: six>=1.5 in /usr/local/lib/python3.7/dist-packages (from python-dateutil>=2.8.0->qiskit-ibmq-provider==0.19.2->qiskit) (1.15.0)\n",
            "Requirement already satisfied: chardet<4,>=3.0.2 in /usr/local/lib/python3.7/dist-packages (from requests>=2.19->qiskit-ibmq-provider==0.19.2->qiskit) (3.0.4)\n",
            "Requirement already satisfied: idna<3,>=2.5 in /usr/local/lib/python3.7/dist-packages (from requests>=2.19->qiskit-ibmq-provider==0.19.2->qiskit) (2.10)\n",
            "Requirement already satisfied: certifi>=2017.4.17 in /usr/local/lib/python3.7/dist-packages (from requests>=2.19->qiskit-ibmq-provider==0.19.2->qiskit) (2022.6.15)\n",
            "Collecting cryptography>=1.3\n",
            "  Downloading cryptography-37.0.4-cp36-abi3-manylinux_2_24_x86_64.whl (4.1 MB)\n",
            "\u001b[K     |████████████████████████████████| 4.1 MB 38.3 MB/s \n",
            "\u001b[?25hCollecting ntlm-auth>=1.0.2\n",
            "  Downloading ntlm_auth-1.5.0-py2.py3-none-any.whl (29 kB)\n",
            "Requirement already satisfied: cffi>=1.12 in /usr/local/lib/python3.7/dist-packages (from cryptography>=1.3->requests-ntlm>=1.1.0->qiskit-ibmq-provider==0.19.2->qiskit) (1.15.0)\n",
            "Requirement already satisfied: pycparser in /usr/local/lib/python3.7/dist-packages (from cffi>=1.12->cryptography>=1.3->requests-ntlm>=1.1.0->qiskit-ibmq-provider==0.19.2->qiskit) (2.21)\n",
            "Requirement already satisfied: importlib-metadata>=1.7.0 in /usr/local/lib/python3.7/dist-packages (from stevedore>=3.0.0->qiskit-terra==0.21.0->qiskit) (4.11.4)\n",
            "Collecting pbr!=2.1.0,>=2.0.0\n",
            "  Downloading pbr-5.9.0-py2.py3-none-any.whl (112 kB)\n",
            "\u001b[K     |████████████████████████████████| 112 kB 55.1 MB/s \n",
            "\u001b[?25hRequirement already satisfied: zipp>=0.5 in /usr/local/lib/python3.7/dist-packages (from importlib-metadata>=1.7.0->stevedore>=3.0.0->qiskit-terra==0.21.0->qiskit) (3.8.0)\n",
            "Requirement already satisfied: mpmath>=0.19 in /usr/local/lib/python3.7/dist-packages (from sympy>=1.3->qiskit-terra==0.21.0->qiskit) (1.2.1)\n",
            "Building wheels for collected packages: qiskit\n",
            "  Building wheel for qiskit (setup.py) ... \u001b[?25l\u001b[?25hdone\n",
            "  Created wheel for qiskit: filename=qiskit-0.37.0-py3-none-any.whl size=12028 sha256=9c73867eddbec3cb88ad75b41a11420b9ff1c9626e1d13043fe5fcae0f428e65\n",
            "  Stored in directory: /root/.cache/pip/wheels/ed/f9/fa/3ed81abb79590bf4c0432e7816bcdf3f0dbd1ba5aeb3eeddf7\n",
            "Successfully built qiskit\n",
            "Installing collected packages: pbr, tweedledum, symengine, stevedore, shared-memory38, scipy, retworkx, ply, ntlm-auth, cryptography, websockets, websocket-client, requests-ntlm, qiskit-terra, qiskit-ibmq-provider, qiskit-aer, qiskit\n",
            "  Attempting uninstall: scipy\n",
            "    Found existing installation: scipy 1.4.1\n",
            "    Uninstalling scipy-1.4.1:\n",
            "      Successfully uninstalled scipy-1.4.1\n",
            "\u001b[31mERROR: pip's dependency resolver does not currently take into account all the packages that are installed. This behaviour is the source of the following dependency conflicts.\n",
            "albumentations 0.1.12 requires imgaug<0.2.7,>=0.2.5, but you have imgaug 0.2.9 which is incompatible.\u001b[0m\n",
            "Successfully installed cryptography-37.0.4 ntlm-auth-1.5.0 pbr-5.9.0 ply-3.11 qiskit-0.37.0 qiskit-aer-0.10.4 qiskit-ibmq-provider-0.19.2 qiskit-terra-0.21.0 requests-ntlm-1.1.0 retworkx-0.11.0 scipy-1.7.3 shared-memory38-0.1.2 stevedore-3.5.0 symengine-0.9.2 tweedledum-1.1.1 websocket-client-1.3.3 websockets-10.3\n"
          ]
        }
      ],
      "source": [
        "pip install qiskit"
      ]
    },
    {
      "cell_type": "code",
      "source": [
        "pip install qiskit_finance"
      ],
      "metadata": {
        "id": "moAc1u8NBTtD",
        "colab": {
          "base_uri": "https://localhost:8080/"
        },
        "outputId": "86bee035-d228-442d-fc7b-dc1f6f92bf5e"
      },
      "execution_count": 3,
      "outputs": [
        {
          "output_type": "stream",
          "name": "stdout",
          "text": [
            "Looking in indexes: https://pypi.org/simple, https://us-python.pkg.dev/colab-wheels/public/simple/\n",
            "Collecting qiskit_finance\n",
            "  Downloading qiskit_finance-0.3.3-py3-none-any.whl (50 kB)\n",
            "\u001b[K     |████████████████████████████████| 50 kB 5.9 MB/s \n",
            "\u001b[?25hRequirement already satisfied: scikit-learn>=0.20.0 in /usr/local/lib/python3.7/dist-packages (from qiskit_finance) (1.0.2)\n",
            "Requirement already satisfied: scipy>=1.4 in /usr/local/lib/python3.7/dist-packages (from qiskit_finance) (1.7.3)\n",
            "Requirement already satisfied: setuptools>=40.1.0 in /usr/local/lib/python3.7/dist-packages (from qiskit_finance) (57.4.0)\n",
            "Requirement already satisfied: pandas in /usr/local/lib/python3.7/dist-packages (from qiskit_finance) (1.3.5)\n",
            "Requirement already satisfied: fastdtw in /usr/local/lib/python3.7/dist-packages (from qiskit_finance) (0.3.4)\n",
            "Requirement already satisfied: qiskit-terra>=0.17.0 in /usr/local/lib/python3.7/dist-packages (from qiskit_finance) (0.21.0)\n",
            "Collecting qiskit-optimization>=0.2.0\n",
            "  Downloading qiskit_optimization-0.4.0-py3-none-any.whl (159 kB)\n",
            "\u001b[K     |████████████████████████████████| 159 kB 12.1 MB/s \n",
            "\u001b[?25hCollecting yfinance>=0.1.70\n",
            "  Downloading yfinance-0.1.72-py2.py3-none-any.whl (27 kB)\n",
            "Collecting quandl\n",
            "  Downloading Quandl-3.7.0-py2.py3-none-any.whl (26 kB)\n",
            "Requirement already satisfied: psutil>=5 in /usr/local/lib/python3.7/dist-packages (from qiskit_finance) (5.4.8)\n",
            "Requirement already satisfied: numpy>=1.17 in /usr/local/lib/python3.7/dist-packages (from qiskit_finance) (1.21.6)\n",
            "Requirement already satisfied: networkx>=2.2 in /usr/local/lib/python3.7/dist-packages (from qiskit-optimization>=0.2.0->qiskit_finance) (2.6.3)\n",
            "Collecting docplex>=2.21.207\n",
            "  Downloading docplex-2.23.222.tar.gz (610 kB)\n",
            "\u001b[K     |████████████████████████████████| 610 kB 57.0 MB/s \n",
            "\u001b[?25hRequirement already satisfied: six in /usr/local/lib/python3.7/dist-packages (from docplex>=2.21.207->qiskit-optimization>=0.2.0->qiskit_finance) (1.15.0)\n",
            "Requirement already satisfied: python-dateutil>=2.8.0 in /usr/local/lib/python3.7/dist-packages (from qiskit-terra>=0.17.0->qiskit_finance) (2.8.2)\n",
            "Requirement already satisfied: stevedore>=3.0.0 in /usr/local/lib/python3.7/dist-packages (from qiskit-terra>=0.17.0->qiskit_finance) (3.5.0)\n",
            "Requirement already satisfied: dill>=0.3 in /usr/local/lib/python3.7/dist-packages (from qiskit-terra>=0.17.0->qiskit_finance) (0.3.5.1)\n",
            "Requirement already satisfied: retworkx>=0.11.0 in /usr/local/lib/python3.7/dist-packages (from qiskit-terra>=0.17.0->qiskit_finance) (0.11.0)\n",
            "Requirement already satisfied: ply>=3.10 in /usr/local/lib/python3.7/dist-packages (from qiskit-terra>=0.17.0->qiskit_finance) (3.11)\n",
            "Requirement already satisfied: shared-memory38 in /usr/local/lib/python3.7/dist-packages (from qiskit-terra>=0.17.0->qiskit_finance) (0.1.2)\n",
            "Requirement already satisfied: sympy>=1.3 in /usr/local/lib/python3.7/dist-packages (from qiskit-terra>=0.17.0->qiskit_finance) (1.7.1)\n",
            "Requirement already satisfied: tweedledum<2.0,>=1.1 in /usr/local/lib/python3.7/dist-packages (from qiskit-terra>=0.17.0->qiskit_finance) (1.1.1)\n",
            "Requirement already satisfied: symengine>=0.9 in /usr/local/lib/python3.7/dist-packages (from qiskit-terra>=0.17.0->qiskit_finance) (0.9.2)\n",
            "Requirement already satisfied: typing-extensions in /usr/local/lib/python3.7/dist-packages (from qiskit-terra>=0.17.0->qiskit_finance) (4.1.1)\n",
            "Requirement already satisfied: threadpoolctl>=2.0.0 in /usr/local/lib/python3.7/dist-packages (from scikit-learn>=0.20.0->qiskit_finance) (3.1.0)\n",
            "Requirement already satisfied: joblib>=0.11 in /usr/local/lib/python3.7/dist-packages (from scikit-learn>=0.20.0->qiskit_finance) (1.1.0)\n",
            "Requirement already satisfied: importlib-metadata>=1.7.0 in /usr/local/lib/python3.7/dist-packages (from stevedore>=3.0.0->qiskit-terra>=0.17.0->qiskit_finance) (4.11.4)\n",
            "Requirement already satisfied: pbr!=2.1.0,>=2.0.0 in /usr/local/lib/python3.7/dist-packages (from stevedore>=3.0.0->qiskit-terra>=0.17.0->qiskit_finance) (5.9.0)\n",
            "Requirement already satisfied: zipp>=0.5 in /usr/local/lib/python3.7/dist-packages (from importlib-metadata>=1.7.0->stevedore>=3.0.0->qiskit-terra>=0.17.0->qiskit_finance) (3.8.0)\n",
            "Requirement already satisfied: mpmath>=0.19 in /usr/local/lib/python3.7/dist-packages (from sympy>=1.3->qiskit-terra>=0.17.0->qiskit_finance) (1.2.1)\n",
            "Requirement already satisfied: multitasking>=0.0.7 in /usr/local/lib/python3.7/dist-packages (from yfinance>=0.1.70->qiskit_finance) (0.0.10)\n",
            "Collecting requests>=2.26\n",
            "  Downloading requests-2.28.1-py3-none-any.whl (62 kB)\n",
            "\u001b[K     |████████████████████████████████| 62 kB 1.7 MB/s \n",
            "\u001b[?25hCollecting lxml>=4.5.1\n",
            "  Downloading lxml-4.9.1-cp37-cp37m-manylinux_2_17_x86_64.manylinux2014_x86_64.manylinux_2_24_x86_64.whl (6.4 MB)\n",
            "\u001b[K     |████████████████████████████████| 6.4 MB 44.8 MB/s \n",
            "\u001b[?25hRequirement already satisfied: pytz>=2017.3 in /usr/local/lib/python3.7/dist-packages (from pandas->qiskit_finance) (2022.1)\n",
            "Requirement already satisfied: idna<4,>=2.5 in /usr/local/lib/python3.7/dist-packages (from requests>=2.26->yfinance>=0.1.70->qiskit_finance) (2.10)\n",
            "Requirement already satisfied: urllib3<1.27,>=1.21.1 in /usr/local/lib/python3.7/dist-packages (from requests>=2.26->yfinance>=0.1.70->qiskit_finance) (1.24.3)\n",
            "Requirement already satisfied: charset-normalizer<3,>=2 in /usr/local/lib/python3.7/dist-packages (from requests>=2.26->yfinance>=0.1.70->qiskit_finance) (2.1.0)\n",
            "Requirement already satisfied: certifi>=2017.4.17 in /usr/local/lib/python3.7/dist-packages (from requests>=2.26->yfinance>=0.1.70->qiskit_finance) (2022.6.15)\n",
            "Collecting inflection>=0.3.1\n",
            "  Downloading inflection-0.5.1-py2.py3-none-any.whl (9.5 kB)\n",
            "Requirement already satisfied: more-itertools in /usr/local/lib/python3.7/dist-packages (from quandl->qiskit_finance) (8.13.0)\n",
            "Building wheels for collected packages: docplex\n",
            "  Building wheel for docplex (setup.py) ... \u001b[?25l\u001b[?25hdone\n",
            "  Created wheel for docplex: filename=docplex-2.23.222-py3-none-any.whl size=662847 sha256=b9b72823fe5f66985f0077dcafc6155e8548e5ab7b28e9fcad5b3bd23ab3ff3d\n",
            "  Stored in directory: /root/.cache/pip/wheels/a7/c9/fb/cee5a89f304e77a39c466e625ac2830434b76eb8384999d116\n",
            "Successfully built docplex\n",
            "Installing collected packages: requests, lxml, inflection, docplex, yfinance, quandl, qiskit-optimization, qiskit-finance\n",
            "  Attempting uninstall: requests\n",
            "    Found existing installation: requests 2.23.0\n",
            "    Uninstalling requests-2.23.0:\n",
            "      Successfully uninstalled requests-2.23.0\n",
            "  Attempting uninstall: lxml\n",
            "    Found existing installation: lxml 4.2.6\n",
            "    Uninstalling lxml-4.2.6:\n",
            "      Successfully uninstalled lxml-4.2.6\n",
            "\u001b[31mERROR: pip's dependency resolver does not currently take into account all the packages that are installed. This behaviour is the source of the following dependency conflicts.\n",
            "google-colab 1.0.0 requires requests~=2.23.0, but you have requests 2.28.1 which is incompatible.\n",
            "datascience 0.10.6 requires folium==0.2.1, but you have folium 0.8.3 which is incompatible.\u001b[0m\n",
            "Successfully installed docplex-2.23.222 inflection-0.5.1 lxml-4.9.1 qiskit-finance-0.3.3 qiskit-optimization-0.4.0 quandl-3.7.0 requests-2.28.1 yfinance-0.1.72\n"
          ]
        }
      ]
    },
    {
      "cell_type": "code",
      "source": [
        "#importing the required stuff\n",
        "\n",
        "from qiskit import Aer\n",
        "from qiskit.algorithms import VQE, QAOA, NumPyMinimumEigensolver\n",
        "from qiskit.algorithms.optimizers import COBYLA\n",
        "from qiskit.circuit.library import TwoLocal\n",
        "from qiskit.utils import QuantumInstance\n",
        "from qiskit_finance.applications.optimization import PortfolioOptimization\n",
        "from qiskit_finance.data_providers import *\n",
        "from qiskit_optimization.algorithms import MinimumEigenOptimizer\n",
        "from qiskit_optimization.applications import OptimizationApplication\n",
        "from qiskit_optimization.converters import QuadraticProgramToQubo\n",
        "import numpy as np\n",
        "import matplotlib.pyplot as plt\n",
        "import datetime\n"
      ],
      "metadata": {
        "id": "C8C5jonJBWbr"
      },
      "execution_count": 4,
      "outputs": []
    },
    {
      "cell_type": "code",
      "source": [
        "%matplotlib inline\n",
        "from qiskit_finance import QiskitFinanceError\n",
        "from qiskit_finance.data_providers import *\n",
        "import datetime\n",
        "import matplotlib.pyplot as plt\n",
        "from pandas.plotting import register_matplotlib_converters\n",
        "\n",
        "register_matplotlib_converters()\n"
      ],
      "metadata": {
        "id": "C6xpBftoBYLU"
      },
      "execution_count": 5,
      "outputs": []
    },
    {
      "cell_type": "code",
      "source": [
        "# set number of assets (= number of qubits)\n",
        "num_assets = 4\n",
        "seed = 1234\n",
        "\n",
        "# Generate expected return and covariance matrix from (random) time-series\n",
        "#stocks = [(\"TICKER%s\" % i) for i in range(num_assets)]\n",
        "# data = RandomDataProvider(\n",
        "#     tickers=stocks,\n",
        "#     start=datetime.datetime(2016, 1, 1),\n",
        "#     end=datetime.datetime(2016, 1, 30),\n",
        "#     seed=seed,\n",
        "# )\n",
        "\n",
        "\n",
        "\n",
        "#### Using data from yahoo finance\n",
        "data = YahooDataProvider(\n",
        "        tickers=[\"PINS\",\"TWTR\",\"META\",\"SNAP\"],\n",
        "        start=datetime.datetime(2019, 9, 1),\n",
        "        end=datetime.datetime(2021, 12, 1),\n",
        "    )\n",
        "data.run()\n",
        "mu = data.get_period_return_mean_vector()\n",
        "sigma = data.get_period_return_covariance_matrix()\n"
      ],
      "metadata": {
        "id": "We4UG2UMBaSF"
      },
      "execution_count": 6,
      "outputs": []
    },
    {
      "cell_type": "code",
      "source": [
        "# plot sigma\n",
        "plt.imshow(sigma, interpolation=\"nearest\")\n",
        "plt.show()\n"
      ],
      "metadata": {
        "colab": {
          "base_uri": "https://localhost:8080/",
          "height": 269
        },
        "id": "a_WTlS1FCW5J",
        "outputId": "cc4c8f65-875a-404b-e56c-5f4cf622412d"
      },
      "execution_count": 7,
      "outputs": [
        {
          "output_type": "display_data",
          "data": {
            "text/plain": [
              "<Figure size 432x288 with 1 Axes>"
            ],
            "image/png": "[encoded data removed]"
          },
          "metadata": {
            "needs_background": "light"
          }
        }
      ]
    },
    {
      "cell_type": "code",
      "source": [
        "q = 0.5  # set risk factor\n",
        "budget = num_assets // 4  # set budget\n",
        "penalty = num_assets  # set parameter to scale the budget penalty term\n",
        "\n",
        "portfolio = PortfolioOptimization(\n",
        "    expected_returns=mu, covariances=sigma, risk_factor=q, budget=budget\n",
        ")\n",
        "qp = portfolio.to_quadratic_program()\n",
        "qp"
      ],
      "metadata": {
        "colab": {
          "base_uri": "https://localhost:8080/"
        },
        "id": "E0OkV1hQCeNO",
        "outputId": "fa95e202-226d-42a2-c2cb-9bc4775d811d"
      },
      "execution_count": 8,
      "outputs": [
        {
          "output_type": "execute_result",
          "data": {
            "text/plain": [
              "<QuadraticProgram: minimize 0.0009539800972263747*x_0^2 + 0.000747755863371199..., 4 variables, 1 constraints, 'Portfolio optimization'>"
            ]
          },
          "metadata": {},
          "execution_count": 8
        }
      ]
    },
    {
      "cell_type": "code",
      "source": [
        "def index_to_selection(i, num_assets):\n",
        "    s = \"{0:b}\".format(i).rjust(num_assets)\n",
        "    x = np.array([1 if s[i] == \"1\" else 0 for i in reversed(range(num_assets))])\n",
        "    return x\n",
        "\n",
        "\n",
        "def print_result(result):\n",
        "    selection = result.x\n",
        "    value = result.fval\n",
        "    print(\"Optimal: selection {}, value {:.4f}\".format(selection, value))\n",
        "\n",
        "    eigenstate = result.min_eigen_solver_result.eigenstate\n",
        "    eigenvector = eigenstate if isinstance(eigenstate, np.ndarray) else eigenstate.to_matrix()\n",
        "    probabilities = np.abs(eigenvector) ** 2\n",
        "    i_sorted = reversed(np.argsort(probabilities))\n",
        "    print(\"\\n----------------- Full result ---------------------\")\n",
        "    print(\"selection\\tvalue\\t\\tprobability\")\n",
        "    print(\"---------------------------------------------------\")\n",
        "    for i in i_sorted:\n",
        "        x = index_to_selection(i, num_assets)\n",
        "        value = QuadraticProgramToQubo().convert(qp).objective.evaluate(x)\n",
        "        # value = portfolio.to_quadratic_program().objective.evaluate(x)\n",
        "        probability = probabilities[i]\n",
        "        print(\"%10s\\t%.4f\\t\\t%.4f\" % (x, value, probability))\n"
      ],
      "metadata": {
        "id": "K2x0BNMKDyBk"
      },
      "execution_count": 9,
      "outputs": []
    },
    {
      "cell_type": "code",
      "source": [
        "\n",
        "#classical reference solution\n",
        "\n",
        "exact_mes = NumPyMinimumEigensolver()\n",
        "exact_eigensolver = MinimumEigenOptimizer(exact_mes)\n",
        "\n",
        "result = exact_eigensolver.solve(qp)\n",
        "\n",
        "print_result(result)"
      ],
      "metadata": {
        "colab": {
          "base_uri": "https://localhost:8080/"
        },
        "id": "mP-eAzzHECdW",
        "outputId": "769c3dda-5cc0-4375-c245-aba3f3116b29"
      },
      "execution_count": 10,
      "outputs": [
        {
          "output_type": "stream",
          "name": "stdout",
          "text": [
            "Optimal: selection [0. 0. 0. 1.], value -0.0019\n",
            "\n",
            "----------------- Full result ---------------------\n",
            "selection\tvalue\t\tprobability\n",
            "---------------------------------------------------\n",
            " [0 0 0 1]\t-0.0019\t\t1.0000\n",
            " [1 1 1 1]\t9.1135\t\t0.0000\n",
            " [0 1 1 1]\t4.0488\t\t0.0000\n",
            " [1 0 1 1]\t4.0489\t\t0.0000\n",
            " [0 0 1 1]\t1.0101\t\t0.0000\n",
            " [1 1 0 1]\t4.0503\t\t0.0000\n",
            " [0 1 0 1]\t1.0113\t\t0.0000\n",
            " [1 0 0 1]\t1.0113\t\t0.0000\n",
            " [1 1 1 0]\t4.0505\t\t0.0000\n",
            " [0 1 1 0]\t1.0119\t\t0.0000\n",
            " [1 0 1 0]\t1.0118\t\t0.0000\n",
            " [0 0 1 0]\t-0.0010\t\t0.0000\n",
            " [1 1 0 0]\t1.0129\t\t0.0000\n",
            " [0 1 0 0]\t-0.0001\t\t0.0000\n",
            " [1 0 0 0]\t-0.0003\t\t0.0000\n",
            " [0 0 0 0]\t1.0125\t\t0.0000\n"
          ]
        }
      ]
    },
    {
      "cell_type": "code",
      "source": [
        "from qiskit.utils import algorithm_globals\n",
        "\n",
        "algorithm_globals.random_seed = 1234\n",
        "backend = Aer.get_backend(\"statevector_simulator\")\n",
        "\n",
        "cobyla = COBYLA()\n",
        "cobyla.set_options(maxiter=500)\n",
        "ry = TwoLocal(num_assets, \"ry\", \"cz\", reps=3, entanglement=\"full\")\n",
        "quantum_instance = QuantumInstance(backend=backend, seed_simulator=seed, seed_transpiler=seed)\n",
        "vqe_mes = VQE(ry, optimizer=cobyla, quantum_instance=quantum_instance)\n",
        "vqe = MinimumEigenOptimizer(vqe_mes)\n",
        "result = vqe.solve(qp)\n",
        "\n",
        "print_result(result)"
      ],
      "metadata": {
        "colab": {
          "base_uri": "https://localhost:8080/"
        },
        "id": "fUeAcMDJGRM8",
        "outputId": "5959125d-ac39-401c-a02e-b201f9165a96"
      },
      "execution_count": 11,
      "outputs": [
        {
          "output_type": "stream",
          "name": "stdout",
          "text": [
            "Optimal: selection [0. 0. 0. 1.], value -0.0019\n",
            "\n",
            "----------------- Full result ---------------------\n",
            "selection\tvalue\t\tprobability\n",
            "---------------------------------------------------\n",
            " [0 1 0 0]\t-0.0001\t\t0.8609\n",
            " [0 0 0 1]\t-0.0019\t\t0.1345\n",
            " [1 0 0 0]\t-0.0003\t\t0.0046\n",
            " [0 1 0 1]\t1.0113\t\t0.0000\n",
            " [0 0 1 0]\t-0.0010\t\t0.0000\n",
            " [0 1 1 0]\t1.0119\t\t0.0000\n",
            " [1 1 0 0]\t1.0129\t\t0.0000\n",
            " [1 0 1 1]\t4.0489\t\t0.0000\n",
            " [1 0 1 0]\t1.0118\t\t0.0000\n",
            " [0 0 1 1]\t1.0101\t\t0.0000\n",
            " [1 1 1 0]\t4.0505\t\t0.0000\n",
            " [0 0 0 0]\t1.0125\t\t0.0000\n",
            " [1 1 0 1]\t4.0503\t\t0.0000\n",
            " [1 1 1 1]\t9.1135\t\t0.0000\n",
            " [0 1 1 1]\t4.0488\t\t0.0000\n",
            " [1 0 0 1]\t1.0113\t\t0.0000\n"
          ]
        }
      ]
    },
    {
      "cell_type": "code",
      "source": [
        "##VQE SOln\n",
        "from qiskit.utils import algorithm_globals\n",
        "\n",
        "algorithm_globals.random_seed = 1234\n",
        "backend = Aer.get_backend(\"statevector_simulator\")\n",
        "\n",
        "cobyla = COBYLA()\n",
        "cobyla.set_options(maxiter=500)\n",
        "ry = TwoLocal(num_assets, \"ry\", \"cz\", reps=3, entanglement=\"full\")\n",
        "quantum_instance = QuantumInstance(backend=backend, seed_simulator=seed, seed_transpiler=seed)\n",
        "vqe_mes = VQE(ry, optimizer=cobyla, quantum_instance=quantum_instance)\n",
        "vqe = MinimumEigenOptimizer(vqe_mes)\n",
        "result = vqe.solve(qp)\n",
        "\n",
        "print_result(result)\n"
      ],
      "metadata": {
        "colab": {
          "base_uri": "https://localhost:8080/"
        },
        "id": "rNi9V3GKGf2d",
        "outputId": "63284ac7-82a1-4542-bfbc-5e58bcc69cf6"
      },
      "execution_count": 12,
      "outputs": [
        {
          "output_type": "stream",
          "name": "stdout",
          "text": [
            "Optimal: selection [0. 0. 0. 1.], value -0.0019\n",
            "\n",
            "----------------- Full result ---------------------\n",
            "selection\tvalue\t\tprobability\n",
            "---------------------------------------------------\n",
            " [0 1 0 0]\t-0.0001\t\t0.8609\n",
            " [0 0 0 1]\t-0.0019\t\t0.1345\n",
            " [1 0 0 0]\t-0.0003\t\t0.0046\n",
            " [0 1 0 1]\t1.0113\t\t0.0000\n",
            " [0 0 1 0]\t-0.0010\t\t0.0000\n",
            " [0 1 1 0]\t1.0119\t\t0.0000\n",
            " [1 1 0 0]\t1.0129\t\t0.0000\n",
            " [1 0 1 1]\t4.0489\t\t0.0000\n",
            " [1 0 1 0]\t1.0118\t\t0.0000\n",
            " [0 0 1 1]\t1.0101\t\t0.0000\n",
            " [1 1 1 0]\t4.0505\t\t0.0000\n",
            " [0 0 0 0]\t1.0125\t\t0.0000\n",
            " [1 1 0 1]\t4.0503\t\t0.0000\n",
            " [1 1 1 1]\t9.1135\t\t0.0000\n",
            " [0 1 1 1]\t4.0488\t\t0.0000\n",
            " [1 0 0 1]\t1.0113\t\t0.0000\n"
          ]
        }
      ]
    },
    {
      "cell_type": "code",
      "source": [
        "#### QAOA solution\n",
        "\n",
        "algorithm_globals.random_seed = 1234\n",
        "backend = Aer.get_backend(\"statevector_simulator\")\n",
        "\n",
        "cobyla = COBYLA()\n",
        "cobyla.set_options(maxiter=250)\n",
        "quantum_instance = QuantumInstance(backend=backend, seed_simulator=seed, seed_transpiler=seed)\n",
        "qaoa_mes = QAOA(optimizer=cobyla, reps=3, quantum_instance=quantum_instance)\n",
        "qaoa = MinimumEigenOptimizer(qaoa_mes)\n",
        "result = qaoa.solve(qp)\n",
        "\n",
        "print_result(result)\n"
      ],
      "metadata": {
        "colab": {
          "base_uri": "https://localhost:8080/"
        },
        "id": "zvhGSy4FG3fu",
        "outputId": "3bdc607f-92c9-4f98-8461-2cc1f2973533"
      },
      "execution_count": 13,
      "outputs": [
        {
          "output_type": "stream",
          "name": "stdout",
          "text": [
            "Optimal: selection [0. 0. 0. 1.], value -0.0019\n",
            "\n",
            "----------------- Full result ---------------------\n",
            "selection\tvalue\t\tprobability\n",
            "---------------------------------------------------\n",
            " [0 1 0 0]\t-0.0001\t\t0.1735\n",
            " [1 0 0 0]\t-0.0003\t\t0.1735\n",
            " [0 0 1 0]\t-0.0010\t\t0.1734\n",
            " [0 0 0 1]\t-0.0019\t\t0.1732\n",
            " [0 0 0 0]\t1.0125\t\t0.1281\n",
            " [0 0 1 1]\t1.0101\t\t0.0279\n",
            " [1 0 0 1]\t1.0113\t\t0.0274\n",
            " [0 1 0 1]\t1.0113\t\t0.0274\n",
            " [1 0 1 0]\t1.0118\t\t0.0271\n",
            " [0 1 1 0]\t1.0119\t\t0.0271\n",
            " [1 1 0 0]\t1.0129\t\t0.0266\n",
            " [1 1 1 1]\t9.1135\t\t0.0070\n",
            " [1 1 1 0]\t4.0505\t\t0.0020\n",
            " [1 1 0 1]\t4.0503\t\t0.0020\n",
            " [1 0 1 1]\t4.0489\t\t0.0019\n",
            " [0 1 1 1]\t4.0488\t\t0.0019\n"
          ]
        }
      ]
    },
    {
      "cell_type": "code",
      "source": [
        "stocks = [\"PINS\",\"TWTR\",\"META\",\"SNAP\"]\n",
        "\n",
        "token = \"NBQ7j3g_Q8_bcpvW6kMA\"\n",
        "if token != \"NBQ7j3g_Q8_bcpvW6kMA\":\n",
        "    try:\n",
        "        wiki = WikipediaDataProvider(\n",
        "            token=token,\n",
        "            tickers=stocks,\n",
        "            start=datetime.datetime(2016, 9, 1),\n",
        "            end=datetime.datetime(2021, 12, 30),\n",
        "        )\n",
        "        wiki.run()\n",
        "    except QiskitFinanceError as ex:\n",
        "        print(ex)\n",
        "        print(\"Error retrieving data.\")\n"
      ],
      "metadata": {
        "id": "pKtLnMhBHTOU"
      },
      "execution_count": 14,
      "outputs": []
    },
    {
      "cell_type": "code",
      "source": [
        "if token != \"NBQ7j3g_Q8_bcpvW6kMA\":\n",
        "    if wiki._data:\n",
        "        if wiki._n <= 1:\n",
        "            print(\n",
        "                \"Not enough wiki data to plot covariance or time-series similarity. Please use at least two tickers.\"\n",
        "            )\n",
        "        else:\n",
        "            rho = wiki.get_similarity_matrix()\n",
        "            print(\"A time-series similarity measure:\")\n",
        "            print(rho)\n",
        "            plt.imshow(rho)\n",
        "            plt.show()\n",
        "\n",
        "            cov = wiki.get_covariance_matrix()\n",
        "            print(\"A covariance matrix:\")\n",
        "            print(cov)\n",
        "            plt.imshow(cov)\n",
        "            plt.show()\n",
        "    else:\n",
        "        print(\"No wiki data loaded.\")\n"
      ],
      "metadata": {
        "id": "vvVwmFpLHYGk"
      },
      "execution_count": 15,
      "outputs": []
    },
    {
      "cell_type": "code",
      "source": [
        "if token != \"NBQ7j3g_Q8_bcpvW6kMA\":\n",
        "    if wiki._data:\n",
        "        print(\"The underlying evolution of stock prices:\")\n",
        "        for (cnt, s) in enumerate(stocks):\n",
        "            plt.plot(wiki._data[cnt], label=s)\n",
        "        plt.legend()\n",
        "        plt.xticks(rotation=90)\n",
        "        plt.show()\n",
        "\n",
        "        for (cnt, s) in enumerate(stocks):\n",
        "            print(s)\n",
        "            print(wiki._data[cnt])\n",
        "    else:\n",
        "        print(\"No wiki data loaded.\")\n"
      ],
      "metadata": {
        "id": "-LhreZQrHaip"
      },
      "execution_count": 16,
      "outputs": []
    },
    {
      "cell_type": "code",
      "source": [
        "for (cnt, s) in enumerate(data._tickers):\n",
        "    plt.plot(data._data[cnt], label=s)\n",
        "plt.legend()\n",
        "plt.xticks(rotation=90)\n",
        "plt.show()\n"
      ],
      "metadata": {
        "colab": {
          "base_uri": "https://localhost:8080/",
          "height": 301
        },
        "id": "UmTrXc3HHe8b",
        "outputId": "b861f9e4-318b-45c3-84d6-2959b0ae7102"
      },
      "execution_count": 17,
      "outputs": [
        {
          "output_type": "display_data",
          "data": {
            "text/plain": [
              "<Figure size 432x288 with 1 Axes>"
            ],
            "image/png": "[encoded data removed]"
          },
          "metadata": {
            "needs_background": "light"
          }
        }
      ]
    },
    {
      "cell_type": "code",
      "source": [
        "for (cnt, s) in enumerate(data._tickers):\n",
        "    print(data._data[cnt])"
      ],
      "metadata": {
        "colab": {
          "base_uri": "https://localhost:8080/"
        },
        "id": "d7pEOqZSQHmE",
        "outputId": "b20804b8-73e7-419c-b2d0-fa00488f6d20"
      },
      "execution_count": 18,
      "outputs": [
        {
          "output_type": "stream",
          "name": "stdout",
          "text": [
            "Date\n",
            "2019-09-03    33.810001\n",
            "2019-09-04    32.619999\n",
            "2019-09-05    31.260000\n",
            "2019-09-06    30.360001\n",
            "2019-09-09    28.200001\n",
            "                ...    \n",
            "2021-11-23    41.770000\n",
            "2021-11-24    42.340000\n",
            "2021-11-26    42.799999\n",
            "2021-11-29    40.540001\n",
            "2021-11-30    40.060001\n",
            "Name: Adj Close, Length: 567, dtype: float64\n",
            "Date\n",
            "2019-09-03    41.959999\n",
            "2019-09-04    43.360001\n",
            "2019-09-05    45.299999\n",
            "2019-09-06    45.419998\n",
            "2019-09-09    44.259998\n",
            "                ...    \n",
            "2021-11-23    47.139999\n",
            "2021-11-24    47.520000\n",
            "2021-11-26    47.070000\n",
            "2021-11-29    45.779999\n",
            "2021-11-30    43.939999\n",
            "Name: Adj Close, Length: 567, dtype: float64\n",
            "Date\n",
            "2019-09-03    182.389999\n",
            "2019-09-04    187.139999\n",
            "2019-09-05    190.899994\n",
            "2019-09-06    187.490005\n",
            "2019-09-09    188.759995\n",
            "                 ...    \n",
            "2021-11-23    337.250000\n",
            "2021-11-24    341.059998\n",
            "2021-11-26    333.119995\n",
            "2021-11-29    338.029999\n",
            "2021-11-30    324.459991\n",
            "Name: Adj Close, Length: 567, dtype: float64\n",
            "Date\n",
            "2019-09-03    15.930000\n",
            "2019-09-04    15.800000\n",
            "2019-09-05    15.870000\n",
            "2019-09-06    16.620001\n",
            "2019-09-09    15.310000\n",
            "                ...    \n",
            "2021-11-23    50.669998\n",
            "2021-11-24    49.660000\n",
            "2021-11-26    49.759998\n",
            "2021-11-29    48.849998\n",
            "2021-11-30    47.610001\n",
            "Name: Adj Close, Length: 567, dtype: float64\n"
          ]
        }
      ]
    },
    {
      "cell_type": "markdown",
      "source": [
        "Automotive\n",
        "\n",
        "---\n"
      ],
      "metadata": {
        "id": "dnBuzz1-JmjP"
      }
    },
    {
      "cell_type": "code",
      "source": [
        "# set number of assets (= number of qubits)\n",
        "num_assets = 4\n",
        "seed = 1234\n",
        "\n",
        "# Generate expected return and covariance matrix from (random) time-series\n",
        "#stocks = [(\"TICKER%s\" % i) for i in range(num_assets)]\n",
        "# data = RandomDataProvider(\n",
        "#     tickers=stocks,\n",
        "#     start=datetime.datetime(2016, 1, 1),\n",
        "#     end=datetime.datetime(2016, 1, 30),\n",
        "#     seed=seed,\n",
        "# )\n",
        "\n",
        "\n",
        "\n",
        "#### Using data from yahoo finance\n",
        "data = YahooDataProvider(\n",
        "        tickers=[\"GM\",\"DMLRY\",\"TSLA\",\"F\"],\n",
        "        start=datetime.datetime(2016, 9, 1),\n",
        "        end=datetime.datetime(2021, 12, 1),\n",
        "    )\n",
        "data.run()\n",
        "mu = data.get_period_return_mean_vector()\n",
        "sigma = data.get_period_return_covariance_matrix()\n"
      ],
      "metadata": {
        "id": "6mVPRyFIJtAU"
      },
      "execution_count": 19,
      "outputs": []
    },
    {
      "cell_type": "code",
      "source": [
        "# plot sigma\n",
        "plt.imshow(sigma, interpolation=\"nearest\")\n",
        "plt.show()"
      ],
      "metadata": {
        "colab": {
          "base_uri": "https://localhost:8080/",
          "height": 269
        },
        "id": "Ec7_Wq-jKSq-",
        "outputId": "2f040de8-80e0-4f69-9e8e-1fd01df8d378"
      },
      "execution_count": 20,
      "outputs": [
        {
          "output_type": "display_data",
          "data": {
            "text/plain": [
              "<Figure size 432x288 with 1 Axes>"
            ],
            "image/png": "[encoded data removed]"
          },
          "metadata": {
            "needs_background": "light"
          }
        }
      ]
    },
    {
      "cell_type": "code",
      "source": [
        "q = 0.5  # set risk factor\n",
        "budget = num_assets // 4  # set budget\n",
        "penalty = num_assets  # set parameter to scale the budget penalty term\n",
        "\n",
        "portfolio = PortfolioOptimization(\n",
        "    expected_returns=mu, covariances=sigma, risk_factor=q, budget=budget\n",
        ")\n",
        "qp = portfolio.to_quadratic_program()\n",
        "qp"
      ],
      "metadata": {
        "colab": {
          "base_uri": "https://localhost:8080/"
        },
        "id": "y50tqLttKddj",
        "outputId": "aff2bc76-4886-4447-be8e-360693b3cefc"
      },
      "execution_count": 21,
      "outputs": [
        {
          "output_type": "execute_result",
          "data": {
            "text/plain": [
              "<QuadraticProgram: minimize 0.00027820443997866276*x_0^2 + 0.00032369894017474..., 4 variables, 1 constraints, 'Portfolio optimization'>"
            ]
          },
          "metadata": {},
          "execution_count": 21
        }
      ]
    },
    {
      "cell_type": "code",
      "source": [
        "def index_to_selection(i, num_assets):\n",
        "    s = \"{0:b}\".format(i).rjust(num_assets)\n",
        "    x = np.array([1 if s[i] == \"1\" else 0 for i in reversed(range(num_assets))])\n",
        "    return x\n",
        "\n",
        "\n",
        "def print_result(result):\n",
        "    selection = result.x\n",
        "    value = result.fval\n",
        "    print(\"Optimal: selection {}, value {:.4f}\".format(selection, value))\n",
        "\n",
        "    eigenstate = result.min_eigen_solver_result.eigenstate\n",
        "    eigenvector = eigenstate if isinstance(eigenstate, np.ndarray) else eigenstate.to_matrix()\n",
        "    probabilities = np.abs(eigenvector) ** 2\n",
        "    i_sorted = reversed(np.argsort(probabilities))\n",
        "    print(\"\\n----------------- Full result ---------------------\")\n",
        "    print(\"selection\\tvalue\\t\\tprobability\")\n",
        "    print(\"---------------------------------------------------\")\n",
        "    for i in i_sorted:\n",
        "        x = index_to_selection(i, num_assets)\n",
        "        value = QuadraticProgramToQubo().convert(qp).objective.evaluate(x)\n",
        "        # value = portfolio.to_quadratic_program().objective.evaluate(x)\n",
        "        probability = probabilities[i]\n",
        "        print(\"%10s\\t%.4f\\t\\t%.4f\" % (x, value, probability))"
      ],
      "metadata": {
        "id": "zA8sKrZtK2NB"
      },
      "execution_count": 22,
      "outputs": []
    },
    {
      "cell_type": "code",
      "source": [
        "\n",
        "#classical reference solution\n",
        "\n",
        "exact_mes = NumPyMinimumEigensolver()\n",
        "exact_eigensolver = MinimumEigenOptimizer(exact_mes)\n",
        "\n",
        "result = exact_eigensolver.solve(qp)\n",
        "\n",
        "print_result(result)"
      ],
      "metadata": {
        "colab": {
          "base_uri": "https://localhost:8080/"
        },
        "id": "tiJMcNtbK6Wl",
        "outputId": "7b8ab7a5-bc8f-462e-bd70-122885ece73c"
      },
      "execution_count": 23,
      "outputs": [
        {
          "output_type": "stream",
          "name": "stdout",
          "text": [
            "Optimal: selection [0. 0. 1. 0.], value -0.0025\n",
            "\n",
            "----------------- Full result ---------------------\n",
            "selection\tvalue\t\tprobability\n",
            "---------------------------------------------------\n",
            " [0 0 1 0]\t-0.0025\t\t1.0000\n",
            " [1 1 1 1]\t9.0757\t\t0.0000\n",
            " [0 1 1 1]\t4.0320\t\t0.0000\n",
            " [1 0 1 1]\t4.0319\t\t0.0000\n",
            " [0 0 1 1]\t1.0058\t\t0.0000\n",
            " [1 1 0 1]\t4.0342\t\t0.0000\n",
            " [0 1 0 1]\t1.0081\t\t0.0000\n",
            " [1 0 0 1]\t1.0080\t\t0.0000\n",
            " [0 0 0 1]\t-0.0005\t\t0.0000\n",
            " [1 1 1 0]\t4.0320\t\t0.0000\n",
            " [0 1 1 0]\t1.0060\t\t0.0000\n",
            " [1 0 1 0]\t1.0058\t\t0.0000\n",
            " [1 1 0 0]\t1.0080\t\t0.0000\n",
            " [0 1 0 0]\t-0.0004\t\t0.0000\n",
            " [1 0 0 0]\t-0.0006\t\t0.0000\n",
            " [0 0 0 0]\t1.0087\t\t0.0000\n"
          ]
        }
      ]
    },
    {
      "cell_type": "code",
      "source": [
        "##VQE SOln\n",
        "from qiskit.utils import algorithm_globals\n",
        "\n",
        "algorithm_globals.random_seed = 1234\n",
        "backend = Aer.get_backend(\"statevector_simulator\")\n",
        "\n",
        "cobyla = COBYLA()\n",
        "cobyla.set_options(maxiter=500)\n",
        "ry = TwoLocal(num_assets, \"ry\", \"cz\", reps=3, entanglement=\"full\")\n",
        "quantum_instance = QuantumInstance(backend=backend, seed_simulator=seed, seed_transpiler=seed)\n",
        "vqe_mes = VQE(ry, optimizer=cobyla, quantum_instance=quantum_instance)\n",
        "vqe = MinimumEigenOptimizer(vqe_mes)\n",
        "result = vqe.solve(qp)\n",
        "\n",
        "print_result(result)\n"
      ],
      "metadata": {
        "colab": {
          "base_uri": "https://localhost:8080/"
        },
        "id": "Y2cjwUUSLNP5",
        "outputId": "d94ba7b9-8eff-4d49-c8a4-3b70fb16f0d9"
      },
      "execution_count": 24,
      "outputs": [
        {
          "output_type": "stream",
          "name": "stdout",
          "text": [
            "Optimal: selection [1. 0. 0. 0.], value -0.0006\n",
            "\n",
            "----------------- Full result ---------------------\n",
            "selection\tvalue\t\tprobability\n",
            "---------------------------------------------------\n",
            " [0 1 0 0]\t-0.0004\t\t0.8708\n",
            " [0 0 0 1]\t-0.0005\t\t0.1258\n",
            " [1 0 0 0]\t-0.0006\t\t0.0034\n",
            " [0 0 1 0]\t-0.0025\t\t0.0000\n",
            " [1 0 1 1]\t4.0319\t\t0.0000\n",
            " [1 0 1 0]\t1.0058\t\t0.0000\n",
            " [1 1 1 0]\t4.0320\t\t0.0000\n",
            " [0 0 1 1]\t1.0058\t\t0.0000\n",
            " [1 1 1 1]\t9.0757\t\t0.0000\n",
            " [0 1 0 1]\t1.0081\t\t0.0000\n",
            " [1 0 0 1]\t1.0080\t\t0.0000\n",
            " [1 1 0 0]\t1.0080\t\t0.0000\n",
            " [0 1 1 1]\t4.0320\t\t0.0000\n",
            " [0 0 0 0]\t1.0087\t\t0.0000\n",
            " [0 1 1 0]\t1.0060\t\t0.0000\n",
            " [1 1 0 1]\t4.0342\t\t0.0000\n"
          ]
        }
      ]
    },
    {
      "cell_type": "code",
      "source": [
        "#### QAOA solution\n",
        "\n",
        "algorithm_globals.random_seed = 1234\n",
        "backend = Aer.get_backend(\"statevector_simulator\")\n",
        "\n",
        "cobyla = COBYLA()\n",
        "cobyla.set_options(maxiter=250)\n",
        "quantum_instance = QuantumInstance(backend=backend, seed_simulator=seed, seed_transpiler=seed)\n",
        "qaoa_mes = QAOA(optimizer=cobyla, reps=3, quantum_instance=quantum_instance)\n",
        "qaoa = MinimumEigenOptimizer(qaoa_mes)\n",
        "result = qaoa.solve(qp)\n",
        "\n",
        "print_result(result)\n"
      ],
      "metadata": {
        "colab": {
          "base_uri": "https://localhost:8080/"
        },
        "id": "NC5Ex-X5LTZs",
        "outputId": "dd992c03-f4cf-4364-bbf7-71dcd905372f"
      },
      "execution_count": 25,
      "outputs": [
        {
          "output_type": "stream",
          "name": "stdout",
          "text": [
            "Optimal: selection [0. 0. 1. 0.], value -0.0025\n",
            "\n",
            "----------------- Full result ---------------------\n",
            "selection\tvalue\t\tprobability\n",
            "---------------------------------------------------\n",
            " [0 1 0 0]\t-0.0004\t\t0.1962\n",
            " [0 0 0 1]\t-0.0005\t\t0.1961\n",
            " [1 0 0 0]\t-0.0006\t\t0.1961\n",
            " [0 0 1 0]\t-0.0025\t\t0.1945\n",
            " [0 0 0 0]\t1.0087\t\t0.1155\n",
            " [0 1 0 1]\t1.0081\t\t0.0169\n",
            " [1 1 0 0]\t1.0080\t\t0.0169\n",
            " [1 0 0 1]\t1.0080\t\t0.0169\n",
            " [0 1 1 0]\t1.0060\t\t0.0162\n",
            " [0 0 1 1]\t1.0058\t\t0.0162\n",
            " [1 0 1 0]\t1.0058\t\t0.0161\n",
            " [1 1 0 1]\t4.0342\t\t0.0005\n",
            " [0 1 1 1]\t4.0320\t\t0.0005\n",
            " [1 1 1 0]\t4.0320\t\t0.0005\n",
            " [1 0 1 1]\t4.0319\t\t0.0005\n",
            " [1 1 1 1]\t9.0757\t\t0.0004\n"
          ]
        }
      ]
    },
    {
      "cell_type": "code",
      "source": [
        "stocks = [\"GM\",\"DMLRY\",\"TSLA\",\"F\"]\n",
        "\n",
        "token = \"NBQ7j3g_Q8_bcpvW6kMA\"\n",
        "if token != \"NBQ7j3g_Q8_bcpvW6kMA\":\n",
        "    try:\n",
        "        wiki = WikipediaDataProvider(\n",
        "            token=token,\n",
        "            tickers=stocks,\n",
        "            start=datetime.datetime(2016, 1, 1),\n",
        "            end=datetime.datetime(2021, 12, 30),\n",
        "        )\n",
        "        wiki.run()\n",
        "    except QiskitFinanceError as ex:\n",
        "        print(ex)\n",
        "        print(\"Error retrieving data.\")\n"
      ],
      "metadata": {
        "id": "xmWaGNriLX3s"
      },
      "execution_count": 26,
      "outputs": []
    },
    {
      "cell_type": "code",
      "source": [
        "for (cnt, s) in enumerate(data._tickers):\n",
        "    plt.plot(data._data[cnt], label=s)\n",
        "plt.legend()\n",
        "plt.xticks(rotation=90)\n",
        "plt.show()"
      ],
      "metadata": {
        "colab": {
          "base_uri": "https://localhost:8080/",
          "height": 281
        },
        "id": "ilRpAxzJLgdw",
        "outputId": "e3de94ef-8945-4ea6-cb31-6d4e3e66649f"
      },
      "execution_count": 27,
      "outputs": [
        {
          "output_type": "display_data",
          "data": {
            "text/plain": [
              "<Figure size 432x288 with 1 Axes>"
            ],
            "image/png": "[encoded data removed]"
          },
          "metadata": {
            "needs_background": "light"
          }
        }
      ]
    },
    {
      "cell_type": "code",
      "source": [
        "for (cnt, s) in enumerate(data._tickers):\n",
        "    print(data._data[cnt])"
      ],
      "metadata": {
        "colab": {
          "base_uri": "https://localhost:8080/"
        },
        "id": "Ziw-YAl8Lm-l",
        "outputId": "0685c0e4-d585-416b-b90a-ac23d77a2835"
      },
      "execution_count": 28,
      "outputs": [
        {
          "output_type": "stream",
          "name": "stdout",
          "text": [
            "Date\n",
            "2016-09-01    27.191135\n",
            "2016-09-02    27.498960\n",
            "2016-09-06    27.464754\n",
            "2016-09-07    27.594551\n",
            "2016-09-08    27.438797\n",
            "                ...    \n",
            "2021-11-23    63.049999\n",
            "2021-11-24    62.189999\n",
            "2021-11-26    60.169998\n",
            "2021-11-29    59.860001\n",
            "2021-11-30    57.869999\n",
            "Name: Adj Close, Length: 1321, dtype: float64\n",
            "Date\n",
            "2016-09-01    12.947559\n",
            "2016-09-02    13.143821\n",
            "2016-09-06    13.323258\n",
            "2016-09-07    13.474657\n",
            "2016-09-08    13.414845\n",
            "                ...    \n",
            "2021-11-23    23.336035\n",
            "2021-11-24    22.783484\n",
            "2021-11-26    21.595503\n",
            "2021-11-29    21.549456\n",
            "2021-11-30    21.678385\n",
            "Name: Adj Close, Length: 1321, dtype: float64\n",
            "Date\n",
            "2016-09-01      40.153999\n",
            "2016-09-02      39.556000\n",
            "2016-09-06      40.566002\n",
            "2016-09-07      40.341999\n",
            "2016-09-08      39.472000\n",
            "                 ...     \n",
            "2021-11-23    1109.030029\n",
            "2021-11-24    1116.000000\n",
            "2021-11-26    1081.920044\n",
            "2021-11-29    1136.989990\n",
            "2021-11-30    1144.760010\n",
            "Name: Adj Close, Length: 1321, dtype: float64\n",
            "Date\n",
            "2016-09-01     9.842530\n",
            "2016-09-02     9.890002\n",
            "2016-09-06    10.024508\n",
            "2016-09-07    10.048244\n",
            "2016-09-08    10.071981\n",
            "                ...    \n",
            "2021-11-23    19.963850\n",
            "2021-11-24    20.013264\n",
            "2021-11-26    19.519110\n",
            "2021-11-29    19.440044\n",
            "2021-11-30    18.965658\n",
            "Name: Adj Close, Length: 1321, dtype: float64\n"
          ]
        }
      ]
    },
    {
      "cell_type": "markdown",
      "source": [
        "Mobiles\n",
        "\n",
        "---\n",
        "\n"
      ],
      "metadata": {
        "id": "lrd6KY4WMaKN"
      }
    },
    {
      "cell_type": "code",
      "source": [
        "# set number of assets (= number of qubits)\n",
        "num_assets = 4\n",
        "seed = 1234\n",
        "\n",
        "# Generate expected return and covariance matrix from (random) time-series\n",
        "#stocks = [(\"TICKER%s\" % i) for i in range(num_assets)]\n",
        "# data = RandomDataProvider(\n",
        "#     tickers=stocks,\n",
        "#     start=datetime.datetime(2016, 1, 1),\n",
        "#     end=datetime.datetime(2016, 1, 30),\n",
        "#     seed=seed,\n",
        "# )\n",
        "\n",
        "\n",
        "\n",
        "#### Using data from yahoo finance\n",
        "data = YahooDataProvider(\n",
        "        tickers=[\"AAPL\",\"MSI\",\"SSNLF\",\"NOK\"],\n",
        "        start=datetime.datetime(2016, 9, 1),\n",
        "        end=datetime.datetime(2021, 12, 1),\n",
        "    )\n",
        "data.run()\n",
        "mu = data.get_period_return_mean_vector()\n",
        "sigma = data.get_period_return_covariance_matrix()\n"
      ],
      "metadata": {
        "id": "52qz-CmsMjBb"
      },
      "execution_count": 29,
      "outputs": []
    },
    {
      "cell_type": "code",
      "source": [
        "# plot sigma\n",
        "plt.imshow(sigma, interpolation=\"nearest\")\n",
        "plt.show()"
      ],
      "metadata": {
        "colab": {
          "base_uri": "https://localhost:8080/",
          "height": 269
        },
        "id": "CuOsGYfGNN7u",
        "outputId": "9ab74439-4f3a-44e9-facb-2b259e3becf6"
      },
      "execution_count": 30,
      "outputs": [
        {
          "output_type": "display_data",
          "data": {
            "text/plain": [
              "<Figure size 432x288 with 1 Axes>"
            ],
            "image/png": "[encoded data removed]"
          },
          "metadata": {
            "needs_background": "light"
          }
        }
      ]
    },
    {
      "cell_type": "code",
      "source": [
        "q = 0.5  # set risk factor\n",
        "budget = num_assets // 4  # set budget\n",
        "penalty = num_assets  # set parameter to scale the budget penalty term\n",
        "\n",
        "portfolio = PortfolioOptimization(\n",
        "    expected_returns=mu, covariances=sigma, risk_factor=q, budget=budget\n",
        ")\n",
        "qp = portfolio.to_quadratic_program()\n",
        "qp\n"
      ],
      "metadata": {
        "colab": {
          "base_uri": "https://localhost:8080/"
        },
        "id": "AYvhwN9KNQ_j",
        "outputId": "10df845f-fd05-4ad9-e553-f43140f4ff6b"
      },
      "execution_count": 31,
      "outputs": [
        {
          "output_type": "execute_result",
          "data": {
            "text/plain": [
              "<QuadraticProgram: minimize 0.00017698826587336135*x_0^2 + 0.00014075005905393..., 4 variables, 1 constraints, 'Portfolio optimization'>"
            ]
          },
          "metadata": {},
          "execution_count": 31
        }
      ]
    },
    {
      "cell_type": "code",
      "source": [
        "def index_to_selection(i, num_assets):\n",
        "    s = \"{0:b}\".format(i).rjust(num_assets)\n",
        "    x = np.array([1 if s[i] == \"1\" else 0 for i in reversed(range(num_assets))])\n",
        "    return x\n",
        "\n",
        "\n",
        "def print_result(result):\n",
        "    selection = result.x\n",
        "    value = result.fval\n",
        "    print(\"Optimal: selection {}, value {:.4f}\".format(selection, value))\n",
        "\n",
        "    eigenstate = result.min_eigen_solver_result.eigenstate\n",
        "    eigenvector = eigenstate if isinstance(eigenstate, np.ndarray) else eigenstate.to_matrix()\n",
        "    probabilities = np.abs(eigenvector) ** 2\n",
        "    i_sorted = reversed(np.argsort(probabilities))\n",
        "    print(\"\\n----------------- Full result ---------------------\")\n",
        "    print(\"selection\\tvalue\\t\\tprobability\")\n",
        "    print(\"---------------------------------------------------\")\n",
        "    for i in i_sorted:\n",
        "        x = index_to_selection(i, num_assets)\n",
        "        value = QuadraticProgramToQubo().convert(qp).objective.evaluate(x)\n",
        "        # value = portfolio.to_quadratic_program().objective.evaluate(x)\n",
        "        probability = probabilities[i]\n",
        "        print(\"%10s\\t%.4f\\t\\t%.4f\" % (x, value, probability))\n"
      ],
      "metadata": {
        "id": "USgmtpbGNTJ1"
      },
      "execution_count": 32,
      "outputs": []
    },
    {
      "cell_type": "code",
      "source": [
        "\n",
        "#classical reference solution\n",
        "\n",
        "exact_mes = NumPyMinimumEigensolver()\n",
        "exact_eigensolver = MinimumEigenOptimizer(exact_mes)\n",
        "\n",
        "result = exact_eigensolver.solve(qp)\n",
        "\n",
        "print_result(result)"
      ],
      "metadata": {
        "colab": {
          "base_uri": "https://localhost:8080/"
        },
        "id": "XxK7tsd2NV70",
        "outputId": "5c660367-15c8-43ea-bc0a-2189729c31dd"
      },
      "execution_count": 33,
      "outputs": [
        {
          "output_type": "stream",
          "name": "stdout",
          "text": [
            "Optimal: selection [1. 0. 0. 0.], value -0.0014\n",
            "\n",
            "----------------- Full result ---------------------\n",
            "selection\tvalue\t\tprobability\n",
            "---------------------------------------------------\n",
            " [1 0 0 0]\t-0.0014\t\t1.0000\n",
            " [1 1 1 1]\t9.3367\t\t0.0000\n",
            " [0 1 1 1]\t4.1663\t\t0.0000\n",
            " [1 0 1 1]\t4.1658\t\t0.0000\n",
            " [0 0 1 1]\t1.0642\t\t0.0000\n",
            " [1 1 0 1]\t4.1352\t\t0.0000\n",
            " [0 1 0 1]\t1.0334\t\t0.0000\n",
            " [1 0 0 1]\t1.0330\t\t0.0000\n",
            " [0 0 0 1]\t-0.0001\t\t0.0000\n",
            " [1 1 1 0]\t4.1649\t\t0.0000\n",
            " [0 1 1 0]\t1.0633\t\t0.0000\n",
            " [1 0 1 0]\t1.0628\t\t0.0000\n",
            " [0 0 1 0]\t0.0299\t\t0.0000\n",
            " [1 1 0 0]\t1.0320\t\t0.0000\n",
            " [0 1 0 0]\t-0.0010\t\t0.0000\n",
            " [0 0 0 0]\t1.0343\t\t0.0000\n"
          ]
        }
      ]
    },
    {
      "cell_type": "code",
      "source": [
        "##VQE SOln\n",
        "from qiskit.utils import algorithm_globals\n",
        "\n",
        "algorithm_globals.random_seed = 1234\n",
        "backend = Aer.get_backend(\"statevector_simulator\")\n",
        "\n",
        "cobyla = COBYLA()\n",
        "cobyla.set_options(maxiter=500)\n",
        "ry = TwoLocal(num_assets, \"ry\", \"cz\", reps=3, entanglement=\"full\")\n",
        "quantum_instance = QuantumInstance(backend=backend, seed_simulator=seed, seed_transpiler=seed)\n",
        "vqe_mes = VQE(ry, optimizer=cobyla, quantum_instance=quantum_instance)\n",
        "vqe = MinimumEigenOptimizer(vqe_mes)\n",
        "result = vqe.solve(qp)\n",
        "\n",
        "print_result(result)\n"
      ],
      "metadata": {
        "colab": {
          "base_uri": "https://localhost:8080/"
        },
        "id": "_ljnUjcbNYqb",
        "outputId": "4e9ee071-38e5-4168-f96d-db8a8b71499b"
      },
      "execution_count": 34,
      "outputs": [
        {
          "output_type": "stream",
          "name": "stdout",
          "text": [
            "Optimal: selection [1. 0. 0. 0.], value -0.0014\n",
            "\n",
            "----------------- Full result ---------------------\n",
            "selection\tvalue\t\tprobability\n",
            "---------------------------------------------------\n",
            " [0 1 0 0]\t-0.0010\t\t1.0000\n",
            " [1 0 0 0]\t-0.0014\t\t0.0000\n",
            " [0 1 1 1]\t4.1663\t\t0.0000\n",
            " [0 0 0 0]\t1.0343\t\t0.0000\n",
            " [0 0 1 1]\t1.0642\t\t0.0000\n",
            " [1 0 0 1]\t1.0330\t\t0.0000\n",
            " [0 0 0 1]\t-0.0001\t\t0.0000\n",
            " [1 1 1 1]\t9.3367\t\t0.0000\n",
            " [0 1 0 1]\t1.0334\t\t0.0000\n",
            " [1 1 0 0]\t1.0320\t\t0.0000\n",
            " [0 1 1 0]\t1.0633\t\t0.0000\n",
            " [1 1 1 0]\t4.1649\t\t0.0000\n",
            " [1 0 1 1]\t4.1658\t\t0.0000\n",
            " [1 0 1 0]\t1.0628\t\t0.0000\n",
            " [0 0 1 0]\t0.0299\t\t0.0000\n",
            " [1 1 0 1]\t4.1352\t\t0.0000\n"
          ]
        }
      ]
    },
    {
      "cell_type": "code",
      "source": [
        "#### QAOA solution\n",
        "\n",
        "algorithm_globals.random_seed = 1234\n",
        "backend = Aer.get_backend(\"statevector_simulator\")\n",
        "\n",
        "cobyla = COBYLA()\n",
        "cobyla.set_options(maxiter=250)\n",
        "quantum_instance = QuantumInstance(backend=backend, seed_simulator=seed, seed_transpiler=seed)\n",
        "qaoa_mes = QAOA(optimizer=cobyla, reps=3, quantum_instance=quantum_instance)\n",
        "qaoa = MinimumEigenOptimizer(qaoa_mes)\n",
        "result = qaoa.solve(qp)\n",
        "\n",
        "print_result(result)\n"
      ],
      "metadata": {
        "id": "4IVJKUL0NbRX",
        "colab": {
          "base_uri": "https://localhost:8080/"
        },
        "outputId": "1346213d-0355-4e4b-ae58-959b8897a287"
      },
      "execution_count": 35,
      "outputs": [
        {
          "output_type": "stream",
          "name": "stdout",
          "text": [
            "Optimal: selection [1. 0. 0. 0.], value -0.0014\n",
            "\n",
            "----------------- Full result ---------------------\n",
            "selection\tvalue\t\tprobability\n",
            "---------------------------------------------------\n",
            " [1 0 0 0]\t-0.0014\t\t0.2206\n",
            " [0 1 0 0]\t-0.0010\t\t0.2201\n",
            " [0 0 0 1]\t-0.0001\t\t0.2192\n",
            " [0 0 1 0]\t0.0299\t\t0.1901\n",
            " [0 0 0 0]\t1.0343\t\t0.0714\n",
            " [0 0 1 1]\t1.0642\t\t0.0133\n",
            " [0 1 1 0]\t1.0633\t\t0.0132\n",
            " [1 0 1 0]\t1.0628\t\t0.0132\n",
            " [1 1 0 0]\t1.0320\t\t0.0121\n",
            " [1 0 0 1]\t1.0330\t\t0.0121\n",
            " [0 1 0 1]\t1.0334\t\t0.0120\n",
            " [0 1 1 1]\t4.1663\t\t0.0007\n",
            " [1 0 1 1]\t4.1658\t\t0.0007\n",
            " [1 1 1 0]\t4.1649\t\t0.0007\n",
            " [1 1 1 1]\t9.3367\t\t0.0006\n",
            " [1 1 0 1]\t4.1352\t\t0.0001\n"
          ]
        }
      ]
    },
    {
      "cell_type": "code",
      "source": [
        "stocks = [\"AAPL\",\"MSI\",\"SSNLF\",\"NOK\"]\n",
        "\n",
        "token = \"NBQ7j3g_Q8_bcpvW6kMA\"\n",
        "if token != \"NBQ7j3g_Q8_bcpvW6kMA\":\n",
        "    try:\n",
        "        wiki = WikipediaDataProvider(\n",
        "            token=token,\n",
        "            tickers=stocks,\n",
        "            start=datetime.datetime(2016, 1, 1),\n",
        "            end=datetime.datetime(2021, 12, 30),\n",
        "        )\n",
        "        wiki.run()\n",
        "    except QiskitFinanceError as ex:\n",
        "        print(ex)\n",
        "        print(\"Error retrieving data.\")\n"
      ],
      "metadata": {
        "id": "xYkoOi0_RxfN"
      },
      "execution_count": 36,
      "outputs": []
    },
    {
      "cell_type": "code",
      "source": [
        "if token != \"NBQ7j3g_Q8_bcpvW6kMA\":\n",
        "    if wiki._data:\n",
        "        if wiki._n <= 1:\n",
        "            print(\n",
        "                \"Not enough wiki data to plot covariance or time-series similarity. Please use at least two tickers.\"\n",
        "            )\n",
        "        else:\n",
        "            rho = wiki.get_similarity_matrix()\n",
        "            print(\"A time-series similarity measure:\")\n",
        "            print(rho)\n",
        "            plt.imshow(rho)\n",
        "            plt.show()\n",
        "\n",
        "            cov = wiki.get_covariance_matrix()\n",
        "            print(\"A covariance matrix:\")\n",
        "            print(cov)\n",
        "            plt.imshow(cov)\n",
        "            plt.show()\n",
        "    else:\n",
        "        print(\"No wiki data loaded.\")\n"
      ],
      "metadata": {
        "id": "aBIy7mj0R5bI"
      },
      "execution_count": 37,
      "outputs": []
    },
    {
      "cell_type": "code",
      "source": [
        "if token != \"NBQ7j3g_Q8_bcpvW6kMA\":\n",
        "    if wiki._data:\n",
        "        print(\"The underlying evolution of stock prices:\")\n",
        "        for (cnt, s) in enumerate(stocks):\n",
        "            plt.plot(wiki._data[cnt], label=s)\n",
        "        plt.legend()\n",
        "        plt.xticks(rotation=90)\n",
        "        plt.show()\n",
        "\n",
        "        for (cnt, s) in enumerate(stocks):\n",
        "            print(s)\n",
        "            print(wiki._data[cnt])\n",
        "    else:\n",
        "        print(\"No wiki data loaded.\")\n"
      ],
      "metadata": {
        "id": "f6dTn852R9Ex"
      },
      "execution_count": 38,
      "outputs": []
    },
    {
      "cell_type": "code",
      "source": [
        "data = YahooDataProvider(\n",
        "    tickers=[\"AAPL\",\"MSI\",\"SSNLF\",\"NOK\"],\n",
        "    start=datetime.datetime(2016, 9, 1),\n",
        "    end=datetime.datetime(2021, 12, 1),\n",
        "  \n",
        ")\n",
        "data.run()\n",
        "for (cnt, s) in enumerate(data._tickers):\n",
        "    plt.plot(data._data[cnt], label=s)\n",
        "plt.legend()\n",
        "plt.xticks(rotation=90)\n",
        "plt.show()"
      ],
      "metadata": {
        "colab": {
          "base_uri": "https://localhost:8080/",
          "height": 292
        },
        "id": "D2Uzu5iGNeC8",
        "outputId": "e4640b39-b2c0-492a-e17c-2b6cdee59eda"
      },
      "execution_count": 39,
      "outputs": [
        {
          "output_type": "display_data",
          "data": {
            "text/plain": [
              "<Figure size 432x288 with 1 Axes>"
            ],
            "image/png": "[encoded data removed]"
          },
          "metadata": {
            "needs_background": "light"
          }
        }
      ]
    },
    {
      "cell_type": "code",
      "source": [
        "for (cnt, s) in enumerate(data._tickers):\n",
        "    print(data._data[cnt])"
      ],
      "metadata": {
        "colab": {
          "base_uri": "https://localhost:8080/"
        },
        "id": "f_kSShulQQL_",
        "outputId": "b016c508-0581-452f-a465-f1d2268a7768"
      },
      "execution_count": 40,
      "outputs": [
        {
          "output_type": "stream",
          "name": "stdout",
          "text": [
            "Date\n",
            "2016-09-01     24.919058\n",
            "2016-09-02     25.152529\n",
            "2016-09-06     25.145527\n",
            "2016-09-07     25.299623\n",
            "2016-09-08     24.636547\n",
            "                 ...    \n",
            "2021-11-23    160.968109\n",
            "2021-11-24    161.496674\n",
            "2021-11-26    156.380707\n",
            "2021-11-29    159.801315\n",
            "2021-11-30    164.847473\n",
            "Name: Adj Close, Length: 1321, dtype: float64\n",
            "Date\n",
            "2016-09-01     69.213623\n",
            "2016-09-02     70.250031\n",
            "2016-09-06     70.583473\n",
            "2016-09-07     70.367203\n",
            "2016-09-08     69.727325\n",
            "                 ...    \n",
            "2021-11-23    254.429443\n",
            "2021-11-24    258.565887\n",
            "2021-11-26    250.936264\n",
            "2021-11-29    256.794556\n",
            "2021-11-30    250.540436\n",
            "Name: Adj Close, Length: 1321, dtype: float64\n",
            "Date\n",
            "2016-09-01    3.910040e+21\n",
            "2016-09-02    3.910040e+21\n",
            "2016-09-06    3.910040e+21\n",
            "2016-09-07    3.910040e+21\n",
            "2016-09-08    3.910040e+21\n",
            "                  ...     \n",
            "2021-11-23    1.592391e+03\n",
            "2021-11-24    1.592391e+03\n",
            "2021-11-26    1.592391e+03\n",
            "2021-11-29    1.592391e+03\n",
            "2021-11-30    1.592391e+03\n",
            "Name: Adj Close, Length: 1321, dtype: float64\n",
            "Date\n",
            "2016-09-01    5.154201\n",
            "2016-09-02    5.245265\n",
            "2016-09-06    5.227052\n",
            "2016-09-07    5.345435\n",
            "2016-09-08    5.309009\n",
            "                ...   \n",
            "2021-11-23    5.696167\n",
            "2021-11-24    5.736000\n",
            "2021-11-26    5.526875\n",
            "2021-11-29    5.596583\n",
            "2021-11-30    5.576667\n",
            "Name: Adj Close, Length: 1321, dtype: float64\n"
          ]
        }
      ]
    },
    {
      "cell_type": "markdown",
      "source": [
        "\n",
        "FinTech\n",
        "---\n",
        "\n"
      ],
      "metadata": {
        "id": "pQCYpPPi45_J"
      }
    },
    {
      "cell_type": "code",
      "source": [
        "num_assets = 4\n",
        "seed = 1234\n",
        "\n",
        "# Generate expected return and covariance matrix from (random) time-series\n",
        "#stocks = [(\"TICKER%s\" % i) for i in range(num_assets)]\n",
        "# data = RandomDataProvider(\n",
        "#     tickers=stocks,\n",
        "#     start=datetime.datetime(2016, 1, 1),\n",
        "#     end=datetime.datetime(2016, 1, 30),\n",
        "#     seed=seed,\n",
        "# )\n",
        "\n",
        "\n",
        "\n",
        "#### Using data from yahoo finance\n",
        "data = YahooDataProvider(\n",
        "        tickers=[\"JPM\",\"GS\",\"MS\",\"BAC\"],\n",
        "        start=datetime.datetime(2017, 9, 1),\n",
        "        end=datetime.datetime(2021, 12, 1),\n",
        "    )\n",
        "data.run()\n",
        "mu = data.get_period_return_mean_vector()\n",
        "sigma = data.get_period_return_covariance_matrix()\n"
      ],
      "metadata": {
        "id": "5XEWo0oY45hr"
      },
      "execution_count": 41,
      "outputs": []
    },
    {
      "cell_type": "code",
      "source": [
        "# plot sigma\n",
        "plt.imshow(sigma, interpolation=\"nearest\")\n",
        "plt.show()"
      ],
      "metadata": {
        "colab": {
          "base_uri": "https://localhost:8080/",
          "height": 269
        },
        "id": "HYDrpzN_7qU5",
        "outputId": "ae883d98-6dbc-4d6a-cde7-eeff090ebb3f"
      },
      "execution_count": 42,
      "outputs": [
        {
          "output_type": "display_data",
          "data": {
            "text/plain": [
              "<Figure size 432x288 with 1 Axes>"
            ],
            "image/png": "[encoded data removed]"
          },
          "metadata": {
            "needs_background": "light"
          }
        }
      ]
    },
    {
      "cell_type": "code",
      "source": [
        "q = 0.5  # set risk factor\n",
        "budget = num_assets // 4 # set budget\n",
        "penalty = num_assets  # set parameter to scale the budget penalty term\n",
        "\n",
        "portfolio = PortfolioOptimization(\n",
        "    expected_returns=mu, covariances=sigma, risk_factor=q, budget=budget\n",
        ")\n",
        "qp = portfolio.to_quadratic_program()\n",
        "qp\n"
      ],
      "metadata": {
        "colab": {
          "base_uri": "https://localhost:8080/"
        },
        "id": "VMCVgEQS7xcp",
        "outputId": "cf14f058-d9c5-4540-bb4c-a5bc639b14df"
      },
      "execution_count": 43,
      "outputs": [
        {
          "output_type": "execute_result",
          "data": {
            "text/plain": [
              "<QuadraticProgram: minimize 0.00020147164313713545*x_0^2 + 0.00035607528802223..., 4 variables, 1 constraints, 'Portfolio optimization'>"
            ]
          },
          "metadata": {},
          "execution_count": 43
        }
      ]
    },
    {
      "cell_type": "code",
      "source": [
        "def index_to_selection(i, num_assets):\n",
        "    s = \"{0:b}\".format(i).rjust(num_assets)\n",
        "    x = np.array([1 if s[i] == \"1\" else 0 for i in reversed(range(num_assets))])\n",
        "    return x\n",
        "\n",
        "\n",
        "def print_result(result):\n",
        "    selection = result.x\n",
        "    value = result.fval\n",
        "    print(\"Optimal: selection {}, value {:.4f}\".format(selection, value))\n",
        "\n",
        "    eigenstate = result.min_eigen_solver_result.eigenstate\n",
        "    eigenvector = eigenstate if isinstance(eigenstate, np.ndarray) else eigenstate.to_matrix()\n",
        "    probabilities = np.abs(eigenvector) ** 2\n",
        "    i_sorted = reversed(np.argsort(probabilities))\n",
        "    print(\"\\n----------------- Full result ---------------------\")\n",
        "    print(\"selection\\tvalue\\t\\tprobability\")\n",
        "    print(\"---------------------------------------------------\")\n",
        "    for i in i_sorted:\n",
        "        x = index_to_selection(i, num_assets)\n",
        "        value = QuadraticProgramToQubo().convert(qp).objective.evaluate(x)\n",
        "        # value = portfolio.to_quadratic_program().objective.evaluate(x)\n",
        "        probability = probabilities[i]\n",
        "        print(\"%10s\\t%.4f\\t\\t%.4f\" % (x, value, probability))"
      ],
      "metadata": {
        "id": "9i06AffK73Z2"
      },
      "execution_count": 44,
      "outputs": []
    },
    {
      "cell_type": "code",
      "source": [
        "#classical reference solution\n",
        "\n",
        "exact_mes = NumPyMinimumEigensolver()\n",
        "exact_eigensolver = MinimumEigenOptimizer(exact_mes)\n",
        "\n",
        "result = exact_eigensolver.solve(qp)\n",
        "\n",
        "print_result(result)"
      ],
      "metadata": {
        "id": "arhXgNZx76Ir",
        "colab": {
          "base_uri": "https://localhost:8080/"
        },
        "outputId": "e0a0db10-0663-4d86-b285-89679d6edc3d"
      },
      "execution_count": 45,
      "outputs": [
        {
          "output_type": "stream",
          "name": "stdout",
          "text": [
            "Optimal: selection [0. 0. 1. 0.], value -0.0008\n",
            "\n",
            "----------------- Full result ---------------------\n",
            "selection\tvalue\t\tprobability\n",
            "---------------------------------------------------\n",
            " [0 0 1 0]\t-0.0008\t\t1.0000\n",
            " [1 1 1 1]\t9.0614\t\t0.0000\n",
            " [0 1 1 1]\t4.0266\t\t0.0000\n",
            " [1 0 1 1]\t4.0266\t\t0.0000\n",
            " [0 0 1 1]\t1.0058\t\t0.0000\n",
            " [1 1 0 1]\t4.0267\t\t0.0000\n",
            " [0 1 0 1]\t1.0060\t\t0.0000\n",
            " [1 0 0 1]\t1.0060\t\t0.0000\n",
            " [0 0 0 1]\t-0.0007\t\t0.0000\n",
            " [1 1 1 0]\t4.0266\t\t0.0000\n",
            " [0 1 1 0]\t1.0059\t\t0.0000\n",
            " [1 0 1 0]\t1.0058\t\t0.0000\n",
            " [1 1 0 0]\t1.0060\t\t0.0000\n",
            " [0 1 0 0]\t-0.0006\t\t0.0000\n",
            " [1 0 0 0]\t-0.0006\t\t0.0000\n",
            " [0 0 0 0]\t1.0068\t\t0.0000\n"
          ]
        }
      ]
    },
    {
      "cell_type": "code",
      "source": [
        "##VQE SOln\n",
        "from qiskit.utils import algorithm_globals\n",
        "\n",
        "algorithm_globals.random_seed = 1234\n",
        "backend = Aer.get_backend(\"statevector_simulator\")\n",
        "\n",
        "cobyla = COBYLA()\n",
        "cobyla.set_options(maxiter=500)\n",
        "ry = TwoLocal(num_assets, \"ry\", \"cz\", reps=3, entanglement=\"full\")\n",
        "quantum_instance = QuantumInstance(backend=backend, seed_simulator=seed, seed_transpiler=seed)\n",
        "vqe_mes = VQE(ry, optimizer=cobyla, quantum_instance=quantum_instance)\n",
        "vqe = MinimumEigenOptimizer(vqe_mes)\n",
        "result = vqe.solve(qp)\n",
        "\n",
        "print_result(result)\n"
      ],
      "metadata": {
        "id": "0-bCCDi98J57",
        "colab": {
          "base_uri": "https://localhost:8080/"
        },
        "outputId": "50b05bb7-966b-4fa9-d565-fa90b6a2274f"
      },
      "execution_count": 46,
      "outputs": [
        {
          "output_type": "stream",
          "name": "stdout",
          "text": [
            "Optimal: selection [0. 0. 0. 1.], value -0.0007\n",
            "\n",
            "----------------- Full result ---------------------\n",
            "selection\tvalue\t\tprobability\n",
            "---------------------------------------------------\n",
            " [0 1 0 0]\t-0.0006\t\t0.8866\n",
            " [0 0 0 1]\t-0.0007\t\t0.1075\n",
            " [1 0 0 0]\t-0.0006\t\t0.0059\n",
            " [0 0 1 0]\t-0.0008\t\t0.0000\n",
            " [1 0 1 1]\t4.0266\t\t0.0000\n",
            " [0 0 1 1]\t1.0058\t\t0.0000\n",
            " [0 1 1 0]\t1.0059\t\t0.0000\n",
            " [1 1 1 0]\t4.0266\t\t0.0000\n",
            " [1 0 1 0]\t1.0058\t\t0.0000\n",
            " [0 1 0 1]\t1.0060\t\t0.0000\n",
            " [1 1 1 1]\t9.0614\t\t0.0000\n",
            " [0 0 0 0]\t1.0068\t\t0.0000\n",
            " [1 0 0 1]\t1.0060\t\t0.0000\n",
            " [0 1 1 1]\t4.0266\t\t0.0000\n",
            " [1 1 0 0]\t1.0060\t\t0.0000\n",
            " [1 1 0 1]\t4.0267\t\t0.0000\n"
          ]
        }
      ]
    },
    {
      "cell_type": "code",
      "source": [
        "#### QAOA solution\n",
        "\n",
        "algorithm_globals.random_seed = 1234\n",
        "backend = Aer.get_backend(\"statevector_simulator\")\n",
        "\n",
        "cobyla = COBYLA()\n",
        "cobyla.set_options(maxiter=250)\n",
        "quantum_instance = QuantumInstance(backend=backend, seed_simulator=seed, seed_transpiler=seed)\n",
        "qaoa_mes = QAOA(optimizer=cobyla, reps=3, quantum_instance=quantum_instance)\n",
        "qaoa = MinimumEigenOptimizer(qaoa_mes)\n",
        "result = qaoa.solve(qp)\n",
        "\n",
        "print_result(result)"
      ],
      "metadata": {
        "id": "f65oTpJG8OFZ",
        "colab": {
          "base_uri": "https://localhost:8080/"
        },
        "outputId": "668b5f75-aebb-4beb-d297-53c24d87b66d"
      },
      "execution_count": 47,
      "outputs": [
        {
          "output_type": "stream",
          "name": "stdout",
          "text": [
            "Optimal: selection [0. 0. 1. 0.], value -0.0008\n",
            "\n",
            "----------------- Full result ---------------------\n",
            "selection\tvalue\t\tprobability\n",
            "---------------------------------------------------\n",
            " [0 1 0 0]\t-0.0006\t\t0.2414\n",
            " [1 0 0 0]\t-0.0006\t\t0.2413\n",
            " [0 0 0 1]\t-0.0007\t\t0.2413\n",
            " [0 0 1 0]\t-0.0008\t\t0.2412\n",
            " [0 0 0 0]\t1.0068\t\t0.0136\n",
            " [1 1 0 1]\t4.0267\t\t0.0043\n",
            " [1 1 1 0]\t4.0266\t\t0.0043\n",
            " [0 1 1 1]\t4.0266\t\t0.0043\n",
            " [1 0 1 1]\t4.0266\t\t0.0043\n",
            " [0 1 0 1]\t1.0060\t\t0.0006\n",
            " [1 1 0 0]\t1.0060\t\t0.0006\n",
            " [1 0 0 1]\t1.0060\t\t0.0006\n",
            " [0 1 1 0]\t1.0059\t\t0.0006\n",
            " [0 0 1 1]\t1.0058\t\t0.0006\n",
            " [1 0 1 0]\t1.0058\t\t0.0006\n",
            " [1 1 1 1]\t9.0614\t\t0.0002\n"
          ]
        }
      ]
    },
    {
      "cell_type": "code",
      "source": [
        "stocks = [\"JPM\",\"GS\",\"SQ\",\"MS\",\"BAC\"]\n",
        "\n",
        "token = \"NBQ7j3g_Q8_bcpvW6kMA\"\n",
        "if token != \"NBQ7j3g_Q8_bcpvW6kMA\":\n",
        "    try:\n",
        "        wiki = WikipediaDataProvider(\n",
        "            token=token,\n",
        "            tickers=stocks,\n",
        "            start=datetime.datetime(2017, 9, 1),\n",
        "            end=datetime.datetime(2021, 12, 30),\n",
        "        )\n",
        "        wiki.run()\n",
        "    except QiskitFinanceError as ex:\n",
        "        print(ex)\n",
        "        print(\"Error retrieving data.\")\n"
      ],
      "metadata": {
        "id": "gq26cU5z8VxX"
      },
      "execution_count": 48,
      "outputs": []
    },
    {
      "cell_type": "code",
      "source": [
        "if token != \"NBQ7j3g_Q8_bcpvW6kMA\":\n",
        "    if wiki._data:\n",
        "        if wiki._n <= 1:\n",
        "            print(\n",
        "                \"Not enough wiki data to plot covariance or time-series similarity. Please use at least two tickers.\"\n",
        "            )\n",
        "        else:\n",
        "            rho = wiki.get_similarity_matrix()\n",
        "            print(\"A time-series similarity measure:\")\n",
        "            print(rho)\n",
        "            plt.imshow(rho)\n",
        "            plt.show()\n",
        "\n",
        "            cov = wiki.get_covariance_matrix()\n",
        "            print(\"A covariance matrix:\")\n",
        "            print(cov)\n",
        "            plt.imshow(cov)\n",
        "            plt.show()\n",
        "    else:\n",
        "        print(\"No wiki data loaded.\")"
      ],
      "metadata": {
        "id": "c4I6pq8E8miS"
      },
      "execution_count": 49,
      "outputs": []
    },
    {
      "cell_type": "code",
      "source": [
        "if token != \"NBQ7j3g_Q8_bcpvW6kMA\":\n",
        "    if wiki._data:\n",
        "        print(\"The underlying evolution of stock prices:\")\n",
        "        for (cnt, s) in enumerate(stocks):\n",
        "            plt.plot(wiki._data[cnt], label=s)\n",
        "        plt.legend()\n",
        "        plt.xticks(rotation=90)\n",
        "        plt.show()\n",
        "\n",
        "        for (cnt, s) in enumerate(stocks):\n",
        "            print(s)\n",
        "            print(wiki._data[cnt])\n",
        "    else:\n",
        "        print(\"No wiki data loaded.\")\n",
        "\n",
        "for (cnt, s) in enumerate(data._tickers):\n",
        "    plt.plot(data._data[cnt], label=s)\n",
        "plt.legend()\n",
        "plt.xticks(rotation=90)\n",
        "plt.show()\n"
      ],
      "metadata": {
        "id": "v8QEzN_887Z9",
        "colab": {
          "base_uri": "https://localhost:8080/",
          "height": 297
        },
        "outputId": "0828a19f-5e07-47a2-a139-bfe16d8a8889"
      },
      "execution_count": 50,
      "outputs": [
        {
          "output_type": "display_data",
          "data": {
            "text/plain": [
              "<Figure size 432x288 with 1 Axes>"
            ],
            "image/png": "[encoded data removed]"
          },
          "metadata": {
            "needs_background": "light"
          }
        }
      ]
    },
    {
      "cell_type": "code",
      "source": [
        "for (cnt, s) in enumerate(data._tickers):\n",
        "    print(data._data[cnt])"
      ],
      "metadata": {
        "id": "MOniVARIQXgy",
        "colab": {
          "base_uri": "https://localhost:8080/"
        },
        "outputId": "8cb4923a-b191-470d-e163-cc49c616eb4f"
      },
      "execution_count": 51,
      "outputs": [
        {
          "output_type": "stream",
          "name": "stdout",
          "text": [
            "Date\n",
            "2017-09-01     79.571510\n",
            "2017-09-05     77.671165\n",
            "2017-09-06     78.191833\n",
            "2017-09-07     76.820808\n",
            "2017-09-08     76.725334\n",
            "                 ...    \n",
            "2021-11-23    164.590607\n",
            "2021-11-24    163.299545\n",
            "2021-11-26    158.379822\n",
            "2021-11-29    157.695160\n",
            "2021-11-30    155.347794\n",
            "Name: Adj Close, Length: 1069, dtype: float64\n",
            "Date\n",
            "2017-09-01    206.354355\n",
            "2017-09-05    198.954529\n",
            "2017-09-06    199.913773\n",
            "2017-09-07    197.182266\n",
            "2017-09-08    198.433853\n",
            "                 ...    \n",
            "2021-11-23    399.392303\n",
            "2021-11-24    392.364563\n",
            "2021-11-26    382.732147\n",
            "2021-11-29    379.930878\n",
            "2021-11-30    374.475739\n",
            "Name: Adj Close, Length: 1069, dtype: float64\n",
            "Date\n",
            "2017-09-01     40.797436\n",
            "2017-09-05     39.649208\n",
            "2017-09-06     39.808182\n",
            "2017-09-07     38.924938\n",
            "2017-09-08     38.871941\n",
            "                 ...    \n",
            "2021-11-23    100.293777\n",
            "2021-11-24     99.565155\n",
            "2021-11-26     96.424210\n",
            "2021-11-29     95.734978\n",
            "2021-11-30     93.362030\n",
            "Name: Adj Close, Length: 1069, dtype: float64\n",
            "Date\n",
            "2017-09-01    21.773127\n",
            "2017-09-05    21.068140\n",
            "2017-09-06    21.158527\n",
            "2017-09-07    20.760843\n",
            "2017-09-08    20.688536\n",
            "                ...    \n",
            "2021-11-23    46.773056\n",
            "2021-11-24    46.901073\n",
            "2021-11-26    45.059689\n",
            "2021-11-29    44.892292\n",
            "2021-11-30    43.789433\n",
            "Name: Adj Close, Length: 1069, dtype: float64\n"
          ]
        }
      ]
    },
    {
      "cell_type": "markdown",
      "source": [
        "Retail\n",
        "\n",
        "---\n",
        "\n"
      ],
      "metadata": {
        "id": "VZbuCFIY9N2c"
      }
    },
    {
      "cell_type": "code",
      "source": [
        "# set number of assets (= number of qubits)\n",
        "num_assets = 4\n",
        "seed = 1234\n",
        "\n",
        "# Generate expected return and covariance matrix from (random) time-series\n",
        "#stocks = [(\"TICKER%s\" % i) for i in range(num_assets)]\n",
        "# data = RandomDataProvider(\n",
        "#     tickers=stocks,\n",
        "#     start=datetime.datetime(2016, 1, 1),\n",
        "#     end=datetime.datetime(2016, 1, 30),\n",
        "#     seed=seed,\n",
        "# )\n",
        "\n",
        "\n",
        "\n",
        "#### Using data from yahoo finance\n",
        "data = YahooDataProvider(\n",
        "        tickers=[\"COST\",\"AMZN\",\"TGT\",\"WMT\"],\n",
        "        start=datetime.datetime(2015, 9, 1),\n",
        "        end=datetime.datetime(2021, 12, 1),\n",
        "    )\n",
        "data.run()\n",
        "mu = data.get_period_return_mean_vector()\n",
        "sigma = data.get_period_return_covariance_matrix()\n"
      ],
      "metadata": {
        "id": "dIi5n1_-9AJn"
      },
      "execution_count": 52,
      "outputs": []
    },
    {
      "cell_type": "code",
      "source": [
        "# plot sigma\n",
        "plt.imshow(sigma, interpolation=\"nearest\")\n",
        "plt.show()"
      ],
      "metadata": {
        "id": "THBjZiW_9-2B",
        "colab": {
          "base_uri": "https://localhost:8080/",
          "height": 269
        },
        "outputId": "f6a0a61e-aa96-45a6-fc18-628d75897450"
      },
      "execution_count": 53,
      "outputs": [
        {
          "output_type": "display_data",
          "data": {
            "text/plain": [
              "<Figure size 432x288 with 1 Axes>"
            ],
            "image/png": "[encoded data removed]"
          },
          "metadata": {
            "needs_background": "light"
          }
        }
      ]
    },
    {
      "cell_type": "code",
      "source": [
        "q = 0.5  # set risk factor\n",
        "budget = num_assets // 4  # set budget\n",
        "penalty = num_assets  # set parameter to scale the budget penalty term\n",
        "\n",
        "portfolio = PortfolioOptimization(\n",
        "    expected_returns=mu, covariances=sigma, risk_factor=q, budget=budget\n",
        ")\n",
        "qp = portfolio.to_quadratic_program()\n",
        "qp"
      ],
      "metadata": {
        "id": "d73FTF2--Ard",
        "colab": {
          "base_uri": "https://localhost:8080/"
        },
        "outputId": "ddab3e3c-5661-4a92-82fc-ef21cdfe142c"
      },
      "execution_count": 54,
      "outputs": [
        {
          "output_type": "execute_result",
          "data": {
            "text/plain": [
              "<QuadraticProgram: minimize 8.437405090241747e-05*x_0^2 + 9.718516360816078e-0..., 4 variables, 1 constraints, 'Portfolio optimization'>"
            ]
          },
          "metadata": {},
          "execution_count": 54
        }
      ]
    },
    {
      "cell_type": "code",
      "source": [
        "def index_to_selection(i, num_assets):\n",
        "    s = \"{0:b}\".format(i).rjust(num_assets)\n",
        "    x = np.array([1 if s[i] == \"1\" else 0 for i in reversed(range(num_assets))])\n",
        "    return x\n",
        "\n",
        "\n",
        "def print_result(result):\n",
        "    selection = result.x\n",
        "    value = result.fval\n",
        "    print(\"Optimal: selection {}, value {:.4f}\".format(selection, value))\n",
        "\n",
        "    eigenstate = result.min_eigen_solver_result.eigenstate\n",
        "    eigenvector = eigenstate if isinstance(eigenstate, np.ndarray) else eigenstate.to_matrix()\n",
        "    probabilities = np.abs(eigenvector) ** 2\n",
        "    i_sorted = reversed(np.argsort(probabilities))\n",
        "    print(\"\\n----------------- Full result ---------------------\")\n",
        "    print(\"selection\\tvalue\\t\\tprobability\")\n",
        "    print(\"---------------------------------------------------\")\n",
        "    for i in i_sorted:\n",
        "        x = index_to_selection(i, num_assets)\n",
        "        value = QuadraticProgramToQubo().convert(qp).objective.evaluate(x)\n",
        "        # value = portfolio.to_quadratic_program().objective.evaluate(x)\n",
        "        probability = probabilities[i]\n",
        "        print(\"%10s\\t%.4f\\t\\t%.4f\" % (x, value, probability))\n"
      ],
      "metadata": {
        "id": "eaibfjp4-FeT"
      },
      "execution_count": 55,
      "outputs": []
    },
    {
      "cell_type": "code",
      "source": [
        "\n",
        "#classical reference solution\n",
        "\n",
        "exact_mes = NumPyMinimumEigensolver()\n",
        "exact_eigensolver = MinimumEigenOptimizer(exact_mes)\n",
        "\n",
        "result = exact_eigensolver.solve(qp)\n",
        "\n",
        "print_result(result)"
      ],
      "metadata": {
        "id": "XrOWSZmF-ITN",
        "colab": {
          "base_uri": "https://localhost:8080/"
        },
        "outputId": "9b7b46c6-00da-4345-bfef-1a87138ecc76"
      },
      "execution_count": 56,
      "outputs": [
        {
          "output_type": "stream",
          "name": "stdout",
          "text": [
            "Optimal: selection [0. 1. 0. 0.], value -0.0012\n",
            "\n",
            "----------------- Full result ---------------------\n",
            "selection\tvalue\t\tprobability\n",
            "---------------------------------------------------\n",
            " [0 1 0 0]\t-0.0012\t\t1.0000\n",
            " [1 1 1 1]\t9.0440\t\t0.0000\n",
            " [0 1 1 1]\t4.0185\t\t0.0000\n",
            " [1 0 1 1]\t4.0189\t\t0.0000\n",
            " [0 0 1 1]\t1.0039\t\t0.0000\n",
            " [1 1 0 1]\t4.0184\t\t0.0000\n",
            " [0 1 0 1]\t1.0035\t\t0.0000\n",
            " [1 0 0 1]\t1.0038\t\t0.0000\n",
            " [0 0 0 1]\t-0.0006\t\t0.0000\n",
            " [1 1 1 0]\t4.0182\t\t0.0000\n",
            " [0 1 1 0]\t1.0032\t\t0.0000\n",
            " [1 0 1 0]\t1.0035\t\t0.0000\n",
            " [0 0 1 0]\t-0.0009\t\t0.0000\n",
            " [1 1 0 0]\t1.0031\t\t0.0000\n",
            " [1 0 0 0]\t-0.0009\t\t0.0000\n",
            " [0 0 0 0]\t1.0052\t\t0.0000\n"
          ]
        }
      ]
    },
    {
      "cell_type": "code",
      "source": [
        "##VQE SOln\n",
        "from qiskit.utils import algorithm_globals\n",
        "\n",
        "algorithm_globals.random_seed = 1234\n",
        "backend = Aer.get_backend(\"statevector_simulator\")\n",
        "\n",
        "cobyla = COBYLA()\n",
        "cobyla.set_options(maxiter=500)\n",
        "ry = TwoLocal(num_assets, \"ry\", \"cz\", reps=3, entanglement=\"full\")\n",
        "quantum_instance = QuantumInstance(backend=backend, seed_simulator=seed, seed_transpiler=seed)\n",
        "vqe_mes = VQE(ry, optimizer=cobyla, quantum_instance=quantum_instance)\n",
        "vqe = MinimumEigenOptimizer(vqe_mes)\n",
        "result = vqe.solve(qp)\n",
        "\n",
        "print_result(result)\n"
      ],
      "metadata": {
        "id": "sMWBAqFG-VE2",
        "colab": {
          "base_uri": "https://localhost:8080/"
        },
        "outputId": "702efff9-22d5-4cc8-f751-55c5651009f2"
      },
      "execution_count": 57,
      "outputs": [
        {
          "output_type": "stream",
          "name": "stdout",
          "text": [
            "Optimal: selection [0. 1. 0. 0.], value -0.0012\n",
            "\n",
            "----------------- Full result ---------------------\n",
            "selection\tvalue\t\tprobability\n",
            "---------------------------------------------------\n",
            " [0 1 0 0]\t-0.0012\t\t0.9964\n",
            " [0 0 0 1]\t-0.0006\t\t0.0026\n",
            " [0 0 1 1]\t1.0039\t\t0.0007\n",
            " [1 0 0 0]\t-0.0009\t\t0.0002\n",
            " [1 0 1 0]\t1.0035\t\t0.0000\n",
            " [1 0 1 1]\t4.0189\t\t0.0000\n",
            " [0 0 1 0]\t-0.0009\t\t0.0000\n",
            " [1 1 1 1]\t9.0440\t\t0.0000\n",
            " [0 0 0 0]\t1.0052\t\t0.0000\n",
            " [0 1 1 1]\t4.0185\t\t0.0000\n",
            " [1 1 0 0]\t1.0031\t\t0.0000\n",
            " [1 1 0 1]\t4.0184\t\t0.0000\n",
            " [1 0 0 1]\t1.0038\t\t0.0000\n",
            " [1 1 1 0]\t4.0182\t\t0.0000\n",
            " [0 1 0 1]\t1.0035\t\t0.0000\n",
            " [0 1 1 0]\t1.0032\t\t0.0000\n"
          ]
        }
      ]
    },
    {
      "cell_type": "code",
      "source": [
        "#### QAOA solution\n",
        "\n",
        "algorithm_globals.random_seed = 1234\n",
        "backend = Aer.get_backend(\"statevector_simulator\")\n",
        "\n",
        "cobyla = COBYLA()\n",
        "cobyla.set_options(maxiter=250)\n",
        "quantum_instance = QuantumInstance(backend=backend, seed_simulator=seed, seed_transpiler=seed)\n",
        "qaoa_mes = QAOA(optimizer=cobyla, reps=3, quantum_instance=quantum_instance)\n",
        "qaoa = MinimumEigenOptimizer(qaoa_mes)\n",
        "result = qaoa.solve(qp)\n",
        "\n",
        "print_result(result)"
      ],
      "metadata": {
        "id": "er78ck2_-YRZ",
        "colab": {
          "base_uri": "https://localhost:8080/"
        },
        "outputId": "354861c1-e5da-410e-ce63-eec54fdb3a86"
      },
      "execution_count": 58,
      "outputs": [
        {
          "output_type": "stream",
          "name": "stdout",
          "text": [
            "Optimal: selection [0. 1. 0. 0.], value -0.0012\n",
            "\n",
            "----------------- Full result ---------------------\n",
            "selection\tvalue\t\tprobability\n",
            "---------------------------------------------------\n",
            " [0 1 0 0]\t-0.0012\t\t0.2483\n",
            " [1 0 0 0]\t-0.0009\t\t0.2482\n",
            " [0 0 1 0]\t-0.0009\t\t0.2482\n",
            " [0 0 0 1]\t-0.0006\t\t0.2481\n",
            " [1 1 1 1]\t9.0440\t\t0.0040\n",
            " [0 0 0 0]\t1.0052\t\t0.0015\n",
            " [1 1 0 0]\t1.0031\t\t0.0002\n",
            " [0 1 1 0]\t1.0032\t\t0.0002\n",
            " [0 1 0 1]\t1.0035\t\t0.0002\n",
            " [1 0 1 0]\t1.0035\t\t0.0002\n",
            " [1 0 0 1]\t1.0038\t\t0.0002\n",
            " [0 0 1 1]\t1.0039\t\t0.0002\n",
            " [1 0 1 1]\t4.0189\t\t0.0001\n",
            " [0 1 1 1]\t4.0185\t\t0.0001\n",
            " [1 1 0 1]\t4.0184\t\t0.0001\n",
            " [1 1 1 0]\t4.0182\t\t0.0001\n"
          ]
        }
      ]
    },
    {
      "cell_type": "code",
      "source": [
        "stocks = [\"COST\",\"AMZN\",\"TGT\",\"WMT\"]\n",
        "\n",
        "token = \"NBQ7j3g_Q8_bcpvW6kMA\"\n",
        "if token != \"NBQ7j3g_Q8_bcpvW6kMA\":\n",
        "    try:\n",
        "        wiki = WikipediaDataProvider(\n",
        "            token=token,\n",
        "            tickers=stocks,\n",
        "            start=datetime.datetime(2015, 9, 1),\n",
        "            end=datetime.datetime(2021, 12, 30),\n",
        "        )\n",
        "        wiki.run()\n",
        "    except QiskitFinanceError as ex:\n",
        "        print(ex)\n",
        "        print(\"Error retrieving data.\")"
      ],
      "metadata": {
        "id": "E_9ZXqZA-p-u"
      },
      "execution_count": 59,
      "outputs": []
    },
    {
      "cell_type": "code",
      "source": [
        "if token != \"NBQ7j3g_Q8_bcpvW6kMA\":\n",
        "    if wiki._data:\n",
        "        if wiki._n <= 1:\n",
        "            print(\n",
        "                \"Not enough wiki data to plot covariance or time-series similarity. Please use at least two tickers.\"\n",
        "            )\n",
        "        else:\n",
        "            rho = wiki.get_similarity_matrix()\n",
        "            print(\"A time-series similarity measure:\")\n",
        "            print(rho)\n",
        "            plt.imshow(rho)\n",
        "            plt.show()\n",
        "\n",
        "            cov = wiki.get_covariance_matrix()\n",
        "            print(\"A covariance matrix:\")\n",
        "            print(cov)\n",
        "            plt.imshow(cov)\n",
        "            plt.show()\n",
        "    else:\n",
        "        print(\"No wiki data loaded.\")\n",
        "\n",
        "if token != \"NBQ7j3g_Q8_bcpvW6kMA\":\n",
        "    if wiki._data:\n",
        "        print(\"The underlying evolution of stock prices:\")\n",
        "        for (cnt, s) in enumerate(stocks):\n",
        "            plt.plot(wiki._data[cnt], label=s)\n",
        "        plt.legend()\n",
        "        plt.xticks(rotation=90)\n",
        "        plt.show()\n",
        "\n",
        "        for (cnt, s) in enumerate(stocks):\n",
        "            print(s)\n",
        "            print(wiki._data[cnt])\n",
        "    else:\n",
        "        print(\"No wiki data loaded.\")\n",
        "\n",
        "for (cnt, s) in enumerate(data._tickers):\n",
        "    plt.plot(data._data[cnt], label=s)\n",
        "plt.legend()\n",
        "plt.xticks(rotation=90)\n",
        "plt.show()\n"
      ],
      "metadata": {
        "id": "yNRCYrhX-zWj",
        "colab": {
          "base_uri": "https://localhost:8080/",
          "height": 281
        },
        "outputId": "7213592b-d0fc-419e-f782-0ee73f0caaad"
      },
      "execution_count": 60,
      "outputs": [
        {
          "output_type": "display_data",
          "data": {
            "text/plain": [
              "<Figure size 432x288 with 1 Axes>"
            ],
            "image/png": "[encoded data removed]"
          },
          "metadata": {
            "needs_background": "light"
          }
        }
      ]
    },
    {
      "cell_type": "code",
      "source": [
        "for (cnt, s) in enumerate(data._tickers):\n",
        "    print(data._data[cnt])"
      ],
      "metadata": {
        "id": "jOuB449BQZ4A",
        "colab": {
          "base_uri": "https://localhost:8080/"
        },
        "outputId": "21082efc-d626-498e-b090-0c197898b611"
      },
      "execution_count": 61,
      "outputs": [
        {
          "output_type": "stream",
          "name": "stdout",
          "text": [
            "Date\n",
            "2015-09-01    121.363937\n",
            "2015-09-02    123.224350\n",
            "2015-09-03    123.277023\n",
            "2015-09-04    121.521904\n",
            "2015-09-08    124.110641\n",
            "                 ...    \n",
            "2021-11-23    543.550476\n",
            "2021-11-24    548.006470\n",
            "2021-11-26    544.417786\n",
            "2021-11-29    553.140320\n",
            "2021-11-30    537.688965\n",
            "Name: Adj Close, Length: 1574, dtype: float64\n",
            "Date\n",
            "2015-09-01     24.827000\n",
            "2015-09-02     25.527500\n",
            "2015-09-03     25.236000\n",
            "2015-09-04     24.950001\n",
            "2015-09-08     25.877001\n",
            "                 ...    \n",
            "2021-11-23    179.001999\n",
            "2021-11-24    179.020493\n",
            "2021-11-26    175.227997\n",
            "2021-11-29    178.078506\n",
            "2021-11-30    175.353500\n",
            "Name: Adj Close, Length: 1574, dtype: float64\n",
            "Date\n",
            "2015-09-01     62.475933\n",
            "2015-09-02     63.851570\n",
            "2015-09-03     64.183067\n",
            "2015-09-04     63.329498\n",
            "2015-09-08     64.953751\n",
            "                 ...    \n",
            "2021-11-23    247.086319\n",
            "2021-11-24    246.669846\n",
            "2021-11-26    244.498260\n",
            "2021-11-29    247.066498\n",
            "2021-11-30    241.791183\n",
            "Name: Adj Close, Length: 1574, dtype: float64\n",
            "Date\n",
            "2015-09-01     55.160583\n",
            "2015-09-02     55.696472\n",
            "2015-09-03     56.059471\n",
            "2015-09-04     55.221085\n",
            "2015-09-08     57.373234\n",
            "                 ...    \n",
            "2021-11-23    144.141815\n",
            "2021-11-24    144.863449\n",
            "2021-11-26    143.242218\n",
            "2021-11-29    140.998184\n",
            "2021-11-30    139.021057\n",
            "Name: Adj Close, Length: 1574, dtype: float64\n"
          ]
        }
      ]
    },
    {
      "cell_type": "markdown",
      "source": [
        "Healthcare\n",
        "\n",
        "---\n",
        "\n"
      ],
      "metadata": {
        "id": "-BkYVxTA_OwS"
      }
    },
    {
      "cell_type": "code",
      "source": [
        "# set number of assets (= number of qubits)\n",
        "num_assets = 4\n",
        "seed = 1234\n",
        "\n",
        "# Generate expected return and covariance matrix from (random) time-series\n",
        "#stocks = [(\"TICKER%s\" % i) for i in range(num_assets)]\n",
        "# data = RandomDataProvider(\n",
        "#     tickers=stocks,\n",
        "#     start=datetime.datetime(2016, 1, 1),\n",
        "#     end=datetime.datetime(2016, 1, 30),\n",
        "#     seed=seed,\n",
        "# )\n",
        "\n",
        "\n",
        "\n",
        "#### Using data from yahoo finance\n",
        "data = YahooDataProvider(\n",
        "        tickers=[\"NVCR\",\"UNH\",\"ABT\",\"PFE\"],\n",
        "        start=datetime.datetime(2016, 9, 1),\n",
        "        end=datetime.datetime(2021, 12, 1),\n",
        "    )\n",
        "data.run()\n",
        "mu = data.get_period_return_mean_vector()\n",
        "sigma = data.get_period_return_covariance_matrix()\n"
      ],
      "metadata": {
        "id": "Mwo-VWfO_OUv"
      },
      "execution_count": 62,
      "outputs": []
    },
    {
      "cell_type": "code",
      "source": [
        "# plot sigma\n",
        "plt.imshow(sigma, interpolation=\"nearest\")\n",
        "plt.show()"
      ],
      "metadata": {
        "id": "T-3Bmt_GMpFA",
        "colab": {
          "base_uri": "https://localhost:8080/",
          "height": 269
        },
        "outputId": "79783541-4ac1-4f4d-f9d2-2cea9bbcfd3d"
      },
      "execution_count": 63,
      "outputs": [
        {
          "output_type": "display_data",
          "data": {
            "text/plain": [
              "<Figure size 432x288 with 1 Axes>"
            ],
            "image/png": "[encoded data removed]"
          },
          "metadata": {
            "needs_background": "light"
          }
        }
      ]
    },
    {
      "cell_type": "code",
      "source": [
        "q = 0.5  # set risk factor\n",
        "budget = num_assets // 4  # set budget\n",
        "penalty = num_assets  # set parameter to scale the budget penalty term\n",
        "\n",
        "portfolio = PortfolioOptimization(\n",
        "    expected_returns=mu, covariances=sigma, risk_factor=q, budget=budget\n",
        ")\n",
        "qp = portfolio.to_quadratic_program()\n",
        "qp"
      ],
      "metadata": {
        "id": "YNkknzaaMuve",
        "colab": {
          "base_uri": "https://localhost:8080/"
        },
        "outputId": "5f6a7dc4-3b24-42ad-dc3b-42e35a007a32"
      },
      "execution_count": 64,
      "outputs": [
        {
          "output_type": "execute_result",
          "data": {
            "text/plain": [
              "<QuadraticProgram: minimize 0.0007473694203058352*x_0^2 + 0.000171940967430838..., 4 variables, 1 constraints, 'Portfolio optimization'>"
            ]
          },
          "metadata": {},
          "execution_count": 64
        }
      ]
    },
    {
      "cell_type": "code",
      "source": [
        "def index_to_selection(i, num_assets):\n",
        "    s = \"{0:b}\".format(i).rjust(num_assets)\n",
        "    x = np.array([1 if s[i] == \"1\" else 0 for i in reversed(range(num_assets))])\n",
        "    return x\n",
        "\n",
        "\n",
        "def print_result(result):\n",
        "    selection = result.x\n",
        "    value = result.fval\n",
        "    print(\"Optimal: selection {}, value {:.4f}\".format(selection, value))\n",
        "\n",
        "    eigenstate = result.min_eigen_solver_result.eigenstate\n",
        "    eigenvector = eigenstate if isinstance(eigenstate, np.ndarray) else eigenstate.to_matrix()\n",
        "    probabilities = np.abs(eigenvector) ** 2\n",
        "    i_sorted = reversed(np.argsort(probabilities))\n",
        "    print(\"\\n----------------- Full result ---------------------\")\n",
        "    print(\"selection\\tvalue\\t\\tprobability\")\n",
        "    print(\"---------------------------------------------------\")\n",
        "    for i in i_sorted:\n",
        "        x = index_to_selection(i, num_assets)\n",
        "        value = QuadraticProgramToQubo().convert(qp).objective.evaluate(x)\n",
        "        # value = portfolio.to_quadratic_program().objective.evaluate(x)\n",
        "        probability = probabilities[i]\n",
        "        print(\"%10s\\t%.4f\\t\\t%.4f\" % (x, value, probability))"
      ],
      "metadata": {
        "id": "VaRZ_I_BMzCh"
      },
      "execution_count": 65,
      "outputs": []
    },
    {
      "cell_type": "code",
      "source": [
        "exact_mes = NumPyMinimumEigensolver()\n",
        "exact_eigensolver = MinimumEigenOptimizer(exact_mes)\n",
        "\n",
        "result = exact_eigensolver.solve(qp)\n",
        "\n",
        "print_result(result)"
      ],
      "metadata": {
        "id": "YQYlQZtDM2s0",
        "colab": {
          "base_uri": "https://localhost:8080/"
        },
        "outputId": "b3c8bfe0-8a2b-42d3-df9b-f6a8b141af2e"
      },
      "execution_count": 66,
      "outputs": [
        {
          "output_type": "stream",
          "name": "stdout",
          "text": [
            "Optimal: selection [1. 0. 0. 0.], value -0.0019\n",
            "\n",
            "----------------- Full result ---------------------\n",
            "selection\tvalue\t\tprobability\n",
            "---------------------------------------------------\n",
            " [1 0 0 0]\t-0.0019\t\t1.0000\n",
            " [1 1 1 1]\t9.0627\t\t0.0000\n",
            " [0 1 1 1]\t4.0274\t\t0.0000\n",
            " [1 0 1 1]\t4.0265\t\t0.0000\n",
            " [0 0 1 1]\t1.0060\t\t0.0000\n",
            " [1 1 0 1]\t4.0265\t\t0.0000\n",
            " [0 1 0 1]\t1.0060\t\t0.0000\n",
            " [1 0 0 1]\t1.0051\t\t0.0000\n",
            " [0 0 0 1]\t-0.0005\t\t0.0000\n",
            " [1 1 1 0]\t4.0262\t\t0.0000\n",
            " [0 1 1 0]\t1.0056\t\t0.0000\n",
            " [1 0 1 0]\t1.0048\t\t0.0000\n",
            " [0 0 1 0]\t-0.0009\t\t0.0000\n",
            " [1 1 0 0]\t1.0047\t\t0.0000\n",
            " [0 1 0 0]\t-0.0010\t\t0.0000\n",
            " [0 0 0 0]\t1.0073\t\t0.0000\n"
          ]
        }
      ]
    },
    {
      "cell_type": "code",
      "source": [
        "from qiskit.utils import algorithm_globals\n",
        "\n",
        "algorithm_globals.random_seed = 1234\n",
        "backend = Aer.get_backend(\"statevector_simulator\")\n",
        "\n",
        "cobyla = COBYLA()\n",
        "cobyla.set_options(maxiter=500)\n",
        "ry = TwoLocal(num_assets, \"ry\", \"cz\", reps=3, entanglement=\"full\")\n",
        "quantum_instance = QuantumInstance(backend=backend, seed_simulator=seed, seed_transpiler=seed)\n",
        "vqe_mes = VQE(ry, optimizer=cobyla, quantum_instance=quantum_instance)\n",
        "vqe = MinimumEigenOptimizer(vqe_mes)\n",
        "result = vqe.solve(qp)\n",
        "\n",
        "print_result(result)"
      ],
      "metadata": {
        "id": "qnpVL2_5M6Az",
        "colab": {
          "base_uri": "https://localhost:8080/"
        },
        "outputId": "76f905ef-9edd-4020-c9a3-24c05a9c5ebc"
      },
      "execution_count": 67,
      "outputs": [
        {
          "output_type": "stream",
          "name": "stdout",
          "text": [
            "Optimal: selection [1. 0. 0. 0.], value -0.0019\n",
            "\n",
            "----------------- Full result ---------------------\n",
            "selection\tvalue\t\tprobability\n",
            "---------------------------------------------------\n",
            " [0 1 0 0]\t-0.0010\t\t0.8845\n",
            " [0 0 0 1]\t-0.0005\t\t0.1104\n",
            " [1 0 0 0]\t-0.0019\t\t0.0050\n",
            " [0 0 1 0]\t-0.0009\t\t0.0000\n",
            " [0 0 1 1]\t1.0060\t\t0.0000\n",
            " [1 1 1 0]\t4.0262\t\t0.0000\n",
            " [1 0 1 1]\t4.0265\t\t0.0000\n",
            " [1 1 0 0]\t1.0047\t\t0.0000\n",
            " [1 0 1 0]\t1.0048\t\t0.0000\n",
            " [1 1 1 1]\t9.0627\t\t0.0000\n",
            " [0 1 0 1]\t1.0060\t\t0.0000\n",
            " [0 1 1 0]\t1.0056\t\t0.0000\n",
            " [0 1 1 1]\t4.0274\t\t0.0000\n",
            " [1 1 0 1]\t4.0265\t\t0.0000\n",
            " [0 0 0 0]\t1.0073\t\t0.0000\n",
            " [1 0 0 1]\t1.0051\t\t0.0000\n"
          ]
        }
      ]
    },
    {
      "cell_type": "code",
      "source": [
        "algorithm_globals.random_seed = 1234\n",
        "backend = Aer.get_backend(\"statevector_simulator\")\n",
        "\n",
        "cobyla = COBYLA()\n",
        "cobyla.set_options(maxiter=250)\n",
        "quantum_instance = QuantumInstance(backend=backend, seed_simulator=seed, seed_transpiler=seed)\n",
        "qaoa_mes = QAOA(optimizer=cobyla, reps=3, quantum_instance=quantum_instance)\n",
        "qaoa = MinimumEigenOptimizer(qaoa_mes)\n",
        "result = qaoa.solve(qp)\n",
        "\n",
        "print_result(result)"
      ],
      "metadata": {
        "id": "Tkyp2V06NOz2",
        "colab": {
          "base_uri": "https://localhost:8080/"
        },
        "outputId": "778c9087-6c25-4340-ea3a-aa486cff190c"
      },
      "execution_count": 68,
      "outputs": [
        {
          "output_type": "stream",
          "name": "stdout",
          "text": [
            "Optimal: selection [1. 0. 0. 0.], value -0.0019\n",
            "\n",
            "----------------- Full result ---------------------\n",
            "selection\tvalue\t\tprobability\n",
            "---------------------------------------------------\n",
            " [0 0 0 1]\t-0.0005\t\t0.2140\n",
            " [0 0 1 0]\t-0.0009\t\t0.2138\n",
            " [0 1 0 0]\t-0.0010\t\t0.2138\n",
            " [1 0 0 0]\t-0.0019\t\t0.2133\n",
            " [0 0 0 0]\t1.0073\t\t0.0936\n",
            " [0 0 1 1]\t1.0060\t\t0.0050\n",
            " [0 1 0 1]\t1.0060\t\t0.0050\n",
            " [0 1 1 0]\t1.0056\t\t0.0050\n",
            " [1 0 0 1]\t1.0051\t\t0.0049\n",
            " [1 0 1 0]\t1.0048\t\t0.0049\n",
            " [1 1 0 0]\t1.0047\t\t0.0048\n",
            " [0 1 1 1]\t4.0274\t\t0.0048\n",
            " [1 0 1 1]\t4.0265\t\t0.0047\n",
            " [1 1 0 1]\t4.0265\t\t0.0047\n",
            " [1 1 1 0]\t4.0262\t\t0.0046\n",
            " [1 1 1 1]\t9.0627\t\t0.0030\n"
          ]
        }
      ]
    },
    {
      "cell_type": "code",
      "source": [
        "if token != \"NBQ7j3g_Q8_bcpvW6kMA\":\n",
        "    if wiki._data:\n",
        "        if wiki._n <= 1:\n",
        "            print(\n",
        "                \"Not enough wiki data to plot covariance or time-series similarity. Please use at least two tickers.\"\n",
        "            )\n",
        "        else:\n",
        "            rho = wiki.get_similarity_matrix()\n",
        "            print(\"A time-series similarity measure:\")\n",
        "            print(rho)\n",
        "            plt.imshow(rho)\n",
        "            plt.show()\n",
        "\n",
        "            cov = wiki.get_covariance_matrix()\n",
        "            print(\"A covariance matrix:\")\n",
        "            print(cov)\n",
        "            plt.imshow(cov)\n",
        "            plt.show()\n",
        "    else:\n",
        "        print(\"No wiki data loaded.\")\n",
        "\n",
        "if token != \"NBQ7j3g_Q8_bcpvW6kMA\":\n",
        "    if wiki._data:\n",
        "        print(\"The underlying evolution of stock prices:\")\n",
        "        for (cnt, s) in enumerate(stocks):\n",
        "            plt.plot(wiki._data[cnt], label=s)\n",
        "        plt.legend()\n",
        "        plt.xticks(rotation=90)\n",
        "        plt.show()\n",
        "\n",
        "        for (cnt, s) in enumerate(stocks):\n",
        "            print(s)\n",
        "            print(wiki._data[cnt])\n",
        "    else:\n",
        "        print(\"No wiki data loaded.\")\n",
        "\n",
        "for (cnt, s) in enumerate(data._tickers):\n",
        "    plt.plot(data._data[cnt], label=s)\n",
        "plt.legend()\n",
        "plt.xticks(rotation=90)\n",
        "plt.show()"
      ],
      "metadata": {
        "id": "IcGoJ2HQQkup",
        "colab": {
          "base_uri": "https://localhost:8080/",
          "height": 281
        },
        "outputId": "2fc11497-4a72-42ad-fc60-e81ce57a7a70"
      },
      "execution_count": 69,
      "outputs": [
        {
          "output_type": "display_data",
          "data": {
            "text/plain": [
              "<Figure size 432x288 with 1 Axes>"
            ],
            "image/png": "[encoded data removed]"
          },
          "metadata": {
            "needs_background": "light"
          }
        }
      ]
    },
    {
      "cell_type": "code",
      "source": [
        "for (cnt, s) in enumerate(data._tickers):\n",
        "    print(data._data[cnt])"
      ],
      "metadata": {
        "id": "aFOl4nKCQcQH",
        "colab": {
          "base_uri": "https://localhost:8080/"
        },
        "outputId": "b2a678a1-1282-4da5-fec8-effbcdfb100a"
      },
      "execution_count": 70,
      "outputs": [
        {
          "output_type": "stream",
          "name": "stdout",
          "text": [
            "Date\n",
            "2016-09-01     7.750000\n",
            "2016-09-02     8.050000\n",
            "2016-09-06     8.040000\n",
            "2016-09-07     7.960000\n",
            "2016-09-08     8.510000\n",
            "                ...    \n",
            "2021-11-23    93.339996\n",
            "2021-11-24    99.730003\n",
            "2021-11-26    97.010002\n",
            "2021-11-29    93.349998\n",
            "2021-11-30    93.639999\n",
            "Name: Adj Close, Length: 1321, dtype: float64\n",
            "Date\n",
            "2016-09-01    123.989174\n",
            "2016-09-02    124.783859\n",
            "2016-09-06    124.199272\n",
            "2016-09-07    123.873505\n",
            "2016-09-08    124.286446\n",
            "                 ...    \n",
            "2021-11-23    442.782410\n",
            "2021-11-24    445.782928\n",
            "2021-11-26    435.632599\n",
            "2021-11-29    447.605011\n",
            "2021-11-30    439.900696\n",
            "Name: Adj Close, Length: 1321, dtype: float64\n",
            "Date\n",
            "2016-09-01     38.184296\n",
            "2016-09-02     37.994732\n",
            "2016-09-06     38.057919\n",
            "2016-09-07     37.823219\n",
            "2016-09-08     37.778076\n",
            "                 ...    \n",
            "2021-11-23    123.550041\n",
            "2021-11-24    124.135628\n",
            "2021-11-26    124.939575\n",
            "2021-11-29    127.073517\n",
            "2021-11-30    124.830391\n",
            "Name: Adj Close, Length: 1321, dtype: float64\n",
            "Date\n",
            "2016-09-01    26.559505\n",
            "2016-09-02    26.628433\n",
            "2016-09-06    26.628433\n",
            "2016-09-07    26.682049\n",
            "2016-09-08    26.590147\n",
            "                ...    \n",
            "2021-11-23    50.284496\n",
            "2021-11-24    50.097454\n",
            "2021-11-26    53.159019\n",
            "2021-11-29    51.583939\n",
            "2021-11-30    52.893223\n",
            "Name: Adj Close, Length: 1321, dtype: float64\n"
          ]
        }
      ]
    },
    {
      "cell_type": "markdown",
      "source": [
        "\n",
        "Oil\n",
        "---\n",
        "\n"
      ],
      "metadata": {
        "id": "FI-0q2fCblik"
      }
    },
    {
      "cell_type": "code",
      "source": [
        "# set number of assets (= number of qubits)\n",
        "num_assets = 4\n",
        "seed = 1234\n",
        "\n",
        "# Generate expected return and covariance matrix from (random) time-series\n",
        "#stocks = [(\"TICKER%s\" % i) for i in range(num_assets)]\n",
        "# data = RandomDataProvider(\n",
        "#     tickers=stocks,\n",
        "#     start=datetime.datetime(2016, 1, 1),\n",
        "#     end=datetime.datetime(2016, 1, 30),\n",
        "#     seed=seed,\n",
        "# )\n",
        "\n",
        "\n",
        "\n",
        "#### Using data from yahoo finance\n",
        "data = YahooDataProvider(\n",
        "        tickers=[\"DVN\",\"XOM\",\"CVX\",\"OXY\"],\n",
        "        start=datetime.datetime(2016, 9, 1),\n",
        "        end=datetime.datetime(2021, 12, 1),\n",
        "    )\n",
        "data.run()\n",
        "mu = data.get_period_return_mean_vector()\n",
        "sigma = data.get_period_return_covariance_matrix()\n"
      ],
      "metadata": {
        "id": "Xsj3MalgbuYI"
      },
      "execution_count": 71,
      "outputs": []
    },
    {
      "cell_type": "code",
      "source": [
        "# plot sigma\n",
        "plt.imshow(sigma, interpolation=\"nearest\")\n",
        "plt.show()"
      ],
      "metadata": {
        "colab": {
          "base_uri": "https://localhost:8080/",
          "height": 269
        },
        "id": "d3rE9Ab5b5iL",
        "outputId": "40ff870b-393a-4254-fcb9-d53db1230ff1"
      },
      "execution_count": 72,
      "outputs": [
        {
          "output_type": "display_data",
          "data": {
            "text/plain": [
              "<Figure size 432x288 with 1 Axes>"
            ],
            "image/png": "[encoded data removed]"
          },
          "metadata": {
            "needs_background": "light"
          }
        }
      ]
    },
    {
      "cell_type": "code",
      "source": [
        "q = 0.5  # set risk factor\n",
        "budget = num_assets // 4  # set budget\n",
        "penalty = num_assets  # set parameter to scale the budget penalty term\n",
        "\n",
        "portfolio = PortfolioOptimization(\n",
        "    expected_returns=mu, covariances=sigma, risk_factor=q, budget=budget\n",
        ")\n",
        "qp = portfolio.to_quadratic_program()\n",
        "qp"
      ],
      "metadata": {
        "colab": {
          "base_uri": "https://localhost:8080/"
        },
        "id": "gb2JdwMZcg0E",
        "outputId": "4e8ea33d-13f7-41b6-d204-2eb9ec9f66a2"
      },
      "execution_count": 73,
      "outputs": [
        {
          "output_type": "execute_result",
          "data": {
            "text/plain": [
              "<QuadraticProgram: minimize 0.0006360679939535736*x_0^2 + 0.000498328870938026..., 4 variables, 1 constraints, 'Portfolio optimization'>"
            ]
          },
          "metadata": {},
          "execution_count": 73
        }
      ]
    },
    {
      "cell_type": "code",
      "source": [
        "def index_to_selection(i, num_assets):\n",
        "    s = \"{0:b}\".format(i).rjust(num_assets)\n",
        "    x = np.array([1 if s[i] == \"1\" else 0 for i in reversed(range(num_assets))])\n",
        "    return x\n",
        "\n",
        "\n",
        "def print_result(result):\n",
        "    selection = result.x\n",
        "    value = result.fval\n",
        "    print(\"Optimal: selection {}, value {:.4f}\".format(selection, value))\n",
        "\n",
        "    eigenstate = result.min_eigen_solver_result.eigenstate\n",
        "    eigenvector = eigenstate if isinstance(eigenstate, np.ndarray) else eigenstate.to_matrix()\n",
        "    probabilities = np.abs(eigenvector) ** 2\n",
        "    i_sorted = reversed(np.argsort(probabilities))\n",
        "    print(\"\\n----------------- Full result ---------------------\")\n",
        "    print(\"selection\\tvalue\\t\\tprobability\")\n",
        "    print(\"---------------------------------------------------\")\n",
        "    for i in i_sorted:\n",
        "        x = index_to_selection(i, num_assets)\n",
        "        value = QuadraticProgramToQubo().convert(qp).objective.evaluate(x)\n",
        "        # value = portfolio.to_quadratic_program().objective.evaluate(x)\n",
        "        probability = probabilities[i]\n",
        "        print(\"%10s\\t%.4f\\t\\t%.4f\" % (x, value, probability))"
      ],
      "metadata": {
        "id": "PAiqUyV9cmtg"
      },
      "execution_count": 74,
      "outputs": []
    },
    {
      "cell_type": "code",
      "source": [
        "exact_mes = NumPyMinimumEigensolver()\n",
        "exact_eigensolver = MinimumEigenOptimizer(exact_mes)\n",
        "\n",
        "result = exact_eigensolver.solve(qp)\n",
        "\n",
        "print_result(result)"
      ],
      "metadata": {
        "colab": {
          "base_uri": "https://localhost:8080/"
        },
        "id": "VvE1RhOGcn2I",
        "outputId": "c26c2846-4953-40f3-e370-e4b062269576"
      },
      "execution_count": 75,
      "outputs": [
        {
          "output_type": "stream",
          "name": "stdout",
          "text": [
            "Optimal: selection [0. 0. 1. 0.], value -0.0003\n",
            "\n",
            "----------------- Full result ---------------------\n",
            "selection\tvalue\t\tprobability\n",
            "---------------------------------------------------\n",
            " [0 0 1 0]\t-0.0003\t\t1.0000\n",
            " [1 1 1 1]\t9.0618\t\t0.0000\n",
            " [0 1 1 1]\t4.0275\t\t0.0000\n",
            " [1 0 1 1]\t4.0280\t\t0.0000\n",
            " [0 0 1 1]\t1.0072\t\t0.0000\n",
            " [1 1 0 1]\t4.0284\t\t0.0000\n",
            " [0 1 0 1]\t1.0076\t\t0.0000\n",
            " [1 0 0 1]\t1.0079\t\t0.0000\n",
            " [0 0 0 1]\t0.0005\t\t0.0000\n",
            " [1 1 1 0]\t4.0269\t\t0.0000\n",
            " [0 1 1 0]\t1.0066\t\t0.0000\n",
            " [1 0 1 0]\t1.0066\t\t0.0000\n",
            " [1 1 0 0]\t1.0070\t\t0.0000\n",
            " [0 1 0 0]\t0.0001\t\t0.0000\n",
            " [1 0 0 0]\t-0.0001\t\t0.0000\n",
            " [0 0 0 0]\t1.0065\t\t0.0000\n"
          ]
        }
      ]
    },
    {
      "cell_type": "code",
      "source": [
        "from qiskit.utils import algorithm_globals\n",
        "\n",
        "algorithm_globals.random_seed = 1234\n",
        "backend = Aer.get_backend(\"statevector_simulator\")\n",
        "\n",
        "cobyla = COBYLA()\n",
        "cobyla.set_options(maxiter=500)\n",
        "ry = TwoLocal(num_assets, \"ry\", \"cz\", reps=3, entanglement=\"full\")\n",
        "quantum_instance = QuantumInstance(backend=backend, seed_simulator=seed, seed_transpiler=seed)\n",
        "vqe_mes = VQE(ry, optimizer=cobyla, quantum_instance=quantum_instance)\n",
        "vqe = MinimumEigenOptimizer(vqe_mes)\n",
        "result = vqe.solve(qp)\n",
        "\n",
        "print_result(result)"
      ],
      "metadata": {
        "colab": {
          "base_uri": "https://localhost:8080/"
        },
        "id": "5fdc0b0Fcq_I",
        "outputId": "4abb02a6-7b89-4579-8245-b164bd072fd8"
      },
      "execution_count": 76,
      "outputs": [
        {
          "output_type": "stream",
          "name": "stdout",
          "text": [
            "Optimal: selection [1. 0. 0. 0.], value -0.0001\n",
            "\n",
            "----------------- Full result ---------------------\n",
            "selection\tvalue\t\tprobability\n",
            "---------------------------------------------------\n",
            " [0 1 0 0]\t0.0001\t\t0.9282\n",
            " [0 0 0 1]\t0.0005\t\t0.0593\n",
            " [1 0 0 0]\t-0.0001\t\t0.0126\n",
            " [0 0 1 1]\t1.0072\t\t0.0000\n",
            " [0 0 1 0]\t-0.0003\t\t0.0000\n",
            " [1 0 1 1]\t4.0280\t\t0.0000\n",
            " [1 1 1 0]\t4.0269\t\t0.0000\n",
            " [0 1 1 1]\t4.0275\t\t0.0000\n",
            " [1 1 1 1]\t9.0618\t\t0.0000\n",
            " [0 1 1 0]\t1.0066\t\t0.0000\n",
            " [1 1 0 0]\t1.0070\t\t0.0000\n",
            " [1 0 1 0]\t1.0066\t\t0.0000\n",
            " [1 1 0 1]\t4.0284\t\t0.0000\n",
            " [1 0 0 1]\t1.0079\t\t0.0000\n",
            " [0 0 0 0]\t1.0065\t\t0.0000\n",
            " [0 1 0 1]\t1.0076\t\t0.0000\n"
          ]
        }
      ]
    },
    {
      "cell_type": "code",
      "source": [
        "algorithm_globals.random_seed = 1234\n",
        "backend = Aer.get_backend(\"statevector_simulator\")\n",
        "\n",
        "cobyla = COBYLA()\n",
        "cobyla.set_options(maxiter=250)\n",
        "quantum_instance = QuantumInstance(backend=backend, seed_simulator=seed, seed_transpiler=seed)\n",
        "qaoa_mes = QAOA(optimizer=cobyla, reps=3, quantum_instance=quantum_instance)\n",
        "qaoa = MinimumEigenOptimizer(qaoa_mes)\n",
        "result = qaoa.solve(qp)\n",
        "\n",
        "print_result(result)"
      ],
      "metadata": {
        "colab": {
          "base_uri": "https://localhost:8080/"
        },
        "id": "jvncMKaec0R8",
        "outputId": "5e372492-095e-4ab1-e798-9eb312bc000e"
      },
      "execution_count": 77,
      "outputs": [
        {
          "output_type": "stream",
          "name": "stdout",
          "text": [
            "Optimal: selection [0. 0. 1. 0.], value -0.0003\n",
            "\n",
            "----------------- Full result ---------------------\n",
            "selection\tvalue\t\tprobability\n",
            "---------------------------------------------------\n",
            " [0 0 0 1]\t0.0005\t\t0.2411\n",
            " [1 0 0 0]\t-0.0001\t\t0.2404\n",
            " [0 1 0 0]\t0.0001\t\t0.2404\n",
            " [0 0 1 0]\t-0.0003\t\t0.2400\n",
            " [0 0 0 0]\t1.0065\t\t0.0163\n",
            " [1 1 0 1]\t4.0284\t\t0.0046\n",
            " [0 1 1 1]\t4.0275\t\t0.0046\n",
            " [1 0 1 1]\t4.0280\t\t0.0045\n",
            " [1 1 1 0]\t4.0269\t\t0.0045\n",
            " [1 0 0 1]\t1.0079\t\t0.0006\n",
            " [0 1 0 1]\t1.0076\t\t0.0006\n",
            " [0 0 1 1]\t1.0072\t\t0.0006\n",
            " [1 1 0 0]\t1.0070\t\t0.0005\n",
            " [1 0 1 0]\t1.0066\t\t0.0005\n",
            " [0 1 1 0]\t1.0066\t\t0.0005\n",
            " [1 1 1 1]\t9.0618\t\t0.0002\n"
          ]
        }
      ]
    },
    {
      "cell_type": "code",
      "source": [
        "if token != \"NBQ7j3g_Q8_bcpvW6kMA\":\n",
        "    if wiki._data:\n",
        "        if wiki._n <= 1:\n",
        "            print(\n",
        "                \"Not enough wiki data to plot covariance or time-series similarity. Please use at least two tickers.\"\n",
        "            )\n",
        "        else:\n",
        "            rho = wiki.get_similarity_matrix()\n",
        "            print(\"A time-series similarity measure:\")\n",
        "            print(rho)\n",
        "            plt.imshow(rho)\n",
        "            plt.show()\n",
        "\n",
        "            cov = wiki.get_covariance_matrix()\n",
        "            print(\"A covariance matrix:\")\n",
        "            print(cov)\n",
        "            plt.imshow(cov)\n",
        "            plt.show()\n",
        "    else:\n",
        "        print(\"No wiki data loaded.\")\n",
        "\n",
        "if token != \"NBQ7j3g_Q8_bcpvW6kMA\":\n",
        "    if wiki._data:\n",
        "        print(\"The underlying evolution of stock prices:\")\n",
        "        for (cnt, s) in enumerate(stocks):\n",
        "            plt.plot(wiki._data[cnt], label=s)\n",
        "        plt.legend()\n",
        "        plt.xticks(rotation=90)\n",
        "        plt.show()\n",
        "\n",
        "        for (cnt, s) in enumerate(stocks):\n",
        "            print(s)\n",
        "            print(wiki._data[cnt])\n",
        "    else:\n",
        "        print(\"No wiki data loaded.\")\n",
        "\n",
        "for (cnt, s) in enumerate(data._tickers):\n",
        "    plt.plot(data._data[cnt], label=s)\n",
        "plt.legend()\n",
        "plt.xticks(rotation=90)\n",
        "plt.show()"
      ],
      "metadata": {
        "colab": {
          "base_uri": "https://localhost:8080/",
          "height": 284
        },
        "id": "bIDo1p1udCgb",
        "outputId": "35d4a896-33b6-4a2c-ee10-c230bd77333b"
      },
      "execution_count": 78,
      "outputs": [
        {
          "output_type": "display_data",
          "data": {
            "text/plain": [
              "<Figure size 432x288 with 1 Axes>"
            ],
            "image/png": "[encoded data removed]"
          },
          "metadata": {
            "needs_background": "light"
          }
        }
      ]
    },
    {
      "cell_type": "code",
      "source": [
        "for (cnt, s) in enumerate(data._tickers):\n",
        "    print(data._data[cnt])"
      ],
      "metadata": {
        "colab": {
          "base_uri": "https://localhost:8080/"
        },
        "id": "ZBgcIARXdPZY",
        "outputId": "5072174d-7b25-4dab-d627-39d35c26c823"
      },
      "execution_count": 79,
      "outputs": [
        {
          "output_type": "stream",
          "name": "stdout",
          "text": [
            "Date\n",
            "2016-09-01    36.312695\n",
            "2016-09-02    36.786335\n",
            "2016-09-06    36.736488\n",
            "2016-09-07    36.728172\n",
            "2016-09-08    37.625607\n",
            "                ...    \n",
            "2021-11-23    41.239803\n",
            "2021-11-24    42.806236\n",
            "2021-11-26    40.537285\n",
            "2021-11-29    41.695488\n",
            "2021-11-30    39.929699\n",
            "Name: Adj Close, Length: 1321, dtype: float64\n",
            "Date\n",
            "2016-09-01    64.895439\n",
            "2016-09-02    65.328857\n",
            "2016-09-06    66.188278\n",
            "2016-09-07    65.941643\n",
            "2016-09-08    66.546951\n",
            "                ...    \n",
            "2021-11-23    61.804737\n",
            "2021-11-24    62.147388\n",
            "2021-11-26    59.964199\n",
            "2021-11-29    60.297066\n",
            "2021-11-30    58.583801\n",
            "Name: Adj Close, Length: 1321, dtype: float64\n",
            "Date\n",
            "2016-09-01     77.931084\n",
            "2016-09-02     78.491020\n",
            "2016-09-06     79.657532\n",
            "2016-09-07     80.007492\n",
            "2016-09-08     80.971809\n",
            "                 ...    \n",
            "2021-11-23    114.152550\n",
            "2021-11-24    115.026115\n",
            "2021-11-26    112.395607\n",
            "2021-11-29    112.729324\n",
            "2021-11-30    110.785889\n",
            "Name: Adj Close, Length: 1321, dtype: float64\n",
            "Date\n",
            "2016-09-01    61.995796\n",
            "2016-09-02    62.536339\n",
            "2016-09-06    62.931690\n",
            "2016-09-07    62.842083\n",
            "2016-09-08    63.347210\n",
            "                ...    \n",
            "2021-11-23    31.773701\n",
            "2021-11-24    31.863285\n",
            "2021-11-26    29.563875\n",
            "2021-11-29    29.922226\n",
            "2021-11-30    29.514103\n",
            "Name: Adj Close, Length: 1321, dtype: float64\n"
          ]
        }
      ]
    },
    {
      "cell_type": "code",
      "source": [
        ""
      ],
      "metadata": {
        "id": "i6U0VifodUUf"
      },
      "execution_count": 79,
      "outputs": []
    }
  ]
}