{
 "cells": [
  {
   "cell_type": "code",
   "execution_count": 28,
   "metadata": {},
   "outputs": [],
   "source": [
    "from sysconfig import get_python_version\n",
    "from qiskit import Aer\n",
    "from qiskit.algorithms import VQE, QAOA, NumPyMinimumEigensolver\n",
    "from qiskit.algorithms.optimizers import COBYLA\n",
    "from qiskit.circuit.library import TwoLocal\n",
    "from qiskit.utils import QuantumInstance\n",
    "from qiskit_finance.applications.optimization import PortfolioOptimization\n",
    "from qiskit_finance.data_providers import *\n",
    "from qiskit_finance import QiskitFinanceError\n",
    "from qiskit_optimization.algorithms import MinimumEigenOptimizer\n",
    "from qiskit_optimization.applications import OptimizationApplication\n",
    "from qiskit_optimization.converters import QuadraticProgramToQubo\n",
    "import numpy as np\n",
    "import matplotlib.pyplot as plt\n",
    "import datetime\n",
    "import pandas as pd\n",
    "from pandas.plotting import register_matplotlib_converters\n",
    "register_matplotlib_converters()\n",
    "import csv"
   ]
  },
  {
   "cell_type": "code",
   "execution_count": 29,
   "metadata": {},
   "outputs": [],
   "source": [
    "get_ipython().run_line_magic('matplotlib', 'inline')"
   ]
  },
  {
   "cell_type": "code",
   "execution_count": 30,
   "metadata": {},
   "outputs": [
    {
     "data": {
      "image/png": "[encoded data removed]",
      "text/plain": [
       "<Figure size 432x288 with 1 Axes>"
      ]
     },
     "metadata": {
      "needs_background": "light"
     },
     "output_type": "display_data"
    }
   ],
   "source": [
    "# set number of assets (= number of qubits)\n",
    "num_assets = 5\n",
    "seed = 1234\n",
    "\n",
    "# Using data from yahoo finance\n",
    "# use the name listed for particular company that you wish to add\n",
    "data = YahooDataProvider(\n",
    "        tickers=[\"AAPL\",\"INTC\",\"GOOG\",\"MSFT\",\"IBM\"],\n",
    "        start=datetime.datetime(2015, 9, 1),\n",
    "        end=datetime.datetime(2021, 12, 1),\n",
    "    )\n",
    "\n",
    "data.run()\n",
    "\n",
    "mu = data.get_period_return_mean_vector()\n",
    "sigma = data.get_period_return_covariance_matrix()\n",
    "\n",
    "plt.imshow(sigma, interpolation=\"nearest\")\n",
    "plt.show()"
   ]
  },
  {
   "cell_type": "code",
   "execution_count": 31,
   "metadata": {},
   "outputs": [
    {
     "data": {
      "text/plain": [
       "<QuadraticProgram: minimize 0.0001698218211546148*x_0^2 + 0.000202269641204743..., 5 variables, 1 constraints, 'Portfolio optimization'>"
      ]
     },
     "execution_count": 31,
     "metadata": {},
     "output_type": "execute_result"
    }
   ],
   "source": [
    "q = 0.5  # set risk factor\n",
    "budget = num_assets // 2  # set budget\n",
    "penalty = num_assets  # set parameter to scale the budget penalty term\n",
    "\n",
    "portfolio = PortfolioOptimization(\n",
    "    expected_returns=mu, covariances=sigma, risk_factor=q, budget=budget\n",
    ")\n",
    "qp = portfolio.to_quadratic_program()\n",
    "qp"
   ]
  },
  {
   "cell_type": "code",
   "execution_count": 32,
   "metadata": {},
   "outputs": [],
   "source": [
    "def index_to_selection(i, num_assets):\n",
    "    s = \"{0:b}\".format(i).rjust(num_assets)\n",
    "    x = np.array([1 if s[i] == \"1\" else 0 for i in reversed(range(num_assets))])\n",
    "    return x\n",
    "\n",
    "\n",
    "def print_result(result,fname):\n",
    "    \n",
    "    f = open(fname, 'w')\n",
    "    header = ['SELECTION', 'VALUE', 'PROBABLITY']\n",
    "    writer = csv.writer(f)\n",
    "    writer.writerow(header)\n",
    "    \n",
    "    selection = result.x\n",
    "    value = result.fval\n",
    "    print(\"Optimal: selection {}, value {:.4f}\".format(selection, value))\n",
    "\n",
    "    eigenstate = result.min_eigen_solver_result.eigenstate\n",
    "    eigenvector = eigenstate if isinstance(eigenstate, np.ndarray) else eigenstate.to_matrix()\n",
    "    probabilities = np.abs(eigenvector) ** 2\n",
    "    i_sorted = reversed(np.argsort(probabilities))\n",
    "    print(\"\\n----------------- Full result ---------------------\")\n",
    "    print(\"selection\\tvalue\\t\\tprobability\")\n",
    "    print(\"---------------------------------------------------\")\n",
    "    for i in i_sorted:\n",
    "        x = index_to_selection(i, num_assets)\n",
    "        value = QuadraticProgramToQubo().convert(qp).objective.evaluate(x)\n",
    "        # value = portfolio.to_quadratic_program().objective.evaluate(x)\n",
    "        probability = probabilities[i]\n",
    "        row = [x, value, probability]\n",
    "        writer.writerow(row)\n",
    "        print(\"%10s\\t%.4f\\t\\t%.4f\" % (x, value, probability))\n",
    "    f.close()\n"
   ]
  },
  {
   "cell_type": "code",
   "execution_count": 33,
   "metadata": {},
   "outputs": [
    {
     "name": "stdout",
     "output_type": "stream",
     "text": [
      "Optimal: selection [1. 0. 0. 1. 0.], value -0.0023\n",
      "\n",
      "----------------- Full result ---------------------\n",
      "selection\tvalue\t\tprobability\n",
      "---------------------------------------------------\n",
      "[1 0 0 1 0]\t-0.0023\t\t1.0000\n",
      "[1 1 1 1 1]\t9.0639\t\t0.0000\n",
      "[0 1 1 1 1]\t4.0276\t\t0.0000\n",
      "[1 0 0 0 0]\t1.0062\t\t0.0000\n",
      "[0 1 0 0 0]\t1.0069\t\t0.0000\n",
      "[1 1 0 0 0]\t-0.0014\t\t0.0000\n",
      "[0 0 1 0 0]\t1.0064\t\t0.0000\n",
      "[1 0 1 0 0]\t-0.0020\t\t0.0000\n",
      "[0 1 1 0 0]\t-0.0012\t\t0.0000\n",
      "[1 1 1 0 0]\t1.0053\t\t0.0000\n",
      "[0 0 0 1 0]\t1.0060\t\t0.0000\n",
      "[0 1 0 1 0]\t-0.0016\t\t0.0000\n",
      "[1 1 0 1 0]\t1.0050\t\t0.0000\n",
      "[0 0 1 1 0]\t-0.0021\t\t0.0000\n",
      "[1 0 1 1 0]\t1.0045\t\t0.0000\n",
      "[0 1 1 1 0]\t1.0052\t\t0.0000\n",
      "[1 1 1 1 0]\t4.0266\t\t0.0000\n",
      "[0 0 0 0 1]\t1.0073\t\t0.0000\n",
      "[1 0 0 0 1]\t-0.0011\t\t0.0000\n",
      "[0 1 0 0 1]\t-0.0003\t\t0.0000\n",
      "[1 1 0 0 1]\t1.0061\t\t0.0000\n",
      "[0 0 1 0 1]\t-0.0009\t\t0.0000\n",
      "[1 0 1 0 1]\t1.0056\t\t0.0000\n",
      "[0 1 1 0 1]\t1.0063\t\t0.0000\n",
      "[1 1 1 0 1]\t4.0277\t\t0.0000\n",
      "[0 0 0 1 1]\t-0.0013\t\t0.0000\n",
      "[1 0 0 1 1]\t1.0052\t\t0.0000\n",
      "[0 1 0 1 1]\t1.0060\t\t0.0000\n",
      "[1 1 0 1 1]\t4.0274\t\t0.0000\n",
      "[0 0 1 1 1]\t1.0054\t\t0.0000\n",
      "[1 0 1 1 1]\t4.0268\t\t0.0000\n",
      "[0 0 0 0 0]\t4.0294\t\t0.0000\n"
     ]
    }
   ],
   "source": [
    "#classical reference solution\n",
    "#provide fname ='complete address/location of your .csv file'\n",
    "\n",
    "\n",
    "exact_mes = NumPyMinimumEigensolver()\n",
    "exact_eigensolver = MinimumEigenOptimizer(exact_mes)\n",
    "\n",
    "result = exact_eigensolver.solve(qp)\n",
    "fname = (r\"C:\\Users\\shrey\\Documents\\results_qiskit.csv\") \n",
    "\n",
    "#change the location and nsame of .csv file\n",
    "\n",
    "print_result(result,fname)"
   ]
  },
  {
   "cell_type": "code",
   "execution_count": 34,
   "metadata": {},
   "outputs": [
    {
     "data": {
      "image/png": "[encoded data removed]",
      "text/plain": [
       "<Figure size 432x288 with 1 Axes>"
      ]
     },
     "metadata": {
      "needs_background": "light"
     },
     "output_type": "display_data"
    }
   ],
   "source": [
    "import matplotlib.pyplot as plt\n",
    "import csv\n",
    "  \n",
    "x = []\n",
    "y = []\n",
    "  \n",
    "with open(r'C:\\Users\\shrey\\Documents\\results.csv') as csvfile:\n",
    "    plots = csv.reader(csvfile, delimiter = ',')\n",
    "      \n",
    "    for row in plots:\n",
    "        x.append(row[0])\n",
    "        y.append(float(row[1]))\n",
    "  \n",
    "plt.bar(x, y, color = 'b', width = 0.25, label = \"Value\")\n",
    "plt.xlabel('State')\n",
    "plt.ylabel('Value')\n",
    "plt.title('Selection')\n",
    "plt.legend()\n",
    "plt.show()"
   ]
  },
  {
   "cell_type": "code",
   "execution_count": null,
   "metadata": {},
   "outputs": [],
   "source": [
    "from typing import Optional\n",
    "from scipy.optimize import minimize\n",
    "#from .optimizer import Optimizer, OptimizerSupportLevel\n",
    "from qiskit import Aer\n",
    "from qiskit.algorithms import VQE, QAOA, NumPyMinimumEigensolver\n",
    "from qiskit.algorithms.optimizers import COBYLA\n",
    "from qiskit.circuit.library import TwoLocal\n",
    "from qiskit.utils import QuantumInstance\n",
    "from qiskit_finance.applications.optimization import PortfolioOptimization\n",
    "from qiskit_finance.data_providers import *\n",
    "from qiskit_optimization.algorithms import MinimumEigenOptimizer\n",
    "from qiskit_optimization.applications import OptimizationApplication\n",
    "from qiskit_optimization.converters import QuadraticProgramToQubo\n",
    "import numpy as np\n",
    "import matplotlib.pyplot as plt\n",
    "import datetime"
   ]
  },
  {
   "cell_type": "code",
   "execution_count": 36,
   "metadata": {},
   "outputs": [
    {
     "name": "stdout",
     "output_type": "stream",
     "text": [
      "Optimal: selection [1. 0. 0. 1. 0.], value -0.0023\n",
      "\n",
      "----------------- Full result ---------------------\n",
      "selection\tvalue\t\tprobability\n",
      "---------------------------------------------------\n",
      "[1 1 0 0 0]\t-0.0014\t\t0.4187\n",
      "[1 0 0 1 0]\t-0.0023\t\t0.3852\n",
      "[0 0 1 1 0]\t-0.0021\t\t0.0862\n",
      "[0 1 1 0 0]\t-0.0012\t\t0.0833\n",
      "[1 0 0 0 1]\t-0.0011\t\t0.0147\n",
      "[0 0 0 1 1]\t-0.0013\t\t0.0043\n",
      "[0 1 0 0 1]\t-0.0003\t\t0.0034\n",
      "[0 0 1 0 1]\t-0.0009\t\t0.0030\n",
      "[0 0 1 0 0]\t1.0064\t\t0.0002\n",
      "[0 1 1 1 0]\t1.0052\t\t0.0002\n",
      "[0 1 0 1 0]\t-0.0016\t\t0.0001\n",
      "[0 1 0 0 0]\t1.0069\t\t0.0001\n",
      "[0 1 1 0 1]\t1.0063\t\t0.0001\n",
      "[1 0 0 1 1]\t1.0052\t\t0.0001\n",
      "[0 0 1 1 1]\t1.0054\t\t0.0001\n",
      "[0 0 0 1 0]\t1.0060\t\t0.0001\n",
      "[1 0 1 0 1]\t1.0056\t\t0.0000\n",
      "[1 1 0 1 0]\t1.0050\t\t0.0000\n",
      "[1 0 0 0 0]\t1.0062\t\t0.0000\n",
      "[0 0 0 0 1]\t1.0073\t\t0.0000\n",
      "[1 0 1 0 0]\t-0.0020\t\t0.0000\n",
      "[1 1 1 0 1]\t4.0277\t\t0.0000\n",
      "[1 1 1 1 0]\t4.0266\t\t0.0000\n",
      "[1 1 1 0 0]\t1.0053\t\t0.0000\n",
      "[0 1 0 1 1]\t1.0060\t\t0.0000\n",
      "[1 0 1 1 0]\t1.0045\t\t0.0000\n",
      "[0 0 0 0 0]\t4.0294\t\t0.0000\n",
      "[0 1 1 1 1]\t4.0276\t\t0.0000\n",
      "[1 1 0 0 1]\t1.0061\t\t0.0000\n",
      "[1 1 1 1 1]\t9.0639\t\t0.0000\n",
      "[1 0 1 1 1]\t4.0268\t\t0.0000\n",
      "[1 1 0 1 1]\t4.0274\t\t0.0000\n"
     ]
    }
   ],
   "source": [
    "algorithm_globals.random_seed = 1234\n",
    "backend = Aer.get_backend(\"statevector_simulator\")\n",
    "\n",
    "\n",
    "#COBYLA(maxiter=1000, disp=False, rhobeg=1.0, tol=None)\n",
    "\n",
    "cobyla = COBYLA()\n",
    "cobyla.set_options(maxiter=500)\n",
    "ry = TwoLocal(num_assets, \"ry\", \"cz\", reps=3, entanglement=\"full\")\n",
    "quantum_instance = QuantumInstance(backend=backend, shots=8192, seed_simulator=seed, seed_transpiler=seed)\n",
    "vqe_mes = VQE(ry, optimizer=cobyla, quantum_instance=quantum_instance)\n",
    "vqe = MinimumEigenOptimizer(vqe_mes)\n",
    "result = vqe.solve(qp)\n",
    "\n",
    "fname = (r'C:\\Users\\shrey\\Documents\\vqe1.csv') #change the location and name of .csv file\n",
    "print_result(result, fname)\n",
    "\n"
   ]
  },
  {
   "cell_type": "code",
   "execution_count": 39,
   "metadata": {},
   "outputs": [
    {
     "data": {
      "image/png": "[encoded data removed]",
      "text/plain": [
       "<Figure size 432x288 with 1 Axes>"
      ]
     },
     "metadata": {
      "needs_background": "light"
     },
     "output_type": "display_data"
    }
   ],
   "source": [
    "import matplotlib.pyplot as plt\n",
    "import csv\n",
    "  \n",
    "x = []\n",
    "y = []\n",
    "  \n",
    "with open(r'C:\\Users\\shrey\\Documents\\vqe1.csv') as csvfile:\n",
    "    plots = csv.reader(csvfile, delimiter = ',')\n",
    "      \n",
    "    for row in plots:\n",
    "        x.append(row[0])\n",
    "        y.append(float(row[1]))\n",
    "  \n",
    "plt.bar(x, y, color = 'b', width = 0.25, label = \"Value\")\n",
    "plt.xlabel('State')\n",
    "plt.ylabel('Value')\n",
    "plt.title('Selection')\n",
    "plt.legend()\n",
    "plt.show()"
   ]
  },
  {
   "cell_type": "code",
   "execution_count": 41,
   "metadata": {},
   "outputs": [
    {
     "name": "stdout",
     "output_type": "stream",
     "text": [
      "Optimal: selection [1. 0. 0. 1. 0.], value -0.0023\n",
      "\n",
      "----------------- Full result ---------------------\n",
      "selection\tvalue\t\tprobability\n",
      "---------------------------------------------------\n",
      "[0 1 0 0 1]\t-0.0003\t\t0.0983\n",
      "[0 0 1 0 1]\t-0.0009\t\t0.0982\n",
      "[1 0 0 0 1]\t-0.0011\t\t0.0982\n",
      "[0 1 1 0 0]\t-0.0012\t\t0.0981\n",
      "[0 0 0 1 1]\t-0.0013\t\t0.0981\n",
      "[1 1 0 0 0]\t-0.0014\t\t0.0981\n",
      "[0 1 0 1 0]\t-0.0016\t\t0.0981\n",
      "[1 0 1 0 0]\t-0.0020\t\t0.0980\n",
      "[0 0 1 1 0]\t-0.0021\t\t0.0980\n",
      "[1 0 0 1 0]\t-0.0023\t\t0.0980\n",
      "[0 0 0 0 0]\t4.0294\t\t0.0038\n",
      "[1 0 1 1 0]\t1.0045\t\t0.0011\n",
      "[1 1 0 1 0]\t1.0050\t\t0.0011\n",
      "[0 1 1 1 0]\t1.0052\t\t0.0011\n",
      "[1 0 0 1 1]\t1.0052\t\t0.0011\n",
      "[1 1 1 0 0]\t1.0053\t\t0.0011\n",
      "[0 0 1 1 1]\t1.0054\t\t0.0011\n",
      "[1 0 1 0 1]\t1.0056\t\t0.0011\n",
      "[0 1 0 1 1]\t1.0060\t\t0.0011\n",
      "[1 1 0 0 1]\t1.0061\t\t0.0011\n",
      "[0 1 1 0 1]\t1.0063\t\t0.0011\n",
      "[1 1 1 1 1]\t9.0639\t\t0.0010\n",
      "[0 0 0 1 0]\t1.0060\t\t0.0006\n",
      "[1 0 0 0 0]\t1.0062\t\t0.0006\n",
      "[0 0 1 0 0]\t1.0064\t\t0.0006\n",
      "[0 1 0 0 0]\t1.0069\t\t0.0005\n",
      "[0 0 0 0 1]\t1.0073\t\t0.0005\n",
      "[1 1 1 1 0]\t4.0266\t\t0.0001\n",
      "[1 0 1 1 1]\t4.0268\t\t0.0001\n",
      "[1 1 0 1 1]\t4.0274\t\t0.0001\n",
      "[0 1 1 1 1]\t4.0276\t\t0.0001\n",
      "[1 1 1 0 1]\t4.0277\t\t0.0001\n"
     ]
    }
   ],
   "source": [
    "#### QAOA solution\n",
    "\n",
    "algorithm_globals.random_seed = 1234\n",
    "backend = Aer.get_backend(\"statevector_simulator\")\n",
    "\n",
    "cobyla = COBYLA()\n",
    "cobyla.set_options(maxiter=250)\n",
    "quantum_instance = QuantumInstance(backend=backend, seed_simulator=seed, seed_transpiler=seed)\n",
    "qaoa_mes = QAOA(optimizer=cobyla, reps=3, quantum_instance=quantum_instance)\n",
    "qaoa = MinimumEigenOptimizer(qaoa_mes)\n",
    "result = qaoa.solve(qp)\n",
    "\n",
    "fname = (r'C:\\Users\\shrey\\Documents\\qaoa1.csv') #change the location and name of .csv file\n",
    "print_result(result, fname)"
   ]
  },
  {
   "cell_type": "code",
   "execution_count": null,
   "metadata": {},
   "outputs": [],
   "source": [
    "import matplotlib.pyplot as plt\n",
    "import csv\n",
    "  \n",
    "x = []\n",
    "y = []\n",
    "  \n",
    "with open(r'C:\\Users\\shrey\\Documents\\qaoa1.csv') as csvfile:\n",
    "    plots = csv.reader(csvfile, delimiter = ',')\n",
    "      \n",
    "    for row in plots:\n",
    "        x.append(row[0])\n",
    "        y.append(float(row[1]))\n",
    "  \n",
    "plt.bar(x, y, color = 'b', width = 0.25, label = \"Value\")\n",
    "plt.xlabel('State')\n",
    "plt.ylabel('Value')\n",
    "plt.title('Selection')\n",
    "plt.legend()\n",
    "plt.show()"
   ]
  },
  {
   "cell_type": "code",
   "execution_count": 43,
   "metadata": {},
   "outputs": [
    {
     "data": {
      "image/png": "[encoded data removed]",
      "text/plain": [
       "<Figure size 432x288 with 1 Axes>"
      ]
     },
     "metadata": {
      "needs_background": "light"
     },
     "output_type": "display_data"
    }
   ],
   "source": [
    "#plotting the stock trend\n",
    "\n",
    "stocks = [\"COST\",\"AMZN\",\"TGT\",\"WMT\"]\n",
    "\n",
    "token = \"NBQ7j3g_Q8_bcpvW6kMA\"\n",
    "if token != \"NBQ7j3g_Q8_bcpvW6kMA\":\n",
    "    try:\n",
    "        wiki = WikipediaDataProvider(\n",
    "            token=token,\n",
    "            tickers=stocks,\n",
    "            start=datetime.datetime(2016, 1, 1),\n",
    "            end=datetime.datetime(2017, 12, 31),\n",
    "        )\n",
    "        wiki.run()\n",
    "    except QiskitFinanceError as ex:\n",
    "        print(ex)\n",
    "        print(\"Error retrieving data.\")\n",
    "\n",
    "\n",
    "if token != \"NBQ7j3g_Q8_bcpvW6kMA\":\n",
    "    if wiki._data:\n",
    "        if wiki._n <= 1:\n",
    "            print(\n",
    "                \"Not enough wiki data to plot covariance or time-series similarity. Please use at least two tickers.\"\n",
    "            )\n",
    "        else:\n",
    "            rho = wiki.get_similarity_matrix()\n",
    "            print(\"A time-series similarity measure:\")\n",
    "            print(rho)\n",
    "            plt.imshow(rho)\n",
    "            plt.show()\n",
    "\n",
    "            cov = wiki.get_covariance_matrix()\n",
    "            print(\"A covariance matrix:\")\n",
    "            print(cov)\n",
    "            plt.imshow(cov)\n",
    "            plt.show()\n",
    "    else:\n",
    "        print(\"No wiki data loaded.\")\n",
    "\n",
    "if token != \"NBQ7j3g_Q8_bcpvW6kMA\":\n",
    "    if wiki._data:\n",
    "        print(\"The underlying evolution of stock prices:\")\n",
    "        for (cnt, s) in enumerate(stocks):\n",
    "            plt.plot(wiki._data[cnt], label=s)\n",
    "        plt.legend()\n",
    "        plt.xticks(rotation=90)\n",
    "        plt.show()\n",
    "\n",
    "        for (cnt, s) in enumerate(stocks):\n",
    "            print(s)\n",
    "            print(wiki._data[cnt])\n",
    "    else:\n",
    "        print(\"No wiki data loaded.\")\n",
    "\n",
    "for (cnt, s) in enumerate(data._tickers):\n",
    "    plt.plot(data._data[cnt], label=s)\n",
    "plt.legend()\n",
    "plt.xticks(rotation=90)\n",
    "plt.show()"
   ]
  }
 ],
 "metadata": {
  "kernelspec": {
   "display_name": "Python 3.10.5 64-bit",
   "language": "python",
   "name": "python3"
  },
  "language_info": {
   "codemirror_mode": {
    "name": "ipython",
    "version": 3
   },
   "file_extension": ".py",
   "mimetype": "text/x-python",
   "name": "python",
   "nbconvert_exporter": "python",
   "pygments_lexer": "ipython3",
   "version": "3.10.5"
  },
  "orig_nbformat": 4,
  "vscode": {
   "interpreter": {
    "hash": "e8bba4f2be892cbd4f39a9f240acc2c7ebb8cef7264d56c87dbb8c6b0bcbe231"
   }
  }
 },
 "nbformat": 4,
 "nbformat_minor": 2
}
