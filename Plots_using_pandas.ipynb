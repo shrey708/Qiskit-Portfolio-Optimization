{
 "cells": [
  {
   "cell_type": "code",
   "execution_count": 1,
   "id": "a3ca350e",
   "metadata": {},
   "outputs": [],
   "source": [
    "#importing the required stuff\n",
    "from qiskit import Aer\n",
    "from qiskit.algorithms import VQE, QAOA, NumPyMinimumEigensolver\n",
    "from qiskit.algorithms.optimizers import COBYLA\n",
    "from qiskit.circuit.library import TwoLocal\n",
    "from qiskit.utils import QuantumInstance\n",
    "from qiskit_finance.applications.optimization import PortfolioOptimization\n",
    "from qiskit_finance.data_providers import *\n",
    "from qiskit_finance import QiskitFinanceError\n",
    "from qiskit_optimization.algorithms import MinimumEigenOptimizer\n",
    "from qiskit_optimization.applications import OptimizationApplication\n",
    "from qiskit_optimization.converters import QuadraticProgramToQubo\n",
    "import numpy as np\n",
    "import matplotlib.pyplot as plt\n",
    "import datetime\n",
    "import pandas as pd\n",
    "from pandas.plotting import register_matplotlib_converters\n",
    "register_matplotlib_converters()\n",
    "import csv\n",
    "import yfinance as yf\n",
    "import pandas_datareader.data as web\n"
   ]
  },
  {
   "cell_type": "code",
   "execution_count": 2,
   "id": "1b6ad0d8",
   "metadata": {},
   "outputs": [],
   "source": [
    "%matplotlib inline"
   ]
  },
  {
   "cell_type": "code",
   "execution_count": 3,
   "id": "25cdcbc2",
   "metadata": {},
   "outputs": [
    {
     "name": "stdout",
     "output_type": "stream",
     "text": [
      "Attributes  Adj Close                                        Close  \\\n",
      "Symbols           JPM          GS       MSFT       AAPL        JPM   \n",
      "Date                                                                 \n",
      "2010-12-31  30.822552  139.064880  21.863089   9.836143  42.419998   \n",
      "2011-01-03  31.665409  143.108780  21.917933  10.049909  43.580002   \n",
      "2011-01-04  32.123703  143.133652  22.004095  10.102356  44.160000   \n",
      "2011-01-05  32.516525  143.894409  21.933596  10.184992  44.700001   \n",
      "2011-01-06  32.356472  142.414154  22.575935  10.176762  44.480000   \n",
      "...               ...         ...        ...        ...        ...   \n",
      "2015-11-24  55.353794  166.308685  48.774662  27.253246  66.779999   \n",
      "2015-11-25  55.420086  166.731796  48.271179  27.058390  66.860001   \n",
      "2015-11-27  55.677048  167.895401  48.486958  27.007954  67.169998   \n",
      "2015-11-30  55.270901  168.072281  48.864571  27.120277  66.680000   \n",
      "2015-12-01  56.041767  170.770035  49.646763  26.900206  67.610001   \n",
      "\n",
      "Attributes                                         High              ...  \\\n",
      "Symbols             GS       MSFT       AAPL        JPM          GS  ...   \n",
      "Date                                                                 ...   \n",
      "2010-12-31  168.160004  27.910000  11.520000  42.450001  168.800003  ...   \n",
      "2011-01-03  173.050003  27.980000  11.770357  44.040001  173.250000  ...   \n",
      "2011-01-04  173.080002  28.090000  11.831786  44.299999  174.000000  ...   \n",
      "2011-01-05  174.000000  28.000000  11.928571  44.950001  174.490005  ...   \n",
      "2011-01-06  172.210007  28.820000  11.918929  44.799999  174.589996  ...   \n",
      "...                ...        ...        ...        ...         ...  ...   \n",
      "2015-11-24  188.669998  54.250000  29.719999  67.139999  189.800003  ...   \n",
      "2015-11-25  189.149994  53.689999  29.507500  67.120003  189.770004  ...   \n",
      "2015-11-27  190.470001  53.930000  29.452499  67.330002  191.190002  ...   \n",
      "2015-11-30  190.020004  54.349998  29.575001  67.519997  191.080002  ...   \n",
      "2015-12-01  193.070007  55.220001  29.334999  67.830002  193.149994  ...   \n",
      "\n",
      "Attributes        Low                  Open                                    \\\n",
      "Symbols          MSFT       AAPL        JPM          GS       MSFT       AAPL   \n",
      "Date                                                                            \n",
      "2010-12-31  27.629999  11.475357  42.110001  167.580002  27.799999  11.533929   \n",
      "2011-01-03  27.920000  11.601429  43.000000  170.550003  28.049999  11.630000   \n",
      "2011-01-04  27.850000  11.719643  43.779999  173.869995  27.940001  11.872857   \n",
      "2011-01-05  27.770000  11.767857  43.919998  172.050003  27.900000  11.769643   \n",
      "2011-01-06  27.860001  11.889286  44.400002  174.509995  28.040001  11.954286   \n",
      "...               ...        ...        ...         ...        ...        ...   \n",
      "2015-11-24  53.580002  29.280001  66.169998  188.020004  53.919998  29.332500   \n",
      "2015-11-25  53.689999  29.480000  66.930000  188.990005  54.090000  29.802500   \n",
      "2015-11-27  53.790001  29.400000  67.000000  189.160004  53.799999  29.572500   \n",
      "2015-11-30  54.000000  29.437500  67.279999  190.500000  54.540001  29.497499   \n",
      "2015-12-01  54.299999  29.215000  67.339996  191.220001  54.410000  29.687500   \n",
      "\n",
      "Attributes      Volume                                      \n",
      "Symbols            JPM         GS        MSFT         AAPL  \n",
      "Date                                                        \n",
      "2010-12-31  12199700.0  1636300.0  24752000.0  193508000.0  \n",
      "2011-01-03  43278500.0  5717100.0  53443800.0  445138400.0  \n",
      "2011-01-04  40036800.0  3335500.0  54405600.0  309080800.0  \n",
      "2011-01-05  50032500.0  4140600.0  58998700.0  255519600.0  \n",
      "2011-01-06  31606200.0  5375200.0  88026300.0  300428800.0  \n",
      "...                ...        ...         ...          ...  \n",
      "2015-11-24  10910000.0  2679400.0  24600000.0  171212800.0  \n",
      "2015-11-25   7772000.0  1495600.0  21005100.0   85553200.0  \n",
      "2015-11-27   4052500.0  1092700.0   9009100.0   52185600.0  \n",
      "2015-11-30  15147500.0  3415000.0  56241400.0  156721200.0  \n",
      "2015-12-01  12708800.0  4140900.0  39952800.0  139409600.0  \n",
      "\n",
      "[1238 rows x 24 columns]\n"
     ]
    }
   ],
   "source": [
    "# set number of assets (= number of qubits)\n",
    "num_assets = 4\n",
    "seed = 1234\n",
    "\n",
    "\n",
    "start = datetime.datetime(2011, 1, 1)\n",
    "end = datetime.datetime(2015, 12, 1)\n",
    "\n",
    "df = web.DataReader([\"JPM\", \"GS\", \"MSFT\", \"AAPL\"],'yahoo', start, end)\n",
    "df.to_csv(r'C:\\Users\\shrey\\Documents\\stockdata1.csv')\n",
    "print (df)\n",
    "\n",
    "# Using data from yahoo finance\n",
    "# use the name listed for particular company that you wish to add\n",
    "data = YahooDataProvider(\n",
    "        tickers= [\"JPM\", \"GS\", \"MSFT\", \"AAPL\"],\n",
    "        start=datetime.datetime(2015, 1, 1),\n",
    "        end=datetime.datetime(2021, 12, 1),\n",
    "    )\n",
    "\n",
    "data.run()\n",
    "\n",
    "mu = data.get_period_return_mean_vector()\n",
    "sigma = data.get_period_return_covariance_matrix()"
   ]
  },
  {
   "cell_type": "code",
   "execution_count": 4,
   "id": "50530cf1",
   "metadata": {},
   "outputs": [
    {
     "data": {
      "image/png": "[encoded data removed]",
      "text/plain": [
       "<Figure size 432x288 with 1 Axes>"
      ]
     },
     "metadata": {
      "needs_background": "light"
     },
     "output_type": "display_data"
    }
   ],
   "source": [
    "# plot sigma\n",
    "plt.imshow(sigma, interpolation=\"nearest\")\n",
    "plt.show()\n"
   ]
  },
  {
   "cell_type": "code",
   "execution_count": 5,
   "id": "14567144",
   "metadata": {},
   "outputs": [
    {
     "data": {
      "text/plain": [
       "<QuadraticProgram: minimize 0.0001603047796283253*x_0^2 + 0.000286804079558232..., 4 variables, 1 constraints, 'Portfolio optimization'>"
      ]
     },
     "execution_count": 5,
     "metadata": {},
     "output_type": "execute_result"
    }
   ],
   "source": [
    "q = 0.5  # set risk factor\n",
    "budget = num_assets // 4 # set budget\n",
    "penalty = num_assets  # set parameter to scale the budget penalty term\n",
    "\n",
    "portfolio = PortfolioOptimization(\n",
    "    expected_returns=mu, covariances=sigma, risk_factor=q, budget=budget\n",
    ")\n",
    "qp = portfolio.to_quadratic_program()\n",
    "qp"
   ]
  },
  {
   "cell_type": "code",
   "execution_count": 6,
   "id": "e71dce01",
   "metadata": {},
   "outputs": [],
   "source": [
    "def index_to_selection(i, num_assets):\n",
    "    s = \"{0:b}\".format(i).rjust(num_assets)\n",
    "    x = np.array([1 if s[i] == \"1\" else 0 for i in reversed(range(num_assets))])\n",
    "    return x\n",
    "\n",
    "\n",
    "def print_result(result,fname):\n",
    "    \n",
    "    f = open(fname, 'w')\n",
    "    header = ['SELECTION', 'VALUE', 'PROBABLITY']\n",
    "    writer = csv.writer(f)\n",
    "    writer.writerow(header)\n",
    "    \n",
    "    selection = result.x\n",
    "    value = result.fval\n",
    "    print(\"Optimal: selection {}, value {:.4f}\".format(selection, value))\n",
    "\n",
    "    eigenstate = result.min_eigen_solver_result.eigenstate\n",
    "    eigenvector = eigenstate if isinstance(eigenstate, np.ndarray) else eigenstate.to_matrix()\n",
    "    probabilities = np.abs(eigenvector) ** 2\n",
    "    i_sorted = reversed(np.argsort(probabilities))\n",
    "    print(\"\\n----------------- Full result ---------------------\")\n",
    "    print(\"selection\\tvalue\\t\\tprobability\")\n",
    "    print(\"---------------------------------------------------\")\n",
    "    for i in i_sorted:\n",
    "        x = index_to_selection(i, num_assets)\n",
    "        value = QuadraticProgramToQubo().convert(qp).objective.evaluate(x)\n",
    "        # value = portfolio.to_quadratic_program().objective.evaluate(x)\n",
    "        probability = probabilities[i]\n",
    "        row = [x, value, probability]\n",
    "        writer.writerow(row)\n",
    "        print(\"%10s\\t%.4f\\t\\t%.4f\" % (x, value, probability))\n",
    "    f.close()"
   ]
  },
  {
   "cell_type": "code",
   "execution_count": 7,
   "id": "95721b99",
   "metadata": {},
   "outputs": [
    {
     "name": "stdout",
     "output_type": "stream",
     "text": [
      "Optimal: selection [0. 0. 1. 0.], value -0.0012\n",
      "\n",
      "----------------- Full result ---------------------\n",
      "selection\tvalue\t\tprobability\n",
      "---------------------------------------------------\n",
      " [0 0 1 0]\t-0.0012\t\t1.0000\n",
      " [1 1 1 1]\t9.0499\t\t0.0000\n",
      " [0 1 1 1]\t4.0210\t\t0.0000\n",
      " [1 0 1 1]\t4.0208\t\t0.0000\n",
      " [0 0 1 1]\t1.0037\t\t0.0000\n",
      " [1 1 0 1]\t4.0216\t\t0.0000\n",
      " [0 1 0 1]\t1.0044\t\t0.0000\n",
      " [1 0 0 1]\t1.0042\t\t0.0000\n",
      " [0 0 0 1]\t-0.0011\t\t0.0000\n",
      " [1 1 1 0]\t4.0215\t\t0.0000\n",
      " [0 1 1 0]\t1.0043\t\t0.0000\n",
      " [1 0 1 0]\t1.0041\t\t0.0000\n",
      " [1 1 0 0]\t1.0050\t\t0.0000\n",
      " [0 1 0 0]\t-0.0005\t\t0.0000\n",
      " [1 0 0 0]\t-0.0006\t\t0.0000\n",
      " [0 0 0 0]\t1.0058\t\t0.0000\n"
     ]
    }
   ],
   "source": [
    "#classical reference solution\n",
    "#provide fname ='complete address/location of your .csv file'\n",
    "\n",
    "\n",
    "exact_mes = NumPyMinimumEigensolver()\n",
    "exact_eigensolver = MinimumEigenOptimizer(exact_mes)\n",
    "\n",
    "result = exact_eigensolver.solve(qp)\n",
    "fname = (r'C:\\Users\\shrey\\Documents\\stockdata1.csv') #change the location and nsame of .csv file\n",
    "\n",
    "print_result(result,fname)"
   ]
  },
  {
   "cell_type": "markdown",
   "id": "17bd7cf4",
   "metadata": {},
   "source": [
    "Using dataframes and pandas to extract data from the output and converting it into list and dict"
   ]
  },
  {
   "cell_type": "code",
   "execution_count": 44,
   "id": "7f87fe08",
   "metadata": {},
   "outputs": [
    {
     "name": "stdout",
     "output_type": "stream",
     "text": [
      "    SELECTION     VALUE  PROBABLITY\n",
      "0   [0 0 1 0] -0.001201         1.0\n",
      "1   [1 1 1 1]  9.049937         0.0\n",
      "2   [0 1 1 1]  4.021003         0.0\n",
      "3   [1 0 1 1]  4.020772         0.0\n",
      "4   [0 0 1 1]  1.003725         0.0\n",
      "5   [1 1 0 1]  4.021615         0.0\n",
      "6   [0 1 0 1]  1.004429         0.0\n",
      "7   [1 0 0 1]  1.004213         0.0\n",
      "8   [0 0 0 1] -0.001086         0.0\n",
      "9   [1 1 1 0]  4.021500         0.0\n",
      "10  [0 1 1 0]  1.004310         0.0\n",
      "11  [1 0 1 0]  1.004103         0.0\n",
      "12  [1 1 0 0]  1.004990         0.0\n",
      "13  [0 1 0 0] -0.000452         0.0\n",
      "14  [1 0 0 0] -0.000645         0.0\n",
      "15  [0 0 0 0]  1.005800         0.0\n"
     ]
    }
   ],
   "source": [
    "#optional step, can be skipped\n",
    "import pandas as pd\n",
    "\n",
    "df = pd.read_csv(r'C:\\Users\\shrey\\Documents\\stockdata1.csv')\n",
    "print(df)"
   ]
  },
  {
   "cell_type": "code",
   "execution_count": 63,
   "id": "3bd45f08",
   "metadata": {},
   "outputs": [
    {
     "name": "stdout",
     "output_type": "stream",
     "text": [
      "SELECTION: ['[0 0 1 0]', '[1 1 1 1]', '[0 1 1 1]', '[1 0 1 1]', '[0 0 1 1]', '[1 1 0 1]', '[0 1 0 1]', '[1 0 0 1]', '[0 0 0 1]', '[1 1 1 0]', '[0 1 1 0]', '[1 0 1 0]', '[1 1 0 0]', '[0 1 0 0]', '[1 0 0 0]', '[0 0 0 0]']\n",
      "VALUE: ['-0.001200566265928238', '9.049937078406549', '4.021002801978017', '4.020772281019', '1.003724702798685', '4.021615351436882', '1.0044293804855098', '1.0042132603605705', '-0.0010860123825828794', '4.021500178319665', '1.0043102427863948', '1.0041026710591243', '1.0049896798615237', '-0.0004519501945858817', '-0.0006451210877789215', '1.0057999470643304']\n",
      "PROBABLITY: ['1.0', '0.0', '0.0', '0.0', '0.0', '0.0', '0.0', '0.0', '0.0', '0.0', '0.0', '0.0', '0.0', '0.0', '0.0', '0.0']\n"
     ]
    }
   ],
   "source": [
    "# importing the module\n",
    "import csv\n",
    " \n",
    "# open the file in read mode\n",
    "filename = open(r'C:\\Users\\shrey\\Documents\\stockdata1.csv')\n",
    " \n",
    "# creating dictreader object\n",
    "file = csv.DictReader(filename)\n",
    " \n",
    "# creating empty lists\n",
    "SELECTION = []\n",
    "VALUE = []\n",
    "PROBABILITY = []\n",
    " \n",
    "# iterating over each row and append\n",
    "# values to empty list\n",
    "for col in file:\n",
    "    SELECTION.append(col['SELECTION'])\n",
    "    VALUE.append(col['VALUE'])\n",
    "    PROBABILITY.append(col['PROBABLITY'])\n",
    " \n",
    "# printing lists\n",
    "print('SELECTION:', SELECTION)\n",
    "print('VALUE:', VALUE)\n",
    "print('PROBABLITY:', PROBABILITY)"
   ]
  },
  {
   "cell_type": "code",
   "execution_count": 64,
   "id": "7d37db21",
   "metadata": {},
   "outputs": [
    {
     "name": "stdout",
     "output_type": "stream",
     "text": [
      "            0\n",
      "0   [0 0 1 0]\n",
      "1   [1 1 1 1]\n",
      "2   [0 1 1 1]\n",
      "3   [1 0 1 1]\n",
      "4   [0 0 1 1]\n",
      "5   [1 1 0 1]\n",
      "6   [0 1 0 1]\n",
      "7   [1 0 0 1]\n",
      "8   [0 0 0 1]\n",
      "9   [1 1 1 0]\n",
      "10  [0 1 1 0]\n",
      "11  [1 0 1 0]\n",
      "12  [1 1 0 0]\n",
      "13  [0 1 0 0]\n",
      "14  [1 0 0 0]\n",
      "15  [0 0 0 0]\n",
      "                         0\n",
      "0    -0.001200566265928238\n",
      "1        9.049937078406549\n",
      "2        4.021002801978017\n",
      "3           4.020772281019\n",
      "4        1.003724702798685\n",
      "5        4.021615351436882\n",
      "6       1.0044293804855098\n",
      "7       1.0042132603605705\n",
      "8   -0.0010860123825828794\n",
      "9        4.021500178319665\n",
      "10      1.0043102427863948\n",
      "11      1.0041026710591243\n",
      "12      1.0049896798615237\n",
      "13  -0.0004519501945858817\n",
      "14  -0.0006451210877789215\n",
      "15      1.0057999470643304\n",
      "      0\n",
      "0   1.0\n",
      "1   0.0\n",
      "2   0.0\n",
      "3   0.0\n",
      "4   0.0\n",
      "5   0.0\n",
      "6   0.0\n",
      "7   0.0\n",
      "8   0.0\n",
      "9   0.0\n",
      "10  0.0\n",
      "11  0.0\n",
      "12  0.0\n",
      "13  0.0\n",
      "14  0.0\n",
      "15  0.0\n"
     ]
    }
   ],
   "source": [
    "df1 = pd.DataFrame(SELECTION)\n",
    "df2 = pd.DataFrame(VALUE)\n",
    "df3 = pd.DataFrame(PROBABILITY)\n",
    "print(df1)\n",
    "print(df2)\n",
    "print(df3)"
   ]
  },
  {
   "cell_type": "code",
   "execution_count": 69,
   "id": "b2c53eb6",
   "metadata": {},
   "outputs": [
    {
     "name": "stdout",
     "output_type": "stream",
     "text": [
      "Selection['[0 0 1 0]', '[1 1 1 1]', '[0 1 1 1]', '[1 0 1 1]', '[0 0 1 1]', '[1 1 0 1]', '[0 1 0 1]', '[1 0 0 1]', '[0 0 0 1]', '[1 1 1 0]', '[0 1 1 0]', '[1 0 1 0]', '[1 1 0 0]', '[0 1 0 0]', '[1 0 0 0]', '[0 0 0 0]']\n",
      "Value['-0.001200566265928238', '9.049937078406549', '4.021002801978017', '4.020772281019', '1.003724702798685', '4.021615351436882', '1.0044293804855098', '1.0042132603605705', '-0.0010860123825828794', '4.021500178319665', '1.0043102427863948', '1.0041026710591243', '1.0049896798615237', '-0.0004519501945858817', '-0.0006451210877789215', '1.0057999470643304']\n",
      "Resultant dictionary is : {'[0 0 1 0]': '-0.001200566265928238', '[1 1 1 1]': '9.049937078406549', '[0 1 1 1]': '4.021002801978017', '[1 0 1 1]': '4.020772281019', '[0 0 1 1]': '1.003724702798685', '[1 1 0 1]': '4.021615351436882', '[0 1 0 1]': '1.0044293804855098', '[1 0 0 1]': '1.0042132603605705', '[0 0 0 1]': '-0.0010860123825828794', '[1 1 1 0]': '4.021500178319665', '[0 1 1 0]': '1.0043102427863948', '[1 0 1 0]': '1.0041026710591243', '[1 1 0 0]': '1.0049896798615237', '[0 1 0 0]': '-0.0004519501945858817', '[1 0 0 0]': '-0.0006451210877789215', '[0 0 0 0]': '1.0057999470643304'}\n"
     ]
    }
   ],
   "source": [
    "# conversion of lists to dictionary\n",
    "# using dictionary comprehension\n",
    "\n",
    "# Printing original keys-value lists\n",
    "print (\"Selection\" + str(SELECTION))\n",
    "print (\"Value\" + str(VALUE))\n",
    "\n",
    "# using dictionary comprehension\n",
    "# to convert lists to dictionary\n",
    "res = {SELECTION[i]: VALUE[i] for i in range(len(VALUE))}\n",
    "\n",
    "# Printing resultant dictionary\n",
    "print (\"Resultant dictionary is : \" + str(res))\n"
   ]
  },
  {
   "cell_type": "code",
   "execution_count": 76,
   "id": "6b79b374",
   "metadata": {},
   "outputs": [
    {
     "name": "stdout",
     "output_type": "stream",
     "text": [
      "[('[0 1 0 0]', '-0.0004519501945858817'), ('[1 0 0 0]', '-0.0006451210877789215'), ('[0 0 0 1]', '-0.0010860123825828794'), ('[0 0 1 0]', '-0.001200566265928238'), ('[0 0 1 1]', '1.003724702798685'), ('[1 0 1 0]', '1.0041026710591243'), ('[1 0 0 1]', '1.0042132603605705'), ('[0 1 1 0]', '1.0043102427863948'), ('[0 1 0 1]', '1.0044293804855098'), ('[1 1 0 0]', '1.0049896798615237'), ('[0 0 0 0]', '1.0057999470643304'), ('[1 0 1 1]', '4.020772281019'), ('[0 1 1 1]', '4.021002801978017'), ('[1 1 1 0]', '4.021500178319665'), ('[1 1 0 1]', '4.021615351436882'), ('[1 1 1 1]', '9.049937078406549')]\n"
     ]
    }
   ],
   "source": [
    "#sorting \n",
    "acen = sorted(res.items(), key=lambda x: x[1])\n",
    "print(acen)"
   ]
  },
  {
   "cell_type": "code",
   "execution_count": 87,
   "id": "b859ebf4",
   "metadata": {},
   "outputs": [
    {
     "data": {
      "image/png": "[encoded data removed]",
      "text/plain": [
       "<Figure size 432x288 with 1 Axes>"
      ]
     },
     "metadata": {
      "needs_background": "light"
     },
     "output_type": "display_data"
    }
   ],
   "source": [
    "#Test ignore (for my ref)\n",
    "plt.bar(range(len(acen)), VALUE, tick_label=SELECTION)\n",
    "plt.xticks(rotation = 45)\n",
    "plt.show()"
   ]
  },
  {
   "cell_type": "code",
   "execution_count": 92,
   "id": "87b59130",
   "metadata": {},
   "outputs": [
    {
     "data": {
      "image/png": "[encoded data removed]",
      "text/plain": [
       "<Figure size 432x288 with 1 Axes>"
      ]
     },
     "metadata": {
      "needs_background": "light"
     },
     "output_type": "display_data"
    }
   ],
   "source": [
    "import matplotlib.pylab as plt\n",
    "\n",
    "lists = sorted(res.items()) # sorted by key, return a list of tuples\n",
    "\n",
    "x, y = zip(*lists) # unpack a list of pairs into two tuples\n",
    "\n",
    "plt.bar(x, y)\n",
    "plt.xticks(rotation = 45)\n",
    "plt.show()"
   ]
  },
  {
   "cell_type": "code",
   "execution_count": 11,
   "id": "f0d47626",
   "metadata": {},
   "outputs": [
    {
     "name": "stdout",
     "output_type": "stream",
     "text": [
      "Optimal: selection [0. 0. 0. 1.], value -0.0011\n",
      "\n",
      "----------------- Full result ---------------------\n",
      "selection\tvalue\t\tprobability\n",
      "---------------------------------------------------\n",
      " [0 1 0 0]\t-0.0005\t\t0.8784\n",
      " [0 0 0 1]\t-0.0011\t\t0.1169\n",
      " [1 0 0 0]\t-0.0006\t\t0.0047\n",
      " [0 0 1 0]\t-0.0012\t\t0.0000\n",
      " [1 0 1 1]\t4.0208\t\t0.0000\n",
      " [0 0 1 1]\t1.0037\t\t0.0000\n",
      " [1 1 0 0]\t1.0050\t\t0.0000\n",
      " [1 1 1 0]\t4.0215\t\t0.0000\n",
      " [1 0 1 0]\t1.0041\t\t0.0000\n",
      " [0 1 1 0]\t1.0043\t\t0.0000\n",
      " [1 0 0 1]\t1.0042\t\t0.0000\n",
      " [1 1 1 1]\t9.0499\t\t0.0000\n",
      " [0 0 0 0]\t1.0058\t\t0.0000\n",
      " [0 1 1 1]\t4.0210\t\t0.0000\n",
      " [1 1 0 1]\t4.0216\t\t0.0000\n",
      " [0 1 0 1]\t1.0044\t\t0.0000\n"
     ]
    }
   ],
   "source": [
    "# VQE solution\n",
    "#provide fname ='complete address/location of your .csv file'\n",
    "\n",
    "\n",
    "from qiskit.utils import algorithm_globals\n",
    "\n",
    "algorithm_globals.random_seed = 1234\n",
    "backend = Aer.get_backend(\"statevector_simulator\")\n",
    "\n",
    "cobyla = COBYLA()\n",
    "cobyla.set_options(maxiter=500)\n",
    "ry = TwoLocal(num_assets, \"ry\", \"cz\", reps=3, entanglement=\"full\")\n",
    "quantum_instance = QuantumInstance(backend=backend, shots=8192, seed_simulator=seed, seed_transpiler=seed)\n",
    "vqe_mes = VQE(ry, optimizer=cobyla, quantum_instance=quantum_instance)\n",
    "vqe = MinimumEigenOptimizer(vqe_mes)\n",
    "result = vqe.solve(qp)\n",
    "\n",
    "fname = (r'C:\\Users\\shrey\\Documents\\stockdata1.1.csv') #change the location and name of .csv file\n",
    "print_result(result, fname)\n"
   ]
  },
  {
   "cell_type": "code",
   "execution_count": 12,
   "id": "b73953c2",
   "metadata": {},
   "outputs": [
    {
     "data": {
      "image/png": "[encoded data removed]",
      "text/plain": [
       "<Figure size 432x288 with 1 Axes>"
      ]
     },
     "metadata": {
      "needs_background": "light"
     },
     "output_type": "display_data"
    }
   ],
   "source": [
    "import pandas as pd\n",
    "import matplotlib.pyplot as plt\n",
    "\n",
    "df = pd.read_csv(r'C:\\Users\\shrey\\Documents\\stockdata1.1.csv')\n",
    "\n",
    "df.plot(kind = 'bar')\n",
    "plt.xlabel('State')\n",
    "plt.ylabel('Value')\n",
    "plt.title('Portfolio OPtimization')\n",
    "plt.legend()\n",
    "plt.show()\n"
   ]
  },
  {
   "cell_type": "code",
   "execution_count": 13,
   "id": "e1e17bcb",
   "metadata": {},
   "outputs": [
    {
     "name": "stdout",
     "output_type": "stream",
     "text": [
      "Optimal: selection [0. 0. 1. 0.], value -0.0012\n",
      "\n",
      "----------------- Full result ---------------------\n",
      "selection\tvalue\t\tprobability\n",
      "---------------------------------------------------\n",
      " [0 1 0 0]\t-0.0005\t\t0.2047\n",
      " [1 0 0 0]\t-0.0006\t\t0.2044\n",
      " [0 0 0 1]\t-0.0011\t\t0.2037\n",
      " [0 0 1 0]\t-0.0012\t\t0.2036\n",
      " [0 0 0 0]\t1.0058\t\t0.0343\n",
      " [1 1 0 0]\t1.0050\t\t0.0230\n",
      " [0 1 0 1]\t1.0044\t\t0.0228\n",
      " [0 1 1 0]\t1.0043\t\t0.0227\n",
      " [1 0 0 1]\t1.0042\t\t0.0227\n",
      " [1 0 1 0]\t1.0041\t\t0.0226\n",
      " [0 0 1 1]\t1.0037\t\t0.0224\n",
      " [1 1 1 1]\t9.0499\t\t0.0029\n",
      " [1 1 0 1]\t4.0216\t\t0.0026\n",
      " [1 1 1 0]\t4.0215\t\t0.0026\n",
      " [0 1 1 1]\t4.0210\t\t0.0025\n",
      " [1 0 1 1]\t4.0208\t\t0.0025\n"
     ]
    }
   ],
   "source": [
    "# QAOA solution\n",
    "#provide fname ='complete address/location of your .csv file'\n",
    "\n",
    "\n",
    "algorithm_globals.random_seed = 1234\n",
    "backend = Aer.get_backend(\"statevector_simulator\")\n",
    "\n",
    "cobyla = COBYLA()\n",
    "cobyla.set_options(maxiter=250)\n",
    "quantum_instance = QuantumInstance(backend=backend, shots=8192, seed_simulator=seed, seed_transpiler=seed)\n",
    "qaoa_mes = QAOA(optimizer=cobyla, reps=3, quantum_instance=quantum_instance)\n",
    "qaoa = MinimumEigenOptimizer(qaoa_mes)\n",
    "result = qaoa.solve(qp)\n",
    "\n",
    "fname = (r'C:\\Users\\shrey\\Documents\\stockdata1.2.csv') #change the location and name of .csv file\n",
    "print_result(result, fname)\n"
   ]
  },
  {
   "cell_type": "code",
   "execution_count": 14,
   "id": "129845f3",
   "metadata": {},
   "outputs": [
    {
     "data": {
      "image/png": "[encoded data removed]",
      "text/plain": [
       "<Figure size 432x288 with 1 Axes>"
      ]
     },
     "metadata": {
      "needs_background": "light"
     },
     "output_type": "display_data"
    }
   ],
   "source": [
    "import pandas as pd\n",
    "import matplotlib.pyplot as plt\n",
    "\n",
    "df = pd.read_csv(r'C:\\Users\\shrey\\Documents\\stockdata1.2.csv')\n",
    "\n",
    "df.plot(kind = 'bar', x = 'SELECTION', y = 'VALUE')\n",
    "\n",
    "plt.show()"
   ]
  },
  {
   "cell_type": "code",
   "execution_count": null,
   "id": "9c0de3f5",
   "metadata": {},
   "outputs": [],
   "source": []
  }
 ],
 "metadata": {
  "kernelspec": {
   "display_name": "Python 3.10.5 64-bit",
   "language": "python",
   "name": "python3"
  },
  "language_info": {
   "codemirror_mode": {
    "name": "ipython",
    "version": 3
   },
   "file_extension": ".py",
   "mimetype": "text/x-python",
   "name": "python",
   "nbconvert_exporter": "python",
   "pygments_lexer": "ipython3",
   "version": "3.10.5"
  },
  "vscode": {
   "interpreter": {
    "hash": "e8bba4f2be892cbd4f39a9f240acc2c7ebb8cef7264d56c87dbb8c6b0bcbe231"
   }
  },
  "widgets": {
   "application/vnd.jupyter.widget-state+json": {
    "state": {},
    "version_major": 2,
    "version_minor": 0
   }
  }
 },
 "nbformat": 4,
 "nbformat_minor": 5
}
