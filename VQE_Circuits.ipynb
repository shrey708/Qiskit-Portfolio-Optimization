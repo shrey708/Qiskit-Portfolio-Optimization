{
 "cells": [
  {
   "cell_type": "code",
   "execution_count": 1,
   "metadata": {},
   "outputs": [
    {
     "data": {
      "image/png": "[encoded data removed]",
      "text/plain": [
       "<Figure size 267.197x264.88 with 1 Axes>"
      ]
     },
     "execution_count": 1,
     "metadata": {},
     "output_type": "execute_result"
    }
   ],
   "source": [
    "from qiskit.circuit.library import ZZFeatureMap  # can also drop .data_preparation\n",
    "\n",
    "data_preparation = ZZFeatureMap(4)\n",
    "data_preparation.draw(output='mpl')"
   ]
  },
  {
   "cell_type": "code",
   "execution_count": 2,
   "metadata": {},
   "outputs": [
    {
     "data": {
      "image/png": "[encoded data removed]",
      "text/plain": [
       "<Figure size 628.397x264.88 with 1 Axes>"
      ]
     },
     "execution_count": 2,
     "metadata": {},
     "output_type": "execute_result"
    }
   ],
   "source": [
    "from qiskit.circuit.library import RealAmplitudes  # can also drop .n_local\n",
    "\n",
    "classifier = RealAmplitudes(4)\n",
    "classifier.draw(output='mpl')"
   ]
  },
  {
   "cell_type": "code",
   "execution_count": 3,
   "metadata": {},
   "outputs": [
    {
     "name": "stdout",
     "output_type": "stream",
     "text": [
      "Collecting blueqat\n",
      "  Downloading blueqat-2.0.3-py3-none-any.whl (62 kB)\n",
      "     --------------------------------------- 62.9/62.9 KB 37.0 kB/s eta 0:00:00\n",
      "Collecting autoray>=0.2.5\n",
      "  Downloading autoray-0.3.2-py3-none-any.whl (36 kB)\n",
      "Requirement already satisfied: numpy>=1.21.0 in c:\\users\\shrey\\appdata\\local\\programs\\python\\python310\\lib\\site-packages (from blueqat) (1.23.0)\n",
      "Collecting opt-einsum>=3.3.0\n",
      "  Using cached opt_einsum-3.3.0-py3-none-any.whl (65 kB)\n",
      "Requirement already satisfied: matplotlib>=3.5.1 in c:\\users\\shrey\\appdata\\local\\programs\\python\\python310\\lib\\site-packages (from blueqat) (3.5.2)\n",
      "Requirement already satisfied: scipy>=1.5 in c:\\users\\shrey\\appdata\\local\\programs\\python\\python310\\lib\\site-packages (from blueqat) (1.8.1)\n",
      "Collecting quimb==1.4.0\n",
      "  Downloading quimb-1.4.0-py3-none-any.whl (353 kB)\n",
      "     -------------------------------------- 353.6/353.6 KB 3.2 MB/s eta 0:00:00\n",
      "Requirement already satisfied: networkx>=2.6.3 in c:\\users\\shrey\\appdata\\local\\programs\\python\\python310\\lib\\site-packages (from blueqat) (2.8.4)\n",
      "Collecting cytoolz>=0.8.0\n",
      "  Downloading cytoolz-0.12.0-cp310-cp310-win_amd64.whl (321 kB)\n",
      "     -------------------------------------- 321.4/321.4 KB 2.5 MB/s eta 0:00:00\n",
      "Collecting numba>=0.39\n",
      "  Downloading numba-0.56.2-cp310-cp310-win_amd64.whl (2.5 MB)\n",
      "     ---------------------------------------- 2.5/2.5 MB 4.6 MB/s eta 0:00:00\n",
      "Requirement already satisfied: tqdm>=4 in c:\\users\\shrey\\appdata\\local\\programs\\python\\python310\\lib\\site-packages (from quimb==1.4.0->blueqat) (4.64.0)\n",
      "Requirement already satisfied: psutil>=4.3.1 in c:\\users\\shrey\\appdata\\local\\programs\\python\\python310\\lib\\site-packages (from quimb==1.4.0->blueqat) (5.9.1)\n",
      "Requirement already satisfied: fonttools>=4.22.0 in c:\\users\\shrey\\appdata\\local\\programs\\python\\python310\\lib\\site-packages (from matplotlib>=3.5.1->blueqat) (4.33.3)\n",
      "Requirement already satisfied: python-dateutil>=2.7 in c:\\users\\shrey\\appdata\\local\\programs\\python\\python310\\lib\\site-packages (from matplotlib>=3.5.1->blueqat) (2.8.2)\n",
      "Requirement already satisfied: cycler>=0.10 in c:\\users\\shrey\\appdata\\local\\programs\\python\\python310\\lib\\site-packages (from matplotlib>=3.5.1->blueqat) (0.11.0)\n",
      "Requirement already satisfied: pyparsing>=2.2.1 in c:\\users\\shrey\\appdata\\local\\programs\\python\\python310\\lib\\site-packages (from matplotlib>=3.5.1->blueqat) (3.0.9)\n",
      "Requirement already satisfied: pillow>=6.2.0 in c:\\users\\shrey\\appdata\\local\\programs\\python\\python310\\lib\\site-packages (from matplotlib>=3.5.1->blueqat) (9.1.1)\n",
      "Requirement already satisfied: kiwisolver>=1.0.1 in c:\\users\\shrey\\appdata\\local\\programs\\python\\python310\\lib\\site-packages (from matplotlib>=3.5.1->blueqat) (1.4.3)\n",
      "Requirement already satisfied: packaging>=20.0 in c:\\users\\shrey\\appdata\\local\\programs\\python\\python310\\lib\\site-packages (from matplotlib>=3.5.1->blueqat) (21.3)\n",
      "Collecting toolz>=0.8.0\n",
      "  Downloading toolz-0.12.0-py3-none-any.whl (55 kB)\n",
      "     -------------------------------------- 55.8/55.8 KB 323.4 kB/s eta 0:00:00\n",
      "Requirement already satisfied: setuptools<60 in c:\\users\\shrey\\appdata\\local\\programs\\python\\python310\\lib\\site-packages (from numba>=0.39->quimb==1.4.0->blueqat) (58.1.0)\n",
      "Collecting llvmlite<0.40,>=0.39.0dev0\n",
      "  Downloading llvmlite-0.39.1-cp310-cp310-win_amd64.whl (23.2 MB)\n",
      "     ---------------------------------------- 23.2/23.2 MB 3.1 MB/s eta 0:00:00\n",
      "Requirement already satisfied: six>=1.5 in c:\\users\\shrey\\appdata\\local\\programs\\python\\python310\\lib\\site-packages (from python-dateutil>=2.7->matplotlib>=3.5.1->blueqat) (1.16.0)\n",
      "Requirement already satisfied: colorama in c:\\users\\shrey\\appdata\\local\\programs\\python\\python310\\lib\\site-packages (from tqdm>=4->quimb==1.4.0->blueqat) (0.4.5)\n",
      "Installing collected packages: toolz, opt-einsum, llvmlite, autoray, numba, cytoolz, quimb, blueqat\n",
      "Successfully installed autoray-0.3.2 blueqat-2.0.3 cytoolz-0.12.0 llvmlite-0.39.1 numba-0.56.2 opt-einsum-3.3.0 quimb-1.4.0 toolz-0.12.0\n",
      "Note: you may need to restart the kernel to use updated packages.\n"
     ]
    },
    {
     "name": "stderr",
     "output_type": "stream",
     "text": [
      "WARNING: You are using pip version 22.0.4; however, version 22.2.2 is available.\n",
      "You should consider upgrading via the 'c:\\Users\\shrey\\AppData\\Local\\Programs\\Python\\Python310\\python.exe -m pip install --upgrade pip' command.\n"
     ]
    }
   ],
   "source": [
    "pip install blueqat"
   ]
  },
  {
   "cell_type": "code",
   "execution_count": 9,
   "metadata": {},
   "outputs": [
    {
     "ename": "TypeError",
     "evalue": "unsupported operand type(s) for @: 'csc_matrix' and 'Counter'",
     "output_type": "error",
     "traceback": [
      "\u001b[1;31m---------------------------------------------------------------------------\u001b[0m",
      "\u001b[1;31mTypeError\u001b[0m                                 Traceback (most recent call last)",
      "\u001b[1;32mc:\\Users\\shrey\\Documents\\Qiskit\\VQE_Circuits.ipynb Cell 4\u001b[0m in \u001b[0;36m<cell line: 16>\u001b[1;34m()\u001b[0m\n\u001b[0;32m     <a href='vscode-notebook-cell:/c%3A/Users/shrey/Documents/Qiskit/VQE_Circuits.ipynb#W3sZmlsZQ%3D%3D?line=13'>14</a>\u001b[0m h \u001b[39m=\u001b[39m \u001b[39m-\u001b[39mZ(\u001b[39m0\u001b[39m) \u001b[39m-\u001b[39m Z(\u001b[39m0\u001b[39m)\u001b[39m*\u001b[39mZ(\u001b[39m1\u001b[39m)\n\u001b[0;32m     <a href='vscode-notebook-cell:/c%3A/Users/shrey/Documents/Qiskit/VQE_Circuits.ipynb#W3sZmlsZQ%3D%3D?line=14'>15</a>\u001b[0m runner \u001b[39m=\u001b[39m Vqe(OneQubitAnsatz(h))\n\u001b[1;32m---> <a href='vscode-notebook-cell:/c%3A/Users/shrey/Documents/Qiskit/VQE_Circuits.ipynb#W3sZmlsZQ%3D%3D?line=15'>16</a>\u001b[0m result \u001b[39m=\u001b[39m runner\u001b[39m.\u001b[39;49mrun()\n\u001b[0;32m     <a href='vscode-notebook-cell:/c%3A/Users/shrey/Documents/Qiskit/VQE_Circuits.ipynb#W3sZmlsZQ%3D%3D?line=16'>17</a>\u001b[0m \u001b[39mprint\u001b[39m(\u001b[39m'\u001b[39m\u001b[39mResult by VQE\u001b[39m\u001b[39m'\u001b[39m)\n\u001b[0;32m     <a href='vscode-notebook-cell:/c%3A/Users/shrey/Documents/Qiskit/VQE_Circuits.ipynb#W3sZmlsZQ%3D%3D?line=17'>18</a>\u001b[0m \u001b[39mprint\u001b[39m(runner\u001b[39m.\u001b[39mansatz\u001b[39m.\u001b[39mget_energy(result\u001b[39m.\u001b[39mcircuit, runner\u001b[39m.\u001b[39msampler))\n",
      "File \u001b[1;32mc:\\Users\\shrey\\AppData\\Local\\Programs\\Python\\Python310\\lib\\site-packages\\blueqat\\vqe.py:209\u001b[0m, in \u001b[0;36mVqe.run\u001b[1;34m(self, verbose)\u001b[0m\n\u001b[0;32m    206\u001b[0m         \u001b[39mreturn\u001b[39;00m f\n\u001b[0;32m    208\u001b[0m     objective \u001b[39m=\u001b[39m verbose_objective(objective)\n\u001b[1;32m--> 209\u001b[0m params \u001b[39m=\u001b[39m \u001b[39mself\u001b[39;49m\u001b[39m.\u001b[39;49mminimizer(objective, \u001b[39mself\u001b[39;49m\u001b[39m.\u001b[39;49mansatz\u001b[39m.\u001b[39;49mn_params)\n\u001b[0;32m    210\u001b[0m c \u001b[39m=\u001b[39m \u001b[39mself\u001b[39m\u001b[39m.\u001b[39mansatz\u001b[39m.\u001b[39mget_circuit(params)\n\u001b[0;32m    211\u001b[0m \u001b[39mreturn\u001b[39;00m VqeResult(\u001b[39mself\u001b[39m, params, c)\n",
      "File \u001b[1;32mc:\\Users\\shrey\\AppData\\Local\\Programs\\Python\\Python310\\lib\\site-packages\\blueqat\\vqe.py:225\u001b[0m, in \u001b[0;36mget_scipy_minimizer.<locals>.minimizer\u001b[1;34m(objective, n_params)\u001b[0m\n\u001b[0;32m    223\u001b[0m \u001b[39mdef\u001b[39;00m \u001b[39mminimizer\u001b[39m(objective, n_params):\n\u001b[0;32m    224\u001b[0m     params \u001b[39m=\u001b[39m [random\u001b[39m.\u001b[39mrandom() \u001b[39mfor\u001b[39;00m _ \u001b[39min\u001b[39;00m \u001b[39mrange\u001b[39m(n_params)]\n\u001b[1;32m--> 225\u001b[0m     result \u001b[39m=\u001b[39m scipy_minimizer(objective, params, \u001b[39m*\u001b[39m\u001b[39m*\u001b[39mkwargs)\n\u001b[0;32m    226\u001b[0m     \u001b[39mreturn\u001b[39;00m result\u001b[39m.\u001b[39mx\n",
      "File \u001b[1;32mc:\\Users\\shrey\\AppData\\Local\\Programs\\Python\\Python310\\lib\\site-packages\\scipy\\optimize\\_minimize.py:683\u001b[0m, in \u001b[0;36mminimize\u001b[1;34m(fun, x0, args, method, jac, hess, hessp, bounds, constraints, tol, callback, options)\u001b[0m\n\u001b[0;32m    680\u001b[0m     res \u001b[39m=\u001b[39m _minimize_neldermead(fun, x0, args, callback, bounds\u001b[39m=\u001b[39mbounds,\n\u001b[0;32m    681\u001b[0m                                \u001b[39m*\u001b[39m\u001b[39m*\u001b[39moptions)\n\u001b[0;32m    682\u001b[0m \u001b[39melif\u001b[39;00m meth \u001b[39m==\u001b[39m \u001b[39m'\u001b[39m\u001b[39mpowell\u001b[39m\u001b[39m'\u001b[39m:\n\u001b[1;32m--> 683\u001b[0m     res \u001b[39m=\u001b[39m _minimize_powell(fun, x0, args, callback, bounds, \u001b[39m*\u001b[39m\u001b[39m*\u001b[39moptions)\n\u001b[0;32m    684\u001b[0m \u001b[39melif\u001b[39;00m meth \u001b[39m==\u001b[39m \u001b[39m'\u001b[39m\u001b[39mcg\u001b[39m\u001b[39m'\u001b[39m:\n\u001b[0;32m    685\u001b[0m     res \u001b[39m=\u001b[39m _minimize_cg(fun, x0, args, jac, callback, \u001b[39m*\u001b[39m\u001b[39m*\u001b[39moptions)\n",
      "File \u001b[1;32mc:\\Users\\shrey\\AppData\\Local\\Programs\\Python\\Python310\\lib\\site-packages\\scipy\\optimize\\_optimize.py:3183\u001b[0m, in \u001b[0;36m_minimize_powell\u001b[1;34m(func, x0, args, callback, bounds, xtol, ftol, maxiter, maxfev, disp, direc, return_all, **unknown_options)\u001b[0m\n\u001b[0;32m   3179\u001b[0m     \u001b[39mif\u001b[39;00m np\u001b[39m.\u001b[39many(lower_bound \u001b[39m>\u001b[39m x0) \u001b[39mor\u001b[39;00m np\u001b[39m.\u001b[39many(x0 \u001b[39m>\u001b[39m upper_bound):\n\u001b[0;32m   3180\u001b[0m         warnings\u001b[39m.\u001b[39mwarn(\u001b[39m\"\u001b[39m\u001b[39mInitial guess is not within the specified bounds\u001b[39m\u001b[39m\"\u001b[39m,\n\u001b[0;32m   3181\u001b[0m                       OptimizeWarning, \u001b[39m3\u001b[39m)\n\u001b[1;32m-> 3183\u001b[0m fval \u001b[39m=\u001b[39m squeeze(func(x))\n\u001b[0;32m   3184\u001b[0m x1 \u001b[39m=\u001b[39m x\u001b[39m.\u001b[39mcopy()\n\u001b[0;32m   3185\u001b[0m \u001b[39miter\u001b[39m \u001b[39m=\u001b[39m \u001b[39m0\u001b[39m\n",
      "File \u001b[1;32mc:\\Users\\shrey\\AppData\\Local\\Programs\\Python\\Python310\\lib\\site-packages\\scipy\\optimize\\_optimize.py:496\u001b[0m, in \u001b[0;36m_wrap_scalar_function_maxfun_validation.<locals>.function_wrapper\u001b[1;34m(x, *wrapper_args)\u001b[0m\n\u001b[0;32m    494\u001b[0m ncalls[\u001b[39m0\u001b[39m] \u001b[39m+\u001b[39m\u001b[39m=\u001b[39m \u001b[39m1\u001b[39m\n\u001b[0;32m    495\u001b[0m \u001b[39m# A copy of x is sent to the user function (gh13740)\u001b[39;00m\n\u001b[1;32m--> 496\u001b[0m fx \u001b[39m=\u001b[39m function(np\u001b[39m.\u001b[39;49mcopy(x), \u001b[39m*\u001b[39;49m(wrapper_args \u001b[39m+\u001b[39;49m args))\n\u001b[0;32m    497\u001b[0m \u001b[39m# Ideally, we'd like to a have a true scalar returned from f(x). For\u001b[39;00m\n\u001b[0;32m    498\u001b[0m \u001b[39m# backwards-compatibility, also allow np.array([1.3]),\u001b[39;00m\n\u001b[0;32m    499\u001b[0m \u001b[39m# np.array([[1.3]]) etc.\u001b[39;00m\n\u001b[0;32m    500\u001b[0m \u001b[39mif\u001b[39;00m \u001b[39mnot\u001b[39;00m np\u001b[39m.\u001b[39misscalar(fx):\n",
      "File \u001b[1;32mc:\\Users\\shrey\\AppData\\Local\\Programs\\Python\\Python310\\lib\\site-packages\\blueqat\\vqe.py:77\u001b[0m, in \u001b[0;36mAnsatzBase.get_objective.<locals>.obj_expect\u001b[1;34m(params)\u001b[0m\n\u001b[0;32m     75\u001b[0m circuit \u001b[39m=\u001b[39m \u001b[39mself\u001b[39m\u001b[39m.\u001b[39mget_circuit(params)\n\u001b[0;32m     76\u001b[0m circuit\u001b[39m.\u001b[39mmake_cache()\n\u001b[1;32m---> 77\u001b[0m \u001b[39mreturn\u001b[39;00m \u001b[39mself\u001b[39;49m\u001b[39m.\u001b[39;49mget_energy_sparse(circuit)\n",
      "File \u001b[1;32mc:\\Users\\shrey\\AppData\\Local\\Programs\\Python\\Python310\\lib\\site-packages\\blueqat\\vqe.py:65\u001b[0m, in \u001b[0;36mAnsatzBase.get_energy_sparse\u001b[1;34m(self, circuit)\u001b[0m\n\u001b[0;32m     63\u001b[0m \u001b[39mdef\u001b[39;00m \u001b[39mget_energy_sparse\u001b[39m(\u001b[39mself\u001b[39m, circuit):\n\u001b[0;32m     64\u001b[0m     \u001b[39m\"\"\"Get energy using sparse matrix. This method may be changed in the future release.\"\"\"\u001b[39;00m\n\u001b[1;32m---> 65\u001b[0m     \u001b[39mreturn\u001b[39;00m sparse_expectation(\u001b[39mself\u001b[39;49m\u001b[39m.\u001b[39;49msparse, circuit\u001b[39m.\u001b[39;49mrun())\n",
      "File \u001b[1;32mc:\\Users\\shrey\\AppData\\Local\\Programs\\Python\\Python310\\lib\\site-packages\\blueqat\\vqe.py:366\u001b[0m, in \u001b[0;36msparse_expectation\u001b[1;34m(mat, vec)\u001b[0m\n\u001b[0;32m    355\u001b[0m \u001b[39mdef\u001b[39;00m \u001b[39msparse_expectation\u001b[39m(mat, vec):\n\u001b[0;32m    356\u001b[0m     \u001b[39m\"\"\"Calculate expectation value <vec|mat|vec>.\u001b[39;00m\n\u001b[0;32m    357\u001b[0m \n\u001b[0;32m    358\u001b[0m \u001b[39m    Args:\u001b[39;00m\n\u001b[1;32m   (...)\u001b[0m\n\u001b[0;32m    364\u001b[0m \u001b[39m        Remarks: when mat is Hermitian, <vec|mat|vec> is real.\u001b[39;00m\n\u001b[0;32m    365\u001b[0m \u001b[39m    \"\"\"\u001b[39;00m\n\u001b[1;32m--> 366\u001b[0m     \u001b[39mreturn\u001b[39;00m np\u001b[39m.\u001b[39mvdot(vec, mat\u001b[39m.\u001b[39;49mdot(vec))\u001b[39m.\u001b[39mreal\n",
      "File \u001b[1;32mc:\\Users\\shrey\\AppData\\Local\\Programs\\Python\\Python310\\lib\\site-packages\\scipy\\sparse\\_base.py:416\u001b[0m, in \u001b[0;36mspmatrix.dot\u001b[1;34m(self, other)\u001b[0m\n\u001b[0;32m    414\u001b[0m     \u001b[39mreturn\u001b[39;00m \u001b[39mself\u001b[39m \u001b[39m*\u001b[39m other\n\u001b[0;32m    415\u001b[0m \u001b[39melse\u001b[39;00m:\n\u001b[1;32m--> 416\u001b[0m     \u001b[39mreturn\u001b[39;00m \u001b[39mself\u001b[39;49m \u001b[39m@\u001b[39;49m other\n",
      "\u001b[1;31mTypeError\u001b[0m: unsupported operand type(s) for @: 'csc_matrix' and 'Counter'"
     ]
    }
   ],
   "source": [
    "import numpy as np\n",
    "from blueqat import Circuit\n",
    "from blueqat.pauli import X, Y, Z, I\n",
    "from blueqat.vqe import AnsatzBase, Vqe\n",
    "class OneQubitAnsatz(AnsatzBase):\n",
    "  def __init__(self, hamiltonian):\n",
    "    super().__init__(hamiltonian.to_expr(), 4)\n",
    "    self.step = 1  \n",
    "  def get_circuit(self, params):\n",
    "    a, b, c, d = params\n",
    "    return Circuit().ry(a)[0].rz(b)[0].ry(c)[1].rz(d)[1]\n",
    "    \n",
    "# hamiltonian is important\n",
    "h = -Z(0) - Z(0)*Z(1)\n",
    "runner = Vqe(OneQubitAnsatz(h))\n",
    "result = runner.run()\n",
    "print('Result by VQE')\n",
    "print(runner.ansatz.get_energy(result.circuit, runner.sampler))"
   ]
  },
  {
   "cell_type": "code",
   "execution_count": 12,
   "metadata": {},
   "outputs": [
    {
     "ename": "NotImplementedError",
     "evalue": "",
     "output_type": "error",
     "traceback": [
      "\u001b[1;31m---------------------------------------------------------------------------\u001b[0m",
      "\u001b[1;31mNotImplementedError\u001b[0m                       Traceback (most recent call last)",
      "\u001b[1;32mc:\\Users\\shrey\\Documents\\Qiskit\\VQE_Circuits.ipynb Cell 5\u001b[0m in \u001b[0;36m<cell line: 17>\u001b[1;34m()\u001b[0m\n\u001b[0;32m     <a href='vscode-notebook-cell:/c%3A/Users/shrey/Documents/Qiskit/VQE_Circuits.ipynb#W4sZmlsZQ%3D%3D?line=14'>15</a>\u001b[0m h \u001b[39m=\u001b[39m h\u001b[39m.\u001b[39mto_expr()\u001b[39m.\u001b[39msimplify()\n\u001b[0;32m     <a href='vscode-notebook-cell:/c%3A/Users/shrey/Documents/Qiskit/VQE_Circuits.ipynb#W4sZmlsZQ%3D%3D?line=15'>16</a>\u001b[0m runner \u001b[39m=\u001b[39m Vqe(QubitAnsatz(h))\n\u001b[1;32m---> <a href='vscode-notebook-cell:/c%3A/Users/shrey/Documents/Qiskit/VQE_Circuits.ipynb#W4sZmlsZQ%3D%3D?line=16'>17</a>\u001b[0m result \u001b[39m=\u001b[39m runner\u001b[39m.\u001b[39;49mrun()\n\u001b[0;32m     <a href='vscode-notebook-cell:/c%3A/Users/shrey/Documents/Qiskit/VQE_Circuits.ipynb#W4sZmlsZQ%3D%3D?line=17'>18</a>\u001b[0m \u001b[39mprint\u001b[39m(\u001b[39m'\u001b[39m\u001b[39mResult by VQE\u001b[39m\u001b[39m'\u001b[39m)\n\u001b[0;32m     <a href='vscode-notebook-cell:/c%3A/Users/shrey/Documents/Qiskit/VQE_Circuits.ipynb#W4sZmlsZQ%3D%3D?line=18'>19</a>\u001b[0m \u001b[39mprint\u001b[39m(runner\u001b[39m.\u001b[39mansatz\u001b[39m.\u001b[39mget_energy(result\u001b[39m.\u001b[39mcircuit, runner\u001b[39m.\u001b[39msampler))\u001b[39m# Hamiltonian to matrix\u001b[39;00m\n",
      "File \u001b[1;32mc:\\Users\\shrey\\AppData\\Local\\Programs\\Python\\Python310\\lib\\site-packages\\blueqat\\vqe.py:209\u001b[0m, in \u001b[0;36mVqe.run\u001b[1;34m(self, verbose)\u001b[0m\n\u001b[0;32m    206\u001b[0m         \u001b[39mreturn\u001b[39;00m f\n\u001b[0;32m    208\u001b[0m     objective \u001b[39m=\u001b[39m verbose_objective(objective)\n\u001b[1;32m--> 209\u001b[0m params \u001b[39m=\u001b[39m \u001b[39mself\u001b[39;49m\u001b[39m.\u001b[39;49mminimizer(objective, \u001b[39mself\u001b[39;49m\u001b[39m.\u001b[39;49mansatz\u001b[39m.\u001b[39;49mn_params)\n\u001b[0;32m    210\u001b[0m c \u001b[39m=\u001b[39m \u001b[39mself\u001b[39m\u001b[39m.\u001b[39mansatz\u001b[39m.\u001b[39mget_circuit(params)\n\u001b[0;32m    211\u001b[0m \u001b[39mreturn\u001b[39;00m VqeResult(\u001b[39mself\u001b[39m, params, c)\n",
      "File \u001b[1;32mc:\\Users\\shrey\\AppData\\Local\\Programs\\Python\\Python310\\lib\\site-packages\\blueqat\\vqe.py:225\u001b[0m, in \u001b[0;36mget_scipy_minimizer.<locals>.minimizer\u001b[1;34m(objective, n_params)\u001b[0m\n\u001b[0;32m    223\u001b[0m \u001b[39mdef\u001b[39;00m \u001b[39mminimizer\u001b[39m(objective, n_params):\n\u001b[0;32m    224\u001b[0m     params \u001b[39m=\u001b[39m [random\u001b[39m.\u001b[39mrandom() \u001b[39mfor\u001b[39;00m _ \u001b[39min\u001b[39;00m \u001b[39mrange\u001b[39m(n_params)]\n\u001b[1;32m--> 225\u001b[0m     result \u001b[39m=\u001b[39m scipy_minimizer(objective, params, \u001b[39m*\u001b[39m\u001b[39m*\u001b[39mkwargs)\n\u001b[0;32m    226\u001b[0m     \u001b[39mreturn\u001b[39;00m result\u001b[39m.\u001b[39mx\n",
      "File \u001b[1;32mc:\\Users\\shrey\\AppData\\Local\\Programs\\Python\\Python310\\lib\\site-packages\\scipy\\optimize\\_minimize.py:683\u001b[0m, in \u001b[0;36mminimize\u001b[1;34m(fun, x0, args, method, jac, hess, hessp, bounds, constraints, tol, callback, options)\u001b[0m\n\u001b[0;32m    680\u001b[0m     res \u001b[39m=\u001b[39m _minimize_neldermead(fun, x0, args, callback, bounds\u001b[39m=\u001b[39mbounds,\n\u001b[0;32m    681\u001b[0m                                \u001b[39m*\u001b[39m\u001b[39m*\u001b[39moptions)\n\u001b[0;32m    682\u001b[0m \u001b[39melif\u001b[39;00m meth \u001b[39m==\u001b[39m \u001b[39m'\u001b[39m\u001b[39mpowell\u001b[39m\u001b[39m'\u001b[39m:\n\u001b[1;32m--> 683\u001b[0m     res \u001b[39m=\u001b[39m _minimize_powell(fun, x0, args, callback, bounds, \u001b[39m*\u001b[39m\u001b[39m*\u001b[39moptions)\n\u001b[0;32m    684\u001b[0m \u001b[39melif\u001b[39;00m meth \u001b[39m==\u001b[39m \u001b[39m'\u001b[39m\u001b[39mcg\u001b[39m\u001b[39m'\u001b[39m:\n\u001b[0;32m    685\u001b[0m     res \u001b[39m=\u001b[39m _minimize_cg(fun, x0, args, jac, callback, \u001b[39m*\u001b[39m\u001b[39m*\u001b[39moptions)\n",
      "File \u001b[1;32mc:\\Users\\shrey\\AppData\\Local\\Programs\\Python\\Python310\\lib\\site-packages\\scipy\\optimize\\_optimize.py:3183\u001b[0m, in \u001b[0;36m_minimize_powell\u001b[1;34m(func, x0, args, callback, bounds, xtol, ftol, maxiter, maxfev, disp, direc, return_all, **unknown_options)\u001b[0m\n\u001b[0;32m   3179\u001b[0m     \u001b[39mif\u001b[39;00m np\u001b[39m.\u001b[39many(lower_bound \u001b[39m>\u001b[39m x0) \u001b[39mor\u001b[39;00m np\u001b[39m.\u001b[39many(x0 \u001b[39m>\u001b[39m upper_bound):\n\u001b[0;32m   3180\u001b[0m         warnings\u001b[39m.\u001b[39mwarn(\u001b[39m\"\u001b[39m\u001b[39mInitial guess is not within the specified bounds\u001b[39m\u001b[39m\"\u001b[39m,\n\u001b[0;32m   3181\u001b[0m                       OptimizeWarning, \u001b[39m3\u001b[39m)\n\u001b[1;32m-> 3183\u001b[0m fval \u001b[39m=\u001b[39m squeeze(func(x))\n\u001b[0;32m   3184\u001b[0m x1 \u001b[39m=\u001b[39m x\u001b[39m.\u001b[39mcopy()\n\u001b[0;32m   3185\u001b[0m \u001b[39miter\u001b[39m \u001b[39m=\u001b[39m \u001b[39m0\u001b[39m\n",
      "File \u001b[1;32mc:\\Users\\shrey\\AppData\\Local\\Programs\\Python\\Python310\\lib\\site-packages\\scipy\\optimize\\_optimize.py:496\u001b[0m, in \u001b[0;36m_wrap_scalar_function_maxfun_validation.<locals>.function_wrapper\u001b[1;34m(x, *wrapper_args)\u001b[0m\n\u001b[0;32m    494\u001b[0m ncalls[\u001b[39m0\u001b[39m] \u001b[39m+\u001b[39m\u001b[39m=\u001b[39m \u001b[39m1\u001b[39m\n\u001b[0;32m    495\u001b[0m \u001b[39m# A copy of x is sent to the user function (gh13740)\u001b[39;00m\n\u001b[1;32m--> 496\u001b[0m fx \u001b[39m=\u001b[39m function(np\u001b[39m.\u001b[39;49mcopy(x), \u001b[39m*\u001b[39;49m(wrapper_args \u001b[39m+\u001b[39;49m args))\n\u001b[0;32m    497\u001b[0m \u001b[39m# Ideally, we'd like to a have a true scalar returned from f(x). For\u001b[39;00m\n\u001b[0;32m    498\u001b[0m \u001b[39m# backwards-compatibility, also allow np.array([1.3]),\u001b[39;00m\n\u001b[0;32m    499\u001b[0m \u001b[39m# np.array([[1.3]]) etc.\u001b[39;00m\n\u001b[0;32m    500\u001b[0m \u001b[39mif\u001b[39;00m \u001b[39mnot\u001b[39;00m np\u001b[39m.\u001b[39misscalar(fx):\n",
      "File \u001b[1;32mc:\\Users\\shrey\\AppData\\Local\\Programs\\Python\\Python310\\lib\\site-packages\\blueqat\\vqe.py:75\u001b[0m, in \u001b[0;36mAnsatzBase.get_objective.<locals>.obj_expect\u001b[1;34m(params)\u001b[0m\n\u001b[0;32m     74\u001b[0m \u001b[39mdef\u001b[39;00m \u001b[39mobj_expect\u001b[39m(params):\n\u001b[1;32m---> 75\u001b[0m     circuit \u001b[39m=\u001b[39m \u001b[39mself\u001b[39;49m\u001b[39m.\u001b[39;49mget_circuit(params)\n\u001b[0;32m     76\u001b[0m     circuit\u001b[39m.\u001b[39mmake_cache()\n\u001b[0;32m     77\u001b[0m     \u001b[39mreturn\u001b[39;00m \u001b[39mself\u001b[39m\u001b[39m.\u001b[39mget_energy_sparse(circuit)\n",
      "File \u001b[1;32mc:\\Users\\shrey\\AppData\\Local\\Programs\\Python\\Python310\\lib\\site-packages\\blueqat\\vqe.py:43\u001b[0m, in \u001b[0;36mAnsatzBase.get_circuit\u001b[1;34m(self, params)\u001b[0m\n\u001b[0;32m     41\u001b[0m \u001b[39mdef\u001b[39;00m \u001b[39mget_circuit\u001b[39m(\u001b[39mself\u001b[39m, params):\n\u001b[0;32m     42\u001b[0m     \u001b[39m\"\"\"Make a circuit from parameters.\"\"\"\u001b[39;00m\n\u001b[1;32m---> 43\u001b[0m     \u001b[39mraise\u001b[39;00m \u001b[39mNotImplementedError\u001b[39;00m\n",
      "\u001b[1;31mNotImplementedError\u001b[0m: "
     ]
    }
   ],
   "source": [
    "import numpy as np\n",
    "from blueqat import Circuit\n",
    "from blueqat.pauli import X, Y, Z, I\n",
    "from blueqat.pauli import qubo_bit as q\n",
    "from blueqat.vqe import AnsatzBase, Vqe\n",
    "class QubitAnsatz(AnsatzBase):\n",
    "  def __init__(self, hamiltonian):\n",
    "    super().__init__(hamiltonian, 4)\n",
    "    self.step = 1  \n",
    "def get_circuit(self, params):\n",
    "    a, b, c, d = params\n",
    "    return Circuit().ry(a)[0].rz(b)[0].ry(c)[1].rz(d)[1]\n",
    "    \n",
    "h = -3*q(0)-3*q(1)-2*q(0)*q(1)\n",
    "h = h.to_expr().simplify()\n",
    "runner = Vqe(QubitAnsatz(h))\n",
    "result = runner.run()\n",
    "print('Result by VQE')\n",
    "print(runner.ansatz.get_energy(result.circuit, runner.sampler))# Hamiltonian to matrix\n",
    "mat = h.to_matrix()# Calculate by numpy\n",
    "print('Result by numpy')\n",
    "print(np.linalg.eigh(mat)[0][0])"
   ]
  },
  {
   "cell_type": "code",
   "execution_count": 13,
   "metadata": {},
   "outputs": [],
   "source": [
    "from qiskit.opflow import Z, I\n",
    "\n",
    "num_qubits = 4\n",
    "hamiltonian = (Z ^ Z) ^ (I ^ (num_qubits - 2))"
   ]
  },
  {
   "cell_type": "code",
   "execution_count": 14,
   "metadata": {},
   "outputs": [],
   "source": [
    "target_energy = -1"
   ]
  },
  {
   "cell_type": "code",
   "execution_count": 31,
   "metadata": {},
   "outputs": [
    {
     "data": {
      "image/png": "[encoded data removed]",
      "text/plain": [
       "<Figure size 628.397x264.88 with 1 Axes>"
      ]
     },
     "execution_count": 31,
     "metadata": {},
     "output_type": "execute_result"
    }
   ],
   "source": [
    "from qiskit.circuit.library import EfficientSU2\n",
    "\n",
    "# the rotation gates are chosen randomly, so we set a seed for reproducibility\n",
    "ansatz = EfficientSU2(num_qubits, reps=1, entanglement='linear', insert_barriers=True) \n",
    "ansatz.draw('mpl', style='iqx')\n",
    "#print(ansatz)"
   ]
  },
  {
   "cell_type": "code",
   "execution_count": 16,
   "metadata": {},
   "outputs": [],
   "source": [
    "import numpy as np\n",
    "from qiskit.algorithms.optimizers import SPSA\n",
    "\n",
    "optimizer = SPSA(maxiter=50)\n",
    "\n",
    "np.random.seed(10)  # seed for reproducibility\n",
    "initial_point = np.random.random(ansatz.num_parameters)"
   ]
  },
  {
   "cell_type": "code",
   "execution_count": 17,
   "metadata": {},
   "outputs": [],
   "source": [
    "intermediate_info = {\n",
    "    'nfev': [],\n",
    "    'parameters': [],\n",
    "    'energy': [],\n",
    "    'stddev': []\n",
    "}\n",
    "\n",
    "def callback(nfev, parameters, energy, stddev):\n",
    "    intermediate_info['nfev'].append(nfev)\n",
    "    intermediate_info['parameters'].append(parameters)\n",
    "    intermediate_info['energy'].append(energy)\n",
    "    intermediate_info['stddev'].append(stddev)"
   ]
  },
  {
   "cell_type": "code",
   "execution_count": 18,
   "metadata": {},
   "outputs": [],
   "source": [
    "\n",
    "\n",
    "from qiskit.providers.basicaer import QasmSimulatorPy  # local simulator\n",
    "from qiskit.algorithms import VQE\n",
    "\n",
    "local_vqe = VQE(ansatz=ansatz,\n",
    "                optimizer=optimizer,\n",
    "                initial_point=initial_point,\n",
    "                quantum_instance=QasmSimulatorPy(),\n",
    "                callback=callback)\n",
    "\n"
   ]
  },
  {
   "cell_type": "code",
   "execution_count": 19,
   "metadata": {},
   "outputs": [],
   "source": [
    "\n",
    "\n",
    "local_result = local_vqe.compute_minimum_eigenvalue(hamiltonian)\n",
    "\n"
   ]
  },
  {
   "cell_type": "code",
   "execution_count": 20,
   "metadata": {},
   "outputs": [
    {
     "name": "stdout",
     "output_type": "stream",
     "text": [
      "Eigenvalue: (-0.998046875+0j)\n",
      "Target: -1\n"
     ]
    }
   ],
   "source": [
    "\n",
    "\n",
    "print('Eigenvalue:', local_result.eigenvalue)\n",
    "print('Target:', target_energy)\n",
    "\n"
   ]
  },
  {
   "cell_type": "code",
   "execution_count": 21,
   "metadata": {},
   "outputs": [
    {
     "name": "stdout",
     "output_type": "stream",
     "text": [
      "Mean error: 0.01840833150552532\n"
     ]
    }
   ],
   "source": [
    "print('Mean error:', np.mean(intermediate_info['stddev']))"
   ]
  },
  {
   "cell_type": "code",
   "execution_count": 23,
   "metadata": {},
   "outputs": [
    {
     "data": {
      "text/plain": [
       "\"from qiskit import IBMQ\\n\\nIBMQ.load_account()\\nprovider = IBMQ.get_provider(project='qiskit-runtime')  # replace by your designated provider\""
      ]
     },
     "execution_count": 23,
     "metadata": {},
     "output_type": "execute_result"
    }
   ],
   "source": [
    "'''from qiskit import IBMQ\n",
    "\n",
    "IBMQ.load_account()\n",
    "provider = IBMQ.get_provider(project='qiskit-runtime')  # replace by your designated provider'''"
   ]
  },
  {
   "cell_type": "code",
   "execution_count": 24,
   "metadata": {},
   "outputs": [],
   "source": [
    "intermediate_info = {\n",
    "    'nfev': [],\n",
    "    'parameters': [],\n",
    "    'energy': [],\n",
    "    'stddev': []\n",
    "}\n",
    "\n",
    "def callback(nfev, parameters, energy, stddev):\n",
    "    intermediate_info['nfev'].append(nfev)\n",
    "    intermediate_info['parameters'].append(parameters)\n",
    "    intermediate_info['energy'].append(energy)\n",
    "    intermediate_info['stddev'].append(stddev)"
   ]
  },
  {
   "cell_type": "code",
   "execution_count": 25,
   "metadata": {},
   "outputs": [],
   "source": [
    "\n",
    "\n",
    "measurement_error_mitigation = True\n",
    "\n"
   ]
  },
  {
   "cell_type": "code",
   "execution_count": 26,
   "metadata": {},
   "outputs": [
    {
     "ename": "ModuleNotFoundError",
     "evalue": "No module named 'qiskit_nature'",
     "output_type": "error",
     "traceback": [
      "\u001b[1;31m---------------------------------------------------------------------------\u001b[0m",
      "\u001b[1;31mModuleNotFoundError\u001b[0m                       Traceback (most recent call last)",
      "\u001b[1;32mc:\\Users\\shrey\\Documents\\Qiskit\\VQE_Circuits.ipynb Cell 18\u001b[0m in \u001b[0;36m<cell line: 1>\u001b[1;34m()\u001b[0m\n\u001b[1;32m----> <a href='vscode-notebook-cell:/c%3A/Users/shrey/Documents/Qiskit/VQE_Circuits.ipynb#X23sZmlsZQ%3D%3D?line=0'>1</a>\u001b[0m \u001b[39mfrom\u001b[39;00m \u001b[39mqiskit_nature\u001b[39;00m\u001b[39m.\u001b[39;00m\u001b[39mruntime\u001b[39;00m \u001b[39mimport\u001b[39;00m VQEProgram\n\u001b[0;32m      <a href='vscode-notebook-cell:/c%3A/Users/shrey/Documents/Qiskit/VQE_Circuits.ipynb#X23sZmlsZQ%3D%3D?line=2'>3</a>\u001b[0m \u001b[39m# in this first release, the optimizer must be specified as dictionary\u001b[39;00m\n\u001b[0;32m      <a href='vscode-notebook-cell:/c%3A/Users/shrey/Documents/Qiskit/VQE_Circuits.ipynb#X23sZmlsZQ%3D%3D?line=3'>4</a>\u001b[0m optimizer \u001b[39m=\u001b[39m {\u001b[39m'\u001b[39m\u001b[39mname\u001b[39m\u001b[39m'\u001b[39m: \u001b[39m'\u001b[39m\u001b[39mSPSA\u001b[39m\u001b[39m'\u001b[39m,\n\u001b[0;32m      <a href='vscode-notebook-cell:/c%3A/Users/shrey/Documents/Qiskit/VQE_Circuits.ipynb#X23sZmlsZQ%3D%3D?line=4'>5</a>\u001b[0m              \u001b[39m'\u001b[39m\u001b[39mmaxiter\u001b[39m\u001b[39m'\u001b[39m: \u001b[39m50\u001b[39m}\n",
      "\u001b[1;31mModuleNotFoundError\u001b[0m: No module named 'qiskit_nature'"
     ]
    }
   ],
   "source": [
    "from qiskit_nature.runtime import VQEProgram\n",
    "\n",
    "# in this first release, the optimizer must be specified as dictionary\n",
    "optimizer = {'name': 'SPSA',\n",
    "             'maxiter': 50}\n",
    "\n",
    "runtime_vqe = VQEProgram(ansatz=ansatz,\n",
    "                         optimizer=optimizer,\n",
    "                         initial_point=initial_point,\n",
    "                         provider=provider,\n",
    "                         backend=backend,\n",
    "                         shots=1024,\n",
    "                         measurement_error_mitigation=measurement_error_mitigation,\n",
    "                         callback=callback)"
   ]
  },
  {
   "cell_type": "code",
   "execution_count": null,
   "metadata": {},
   "outputs": [],
   "source": []
  }
 ],
 "metadata": {
  "kernelspec": {
   "display_name": "Python 3.10.5 64-bit",
   "language": "python",
   "name": "python3"
  },
  "language_info": {
   "codemirror_mode": {
    "name": "ipython",
    "version": 3
   },
   "file_extension": ".py",
   "mimetype": "text/x-python",
   "name": "python",
   "nbconvert_exporter": "python",
   "pygments_lexer": "ipython3",
   "version": "3.10.5"
  },
  "orig_nbformat": 4,
  "vscode": {
   "interpreter": {
    "hash": "e8bba4f2be892cbd4f39a9f240acc2c7ebb8cef7264d56c87dbb8c6b0bcbe231"
   }
  }
 },
 "nbformat": 4,
 "nbformat_minor": 2
}
