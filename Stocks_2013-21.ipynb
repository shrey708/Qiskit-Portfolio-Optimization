{
 "cells": [
  {
   "cell_type": "code",
   "execution_count": 3,
   "metadata": {},
   "outputs": [],
   "source": [
    "#importing the required stuff\n",
    "from qiskit import Aer\n",
    "from qiskit.algorithms import VQE, QAOA, NumPyMinimumEigensolver\n",
    "from qiskit.algorithms.optimizers import COBYLA, SPSA\n",
    "from qiskit.circuit.library import TwoLocal\n",
    "from qiskit.utils import QuantumInstance\n",
    "from qiskit_finance.applications.optimization import PortfolioOptimization\n",
    "from qiskit_finance.data_providers import *\n",
    "from qiskit_finance import QiskitFinanceError\n",
    "from qiskit_optimization.algorithms import MinimumEigenOptimizer\n",
    "from qiskit_optimization.applications import OptimizationApplication\n",
    "from qiskit_optimization.converters import QuadraticProgramToQubo\n",
    "import numpy as np\n",
    "import matplotlib.pyplot as plt\n",
    "\n",
    "import datetime\n",
    "import pandas as pd\n",
    "from pandas.plotting import register_matplotlib_converters\n",
    "register_matplotlib_converters()\n",
    "import csv\n",
    "import yfinance as yf\n",
    "import pandas_datareader.data as web\n",
    "from qiskit_finance.applications.optimization import PortfolioDiversification"
   ]
  },
  {
   "cell_type": "code",
   "execution_count": 4,
   "metadata": {},
   "outputs": [],
   "source": [
    "%matplotlib inline"
   ]
  },
  {
   "cell_type": "code",
   "execution_count": 5,
   "metadata": {},
   "outputs": [],
   "source": [
    "assets = [\"AMZN\", \"SPY\", \"BAC\", \"CVX\"]"
   ]
  },
  {
   "cell_type": "code",
   "execution_count": 6,
   "metadata": {},
   "outputs": [
    {
     "name": "stdout",
     "output_type": "stream",
     "text": [
      "[*********************100%***********************]  4 of 4 completed\n"
     ]
    }
   ],
   "source": [
    "# set number of assets (= number of qubits)\n",
    "\n",
    "seed = 123\n",
    "\n",
    "# assets = [\"JPM\", \"GS\", \"MSFT\", \"AAPL\", \"WMT\", \"MCD\"]\n",
    "\n",
    "# Using data from yahoo finance\n",
    "# use the name listed for particular company that you wish to add\n",
    "\n",
    "import yfinance as yf\n",
    "import numpy as np\n",
    "selected_stocks_data = yf.download(assets, start = '2013-01-01', end = '2021-12-31')['Adj Close']\n",
    "selected_stocks_data.head()\n",
    "log_return = np.log(selected_stocks_data/selected_stocks_data.shift(1))\n",
    "# np.log(data/data.shift(1))\n",
    "# log_return.head()\n",
    "\n",
    "\n",
    "num_assets = len(assets)\n",
    "mu = log_return.mean()*2741\n",
    "sigma = log_return.cov()*2741\n",
    "sigma = np.array(sigma)\n",
    "mu = np.array(mu)"
   ]
  },
  {
   "cell_type": "code",
   "execution_count": 7,
   "metadata": {},
   "outputs": [
    {
     "name": "stdout",
     "output_type": "stream",
     "text": [
      "returns  [3.1433081  1.79522951 0.55713849 1.6652048 ]\n",
      "cov  [[0.97485555 0.28787789 0.20925661 0.30260436]\n",
      " [0.28787789 1.01496507 0.57750798 0.39905315]\n",
      " [0.20925661 0.57750798 0.88942357 0.3493556 ]\n",
      " [0.30260436 0.39905315 0.3493556  0.29670928]]\n"
     ]
    }
   ],
   "source": [
    "print(\"returns \", mu)\n",
    "print(\"cov \", sigma)"
   ]
  },
  {
   "cell_type": "code",
   "execution_count": 8,
   "metadata": {},
   "outputs": [
    {
     "data": {
      "image/png": "[encoded data removed]",
      "text/plain": [
       "<Figure size 432x288 with 1 Axes>"
      ]
     },
     "metadata": {
      "needs_background": "light"
     },
     "output_type": "display_data"
    }
   ],
   "source": [
    "# plot sigma\n",
    "plt.imshow(sigma, interpolation=\"nearest\")\n",
    "plt.show()"
   ]
  },
  {
   "cell_type": "code",
   "execution_count": 9,
   "metadata": {},
   "outputs": [
    {
     "data": {
      "text/plain": [
       "<QuadraticProgram: minimize 0.48742777596000547*x_0^2 + 0.28787789031618105*x_..., 4 variables, 1 constraints, 'Portfolio optimization'>"
      ]
     },
     "execution_count": 9,
     "metadata": {},
     "output_type": "execute_result"
    }
   ],
   "source": [
    "q = 0.5  # set risk factor\n",
    "budget = num_assets // 2  # set budget\n",
    "penalty = num_assets  # set parameter to scale the budget penalty term\n",
    "\n",
    "portfolio = PortfolioOptimization(\n",
    "    expected_returns=mu, covariances=sigma, risk_factor=q, budget=budget,\n",
    ")\n",
    "qp = portfolio.to_quadratic_program()\n",
    "qp"
   ]
  },
  {
   "cell_type": "code",
   "execution_count": 10,
   "metadata": {},
   "outputs": [],
   "source": [
    "def index_to_selection(i, num_assets):\n",
    "    s = \"{0:b}\".format(i).rjust(num_assets)\n",
    "    x = np.array([1 if s[i] == \"1\" else 0 for i in reversed(range(num_assets))])\n",
    "    return x\n",
    "\n",
    "\n",
    "def print_result(result,fname):\n",
    "    \n",
    "    f = open(fname, 'w')\n",
    "    header = ['SELECTION', 'VALUE', 'PROBABLITY']\n",
    "    writer = csv.writer(f)\n",
    "    writer.writerow(header)\n",
    "    \n",
    "    selection = result.x\n",
    "    value = result.fval\n",
    "    print(\"Optimal: selection {}, value {:.4f}\".format(selection, value))\n",
    "\n",
    "    # eigenstate = result.min_eigen_solver_result.eigenstate\n",
    "    # eigenvector = eigenstate if isinstance(eigenstate, np.ndarray) else eigenstate.to_matrix()\n",
    "    # probabilities = np.abs(eigenvector) ** 2\n",
    "    # i_sorted = reversed(np.argsort(probabilities))\n",
    "    # print(\"\\n----------------- Full result ---------------------\")\n",
    "    # print(\"selection\\tvalue\\t\\tprobability\")\n",
    "    # print(\"---------------------------------------------------\")\n",
    "    # for i in i_sorted:\n",
    "    #     x = index_to_selection(i, num_assets)\n",
    "    #     value = QuadraticProgramToQubo().convert(qp).objective.evaluate(x)\n",
    "    #     # value = portfolio.to_quadratic_program().objective.evaluate(x)\n",
    "    #     probability = probabilities[i]\n",
    "    #     row = [x, value, probability]\n",
    "    #     writer.writerow(row)\n",
    "        # print(\"%10s\\t%.4f\\t\\t%.4f\" % (x, value, probability))\n",
    "    f.close()"
   ]
  },
  {
   "cell_type": "code",
   "execution_count": 11,
   "metadata": {},
   "outputs": [
    {
     "name": "stdout",
     "output_type": "stream",
     "text": [
      "Optimal: selection [1. 0. 0. 1.], value -3.8701\n"
     ]
    }
   ],
   "source": [
    "#classical reference solution\n",
    "#provide fname ='complete address/location of your .csv file'\n",
    "\n",
    "exact_mes = NumPyMinimumEigensolver()\n",
    "exact_eigensolver = MinimumEigenOptimizer(exact_mes)\n",
    "\n",
    "result = exact_eigensolver.solve(qp)\n",
    "fname = 'nes1.csv' #change the location and nsame of .csv file\n",
    "\n",
    "print_result(result,fname)\n",
    "\n",
    "\n",
    "# [1. 0. 0. 1. 1. 0.]"
   ]
  },
  {
   "cell_type": "code",
   "execution_count": 12,
   "metadata": {},
   "outputs": [
    {
     "name": "stdout",
     "output_type": "stream",
     "text": [
      "Optimal: selection [1. 0. 0. 1.], value -3.8701\n"
     ]
    }
   ],
   "source": [
    "# VQE with Cobyla solution\n",
    "#provide fname ='complete address/location of your .csv file'\n",
    "\n",
    "from qiskit.utils import algorithm_globals\n",
    "\n",
    "algorithm_globals.random_seed = 1234\n",
    "backend = Aer.get_backend(\"qasm_simulator\")\n",
    "\n",
    "cobyla = COBYLA()\n",
    "cobyla.set_options(maxiter=500)\n",
    "ry = TwoLocal(num_assets, \"ry\", \"cz\", reps=3, entanglement=\"full\")\n",
    "quantum_instance = QuantumInstance(backend=backend, shots=8192, seed_simulator=seed, seed_transpiler=seed)\n",
    "vqe_mes = VQE(ry, optimizer=cobyla, quantum_instance=quantum_instance)\n",
    "vqe = MinimumEigenOptimizer(vqe_mes)\n",
    "result = vqe.solve(qp)\n",
    "\n",
    "fname = 'vqe1.csv' #change the location and name of .csv file\n",
    "print_result(result, fname)\n",
    "\n",
    "\n",
    "\n",
    "#[0. 0. 1. 1. 0. 1.] --numpy eigen solver"
   ]
  },
  {
   "cell_type": "code",
   "execution_count": 13,
   "metadata": {},
   "outputs": [
    {
     "name": "stdout",
     "output_type": "stream",
     "text": [
      "Optimal: selection [1. 0. 0. 1.], value -3.8701\n"
     ]
    }
   ],
   "source": [
    "# VQE with SPSA solution\n",
    "#provide fname ='complete address/location of your .csv file'\n",
    "\n",
    "from qiskit.utils import algorithm_globals\n",
    "\n",
    "algorithm_globals.random_seed = 1234\n",
    "backend = Aer.get_backend(\"qasm_simulator\")\n",
    "\n",
    "cobyla = SPSA()\n",
    "cobyla.set_options(maxiter=500)\n",
    "ry = TwoLocal(num_assets, \"ry\", \"cz\", reps=3, entanglement=\"full\")\n",
    "quantum_instance = QuantumInstance(backend=backend, shots=8192, seed_simulator=seed, seed_transpiler=seed)\n",
    "vqe_mes = VQE(ry, optimizer=cobyla, quantum_instance=quantum_instance)\n",
    "vqe = MinimumEigenOptimizer(vqe_mes)\n",
    "result = vqe.solve(qp)\n",
    "\n",
    "fname = 'vqe1.csv' #change the location and name of .csv file\n",
    "print_result(result, fname)\n",
    "# print(result)\n",
    "\n",
    "#[0. 0. 1. 1. 0. 1.] --numpy eigen solver"
   ]
  },
  {
   "cell_type": "code",
   "execution_count": 14,
   "metadata": {},
   "outputs": [
    {
     "name": "stdout",
     "output_type": "stream",
     "text": [
      "Optimal: selection [1. 0. 0. 1.], value -3.8701\n"
     ]
    }
   ],
   "source": [
    "# QAOA solution\n",
    "#provide fname ='complete address/location of your .csv file'\n",
    "\n",
    "algorithm_globals.random_seed = 1234\n",
    "backend = Aer.get_backend(\"statevector_simulator\")\n",
    "\n",
    "cobyla = COBYLA()\n",
    "cobyla.set_options(maxiter=250)\n",
    "quantum_instance = QuantumInstance(backend=backend, shots=8192, seed_simulator=seed, seed_transpiler=seed)\n",
    "qaoa_mes = QAOA(optimizer=cobyla, reps=3, quantum_instance=quantum_instance)\n",
    "qaoa = MinimumEigenOptimizer(qaoa_mes)\n",
    "result = qaoa.solve(qp)\n",
    "\n",
    "fname = 'qaoa1.csv' #change the location and name of .csv file\n",
    "print_result(result, fname)\n",
    "\n",
    "# [0. 0. 1. 1. 0. 1.] -numpy exact solver"
   ]
  },
  {
   "cell_type": "code",
   "execution_count": 15,
   "metadata": {},
   "outputs": [
    {
     "name": "stdout",
     "output_type": "stream",
     "text": [
      "Optimal: selection [1. 0. 0. 1.], value -3.8701\n"
     ]
    }
   ],
   "source": [
    "# QAOA wth SPSA solution\n",
    "#provide fname ='complete address/location of your .csv file'\n",
    "\n",
    "algorithm_globals.random_seed = 1234\n",
    "backend = Aer.get_backend(\"statevector_simulator\")\n",
    "\n",
    "cobyla = SPSA()\n",
    "cobyla.set_options(maxiter=250)\n",
    "quantum_instance = QuantumInstance(backend=backend, shots=8192, seed_simulator=seed, seed_transpiler=seed)\n",
    "qaoa_mes = QAOA(optimizer=cobyla, reps=3, quantum_instance=quantum_instance)\n",
    "qaoa = MinimumEigenOptimizer(qaoa_mes)\n",
    "result = qaoa.solve(qp)\n",
    "\n",
    "fname = 'qaoa1.csv' #change the location and name of .csv file\n",
    "print_result(result, fname)\n",
    "\n",
    "# [0. 0. 1. 1. 0. 1.] -numpy exact solver"
   ]
  },
  {
   "cell_type": "code",
   "execution_count": 16,
   "metadata": {},
   "outputs": [
    {
     "name": "stdout",
     "output_type": "stream",
     "text": [
      "your lucky assets are  ['AMZN', 'CVX']\n"
     ]
    }
   ],
   "source": [
    "selected_assets = [1, 0, 0, 1]\n",
    "assets = [\"AMZN\", \"SPY\", \"BAC\", \"CVX\"]\n",
    "# [1. 0. 0. 1. 1. 0.]\n",
    "\n",
    "selected_bitstring = [i for i, e in enumerate(selected_assets) if e == 1]\n",
    "# print(selected_bitstring)\n",
    "my_assets = [assets[i] for i in selected_bitstring]\n",
    "print(\"your lucky assets are \",my_assets)"
   ]
  },
  {
   "cell_type": "code",
   "execution_count": 17,
   "metadata": {},
   "outputs": [
    {
     "name": "stdout",
     "output_type": "stream",
     "text": [
      "[*********************100%***********************]  2 of 2 completed\n"
     ]
    },
    {
     "data": {
      "text/html": [
       "<div>\n",
       "<style scoped>\n",
       "    .dataframe tbody tr th:only-of-type {\n",
       "        vertical-align: middle;\n",
       "    }\n",
       "\n",
       "    .dataframe tbody tr th {\n",
       "        vertical-align: top;\n",
       "    }\n",
       "\n",
       "    .dataframe thead th {\n",
       "        text-align: right;\n",
       "    }\n",
       "</style>\n",
       "<table border=\"1\" class=\"dataframe\">\n",
       "  <thead>\n",
       "    <tr style=\"text-align: right;\">\n",
       "      <th></th>\n",
       "      <th>AMZN</th>\n",
       "      <th>CVX</th>\n",
       "    </tr>\n",
       "    <tr>\n",
       "      <th>Date</th>\n",
       "      <th></th>\n",
       "      <th></th>\n",
       "    </tr>\n",
       "  </thead>\n",
       "  <tbody>\n",
       "    <tr>\n",
       "      <th>2012-12-31</th>\n",
       "      <td>12.5435</td>\n",
       "      <td>72.065163</td>\n",
       "    </tr>\n",
       "    <tr>\n",
       "      <th>2013-01-02</th>\n",
       "      <td>12.8655</td>\n",
       "      <td>73.564545</td>\n",
       "    </tr>\n",
       "    <tr>\n",
       "      <th>2013-01-03</th>\n",
       "      <td>12.9240</td>\n",
       "      <td>73.251343</td>\n",
       "    </tr>\n",
       "    <tr>\n",
       "      <th>2013-01-04</th>\n",
       "      <td>12.9575</td>\n",
       "      <td>73.637848</td>\n",
       "    </tr>\n",
       "    <tr>\n",
       "      <th>2013-01-07</th>\n",
       "      <td>13.4230</td>\n",
       "      <td>73.138039</td>\n",
       "    </tr>\n",
       "  </tbody>\n",
       "</table>\n",
       "</div>"
      ],
      "text/plain": [
       "               AMZN        CVX\n",
       "Date                          \n",
       "2012-12-31  12.5435  72.065163\n",
       "2013-01-02  12.8655  73.564545\n",
       "2013-01-03  12.9240  73.251343\n",
       "2013-01-04  12.9575  73.637848\n",
       "2013-01-07  13.4230  73.138039"
      ]
     },
     "execution_count": 17,
     "metadata": {},
     "output_type": "execute_result"
    }
   ],
   "source": [
    "import yfinance as yf\n",
    "import numpy as np\n",
    "selected_stocks_data = yf.download(my_assets, start = '2013-01-01', end = '2021-12-31')['Adj Close']\n",
    "selected_stocks_data.head()\n"
   ]
  },
  {
   "cell_type": "code",
   "execution_count": 18,
   "metadata": {},
   "outputs": [
    {
     "name": "stdout",
     "output_type": "stream",
     "text": [
      "your lucky assets are  ['AMZN', 'CVX']\n"
     ]
    }
   ],
   "source": [
    "selected_assets = [1, 0, 0, 1]\n",
    "assets = [\"AMZN\", \"SPY\", \"BAC\", \"CVX\"]\n",
    "\n",
    "selected_bitstring = [i for i, e in enumerate(selected_assets) if e == 1]\n",
    "# print(selected_bitstring)\n",
    "my_assets = [assets[i] for i in selected_bitstring]\n",
    "print(\"your lucky assets are \",my_assets)"
   ]
  },
  {
   "cell_type": "code",
   "execution_count": 19,
   "metadata": {},
   "outputs": [
    {
     "name": "stdout",
     "output_type": "stream",
     "text": [
      "[*********************100%***********************]  2 of 2 completed\n"
     ]
    },
    {
     "data": {
      "text/html": [
       "<div>\n",
       "<style scoped>\n",
       "    .dataframe tbody tr th:only-of-type {\n",
       "        vertical-align: middle;\n",
       "    }\n",
       "\n",
       "    .dataframe tbody tr th {\n",
       "        vertical-align: top;\n",
       "    }\n",
       "\n",
       "    .dataframe thead th {\n",
       "        text-align: right;\n",
       "    }\n",
       "</style>\n",
       "<table border=\"1\" class=\"dataframe\">\n",
       "  <thead>\n",
       "    <tr style=\"text-align: right;\">\n",
       "      <th></th>\n",
       "      <th>AMZN</th>\n",
       "      <th>CVX</th>\n",
       "    </tr>\n",
       "    <tr>\n",
       "      <th>Date</th>\n",
       "      <th></th>\n",
       "      <th></th>\n",
       "    </tr>\n",
       "  </thead>\n",
       "  <tbody>\n",
       "    <tr>\n",
       "      <th>2012-12-31</th>\n",
       "      <td>12.5435</td>\n",
       "      <td>72.065155</td>\n",
       "    </tr>\n",
       "    <tr>\n",
       "      <th>2013-01-02</th>\n",
       "      <td>12.8655</td>\n",
       "      <td>73.564537</td>\n",
       "    </tr>\n",
       "    <tr>\n",
       "      <th>2013-01-03</th>\n",
       "      <td>12.9240</td>\n",
       "      <td>73.251343</td>\n",
       "    </tr>\n",
       "    <tr>\n",
       "      <th>2013-01-04</th>\n",
       "      <td>12.9575</td>\n",
       "      <td>73.637871</td>\n",
       "    </tr>\n",
       "    <tr>\n",
       "      <th>2013-01-07</th>\n",
       "      <td>13.4230</td>\n",
       "      <td>73.138069</td>\n",
       "    </tr>\n",
       "  </tbody>\n",
       "</table>\n",
       "</div>"
      ],
      "text/plain": [
       "               AMZN        CVX\n",
       "Date                          \n",
       "2012-12-31  12.5435  72.065155\n",
       "2013-01-02  12.8655  73.564537\n",
       "2013-01-03  12.9240  73.251343\n",
       "2013-01-04  12.9575  73.637871\n",
       "2013-01-07  13.4230  73.138069"
      ]
     },
     "execution_count": 19,
     "metadata": {},
     "output_type": "execute_result"
    }
   ],
   "source": [
    "import yfinance as yf\n",
    "import numpy as np\n",
    "selected_stocks_data = yf.download(my_assets, start = '2013-01-01', end = '2021-12-31')['Adj Close']\n",
    "selected_stocks_data.head()"
   ]
  },
  {
   "cell_type": "code",
   "execution_count": 20,
   "metadata": {},
   "outputs": [
    {
     "data": {
      "text/html": [
       "<div>\n",
       "<style scoped>\n",
       "    .dataframe tbody tr th:only-of-type {\n",
       "        vertical-align: middle;\n",
       "    }\n",
       "\n",
       "    .dataframe tbody tr th {\n",
       "        vertical-align: top;\n",
       "    }\n",
       "\n",
       "    .dataframe thead th {\n",
       "        text-align: right;\n",
       "    }\n",
       "</style>\n",
       "<table border=\"1\" class=\"dataframe\">\n",
       "  <thead>\n",
       "    <tr style=\"text-align: right;\">\n",
       "      <th></th>\n",
       "      <th>AMZN</th>\n",
       "      <th>CVX</th>\n",
       "    </tr>\n",
       "    <tr>\n",
       "      <th>Date</th>\n",
       "      <th></th>\n",
       "      <th></th>\n",
       "    </tr>\n",
       "  </thead>\n",
       "  <tbody>\n",
       "    <tr>\n",
       "      <th>2012-12-31</th>\n",
       "      <td>NaN</td>\n",
       "      <td>NaN</td>\n",
       "    </tr>\n",
       "    <tr>\n",
       "      <th>2013-01-02</th>\n",
       "      <td>0.025347</td>\n",
       "      <td>0.020592</td>\n",
       "    </tr>\n",
       "    <tr>\n",
       "      <th>2013-01-03</th>\n",
       "      <td>0.004537</td>\n",
       "      <td>-0.004266</td>\n",
       "    </tr>\n",
       "    <tr>\n",
       "      <th>2013-01-04</th>\n",
       "      <td>0.002589</td>\n",
       "      <td>0.005263</td>\n",
       "    </tr>\n",
       "    <tr>\n",
       "      <th>2013-01-07</th>\n",
       "      <td>0.035295</td>\n",
       "      <td>-0.006810</td>\n",
       "    </tr>\n",
       "  </tbody>\n",
       "</table>\n",
       "</div>"
      ],
      "text/plain": [
       "                AMZN       CVX\n",
       "Date                          \n",
       "2012-12-31       NaN       NaN\n",
       "2013-01-02  0.025347  0.020592\n",
       "2013-01-03  0.004537 -0.004266\n",
       "2013-01-04  0.002589  0.005263\n",
       "2013-01-07  0.035295 -0.006810"
      ]
     },
     "execution_count": 20,
     "metadata": {},
     "output_type": "execute_result"
    }
   ],
   "source": [
    "log_return = np.log(selected_stocks_data/selected_stocks_data.shift(1))\n",
    "log_return.head()"
   ]
  },
  {
   "cell_type": "code",
   "execution_count": 21,
   "metadata": {},
   "outputs": [
    {
     "name": "stdout",
     "output_type": "stream",
     "text": [
      "normalised weights :\n",
      "[0.86876378 0.13123622]\n"
     ]
    }
   ],
   "source": [
    "import numpy as np\n",
    "weights = np.array(np.random.random(len(my_assets)))\n",
    "\n",
    "print('normalised weights :')\n",
    "weights = weights/np.sum(weights)\n",
    "print(weights)"
   ]
  },
  {
   "cell_type": "code",
   "execution_count": 22,
   "metadata": {},
   "outputs": [],
   "source": [
    "from scipy.optimize import minimize\n",
    "\n",
    "def get_ret_vol_sr(weights): \n",
    "    weights = np.array(weights)\n",
    "    ret = np.sum(log_return.mean() * weights) *2741\n",
    "    vol = np.sqrt(np.dot(weights.T,np.dot(log_return.cov()*2741,weights)))\n",
    "    sr = ret/vol \n",
    "    return np.array(sr)\n",
    "    \n",
    "\n",
    "# minimize negative Sharpe Ratio\n",
    "def neg_sharpe(weights): \n",
    "    return get_ret_vol_sr(weights)*-1\n",
    "\n",
    "# check allocation sums to 1\n",
    "def check_sum(weights): \n",
    "    return np.sum(weights) - 1"
   ]
  },
  {
   "cell_type": "code",
   "execution_count": 23,
   "metadata": {},
   "outputs": [],
   "source": [
    "# create constraint variable\n",
    "cons = ({'type':'eq','fun':check_sum})"
   ]
  },
  {
   "cell_type": "code",
   "execution_count": 24,
   "metadata": {},
   "outputs": [],
   "source": [
    "# create weight boundaries\n",
    "bounds = tuple((0, 1) for stocks in range(len(my_assets)))"
   ]
  },
  {
   "cell_type": "code",
   "execution_count": 25,
   "metadata": {},
   "outputs": [],
   "source": [
    "# initial guess\n",
    "# init_guess = [0.1 for stocks in range(len(my_assets))]\n",
    "init_guess = [0.5, 0.2]\n",
    "# tuple((0, 1) for stocks in range(len(my_assets)))"
   ]
  },
  {
   "cell_type": "code",
   "execution_count": 26,
   "metadata": {},
   "outputs": [
    {
     "data": {
      "text/plain": [
       "-3.137205193967795"
      ]
     },
     "execution_count": 26,
     "metadata": {},
     "output_type": "execute_result"
    }
   ],
   "source": [
    "neg_sharpe(weights)"
   ]
  },
  {
   "cell_type": "code",
   "execution_count": 27,
   "metadata": {},
   "outputs": [
    {
     "data": {
      "text/plain": [
       "     fun: -3.183587694937867\n",
       "     jac: array([-0.        ,  0.11909103])\n",
       " message: 'Optimization terminated successfully'\n",
       "    nfev: 6\n",
       "     nit: 2\n",
       "    njev: 2\n",
       "  status: 0\n",
       " success: True\n",
       "       x: array([1.00000000e+00, 2.77555756e-16])"
      ]
     },
     "execution_count": 27,
     "metadata": {},
     "output_type": "execute_result"
    }
   ],
   "source": [
    "from scipy.optimize import minimize\n",
    "opt_results = minimize(neg_sharpe, init_guess, method='SLSQP', bounds=bounds, constraints=cons)\n",
    "opt_results"
   ]
  },
  {
   "cell_type": "code",
   "execution_count": 28,
   "metadata": {},
   "outputs": [],
   "source": [
    "my_weights = np.array(opt_results.x)\n",
    "my_weights = my_weights.tolist()"
   ]
  },
  {
   "cell_type": "code",
   "execution_count": 29,
   "metadata": {},
   "outputs": [
    {
     "data": {
      "text/plain": [
       "1.0"
      ]
     },
     "execution_count": 29,
     "metadata": {},
     "output_type": "execute_result"
    }
   ],
   "source": [
    "tot_weights = np.sum(my_weights)\n",
    "tot_weights"
   ]
  },
  {
   "cell_type": "code",
   "execution_count": 30,
   "metadata": {},
   "outputs": [
    {
     "data": {
      "text/plain": [
       "{'AMZN': 0.9999999999999998, 'CVX': 2.7755575615628914e-16}"
      ]
     },
     "execution_count": 30,
     "metadata": {},
     "output_type": "execute_result"
    }
   ],
   "source": [
    "weights_alloc = dict(zip(my_assets, my_weights))\n",
    "weights_alloc"
   ]
  },
  {
   "cell_type": "code",
   "execution_count": 31,
   "metadata": {},
   "outputs": [
    {
     "data": {
      "text/plain": [
       "['AMZN', 'CVX']"
      ]
     },
     "execution_count": 31,
     "metadata": {},
     "output_type": "execute_result"
    }
   ],
   "source": [
    "my_assets"
   ]
  },
  {
   "cell_type": "code",
   "execution_count": 32,
   "metadata": {},
   "outputs": [
    {
     "name": "stdout",
     "output_type": "stream",
     "text": [
      "sharpe ratio of your porrtfolio after optimization is  1.0192537088882456\n"
     ]
    }
   ],
   "source": [
    "ret = np.sum(log_return.mean() * my_weights) * 252 # returns of a portfolio after optimum weight allocation\n",
    "vol = np.sqrt(np.dot(weights.T,np.dot(log_return.cov()*252,my_weights))) # risk of a portfolio after optimum weight allocation\n",
    "sharpe_ratio = ret/vol # sharpe ratio of a portfolio after optimum weight allocation\n",
    "print(\"sharpe ratio of your porrtfolio after optimization is \", sharpe_ratio)\n",
    "\n",
    "risk_ret_dict_of_quantum = {\n",
    "    'returns' : ret*100,\n",
    "    'risk' : vol*100, \n",
    "    'sharpe_ratio' : sharpe_ratio \n",
    "}"
   ]
  },
  {
   "cell_type": "code",
   "execution_count": 33,
   "metadata": {},
   "outputs": [
    {
     "data": {
      "text/plain": [
       "{'returns': 28.898710032821022,\n",
       " 'risk': 28.352813220902956,\n",
       " 'sharpe_ratio': 1.0192537088882456}"
      ]
     },
     "execution_count": 33,
     "metadata": {},
     "output_type": "execute_result"
    }
   ],
   "source": [
    "risk_ret_dict_of_quantum"
   ]
  },
  {
   "cell_type": "code",
   "execution_count": 34,
   "metadata": {},
   "outputs": [
    {
     "data": {
      "image/png": "[encoded data removed]",
      "text/plain": [
       "<Figure size 432x288 with 1 Axes>"
      ]
     },
     "metadata": {},
     "output_type": "display_data"
    }
   ],
   "source": [
    "import matplotlib.pyplot as plt\n",
    "import numpy as np\n",
    "\n",
    "y = np.array(weights)\n",
    "mylabels = my_assets\n",
    "\n",
    "plt.pie(y, labels = mylabels)\n",
    "plt.show()"
   ]
  },
  {
   "cell_type": "code",
   "execution_count": 35,
   "metadata": {},
   "outputs": [],
   "source": [
    "import numpy as np\n",
    "import yfinance as yf\n",
    "import pandas as pd\n",
    "import matplotlib.pyplot as plt\n",
    "import scipy.optimize as optimization"
   ]
  },
  {
   "cell_type": "code",
   "execution_count": 36,
   "metadata": {},
   "outputs": [],
   "source": [
    "NUM_TRADING_DAYS = 2741 #252*5 cosnidered previously, now I'm just taing for 1 year\n",
    "NUM_PORTFOLIOS = 10000\n",
    "stocks = [\"AMZN\", \"SPY\", \"BAC\", \"CVX\"]"
   ]
  },
  {
   "cell_type": "code",
   "execution_count": 37,
   "metadata": {},
   "outputs": [],
   "source": [
    "start_date = '2013-01-01' # YY/MM/DD\n",
    "end_date = '2021-12-31'   # YY/MM/DD"
   ]
  },
  {
   "cell_type": "code",
   "execution_count": 38,
   "metadata": {},
   "outputs": [],
   "source": [
    "def download_data():\n",
    "    stocks_data = yf.download(stocks, start = '2013-1-1', end = '2021-12-31')['Adj Close']\n",
    "    # stocks_data.head()\n",
    "    return pd.DataFrame(stocks_data)"
   ]
  },
  {
   "cell_type": "code",
   "execution_count": 39,
   "metadata": {},
   "outputs": [],
   "source": [
    "def show_data(data):\n",
    "    data.plot(figsize=(8, 5))\n",
    "    plt.show()\n",
    "\n",
    "# show_data(data)"
   ]
  },
  {
   "cell_type": "code",
   "execution_count": 40,
   "metadata": {},
   "outputs": [],
   "source": [
    "def calculate_return(data):\n",
    "    log_return = np.log(data / data.shift(1))\n",
    "    return log_return[1:]"
   ]
  },
  {
   "cell_type": "code",
   "execution_count": 41,
   "metadata": {},
   "outputs": [],
   "source": [
    "def show_statistics(returns):\n",
    "    print(returns.mean() * NUM_TRADING_DAYS)\n",
    "    print(returns.cov() * NUM_TRADING_DAYS)"
   ]
  },
  {
   "cell_type": "code",
   "execution_count": 42,
   "metadata": {},
   "outputs": [],
   "source": [
    "def show_mean_variance(returns, weights):\n",
    "    portfolio_return = np.sum(returns.mean() * weights) * NUM_TRADING_DAYS\n",
    "    portfolio_volatility = np.sqrt(np.dot(weights, np.dot(returns.cov() * NUM_TRADING_DAYS, weights)))\n",
    "    print('Expected portfolio mean: ', portfolio_return)\n",
    "    print('Expected portfolio volatility: ', portfolio_volatility)\n",
    "    print(\"sharpe ratio of a portfolio is \", portfolio_return/portfolio_volatility)"
   ]
  },
  {
   "cell_type": "code",
   "execution_count": 43,
   "metadata": {},
   "outputs": [],
   "source": [
    "def show_portfolios(returns, volatilities):\n",
    "    plt.figure(figsize=(8, 5))\n",
    "    plt.scatter(volatilities, returns, c=returns / volatilities, marker='o')\n",
    "    plt.grid(True)\n",
    "    plt.xlabel('Expected Volatility')\n",
    "    plt.ylabel('Expected Return')\n",
    "    plt.colorbar(label='Sharpe Ratio')\n",
    "    plt.show()"
   ]
  },
  {
   "cell_type": "code",
   "execution_count": 44,
   "metadata": {},
   "outputs": [],
   "source": [
    "def generate_portfolios(returns):\n",
    "    portfolio_means = []\n",
    "    portfolio_risks = []\n",
    "    portfolio_weights = []"
   ]
  },
  {
   "cell_type": "code",
   "execution_count": 45,
   "metadata": {},
   "outputs": [],
   "source": [
    "def generate_portfolios(returns):\n",
    "    portfolio_means = []\n",
    "    portfolio_risks = []\n",
    "    portfolio_weights = []\n",
    "\n",
    "    for _ in range(NUM_PORTFOLIOS):\n",
    "        w = np.random.random(len(stocks))\n",
    "        w /= np.sum(w)\n",
    "        portfolio_weights.append(w)\n",
    "        portfolio_means.append(np.sum(returns.mean() * w) * NUM_TRADING_DAYS)\n",
    "        portfolio_risks.append(np.sqrt(np.dot(w.T, np.dot(returns.cov() * NUM_TRADING_DAYS, w))))\n",
    "\n",
    "    return np.array(portfolio_weights), np.array(portfolio_means), np.array(portfolio_risks)"
   ]
  },
  {
   "cell_type": "code",
   "execution_count": 46,
   "metadata": {},
   "outputs": [],
   "source": [
    "def statistics(weights, returns):\n",
    "    portfolio_return = np.sum(returns.mean() * weights) * NUM_TRADING_DAYS\n",
    "    portfolio_volatility = np.sqrt(np.dot(weights.T, np.dot(returns.cov() * NUM_TRADING_DAYS, weights)))\n",
    "\n",
    "    return np.array([portfolio_return, portfolio_volatility, portfolio_return / portfolio_volatility])"
   ]
  },
  {
   "cell_type": "code",
   "execution_count": 47,
   "metadata": {},
   "outputs": [],
   "source": [
    "def min_function_sharpe(weights, returns):\n",
    "    return -statistics(weights, returns)[2]"
   ]
  },
  {
   "cell_type": "code",
   "execution_count": 48,
   "metadata": {},
   "outputs": [],
   "source": [
    "def optimize_portfolio(weights, returns):\n",
    "    constraints = {'type': 'eq', 'fun': lambda x: np.sum(x) - 1}\n",
    "    bounds = tuple((0, 1) for _ in range(len(stocks)))\n",
    "    return optimization.minimize(fun=min_function_sharpe, x0=weights[0], args=returns, method='SLSQP',\n",
    "                                 bounds=bounds, constraints=constraints)\n"
   ]
  },
  {
   "cell_type": "code",
   "execution_count": 49,
   "metadata": {},
   "outputs": [],
   "source": [
    "def print_optimal_portfolio(optimum, returns):\n",
    "    print('Optimal Portfolio: ', optimum['x'].round(3))\n",
    "    print('Expected return, volatility and sharpe ratio: ', statistics(optimum['x'].round(3), returns))\n"
   ]
  },
  {
   "cell_type": "code",
   "execution_count": 50,
   "metadata": {},
   "outputs": [],
   "source": [
    "def show_optimal_portfolio(opt, rets, portfolio_rets, portfolio_vols):\n",
    "    plt.figure(figsize=(8, 5))\n",
    "    plt.scatter(portfolio_vols, portfolio_rets, c=portfolio_rets / portfolio_vols, marker='o')\n",
    "    plt.grid(True)\n",
    "    plt.xlabel('Expected Volatility')\n",
    "    plt.ylabel('Expected Return')\n",
    "    plt.colorbar(label='Sharpe Ratio')\n",
    "    plt.plot(statistics(opt['x'], rets)[1], statistics(opt['x'], rets)[0], 'g*', markersize=20.0)\n",
    "    plt.show()\n"
   ]
  },
  {
   "cell_type": "code",
   "execution_count": 51,
   "metadata": {},
   "outputs": [
    {
     "name": "stdout",
     "output_type": "stream",
     "text": [
      "[*********************100%***********************]  4 of 4 completed\n"
     ]
    },
    {
     "data": {
      "image/png": "[encoded data removed]",
      "text/plain": [
       "<Figure size 576x360 with 1 Axes>"
      ]
     },
     "metadata": {
      "needs_background": "light"
     },
     "output_type": "display_data"
    },
    {
     "data": {
      "image/png": "[encoded data removed]",
      "text/plain": [
       "<Figure size 576x360 with 2 Axes>"
      ]
     },
     "metadata": {
      "needs_background": "light"
     },
     "output_type": "display_data"
    },
    {
     "name": "stdout",
     "output_type": "stream",
     "text": [
      "Optimal Portfolio:  [0.39 0.   0.   0.61]\n",
      "Expected return, volatility and sharpe ratio:  [2.24166504 0.63455532 3.53265504]\n"
     ]
    },
    {
     "data": {
      "image/png": "[encoded data removed]",
      "text/plain": [
       "<Figure size 576x360 with 2 Axes>"
      ]
     },
     "metadata": {
      "needs_background": "light"
     },
     "output_type": "display_data"
    }
   ],
   "source": [
    "if __name__ == '__main__':\n",
    "    # print(download_data())\n",
    "    dataset = download_data()\n",
    "    show_data(dataset)\n",
    "    log_daily_returns = calculate_return(dataset)\n",
    "    # show_statistics(log_daily_returns)\n",
    "    # show_mean_variance(log_daily_returns, [0.1, 0.2, 0.3, 0.2, 0.1, 0.1])\n",
    "    pweights, means, risks = generate_portfolios(log_daily_returns)\n",
    "    show_portfolios(means, risks)\n",
    "    optimum = optimize_portfolio(pweights, log_daily_returns)\n",
    "    print_optimal_portfolio(optimum, log_daily_returns)\n",
    "    show_optimal_portfolio(optimum, log_daily_returns, means, risks)"
   ]
  },
  {
   "cell_type": "code",
   "execution_count": 52,
   "metadata": {},
   "outputs": [
    {
     "data": {
      "text/plain": [
       "{'returns': 28.898710032821022,\n",
       " 'risk': 28.352813220902956,\n",
       " 'sharpe_ratio': 1.0192537088882456}"
      ]
     },
     "execution_count": 52,
     "metadata": {},
     "output_type": "execute_result"
    }
   ],
   "source": [
    "risk_ret_dict_of_quantum"
   ]
  },
  {
   "cell_type": "code",
   "execution_count": 58,
   "metadata": {},
   "outputs": [
    {
     "name": "stdout",
     "output_type": "stream",
     "text": [
      "[*********************100%***********************]  4 of 4 completed\n",
      "AMZN    0.335075\n",
      "BAC     0.179450\n",
      "CVX     0.052556\n",
      "SPY     0.165435\n",
      "dtype: float64\n"
     ]
    },
    {
     "ename": "Error",
     "evalue": "rescode.err_missing_license_file(1008): License cannot be located. The default search path is ';C:\\Users\\shrey\\mosek\\mosek.lic;'.",
     "output_type": "error",
     "traceback": [
      "\u001b[1;31m---------------------------------------------------------------------------\u001b[0m",
      "\u001b[1;31mError\u001b[0m                                     Traceback (most recent call last)",
      "\u001b[1;32mc:\\Users\\shrey\\Documents\\Qiskit\\Copy_Sangram_Plots.ipynb Cell 53\u001b[0m in \u001b[0;36m<cell line: 63>\u001b[1;34m()\u001b[0m\n\u001b[0;32m     <a href='vscode-notebook-cell:/c%3A/Users/shrey/Documents/Qiskit/Copy_Sangram_Plots.ipynb#Y101sZmlsZQ%3D%3D?line=59'>60</a>\u001b[0m     plt\u001b[39m.\u001b[39mtight_layout()\n\u001b[0;32m     <a href='vscode-notebook-cell:/c%3A/Users/shrey/Documents/Qiskit/Copy_Sangram_Plots.ipynb#Y101sZmlsZQ%3D%3D?line=60'>61</a>\u001b[0m     plt\u001b[39m.\u001b[39mshow()\n\u001b[1;32m---> <a href='vscode-notebook-cell:/c%3A/Users/shrey/Documents/Qiskit/Copy_Sangram_Plots.ipynb#Y101sZmlsZQ%3D%3D?line=62'>63</a>\u001b[0m plot_efficient_frontier_and_max_sharpe(mu, S)\n\u001b[0;32m     <a href='vscode-notebook-cell:/c%3A/Users/shrey/Documents/Qiskit/Copy_Sangram_Plots.ipynb#Y101sZmlsZQ%3D%3D?line=64'>65</a>\u001b[0m ef \u001b[39m=\u001b[39m EfficientFrontier(mu, S)\n\u001b[0;32m     <a href='vscode-notebook-cell:/c%3A/Users/shrey/Documents/Qiskit/Copy_Sangram_Plots.ipynb#Y101sZmlsZQ%3D%3D?line=65'>66</a>\u001b[0m ef\u001b[39m.\u001b[39mmax_sharpe(risk_free_rate\u001b[39m=\u001b[39m\u001b[39m0.02\u001b[39m)\n",
      "\u001b[1;32mc:\\Users\\shrey\\Documents\\Qiskit\\Copy_Sangram_Plots.ipynb Cell 53\u001b[0m in \u001b[0;36mplot_efficient_frontier_and_max_sharpe\u001b[1;34m(mu, S)\u001b[0m\n\u001b[0;32m     <a href='vscode-notebook-cell:/c%3A/Users/shrey/Documents/Qiskit/Copy_Sangram_Plots.ipynb#Y101sZmlsZQ%3D%3D?line=42'>43</a>\u001b[0m fig, ax \u001b[39m=\u001b[39m plt\u001b[39m.\u001b[39msubplots(figsize\u001b[39m=\u001b[39m(\u001b[39m8\u001b[39m,\u001b[39m6\u001b[39m))\n\u001b[0;32m     <a href='vscode-notebook-cell:/c%3A/Users/shrey/Documents/Qiskit/Copy_Sangram_Plots.ipynb#Y101sZmlsZQ%3D%3D?line=43'>44</a>\u001b[0m ef_max_sharpe \u001b[39m=\u001b[39m copy\u001b[39m.\u001b[39mdeepcopy(ef)\n\u001b[1;32m---> <a href='vscode-notebook-cell:/c%3A/Users/shrey/Documents/Qiskit/Copy_Sangram_Plots.ipynb#Y101sZmlsZQ%3D%3D?line=44'>45</a>\u001b[0m plotting\u001b[39m.\u001b[39;49mplot_efficient_frontier(ef, ax\u001b[39m=\u001b[39;49max, show_assets\u001b[39m=\u001b[39;49m\u001b[39mFalse\u001b[39;49;00m)\n\u001b[0;32m     <a href='vscode-notebook-cell:/c%3A/Users/shrey/Documents/Qiskit/Copy_Sangram_Plots.ipynb#Y101sZmlsZQ%3D%3D?line=45'>46</a>\u001b[0m \u001b[39m# Find the max sharpe portfolio\u001b[39;00m\n\u001b[0;32m     <a href='vscode-notebook-cell:/c%3A/Users/shrey/Documents/Qiskit/Copy_Sangram_Plots.ipynb#Y101sZmlsZQ%3D%3D?line=46'>47</a>\u001b[0m ef_max_sharpe\u001b[39m.\u001b[39mmax_sharpe(risk_free_rate\u001b[39m=\u001b[39m\u001b[39m0.02\u001b[39m)\n",
      "File \u001b[1;32mc:\\Users\\shrey\\AppData\\Local\\Programs\\Python\\Python310\\lib\\site-packages\\pypfopt\\plotting.py:261\u001b[0m, in \u001b[0;36mplot_efficient_frontier\u001b[1;34m(opt, ef_param, ef_param_range, points, ax, show_assets, show_tickers, **kwargs)\u001b[0m\n\u001b[0;32m    259\u001b[0m \u001b[39melif\u001b[39;00m \u001b[39misinstance\u001b[39m(opt, EfficientFrontier):\n\u001b[0;32m    260\u001b[0m     \u001b[39mif\u001b[39;00m ef_param_range \u001b[39mis\u001b[39;00m \u001b[39mNone\u001b[39;00m:\n\u001b[1;32m--> 261\u001b[0m         ef_param_range \u001b[39m=\u001b[39m _ef_default_returns_range(opt, points)\n\u001b[0;32m    263\u001b[0m     ax \u001b[39m=\u001b[39m _plot_ef(\n\u001b[0;32m    264\u001b[0m         opt,\n\u001b[0;32m    265\u001b[0m         ef_param,\n\u001b[1;32m   (...)\u001b[0m\n\u001b[0;32m    269\u001b[0m         show_tickers\u001b[39m=\u001b[39mshow_tickers,\n\u001b[0;32m    270\u001b[0m     )\n\u001b[0;32m    271\u001b[0m \u001b[39melse\u001b[39;00m:\n",
      "File \u001b[1;32mc:\\Users\\shrey\\AppData\\Local\\Programs\\Python\\Python310\\lib\\site-packages\\pypfopt\\plotting.py:164\u001b[0m, in \u001b[0;36m_ef_default_returns_range\u001b[1;34m(ef, points)\u001b[0m\n\u001b[0;32m    162\u001b[0m ef_minvol\u001b[39m.\u001b[39mmin_volatility()\n\u001b[0;32m    163\u001b[0m min_ret \u001b[39m=\u001b[39m ef_minvol\u001b[39m.\u001b[39mportfolio_performance()[\u001b[39m0\u001b[39m]\n\u001b[1;32m--> 164\u001b[0m max_ret \u001b[39m=\u001b[39m ef_maxret\u001b[39m.\u001b[39;49m_max_return()\n\u001b[0;32m    165\u001b[0m \u001b[39mreturn\u001b[39;00m np\u001b[39m.\u001b[39mlinspace(min_ret, max_ret \u001b[39m-\u001b[39m \u001b[39m0.0001\u001b[39m, points)\n",
      "File \u001b[1;32mc:\\Users\\shrey\\AppData\\Local\\Programs\\Python\\Python310\\lib\\site-packages\\pypfopt\\efficient_frontier\\efficient_frontier.py:222\u001b[0m, in \u001b[0;36mEfficientFrontier._max_return\u001b[1;34m(self, return_value)\u001b[0m\n\u001b[0;32m    216\u001b[0m \u001b[39mself\u001b[39m\u001b[39m.\u001b[39m_objective \u001b[39m=\u001b[39m objective_functions\u001b[39m.\u001b[39mportfolio_return(\n\u001b[0;32m    217\u001b[0m     \u001b[39mself\u001b[39m\u001b[39m.\u001b[39m_w, \u001b[39mself\u001b[39m\u001b[39m.\u001b[39mexpected_returns\n\u001b[0;32m    218\u001b[0m )\n\u001b[0;32m    220\u001b[0m \u001b[39mself\u001b[39m\u001b[39m.\u001b[39madd_constraint(\u001b[39mlambda\u001b[39;00m w: cp\u001b[39m.\u001b[39msum(w) \u001b[39m==\u001b[39m \u001b[39m1\u001b[39m)\n\u001b[1;32m--> 222\u001b[0m res \u001b[39m=\u001b[39m \u001b[39mself\u001b[39;49m\u001b[39m.\u001b[39;49m_solve_cvxpy_opt_problem()\n\u001b[0;32m    224\u001b[0m \u001b[39mif\u001b[39;00m return_value:\n\u001b[0;32m    225\u001b[0m     \u001b[39mreturn\u001b[39;00m \u001b[39m-\u001b[39m\u001b[39mself\u001b[39m\u001b[39m.\u001b[39m_opt\u001b[39m.\u001b[39mvalue\n",
      "File \u001b[1;32mc:\\Users\\shrey\\AppData\\Local\\Programs\\Python\\Python310\\lib\\site-packages\\pypfopt\\base_optimizer.py:292\u001b[0m, in \u001b[0;36mBaseConvexOptimizer._solve_cvxpy_opt_problem\u001b[1;34m(self)\u001b[0m\n\u001b[0;32m    287\u001b[0m         \u001b[39mif\u001b[39;00m \u001b[39mnot\u001b[39;00m constr_ids \u001b[39m==\u001b[39m \u001b[39mself\u001b[39m\u001b[39m.\u001b[39m_initial_constraint_ids:\n\u001b[0;32m    288\u001b[0m             \u001b[39mraise\u001b[39;00m exceptions\u001b[39m.\u001b[39mInstantiationError(\n\u001b[0;32m    289\u001b[0m                 \u001b[39m\"\u001b[39m\u001b[39mThe constraints were changed after the initial optimization. \u001b[39m\u001b[39m\"\u001b[39m\n\u001b[0;32m    290\u001b[0m                 \u001b[39m\"\u001b[39m\u001b[39mPlease create a new instance instead.\u001b[39m\u001b[39m\"\u001b[39m\n\u001b[0;32m    291\u001b[0m             )\n\u001b[1;32m--> 292\u001b[0m     \u001b[39mself\u001b[39m\u001b[39m.\u001b[39m_opt\u001b[39m.\u001b[39msolve(\n\u001b[0;32m    293\u001b[0m         solver\u001b[39m=\u001b[39m\u001b[39mself\u001b[39m\u001b[39m.\u001b[39m_solver, verbose\u001b[39m=\u001b[39m\u001b[39mself\u001b[39m\u001b[39m.\u001b[39m_verbose, \u001b[39m*\u001b[39m\u001b[39m*\u001b[39m\u001b[39mself\u001b[39m\u001b[39m.\u001b[39m_solver_options\n\u001b[0;32m    294\u001b[0m     )\n\u001b[0;32m    296\u001b[0m \u001b[39mexcept\u001b[39;00m (\u001b[39mTypeError\u001b[39;00m, cp\u001b[39m.\u001b[39mDCPError) \u001b[39mas\u001b[39;00m e:\n\u001b[0;32m    297\u001b[0m     \u001b[39mraise\u001b[39;00m exceptions\u001b[39m.\u001b[39mOptimizationError \u001b[39mfrom\u001b[39;00m \u001b[39me\u001b[39;00m\n",
      "File \u001b[1;32mc:\\Users\\shrey\\AppData\\Local\\Programs\\Python\\Python310\\lib\\site-packages\\cvxpy\\problems\\problem.py:481\u001b[0m, in \u001b[0;36mProblem.solve\u001b[1;34m(self, *args, **kwargs)\u001b[0m\n\u001b[0;32m    479\u001b[0m \u001b[39melse\u001b[39;00m:\n\u001b[0;32m    480\u001b[0m     solve_func \u001b[39m=\u001b[39m Problem\u001b[39m.\u001b[39m_solve\n\u001b[1;32m--> 481\u001b[0m \u001b[39mreturn\u001b[39;00m solve_func(\u001b[39mself\u001b[39m, \u001b[39m*\u001b[39margs, \u001b[39m*\u001b[39m\u001b[39m*\u001b[39mkwargs)\n",
      "File \u001b[1;32mc:\\Users\\shrey\\AppData\\Local\\Programs\\Python\\Python310\\lib\\site-packages\\cvxpy\\problems\\problem.py:1016\u001b[0m, in \u001b[0;36mProblem._solve\u001b[1;34m(self, solver, warm_start, verbose, gp, qcp, requires_grad, enforce_dpp, ignore_dpp, **kwargs)\u001b[0m\n\u001b[0;32m   1012\u001b[0m     s\u001b[39m.\u001b[39mLOGGER\u001b[39m.\u001b[39minfo(\n\u001b[0;32m   1013\u001b[0m             \u001b[39m'\u001b[39m\u001b[39mInvoking solver \u001b[39m\u001b[39m%s\u001b[39;00m\u001b[39m  to obtain a solution.\u001b[39m\u001b[39m'\u001b[39m,\n\u001b[0;32m   1014\u001b[0m             solving_chain\u001b[39m.\u001b[39mreductions[\u001b[39m-\u001b[39m\u001b[39m1\u001b[39m]\u001b[39m.\u001b[39mname())\n\u001b[0;32m   1015\u001b[0m start \u001b[39m=\u001b[39m time\u001b[39m.\u001b[39mtime()\n\u001b[1;32m-> 1016\u001b[0m solution \u001b[39m=\u001b[39m solving_chain\u001b[39m.\u001b[39;49msolve_via_data(\n\u001b[0;32m   1017\u001b[0m     \u001b[39mself\u001b[39;49m, data, warm_start, verbose, kwargs)\n\u001b[0;32m   1018\u001b[0m end \u001b[39m=\u001b[39m time\u001b[39m.\u001b[39mtime()\n\u001b[0;32m   1019\u001b[0m \u001b[39mself\u001b[39m\u001b[39m.\u001b[39m_solve_time \u001b[39m=\u001b[39m end \u001b[39m-\u001b[39m start\n",
      "File \u001b[1;32mc:\\Users\\shrey\\AppData\\Local\\Programs\\Python\\Python310\\lib\\site-packages\\cvxpy\\reductions\\solvers\\solving_chain.py:361\u001b[0m, in \u001b[0;36mSolvingChain.solve_via_data\u001b[1;34m(self, problem, data, warm_start, verbose, solver_opts)\u001b[0m\n\u001b[0;32m    325\u001b[0m \u001b[39mdef\u001b[39;00m \u001b[39msolve_via_data\u001b[39m(\u001b[39mself\u001b[39m, problem, data, warm_start: \u001b[39mbool\u001b[39m \u001b[39m=\u001b[39m \u001b[39mFalse\u001b[39;00m, verbose: \u001b[39mbool\u001b[39m \u001b[39m=\u001b[39m \u001b[39mFalse\u001b[39;00m,\n\u001b[0;32m    326\u001b[0m                    solver_opts\u001b[39m=\u001b[39m{}):\n\u001b[0;32m    327\u001b[0m     \u001b[39m\"\"\"Solves the problem using the data output by the an apply invocation.\u001b[39;00m\n\u001b[0;32m    328\u001b[0m \n\u001b[0;32m    329\u001b[0m \u001b[39m    The semantics are:\u001b[39;00m\n\u001b[1;32m   (...)\u001b[0m\n\u001b[0;32m    359\u001b[0m \u001b[39m        a Solution object.\u001b[39;00m\n\u001b[0;32m    360\u001b[0m \u001b[39m    \"\"\"\u001b[39;00m\n\u001b[1;32m--> 361\u001b[0m     \u001b[39mreturn\u001b[39;00m \u001b[39mself\u001b[39;49m\u001b[39m.\u001b[39;49msolver\u001b[39m.\u001b[39;49msolve_via_data(data, warm_start, verbose,\n\u001b[0;32m    362\u001b[0m                                       solver_opts, problem\u001b[39m.\u001b[39;49m_solver_cache)\n",
      "File \u001b[1;32mc:\\Users\\shrey\\AppData\\Local\\Programs\\Python\\Python310\\lib\\site-packages\\cvxpy\\reductions\\solvers\\conic_solvers\\mosek_conif.py:238\u001b[0m, in \u001b[0;36mMOSEK.solve_via_data\u001b[1;34m(self, data, warm_start, verbose, solver_opts, solver_cache)\u001b[0m\n\u001b[0;32m    236\u001b[0m \u001b[39mif\u001b[39;00m save_file:\n\u001b[0;32m    237\u001b[0m     task\u001b[39m.\u001b[39mwritedata(save_file)\n\u001b[1;32m--> 238\u001b[0m task\u001b[39m.\u001b[39;49moptimize()\n\u001b[0;32m    240\u001b[0m \u001b[39mif\u001b[39;00m verbose:\n\u001b[0;32m    241\u001b[0m     task\u001b[39m.\u001b[39msolutionsummary(mosek\u001b[39m.\u001b[39mstreamtype\u001b[39m.\u001b[39mmsg)\n",
      "File \u001b[1;32mc:\\Users\\shrey\\AppData\\Local\\Programs\\Python\\Python310\\lib\\site-packages\\mosek\\__init__.py:7627\u001b[0m, in \u001b[0;36mTask.optimize\u001b[1;34m(self)\u001b[0m\n\u001b[0;32m   7625\u001b[0m \u001b[39mif\u001b[39;00m res \u001b[39m!=\u001b[39m \u001b[39m0\u001b[39m:\n\u001b[0;32m   7626\u001b[0m   result,msg \u001b[39m=\u001b[39m \u001b[39mself\u001b[39m\u001b[39m.\u001b[39m__getlasterror(res)\n\u001b[1;32m-> 7627\u001b[0m   \u001b[39mraise\u001b[39;00m Error(rescode(res),msg)\n\u001b[0;32m   7628\u001b[0m __arg1_trmcode_return_value \u001b[39m=\u001b[39m resargs\n\u001b[0;32m   7629\u001b[0m __arg1_trmcode_return_value \u001b[39m=\u001b[39m rescode(__arg1_trmcode_return_value)\n",
      "\u001b[1;31mError\u001b[0m: rescode.err_missing_license_file(1008): License cannot be located. The default search path is ';C:\\Users\\shrey\\mosek\\mosek.lic;'."
     ]
    },
    {
     "data": {
      "image/png": "[encoded data removed]",
      "text/plain": [
       "<Figure size 576x432 with 1 Axes>"
      ]
     },
     "metadata": {
      "needs_background": "light"
     },
     "output_type": "display_data"
    }
   ],
   "source": [
    "# !pip install pyportfolioopt\n",
    "\n",
    "\n",
    "from pandas_datareader.data import DataReader\n",
    "import yfinance as yf\n",
    "from pypfopt.discrete_allocation import DiscreteAllocation, get_latest_prices\n",
    "from pypfopt import EfficientFrontier\n",
    "from pypfopt import risk_models\n",
    "from pypfopt import expected_returns\n",
    "from pypfopt import plotting\n",
    "import copy\n",
    "import numpy as np\n",
    "import pandas as pd\n",
    "import plotly.express as px\n",
    "import matplotlib.pyplot as plt\n",
    "import seaborn as sns\n",
    "\n",
    "stocks_df = yf.download(stocks, start = '2013-1-1', end = '2021-12-31')['Adj Close']\n",
    "stocks_df.head()\n",
    "\n",
    "\n",
    "\n",
    "mu = expected_returns.mean_historical_return(stocks_df)\n",
    "S = risk_models.sample_cov(stocks_df)\n",
    "print(mu)\n",
    "\n",
    "def plot_cum_returns(data, title):    \n",
    "    daily_cum_returns = 1 + data.dropna().pct_change()\n",
    "    daily_cum_returns = daily_cum_returns.cumprod()*100\n",
    "    fig = px.line(daily_cum_returns, title=title)\n",
    "    return fig\n",
    "    \n",
    "fig_cum_returns = plot_cum_returns(stocks_df, 'Cumulative Returns of Individual Stocks Starting with $100')\n",
    "# fig_cum_returns.show()\n",
    "\n",
    "corr_df = stocks_df.corr().round(2) # round to 2 decimal places\n",
    "fig_corr = px.imshow(corr_df, text_auto=True, title = 'Correlation between Stocks')\n",
    "# fig_corr.show()\n",
    "\n",
    "def plot_efficient_frontier_and_max_sharpe(mu, S):  \n",
    "    # Optimize portfolio for maximal Sharpe ratio \n",
    "    ef = EfficientFrontier(mu, S)\n",
    "    fig, ax = plt.subplots(figsize=(8,6))\n",
    "    ef_max_sharpe = copy.deepcopy(ef)\n",
    "    plotting.plot_efficient_frontier(ef, ax=ax, show_assets=False)\n",
    "    # Find the max sharpe portfolio\n",
    "    ef_max_sharpe.max_sharpe(risk_free_rate=0.02)\n",
    "    ret_tangent, std_tangent, _ =   ef_max_sharpe.portfolio_performance()\n",
    "    ax.scatter(std_tangent, ret_tangent, marker=\"*\", s=100, c=\"r\",     label=\"Max Sharpe\")\n",
    "# Generate random portfolios\n",
    "    n_samples = 1000\n",
    "    w = np.random.dirichlet(np.ones(ef.n_assets), n_samples)\n",
    "    rets = w.dot(ef.expected_returns)\n",
    "    stds = np.sqrt(np.diag(w @ ef.cov_matrix @ w.T))\n",
    "    sharpes = rets / stds\n",
    "    ax.scatter(stds, rets, marker=\".\", c=sharpes, cmap=\"viridis_r\")\n",
    "# Output\n",
    "    ax.set_title(\"Efficient Frontier with Random Portfolios\")\n",
    "    ax.legend()\n",
    "    plt.tight_layout()\n",
    "    plt.show()\n",
    "    \n",
    "plot_efficient_frontier_and_max_sharpe(mu, S)\n",
    "\n",
    "ef = EfficientFrontier(mu, S)\n",
    "ef.max_sharpe(risk_free_rate=0.02)\n",
    "weights = ef.clean_weights()\n",
    "print(weights)\n",
    "\n",
    "expected_annual_return, annual_volatility, sharpe_ratio = ef.portfolio_performance()\n",
    "print('Expected annual return: {}%'.format((expected_annual_return*100).round(2)))\n",
    "print('Annual volatility: {}%'.format((annual_volatility*100).round(2)))\n",
    "print('Sharpe ratio: {}'.format(sharpe_ratio.round(2)))"
   ]
  },
  {
   "cell_type": "code",
   "execution_count": null,
   "metadata": {},
   "outputs": [],
   "source": []
  }
 ],
 "metadata": {
  "kernelspec": {
   "display_name": "Python 3.10.5 64-bit",
   "language": "python",
   "name": "python3"
  },
  "language_info": {
   "codemirror_mode": {
    "name": "ipython",
    "version": 3
   },
   "file_extension": ".py",
   "mimetype": "text/x-python",
   "name": "python",
   "nbconvert_exporter": "python",
   "pygments_lexer": "ipython3",
   "version": "3.10.5"
  },
  "orig_nbformat": 4,
  "vscode": {
   "interpreter": {
    "hash": "e8bba4f2be892cbd4f39a9f240acc2c7ebb8cef7264d56c87dbb8c6b0bcbe231"
   }
  }
 },
 "nbformat": 4,
 "nbformat_minor": 2
}
